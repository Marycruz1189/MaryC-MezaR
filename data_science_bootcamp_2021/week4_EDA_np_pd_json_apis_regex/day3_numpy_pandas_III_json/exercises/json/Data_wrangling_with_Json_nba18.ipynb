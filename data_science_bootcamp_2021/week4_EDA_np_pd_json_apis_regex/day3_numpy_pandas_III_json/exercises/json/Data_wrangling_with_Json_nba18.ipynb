{
 "cells": [
  {
   "cell_type": "markdown",
   "metadata": {},
   "source": [
    "## Working on Jsons"
   ]
  },
  {
   "cell_type": "code",
   "execution_count": 2,
   "metadata": {},
   "outputs": [],
   "source": [
    "import requests\n",
    "import json\n",
    "import pandas as pd\n",
    "import ast\n",
    "import urllib.request as request"
   ]
  },
  {
   "cell_type": "code",
   "execution_count": 3,
   "metadata": {
    "tags": []
   },
   "outputs": [],
   "source": [
    "r = requests.get(url='http://data.nba.net/prod/v2/2018/teams.json')\n",
    "json_readed = json.loads(r.text)\n",
    "\n",
    "\n",
    "\n"
   ]
  },
  {
   "cell_type": "code",
   "execution_count": 4,
   "metadata": {},
   "outputs": [
    {
     "output_type": "stream",
     "name": "stdout",
     "text": [
      "<class 'dict'>\n"
     ]
    }
   ],
   "source": [
    "json_readed = r.json()\n",
    "print(type(json_readed))\n"
   ]
  },
  {
   "cell_type": "code",
   "execution_count": null,
   "metadata": {},
   "outputs": [],
   "source": []
  },
  {
   "cell_type": "code",
   "execution_count": 5,
   "metadata": {},
   "outputs": [],
   "source": [
    "with open('data.json', 'w+') as vr:\n",
    "    json.dump(json_readed, vr)"
   ]
  },
  {
   "cell_type": "code",
   "execution_count": 6,
   "metadata": {},
   "outputs": [],
   "source": [
    "with open('data_indented.json', 'w+') as outfile:\n",
    "    json.dump(json_readed, outfile, indent=4)"
   ]
  },
  {
   "cell_type": "code",
   "execution_count": 8,
   "metadata": {},
   "outputs": [
    {
     "output_type": "stream",
     "name": "stdout",
     "text": [
      "<class 'dict'>\n"
     ]
    }
   ],
   "source": [
    "with open('data_indented.json', 'r+') as outfile:\n",
    "    json_readed = json.load(outfile)\n",
    "print(type(json_readed))\n"
   ]
  },
  {
   "cell_type": "code",
   "execution_count": 9,
   "metadata": {
    "tags": []
   },
   "outputs": [
    {
     "output_type": "execute_result",
     "data": {
      "text/plain": [
       "                                          _internal  \\\n",
       "pubDateTime                 2018-08-30 20:00:04.422   \n",
       "xslt         xsl/league/roster/marty_teams_list.xsl   \n",
       "eventName                             league_roster   \n",
       "standard                                        NaN   \n",
       "africa                                          NaN   \n",
       "sacramento                                      NaN   \n",
       "vegas                                           NaN   \n",
       "utah                                            NaN   \n",
       "\n",
       "                                                        league  \n",
       "pubDateTime                                                NaN  \n",
       "xslt                                                       NaN  \n",
       "eventName                                                  NaN  \n",
       "standard     [{'isNBAFranchise': False, 'isAllStar': True, ...  \n",
       "africa       [{'isNBAFranchise': False, 'isAllStar': False,...  \n",
       "sacramento   [{'isNBAFranchise': True, 'isAllStar': False, ...  \n",
       "vegas        [{'isNBAFranchise': True, 'isAllStar': False, ...  \n",
       "utah         [{'isNBAFranchise': True, 'isAllStar': False, ...  "
      ],
      "text/html": "<div>\n<style scoped>\n    .dataframe tbody tr th:only-of-type {\n        vertical-align: middle;\n    }\n\n    .dataframe tbody tr th {\n        vertical-align: top;\n    }\n\n    .dataframe thead th {\n        text-align: right;\n    }\n</style>\n<table border=\"1\" class=\"dataframe\">\n  <thead>\n    <tr style=\"text-align: right;\">\n      <th></th>\n      <th>_internal</th>\n      <th>league</th>\n    </tr>\n  </thead>\n  <tbody>\n    <tr>\n      <th>pubDateTime</th>\n      <td>2018-08-30 20:00:04.422</td>\n      <td>NaN</td>\n    </tr>\n    <tr>\n      <th>xslt</th>\n      <td>xsl/league/roster/marty_teams_list.xsl</td>\n      <td>NaN</td>\n    </tr>\n    <tr>\n      <th>eventName</th>\n      <td>league_roster</td>\n      <td>NaN</td>\n    </tr>\n    <tr>\n      <th>standard</th>\n      <td>NaN</td>\n      <td>[{'isNBAFranchise': False, 'isAllStar': True, ...</td>\n    </tr>\n    <tr>\n      <th>africa</th>\n      <td>NaN</td>\n      <td>[{'isNBAFranchise': False, 'isAllStar': False,...</td>\n    </tr>\n    <tr>\n      <th>sacramento</th>\n      <td>NaN</td>\n      <td>[{'isNBAFranchise': True, 'isAllStar': False, ...</td>\n    </tr>\n    <tr>\n      <th>vegas</th>\n      <td>NaN</td>\n      <td>[{'isNBAFranchise': True, 'isAllStar': False, ...</td>\n    </tr>\n    <tr>\n      <th>utah</th>\n      <td>NaN</td>\n      <td>[{'isNBAFranchise': True, 'isAllStar': False, ...</td>\n    </tr>\n  </tbody>\n</table>\n</div>"
     },
     "metadata": {},
     "execution_count": 9
    }
   ],
   "source": [
    "df = pd.DataFrame(json_readed)\n",
    "df"
   ]
  },
  {
   "cell_type": "code",
   "execution_count": 10,
   "metadata": {},
   "outputs": [
    {
     "output_type": "execute_result",
     "data": {
      "text/plain": [
       "                                          _internal  \\\n",
       "pubDateTime                 2018-08-30 20:00:04.422   \n",
       "xslt         xsl/league/roster/marty_teams_list.xsl   \n",
       "eventName                             league_roster   \n",
       "standard                                        NaN   \n",
       "africa                                          NaN   \n",
       "sacramento                                      NaN   \n",
       "vegas                                           NaN   \n",
       "utah                                            NaN   \n",
       "\n",
       "                                                        league  \n",
       "pubDateTime                                                NaN  \n",
       "xslt                                                       NaN  \n",
       "eventName                                                  NaN  \n",
       "standard     [{'isNBAFranchise': False, 'isAllStar': True, ...  \n",
       "africa       [{'isNBAFranchise': False, 'isAllStar': False,...  \n",
       "sacramento   [{'isNBAFranchise': True, 'isAllStar': False, ...  \n",
       "vegas        [{'isNBAFranchise': True, 'isAllStar': False, ...  \n",
       "utah         [{'isNBAFranchise': True, 'isAllStar': False, ...  "
      ],
      "text/html": "<div>\n<style scoped>\n    .dataframe tbody tr th:only-of-type {\n        vertical-align: middle;\n    }\n\n    .dataframe tbody tr th {\n        vertical-align: top;\n    }\n\n    .dataframe thead th {\n        text-align: right;\n    }\n</style>\n<table border=\"1\" class=\"dataframe\">\n  <thead>\n    <tr style=\"text-align: right;\">\n      <th></th>\n      <th>_internal</th>\n      <th>league</th>\n    </tr>\n  </thead>\n  <tbody>\n    <tr>\n      <th>pubDateTime</th>\n      <td>2018-08-30 20:00:04.422</td>\n      <td>NaN</td>\n    </tr>\n    <tr>\n      <th>xslt</th>\n      <td>xsl/league/roster/marty_teams_list.xsl</td>\n      <td>NaN</td>\n    </tr>\n    <tr>\n      <th>eventName</th>\n      <td>league_roster</td>\n      <td>NaN</td>\n    </tr>\n    <tr>\n      <th>standard</th>\n      <td>NaN</td>\n      <td>[{'isNBAFranchise': False, 'isAllStar': True, ...</td>\n    </tr>\n    <tr>\n      <th>africa</th>\n      <td>NaN</td>\n      <td>[{'isNBAFranchise': False, 'isAllStar': False,...</td>\n    </tr>\n    <tr>\n      <th>sacramento</th>\n      <td>NaN</td>\n      <td>[{'isNBAFranchise': True, 'isAllStar': False, ...</td>\n    </tr>\n    <tr>\n      <th>vegas</th>\n      <td>NaN</td>\n      <td>[{'isNBAFranchise': True, 'isAllStar': False, ...</td>\n    </tr>\n    <tr>\n      <th>utah</th>\n      <td>NaN</td>\n      <td>[{'isNBAFranchise': True, 'isAllStar': False, ...</td>\n    </tr>\n  </tbody>\n</table>\n</div>"
     },
     "metadata": {},
     "execution_count": 10
    }
   ],
   "source": [
    "df_json = pd.read_json(\"data_indented.json\")\n",
    "df_json"
   ]
  },
  {
   "cell_type": "code",
   "execution_count": null,
   "metadata": {},
   "outputs": [],
   "source": []
  },
  {
   "cell_type": "code",
   "execution_count": 11,
   "metadata": {},
   "outputs": [
    {
     "output_type": "execute_result",
     "data": {
      "text/plain": [
       "                                                       league\n",
       "standard    [{'isNBAFranchise': False, 'isAllStar': True, ...\n",
       "africa      [{'isNBAFranchise': False, 'isAllStar': False,...\n",
       "sacramento  [{'isNBAFranchise': True, 'isAllStar': False, ...\n",
       "vegas       [{'isNBAFranchise': True, 'isAllStar': False, ...\n",
       "utah        [{'isNBAFranchise': True, 'isAllStar': False, ..."
      ],
      "text/html": "<div>\n<style scoped>\n    .dataframe tbody tr th:only-of-type {\n        vertical-align: middle;\n    }\n\n    .dataframe tbody tr th {\n        vertical-align: top;\n    }\n\n    .dataframe thead th {\n        text-align: right;\n    }\n</style>\n<table border=\"1\" class=\"dataframe\">\n  <thead>\n    <tr style=\"text-align: right;\">\n      <th></th>\n      <th>league</th>\n    </tr>\n  </thead>\n  <tbody>\n    <tr>\n      <th>standard</th>\n      <td>[{'isNBAFranchise': False, 'isAllStar': True, ...</td>\n    </tr>\n    <tr>\n      <th>africa</th>\n      <td>[{'isNBAFranchise': False, 'isAllStar': False,...</td>\n    </tr>\n    <tr>\n      <th>sacramento</th>\n      <td>[{'isNBAFranchise': True, 'isAllStar': False, ...</td>\n    </tr>\n    <tr>\n      <th>vegas</th>\n      <td>[{'isNBAFranchise': True, 'isAllStar': False, ...</td>\n    </tr>\n    <tr>\n      <th>utah</th>\n      <td>[{'isNBAFranchise': True, 'isAllStar': False, ...</td>\n    </tr>\n  </tbody>\n</table>\n</div>"
     },
     "metadata": {},
     "execution_count": 11
    }
   ],
   "source": [
    "df2 = df.loc[\"standard\":, \"league\":]\n",
    "df2"
   ]
  },
  {
   "cell_type": "code",
   "execution_count": 12,
   "metadata": {},
   "outputs": [
    {
     "output_type": "execute_result",
     "data": {
      "text/plain": [
       "                                                       league\n",
       "standard    [{'isNBAFranchise': False, 'isAllStar': True, ...\n",
       "africa      [{'isNBAFranchise': False, 'isAllStar': False,...\n",
       "sacramento  [{'isNBAFranchise': True, 'isAllStar': False, ...\n",
       "vegas       [{'isNBAFranchise': True, 'isAllStar': False, ...\n",
       "utah        [{'isNBAFranchise': True, 'isAllStar': False, ..."
      ],
      "text/html": "<div>\n<style scoped>\n    .dataframe tbody tr th:only-of-type {\n        vertical-align: middle;\n    }\n\n    .dataframe tbody tr th {\n        vertical-align: top;\n    }\n\n    .dataframe thead th {\n        text-align: right;\n    }\n</style>\n<table border=\"1\" class=\"dataframe\">\n  <thead>\n    <tr style=\"text-align: right;\">\n      <th></th>\n      <th>league</th>\n    </tr>\n  </thead>\n  <tbody>\n    <tr>\n      <th>standard</th>\n      <td>[{'isNBAFranchise': False, 'isAllStar': True, ...</td>\n    </tr>\n    <tr>\n      <th>africa</th>\n      <td>[{'isNBAFranchise': False, 'isAllStar': False,...</td>\n    </tr>\n    <tr>\n      <th>sacramento</th>\n      <td>[{'isNBAFranchise': True, 'isAllStar': False, ...</td>\n    </tr>\n    <tr>\n      <th>vegas</th>\n      <td>[{'isNBAFranchise': True, 'isAllStar': False, ...</td>\n    </tr>\n    <tr>\n      <th>utah</th>\n      <td>[{'isNBAFranchise': True, 'isAllStar': False, ...</td>\n    </tr>\n  </tbody>\n</table>\n</div>"
     },
     "metadata": {},
     "execution_count": 12
    }
   ],
   "source": [
    "# Pasar una serie a DataFrame\n",
    "df_serie = df.loc[\"standard\":, \"league\"]\n",
    "df3 = pd.DataFrame(df_serie)\n",
    "df3"
   ]
  },
  {
   "cell_type": "code",
   "execution_count": null,
   "metadata": {},
   "outputs": [],
   "source": []
  },
  {
   "cell_type": "code",
   "execution_count": 57,
   "metadata": {},
   "outputs": [
    {
     "output_type": "execute_result",
     "data": {
      "text/plain": [
       "   index                                             league\n",
       "0      0  [{'isNBAFranchise': False, 'isAllStar': True, ...\n",
       "1      1  [{'isNBAFranchise': False, 'isAllStar': False,...\n",
       "2      2  [{'isNBAFranchise': True, 'isAllStar': False, ...\n",
       "3      3  [{'isNBAFranchise': True, 'isAllStar': False, ...\n",
       "4      4  [{'isNBAFranchise': True, 'isAllStar': False, ..."
      ],
      "text/html": "<div>\n<style scoped>\n    .dataframe tbody tr th:only-of-type {\n        vertical-align: middle;\n    }\n\n    .dataframe tbody tr th {\n        vertical-align: top;\n    }\n\n    .dataframe thead th {\n        text-align: right;\n    }\n</style>\n<table border=\"1\" class=\"dataframe\">\n  <thead>\n    <tr style=\"text-align: right;\">\n      <th></th>\n      <th>index</th>\n      <th>league</th>\n    </tr>\n  </thead>\n  <tbody>\n    <tr>\n      <th>0</th>\n      <td>0</td>\n      <td>[{'isNBAFranchise': False, 'isAllStar': True, ...</td>\n    </tr>\n    <tr>\n      <th>1</th>\n      <td>1</td>\n      <td>[{'isNBAFranchise': False, 'isAllStar': False,...</td>\n    </tr>\n    <tr>\n      <th>2</th>\n      <td>2</td>\n      <td>[{'isNBAFranchise': True, 'isAllStar': False, ...</td>\n    </tr>\n    <tr>\n      <th>3</th>\n      <td>3</td>\n      <td>[{'isNBAFranchise': True, 'isAllStar': False, ...</td>\n    </tr>\n    <tr>\n      <th>4</th>\n      <td>4</td>\n      <td>[{'isNBAFranchise': True, 'isAllStar': False, ...</td>\n    </tr>\n  </tbody>\n</table>\n</div>"
     },
     "metadata": {},
     "execution_count": 57
    }
   ],
   "source": [
    "df3 = df3.rename_axis('index').reset_index()\n",
    "df3"
   ]
  },
  {
   "cell_type": "code",
   "execution_count": 58,
   "metadata": {},
   "outputs": [
    {
     "output_type": "execute_result",
     "data": {
      "text/plain": [
       "                                              league\n",
       "0  [{'isNBAFranchise': False, 'isAllStar': True, ...\n",
       "1  [{'isNBAFranchise': False, 'isAllStar': False,...\n",
       "2  [{'isNBAFranchise': True, 'isAllStar': False, ...\n",
       "3  [{'isNBAFranchise': True, 'isAllStar': False, ...\n",
       "4  [{'isNBAFranchise': True, 'isAllStar': False, ..."
      ],
      "text/html": "<div>\n<style scoped>\n    .dataframe tbody tr th:only-of-type {\n        vertical-align: middle;\n    }\n\n    .dataframe tbody tr th {\n        vertical-align: top;\n    }\n\n    .dataframe thead th {\n        text-align: right;\n    }\n</style>\n<table border=\"1\" class=\"dataframe\">\n  <thead>\n    <tr style=\"text-align: right;\">\n      <th></th>\n      <th>league</th>\n    </tr>\n  </thead>\n  <tbody>\n    <tr>\n      <th>0</th>\n      <td>[{'isNBAFranchise': False, 'isAllStar': True, ...</td>\n    </tr>\n    <tr>\n      <th>1</th>\n      <td>[{'isNBAFranchise': False, 'isAllStar': False,...</td>\n    </tr>\n    <tr>\n      <th>2</th>\n      <td>[{'isNBAFranchise': True, 'isAllStar': False, ...</td>\n    </tr>\n    <tr>\n      <th>3</th>\n      <td>[{'isNBAFranchise': True, 'isAllStar': False, ...</td>\n    </tr>\n    <tr>\n      <th>4</th>\n      <td>[{'isNBAFranchise': True, 'isAllStar': False, ...</td>\n    </tr>\n  </tbody>\n</table>\n</div>"
     },
     "metadata": {},
     "execution_count": 58
    }
   ],
   "source": [
    "del df3['index']\n",
    "df3\n",
    " "
   ]
  },
  {
   "cell_type": "code",
   "execution_count": 17,
   "metadata": {},
   "outputs": [
    {
     "output_type": "execute_result",
     "data": {
      "text/plain": [
       "   isNBAFranchise  isAllStar          city   altCityName      fullName  \\\n",
       "0           False       True           USA           USA           USA   \n",
       "1           False       True         World         World         World   \n",
       "2           False       True          Team          Team     All-Stars   \n",
       "3           False       True          Team          Team     All-Stars   \n",
       "4           False       True  Team Giannis  Team Giannis  Team Giannis   \n",
       "\n",
       "  tricode      teamId      nickname       urlName confName divName  \n",
       "0     USA  1610616843           USA           usa     East    East  \n",
       "1     WLD  1610616844         World         world     East    East  \n",
       "2     EST  1699999999     All-Stars     assn_away     East    East  \n",
       "3     WST  1699999998     All-Stars     assn_home     West    West  \n",
       "4     GNS  1610616833  Team Giannis  team_giannis     East    East  "
      ],
      "text/html": "<div>\n<style scoped>\n    .dataframe tbody tr th:only-of-type {\n        vertical-align: middle;\n    }\n\n    .dataframe tbody tr th {\n        vertical-align: top;\n    }\n\n    .dataframe thead th {\n        text-align: right;\n    }\n</style>\n<table border=\"1\" class=\"dataframe\">\n  <thead>\n    <tr style=\"text-align: right;\">\n      <th></th>\n      <th>isNBAFranchise</th>\n      <th>isAllStar</th>\n      <th>city</th>\n      <th>altCityName</th>\n      <th>fullName</th>\n      <th>tricode</th>\n      <th>teamId</th>\n      <th>nickname</th>\n      <th>urlName</th>\n      <th>confName</th>\n      <th>divName</th>\n    </tr>\n  </thead>\n  <tbody>\n    <tr>\n      <th>0</th>\n      <td>False</td>\n      <td>True</td>\n      <td>USA</td>\n      <td>USA</td>\n      <td>USA</td>\n      <td>USA</td>\n      <td>1610616843</td>\n      <td>USA</td>\n      <td>usa</td>\n      <td>East</td>\n      <td>East</td>\n    </tr>\n    <tr>\n      <th>1</th>\n      <td>False</td>\n      <td>True</td>\n      <td>World</td>\n      <td>World</td>\n      <td>World</td>\n      <td>WLD</td>\n      <td>1610616844</td>\n      <td>World</td>\n      <td>world</td>\n      <td>East</td>\n      <td>East</td>\n    </tr>\n    <tr>\n      <th>2</th>\n      <td>False</td>\n      <td>True</td>\n      <td>Team</td>\n      <td>Team</td>\n      <td>All-Stars</td>\n      <td>EST</td>\n      <td>1699999999</td>\n      <td>All-Stars</td>\n      <td>assn_away</td>\n      <td>East</td>\n      <td>East</td>\n    </tr>\n    <tr>\n      <th>3</th>\n      <td>False</td>\n      <td>True</td>\n      <td>Team</td>\n      <td>Team</td>\n      <td>All-Stars</td>\n      <td>WST</td>\n      <td>1699999998</td>\n      <td>All-Stars</td>\n      <td>assn_home</td>\n      <td>West</td>\n      <td>West</td>\n    </tr>\n    <tr>\n      <th>4</th>\n      <td>False</td>\n      <td>True</td>\n      <td>Team Giannis</td>\n      <td>Team Giannis</td>\n      <td>Team Giannis</td>\n      <td>GNS</td>\n      <td>1610616833</td>\n      <td>Team Giannis</td>\n      <td>team_giannis</td>\n      <td>East</td>\n      <td>East</td>\n    </tr>\n  </tbody>\n</table>\n</div>"
     },
     "metadata": {},
     "execution_count": 17
    }
   ],
   "source": [
    "df4 = pd.DataFrame(df3['league']['standard'][:5])\n",
    "df4"
   ]
  },
  {
   "cell_type": "code",
   "execution_count": 18,
   "metadata": {},
   "outputs": [],
   "source": [
    "df4.to_json(\"json_name.json\")"
   ]
  },
  {
   "cell_type": "code",
   "execution_count": 20,
   "metadata": {},
   "outputs": [],
   "source": [
    "import json\n",
    "json_result = df4.to_json()\n",
    "parsed = json.loads(json_result)\n",
    "with open(\"final_json.json\", 'w+') as outfile:\n",
    "    json.dump(parsed, outfile, indent=4)"
   ]
  },
  {
   "cell_type": "code",
   "execution_count": null,
   "metadata": {},
   "outputs": [],
   "source": []
  },
  {
   "cell_type": "markdown",
   "metadata": {},
   "source": [
    "### Data Mining & Data Wrangling\n",
    "As you can see, there are jsons inside the original json. For that, we have to mining the json (data mining) to be able to use it correctly (data wrangling). \n",
    "\n",
    "How do you solve this issue? Research about this and try a solution. "
   ]
  },
  {
   "source": [
    "#### GOAL"
   ],
   "cell_type": "markdown",
   "metadata": {}
  },
  {
   "source": [
    "![](json_df_goal_nba.png)"
   ],
   "cell_type": "markdown",
   "metadata": {}
  },
  {
   "cell_type": "code",
   "execution_count": null,
   "metadata": {},
   "outputs": [],
   "source": []
  }
 ],
 "metadata": {
  "language_info": {
   "name": "python",
   "codemirror_mode": {
    "name": "ipython",
    "version": 3
   },
   "version": "3.7.4"
  },
  "orig_nbformat": 2,
  "file_extension": ".py",
  "mimetype": "text/x-python",
  "name": "python",
  "npconvert_exporter": "python",
  "pygments_lexer": "ipython3",
  "version": 3,
  "kernelspec": {
   "name": "python374jvsc74a57bd0a9b83ec4160fc914f5169c2fc0bc9ab1c02e189a457abfa966969b692f6336e9",
   "display_name": "Python 3.7.4 64-bit"
  },
  "metadata": {
   "interpreter": {
    "hash": "a9b83ec4160fc914f5169c2fc0bc9ab1c02e189a457abfa966969b692f6336e9"
   }
  }
 },
 "nbformat": 4,
 "nbformat_minor": 2
}