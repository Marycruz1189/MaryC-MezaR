{
 "cells": [
  {
   "cell_type": "markdown",
   "metadata": {},
   "source": [
    "## Working on Jsons"
   ]
  },
  {
   "cell_type": "code",
   "execution_count": 12,
   "metadata": {},
   "outputs": [],
   "source": [
    "import requests\n",
    "import json\n",
    "import pandas as pd"
   ]
  },
  {
   "cell_type": "code",
   "execution_count": 13,
   "metadata": {
    "tags": []
   },
   "outputs": [],
   "source": [
    "r = requests.get(url='http://data.nba.net/prod/v2/2018/teams.json')\n",
    "json_readed = json.loads(r.text)\n",
    "\n",
    "\n",
    "\n"
   ]
  },
  {
   "cell_type": "code",
   "execution_count": 14,
   "metadata": {},
   "outputs": [
    {
     "output_type": "stream",
     "name": "stdout",
     "text": [
      "<class 'dict'>\n"
     ]
    }
   ],
   "source": [
    "json_readed = r.json()\n",
    "print(type(json_readed))\n"
   ]
  },
  {
   "cell_type": "code",
   "execution_count": null,
   "metadata": {},
   "outputs": [],
   "source": []
  },
  {
   "cell_type": "code",
   "execution_count": 15,
   "metadata": {},
   "outputs": [],
   "source": [
    "with open('data.json', 'w+') as vr:\n",
    "    json.dump(json_readed, vr)"
   ]
  },
  {
   "cell_type": "code",
   "execution_count": 16,
   "metadata": {},
   "outputs": [],
   "source": [
    "with open('data_indented.json', 'w+') as outfile:\n",
    "    json.dump(json_readed, outfile, indent=4)"
   ]
  },
  {
   "cell_type": "code",
   "execution_count": 17,
   "metadata": {},
   "outputs": [
    {
     "output_type": "stream",
     "name": "stdout",
     "text": [
      "<class 'dict'>\n"
     ]
    }
   ],
   "source": [
    "with open('data_indented.json', 'r+') as outfile:\n",
    "    json_readed = json.load(outfile)\n",
    "print(type(json_readed))\n"
   ]
  },
  {
   "cell_type": "code",
   "execution_count": 18,
   "metadata": {
    "tags": []
   },
   "outputs": [
    {
     "output_type": "execute_result",
     "data": {
      "text/plain": [
       "                                          _internal  \\\n",
       "pubDateTime                 2018-08-30 20:00:04.422   \n",
       "xslt         xsl/league/roster/marty_teams_list.xsl   \n",
       "eventName                             league_roster   \n",
       "standard                                        NaN   \n",
       "africa                                          NaN   \n",
       "sacramento                                      NaN   \n",
       "vegas                                           NaN   \n",
       "utah                                            NaN   \n",
       "\n",
       "                                                        league  \n",
       "pubDateTime                                                NaN  \n",
       "xslt                                                       NaN  \n",
       "eventName                                                  NaN  \n",
       "standard     [{'isNBAFranchise': False, 'isAllStar': True, ...  \n",
       "africa       [{'isNBAFranchise': False, 'isAllStar': False,...  \n",
       "sacramento   [{'isNBAFranchise': True, 'isAllStar': False, ...  \n",
       "vegas        [{'isNBAFranchise': True, 'isAllStar': False, ...  \n",
       "utah         [{'isNBAFranchise': True, 'isAllStar': False, ...  "
      ],
      "text/html": "<div>\n<style scoped>\n    .dataframe tbody tr th:only-of-type {\n        vertical-align: middle;\n    }\n\n    .dataframe tbody tr th {\n        vertical-align: top;\n    }\n\n    .dataframe thead th {\n        text-align: right;\n    }\n</style>\n<table border=\"1\" class=\"dataframe\">\n  <thead>\n    <tr style=\"text-align: right;\">\n      <th></th>\n      <th>_internal</th>\n      <th>league</th>\n    </tr>\n  </thead>\n  <tbody>\n    <tr>\n      <th>pubDateTime</th>\n      <td>2018-08-30 20:00:04.422</td>\n      <td>NaN</td>\n    </tr>\n    <tr>\n      <th>xslt</th>\n      <td>xsl/league/roster/marty_teams_list.xsl</td>\n      <td>NaN</td>\n    </tr>\n    <tr>\n      <th>eventName</th>\n      <td>league_roster</td>\n      <td>NaN</td>\n    </tr>\n    <tr>\n      <th>standard</th>\n      <td>NaN</td>\n      <td>[{'isNBAFranchise': False, 'isAllStar': True, ...</td>\n    </tr>\n    <tr>\n      <th>africa</th>\n      <td>NaN</td>\n      <td>[{'isNBAFranchise': False, 'isAllStar': False,...</td>\n    </tr>\n    <tr>\n      <th>sacramento</th>\n      <td>NaN</td>\n      <td>[{'isNBAFranchise': True, 'isAllStar': False, ...</td>\n    </tr>\n    <tr>\n      <th>vegas</th>\n      <td>NaN</td>\n      <td>[{'isNBAFranchise': True, 'isAllStar': False, ...</td>\n    </tr>\n    <tr>\n      <th>utah</th>\n      <td>NaN</td>\n      <td>[{'isNBAFranchise': True, 'isAllStar': False, ...</td>\n    </tr>\n  </tbody>\n</table>\n</div>"
     },
     "metadata": {},
     "execution_count": 18
    }
   ],
   "source": [
    "df = pd.DataFrame(json_readed)\n",
    "df"
   ]
  },
  {
   "cell_type": "code",
   "execution_count": 10,
   "metadata": {},
   "outputs": [
    {
     "output_type": "execute_result",
     "data": {
      "text/plain": [
       "                                          _internal  \\\n",
       "pubDateTime                 2018-08-30 20:00:04.422   \n",
       "xslt         xsl/league/roster/marty_teams_list.xsl   \n",
       "eventName                             league_roster   \n",
       "standard                                        NaN   \n",
       "africa                                          NaN   \n",
       "sacramento                                      NaN   \n",
       "vegas                                           NaN   \n",
       "utah                                            NaN   \n",
       "\n",
       "                                                        league  \n",
       "pubDateTime                                                NaN  \n",
       "xslt                                                       NaN  \n",
       "eventName                                                  NaN  \n",
       "standard     [{'isNBAFranchise': False, 'isAllStar': True, ...  \n",
       "africa       [{'isNBAFranchise': False, 'isAllStar': False,...  \n",
       "sacramento   [{'isNBAFranchise': True, 'isAllStar': False, ...  \n",
       "vegas        [{'isNBAFranchise': True, 'isAllStar': False, ...  \n",
       "utah         [{'isNBAFranchise': True, 'isAllStar': False, ...  "
      ],
      "text/html": "<div>\n<style scoped>\n    .dataframe tbody tr th:only-of-type {\n        vertical-align: middle;\n    }\n\n    .dataframe tbody tr th {\n        vertical-align: top;\n    }\n\n    .dataframe thead th {\n        text-align: right;\n    }\n</style>\n<table border=\"1\" class=\"dataframe\">\n  <thead>\n    <tr style=\"text-align: right;\">\n      <th></th>\n      <th>_internal</th>\n      <th>league</th>\n    </tr>\n  </thead>\n  <tbody>\n    <tr>\n      <th>pubDateTime</th>\n      <td>2018-08-30 20:00:04.422</td>\n      <td>NaN</td>\n    </tr>\n    <tr>\n      <th>xslt</th>\n      <td>xsl/league/roster/marty_teams_list.xsl</td>\n      <td>NaN</td>\n    </tr>\n    <tr>\n      <th>eventName</th>\n      <td>league_roster</td>\n      <td>NaN</td>\n    </tr>\n    <tr>\n      <th>standard</th>\n      <td>NaN</td>\n      <td>[{'isNBAFranchise': False, 'isAllStar': True, ...</td>\n    </tr>\n    <tr>\n      <th>africa</th>\n      <td>NaN</td>\n      <td>[{'isNBAFranchise': False, 'isAllStar': False,...</td>\n    </tr>\n    <tr>\n      <th>sacramento</th>\n      <td>NaN</td>\n      <td>[{'isNBAFranchise': True, 'isAllStar': False, ...</td>\n    </tr>\n    <tr>\n      <th>vegas</th>\n      <td>NaN</td>\n      <td>[{'isNBAFranchise': True, 'isAllStar': False, ...</td>\n    </tr>\n    <tr>\n      <th>utah</th>\n      <td>NaN</td>\n      <td>[{'isNBAFranchise': True, 'isAllStar': False, ...</td>\n    </tr>\n  </tbody>\n</table>\n</div>"
     },
     "metadata": {},
     "execution_count": 10
    }
   ],
   "source": [
    "df_json = pd.read_json(\"data_indented.json\")\n",
    "df_json"
   ]
  },
  {
   "cell_type": "code",
   "execution_count": null,
   "metadata": {},
   "outputs": [],
   "source": []
  },
  {
   "cell_type": "code",
   "execution_count": 19,
   "metadata": {},
   "outputs": [
    {
     "output_type": "execute_result",
     "data": {
      "text/plain": [
       "                                                       league\n",
       "standard    [{'isNBAFranchise': False, 'isAllStar': True, ...\n",
       "africa      [{'isNBAFranchise': False, 'isAllStar': False,...\n",
       "sacramento  [{'isNBAFranchise': True, 'isAllStar': False, ...\n",
       "vegas       [{'isNBAFranchise': True, 'isAllStar': False, ...\n",
       "utah        [{'isNBAFranchise': True, 'isAllStar': False, ..."
      ],
      "text/html": "<div>\n<style scoped>\n    .dataframe tbody tr th:only-of-type {\n        vertical-align: middle;\n    }\n\n    .dataframe tbody tr th {\n        vertical-align: top;\n    }\n\n    .dataframe thead th {\n        text-align: right;\n    }\n</style>\n<table border=\"1\" class=\"dataframe\">\n  <thead>\n    <tr style=\"text-align: right;\">\n      <th></th>\n      <th>league</th>\n    </tr>\n  </thead>\n  <tbody>\n    <tr>\n      <th>standard</th>\n      <td>[{'isNBAFranchise': False, 'isAllStar': True, ...</td>\n    </tr>\n    <tr>\n      <th>africa</th>\n      <td>[{'isNBAFranchise': False, 'isAllStar': False,...</td>\n    </tr>\n    <tr>\n      <th>sacramento</th>\n      <td>[{'isNBAFranchise': True, 'isAllStar': False, ...</td>\n    </tr>\n    <tr>\n      <th>vegas</th>\n      <td>[{'isNBAFranchise': True, 'isAllStar': False, ...</td>\n    </tr>\n    <tr>\n      <th>utah</th>\n      <td>[{'isNBAFranchise': True, 'isAllStar': False, ...</td>\n    </tr>\n  </tbody>\n</table>\n</div>"
     },
     "metadata": {},
     "execution_count": 19
    }
   ],
   "source": [
    "df2 = df.loc[\"standard\":, \"league\":]\n",
    "df2"
   ]
  },
  {
   "cell_type": "code",
   "execution_count": 26,
   "metadata": {},
   "outputs": [
    {
     "output_type": "execute_result",
     "data": {
      "text/plain": [
       "                                                       league\n",
       "standard    [{'isNBAFranchise': False, 'isAllStar': True, ...\n",
       "africa      [{'isNBAFranchise': False, 'isAllStar': False,...\n",
       "sacramento  [{'isNBAFranchise': True, 'isAllStar': False, ...\n",
       "vegas       [{'isNBAFranchise': True, 'isAllStar': False, ...\n",
       "utah        [{'isNBAFranchise': True, 'isAllStar': False, ..."
      ],
      "text/html": "<div>\n<style scoped>\n    .dataframe tbody tr th:only-of-type {\n        vertical-align: middle;\n    }\n\n    .dataframe tbody tr th {\n        vertical-align: top;\n    }\n\n    .dataframe thead th {\n        text-align: right;\n    }\n</style>\n<table border=\"1\" class=\"dataframe\">\n  <thead>\n    <tr style=\"text-align: right;\">\n      <th></th>\n      <th>league</th>\n    </tr>\n  </thead>\n  <tbody>\n    <tr>\n      <th>standard</th>\n      <td>[{'isNBAFranchise': False, 'isAllStar': True, ...</td>\n    </tr>\n    <tr>\n      <th>africa</th>\n      <td>[{'isNBAFranchise': False, 'isAllStar': False,...</td>\n    </tr>\n    <tr>\n      <th>sacramento</th>\n      <td>[{'isNBAFranchise': True, 'isAllStar': False, ...</td>\n    </tr>\n    <tr>\n      <th>vegas</th>\n      <td>[{'isNBAFranchise': True, 'isAllStar': False, ...</td>\n    </tr>\n    <tr>\n      <th>utah</th>\n      <td>[{'isNBAFranchise': True, 'isAllStar': False, ...</td>\n    </tr>\n  </tbody>\n</table>\n</div>"
     },
     "metadata": {},
     "execution_count": 26
    }
   ],
   "source": [
    "# Pasar una serie a DataFrame\n",
    "df_serie = df.loc[\"standard\":, \"league\"]\n",
    "df3 = pd.DataFrame(df_serie)\n",
    "df3"
   ]
  },
  {
   "cell_type": "code",
   "execution_count": 44,
   "metadata": {},
   "outputs": [
    {
     "output_type": "execute_result",
     "data": {
      "text/plain": [
       "                                                       league  row\n",
       "standard    [{'isNBAFranchise': False, 'isAllStar': True, ...  NaN\n",
       "africa      [{'isNBAFranchise': False, 'isAllStar': False,...  NaN\n",
       "sacramento  [{'isNBAFranchise': True, 'isAllStar': False, ...  NaN\n",
       "vegas       [{'isNBAFranchise': True, 'isAllStar': False, ...  NaN\n",
       "utah        [{'isNBAFranchise': True, 'isAllStar': False, ...  NaN"
      ],
      "text/html": "<div>\n<style scoped>\n    .dataframe tbody tr th:only-of-type {\n        vertical-align: middle;\n    }\n\n    .dataframe tbody tr th {\n        vertical-align: top;\n    }\n\n    .dataframe thead th {\n        text-align: right;\n    }\n</style>\n<table border=\"1\" class=\"dataframe\">\n  <thead>\n    <tr style=\"text-align: right;\">\n      <th></th>\n      <th>league</th>\n      <th>row</th>\n    </tr>\n  </thead>\n  <tbody>\n    <tr>\n      <th>standard</th>\n      <td>[{'isNBAFranchise': False, 'isAllStar': True, ...</td>\n      <td>NaN</td>\n    </tr>\n    <tr>\n      <th>africa</th>\n      <td>[{'isNBAFranchise': False, 'isAllStar': False,...</td>\n      <td>NaN</td>\n    </tr>\n    <tr>\n      <th>sacramento</th>\n      <td>[{'isNBAFranchise': True, 'isAllStar': False, ...</td>\n      <td>NaN</td>\n    </tr>\n    <tr>\n      <th>vegas</th>\n      <td>[{'isNBAFranchise': True, 'isAllStar': False, ...</td>\n      <td>NaN</td>\n    </tr>\n    <tr>\n      <th>utah</th>\n      <td>[{'isNBAFranchise': True, 'isAllStar': False, ...</td>\n      <td>NaN</td>\n    </tr>\n  </tbody>\n</table>\n</div>"
     },
     "metadata": {},
     "execution_count": 44
    }
   ],
   "source": [
    "df4 = df3.join(df3['league'].str.split(' ', 1, expand=True).rename(columns={0:'row', 1:'league'}))\n",
    "df4"
   ]
  },
  {
   "cell_type": "code",
   "execution_count": 40,
   "metadata": {},
   "outputs": [
    {
     "output_type": "error",
     "ename": "ValueError",
     "evalue": "Columns must be same length as key",
     "traceback": [
      "\u001b[1;31m---------------------------------------------------------------------------\u001b[0m",
      "\u001b[1;31mValueError\u001b[0m                                Traceback (most recent call last)",
      "\u001b[1;32m<ipython-input-40-47c77931dc5c>\u001b[0m in \u001b[0;36m<module>\u001b[1;34m\u001b[0m\n\u001b[1;32m----> 1\u001b[1;33m \u001b[0mdf4\u001b[0m\u001b[1;33m[\u001b[0m\u001b[1;33m[\u001b[0m\u001b[1;34m'First'\u001b[0m\u001b[1;33m,\u001b[0m\u001b[1;34m'League'\u001b[0m\u001b[1;33m]\u001b[0m\u001b[1;33m]\u001b[0m \u001b[1;33m=\u001b[0m \u001b[0mdf3\u001b[0m\u001b[1;33m.\u001b[0m\u001b[0mleague\u001b[0m\u001b[1;33m.\u001b[0m\u001b[0mstr\u001b[0m\u001b[1;33m.\u001b[0m\u001b[0msplit\u001b[0m\u001b[1;33m(\u001b[0m\u001b[0mexpand\u001b[0m\u001b[1;33m=\u001b[0m\u001b[1;32mTrue\u001b[0m\u001b[1;33m)\u001b[0m\u001b[1;33m\u001b[0m\u001b[1;33m\u001b[0m\u001b[0m\n\u001b[0m\u001b[0;32m      2\u001b[0m \u001b[0mdf4\u001b[0m\u001b[1;33m\u001b[0m\u001b[1;33m\u001b[0m\u001b[0m\n",
      "\u001b[1;32m~\\AppData\\Local\\Programs\\Python\\Python37\\lib\\site-packages\\pandas\\core\\frame.py\u001b[0m in \u001b[0;36m__setitem__\u001b[1;34m(self, key, value)\u001b[0m\n\u001b[0;32m   3158\u001b[0m             \u001b[0mself\u001b[0m\u001b[1;33m.\u001b[0m\u001b[0m_setitem_frame\u001b[0m\u001b[1;33m(\u001b[0m\u001b[0mkey\u001b[0m\u001b[1;33m,\u001b[0m \u001b[0mvalue\u001b[0m\u001b[1;33m)\u001b[0m\u001b[1;33m\u001b[0m\u001b[1;33m\u001b[0m\u001b[0m\n\u001b[0;32m   3159\u001b[0m         \u001b[1;32melif\u001b[0m \u001b[0misinstance\u001b[0m\u001b[1;33m(\u001b[0m\u001b[0mkey\u001b[0m\u001b[1;33m,\u001b[0m \u001b[1;33m(\u001b[0m\u001b[0mSeries\u001b[0m\u001b[1;33m,\u001b[0m \u001b[0mnp\u001b[0m\u001b[1;33m.\u001b[0m\u001b[0mndarray\u001b[0m\u001b[1;33m,\u001b[0m \u001b[0mlist\u001b[0m\u001b[1;33m,\u001b[0m \u001b[0mIndex\u001b[0m\u001b[1;33m)\u001b[0m\u001b[1;33m)\u001b[0m\u001b[1;33m:\u001b[0m\u001b[1;33m\u001b[0m\u001b[1;33m\u001b[0m\u001b[0m\n\u001b[1;32m-> 3160\u001b[1;33m             \u001b[0mself\u001b[0m\u001b[1;33m.\u001b[0m\u001b[0m_setitem_array\u001b[0m\u001b[1;33m(\u001b[0m\u001b[0mkey\u001b[0m\u001b[1;33m,\u001b[0m \u001b[0mvalue\u001b[0m\u001b[1;33m)\u001b[0m\u001b[1;33m\u001b[0m\u001b[1;33m\u001b[0m\u001b[0m\n\u001b[0m\u001b[0;32m   3161\u001b[0m         \u001b[1;32melse\u001b[0m\u001b[1;33m:\u001b[0m\u001b[1;33m\u001b[0m\u001b[1;33m\u001b[0m\u001b[0m\n\u001b[0;32m   3162\u001b[0m             \u001b[1;31m# set column\u001b[0m\u001b[1;33m\u001b[0m\u001b[1;33m\u001b[0m\u001b[1;33m\u001b[0m\u001b[0m\n",
      "\u001b[1;32m~\\AppData\\Local\\Programs\\Python\\Python37\\lib\\site-packages\\pandas\\core\\frame.py\u001b[0m in \u001b[0;36m_setitem_array\u001b[1;34m(self, key, value)\u001b[0m\n\u001b[0;32m   3187\u001b[0m             \u001b[1;32mif\u001b[0m \u001b[0misinstance\u001b[0m\u001b[1;33m(\u001b[0m\u001b[0mvalue\u001b[0m\u001b[1;33m,\u001b[0m \u001b[0mDataFrame\u001b[0m\u001b[1;33m)\u001b[0m\u001b[1;33m:\u001b[0m\u001b[1;33m\u001b[0m\u001b[1;33m\u001b[0m\u001b[0m\n\u001b[0;32m   3188\u001b[0m                 \u001b[1;32mif\u001b[0m \u001b[0mlen\u001b[0m\u001b[1;33m(\u001b[0m\u001b[0mvalue\u001b[0m\u001b[1;33m.\u001b[0m\u001b[0mcolumns\u001b[0m\u001b[1;33m)\u001b[0m \u001b[1;33m!=\u001b[0m \u001b[0mlen\u001b[0m\u001b[1;33m(\u001b[0m\u001b[0mkey\u001b[0m\u001b[1;33m)\u001b[0m\u001b[1;33m:\u001b[0m\u001b[1;33m\u001b[0m\u001b[1;33m\u001b[0m\u001b[0m\n\u001b[1;32m-> 3189\u001b[1;33m                     \u001b[1;32mraise\u001b[0m \u001b[0mValueError\u001b[0m\u001b[1;33m(\u001b[0m\u001b[1;34m\"Columns must be same length as key\"\u001b[0m\u001b[1;33m)\u001b[0m\u001b[1;33m\u001b[0m\u001b[1;33m\u001b[0m\u001b[0m\n\u001b[0m\u001b[0;32m   3190\u001b[0m                 \u001b[1;32mfor\u001b[0m \u001b[0mk1\u001b[0m\u001b[1;33m,\u001b[0m \u001b[0mk2\u001b[0m \u001b[1;32min\u001b[0m \u001b[0mzip\u001b[0m\u001b[1;33m(\u001b[0m\u001b[0mkey\u001b[0m\u001b[1;33m,\u001b[0m \u001b[0mvalue\u001b[0m\u001b[1;33m.\u001b[0m\u001b[0mcolumns\u001b[0m\u001b[1;33m)\u001b[0m\u001b[1;33m:\u001b[0m\u001b[1;33m\u001b[0m\u001b[1;33m\u001b[0m\u001b[0m\n\u001b[0;32m   3191\u001b[0m                     \u001b[0mself\u001b[0m\u001b[1;33m[\u001b[0m\u001b[0mk1\u001b[0m\u001b[1;33m]\u001b[0m \u001b[1;33m=\u001b[0m \u001b[0mvalue\u001b[0m\u001b[1;33m[\u001b[0m\u001b[0mk2\u001b[0m\u001b[1;33m]\u001b[0m\u001b[1;33m\u001b[0m\u001b[1;33m\u001b[0m\u001b[0m\n",
      "\u001b[1;31mValueError\u001b[0m: Columns must be same length as key"
     ]
    }
   ],
   "source": [
    "df4[['First','League']] = df3.league.str.split(expand=True)\n",
    "df4"
   ]
  },
  {
   "cell_type": "code",
   "execution_count": 38,
   "metadata": {},
   "outputs": [
    {
     "output_type": "error",
     "ename": "ValueError",
     "evalue": "Shape of passed values is (8, 1), indices imply (8, 2)",
     "traceback": [
      "\u001b[1;31m---------------------------------------------------------------------------\u001b[0m",
      "\u001b[1;31mValueError\u001b[0m                                Traceback (most recent call last)",
      "\u001b[1;32m~\\AppData\\Local\\Programs\\Python\\Python37\\lib\\site-packages\\pandas\\core\\internals\\managers.py\u001b[0m in \u001b[0;36mcreate_block_manager_from_blocks\u001b[1;34m(blocks, axes)\u001b[0m\n\u001b[0;32m   1675\u001b[0m                     make_block(\n\u001b[1;32m-> 1676\u001b[1;33m                         \u001b[0mvalues\u001b[0m\u001b[1;33m=\u001b[0m\u001b[0mblocks\u001b[0m\u001b[1;33m[\u001b[0m\u001b[1;36m0\u001b[0m\u001b[1;33m]\u001b[0m\u001b[1;33m,\u001b[0m \u001b[0mplacement\u001b[0m\u001b[1;33m=\u001b[0m\u001b[0mslice\u001b[0m\u001b[1;33m(\u001b[0m\u001b[1;36m0\u001b[0m\u001b[1;33m,\u001b[0m \u001b[0mlen\u001b[0m\u001b[1;33m(\u001b[0m\u001b[0maxes\u001b[0m\u001b[1;33m[\u001b[0m\u001b[1;36m0\u001b[0m\u001b[1;33m]\u001b[0m\u001b[1;33m)\u001b[0m\u001b[1;33m)\u001b[0m\u001b[1;33m,\u001b[0m \u001b[0mndim\u001b[0m\u001b[1;33m=\u001b[0m\u001b[1;36m2\u001b[0m\u001b[1;33m\u001b[0m\u001b[1;33m\u001b[0m\u001b[0m\n\u001b[0m\u001b[0;32m   1677\u001b[0m                     )\n",
      "\u001b[1;32m~\\AppData\\Local\\Programs\\Python\\Python37\\lib\\site-packages\\pandas\\core\\internals\\blocks.py\u001b[0m in \u001b[0;36mmake_block\u001b[1;34m(values, placement, klass, ndim, dtype)\u001b[0m\n\u001b[0;32m   2741\u001b[0m \u001b[1;33m\u001b[0m\u001b[0m\n\u001b[1;32m-> 2742\u001b[1;33m     \u001b[1;32mreturn\u001b[0m \u001b[0mklass\u001b[0m\u001b[1;33m(\u001b[0m\u001b[0mvalues\u001b[0m\u001b[1;33m,\u001b[0m \u001b[0mndim\u001b[0m\u001b[1;33m=\u001b[0m\u001b[0mndim\u001b[0m\u001b[1;33m,\u001b[0m \u001b[0mplacement\u001b[0m\u001b[1;33m=\u001b[0m\u001b[0mplacement\u001b[0m\u001b[1;33m)\u001b[0m\u001b[1;33m\u001b[0m\u001b[1;33m\u001b[0m\u001b[0m\n\u001b[0m\u001b[0;32m   2743\u001b[0m \u001b[1;33m\u001b[0m\u001b[0m\n",
      "\u001b[1;32m~\\AppData\\Local\\Programs\\Python\\Python37\\lib\\site-packages\\pandas\\core\\internals\\blocks.py\u001b[0m in \u001b[0;36m__init__\u001b[1;34m(self, values, placement, ndim)\u001b[0m\n\u001b[0;32m    142\u001b[0m             raise ValueError(\n\u001b[1;32m--> 143\u001b[1;33m                 \u001b[1;34mf\"Wrong number of items passed {len(self.values)}, \"\u001b[0m\u001b[1;33m\u001b[0m\u001b[1;33m\u001b[0m\u001b[0m\n\u001b[0m\u001b[0;32m    144\u001b[0m                 \u001b[1;34mf\"placement implies {len(self.mgr_locs)}\"\u001b[0m\u001b[1;33m\u001b[0m\u001b[1;33m\u001b[0m\u001b[0m\n",
      "\u001b[1;31mValueError\u001b[0m: Wrong number of items passed 1, placement implies 2",
      "\nDuring handling of the above exception, another exception occurred:\n",
      "\u001b[1;31mValueError\u001b[0m                                Traceback (most recent call last)",
      "\u001b[1;32m<ipython-input-38-efda0426da78>\u001b[0m in \u001b[0;36m<module>\u001b[1;34m\u001b[0m\n\u001b[0;32m      1\u001b[0m df4 = pd.DataFrame(df.league.str.split(' ',1).tolist(),\n\u001b[1;32m----> 2\u001b[1;33m                                  columns = ['row','league'])\n\u001b[0m\u001b[0;32m      3\u001b[0m \u001b[0mdf4\u001b[0m\u001b[1;33m\u001b[0m\u001b[1;33m\u001b[0m\u001b[0m\n",
      "\u001b[1;32m~\\AppData\\Local\\Programs\\Python\\Python37\\lib\\site-packages\\pandas\\core\\frame.py\u001b[0m in \u001b[0;36m__init__\u001b[1;34m(self, data, index, columns, dtype, copy)\u001b[0m\n\u001b[0;32m    582\u001b[0m                     \u001b[0mmgr\u001b[0m \u001b[1;33m=\u001b[0m \u001b[0marrays_to_mgr\u001b[0m\u001b[1;33m(\u001b[0m\u001b[0marrays\u001b[0m\u001b[1;33m,\u001b[0m \u001b[0mcolumns\u001b[0m\u001b[1;33m,\u001b[0m \u001b[0mindex\u001b[0m\u001b[1;33m,\u001b[0m \u001b[0mcolumns\u001b[0m\u001b[1;33m,\u001b[0m \u001b[0mdtype\u001b[0m\u001b[1;33m=\u001b[0m\u001b[0mdtype\u001b[0m\u001b[1;33m)\u001b[0m\u001b[1;33m\u001b[0m\u001b[1;33m\u001b[0m\u001b[0m\n\u001b[0;32m    583\u001b[0m                 \u001b[1;32melse\u001b[0m\u001b[1;33m:\u001b[0m\u001b[1;33m\u001b[0m\u001b[1;33m\u001b[0m\u001b[0m\n\u001b[1;32m--> 584\u001b[1;33m                     \u001b[0mmgr\u001b[0m \u001b[1;33m=\u001b[0m \u001b[0minit_ndarray\u001b[0m\u001b[1;33m(\u001b[0m\u001b[0mdata\u001b[0m\u001b[1;33m,\u001b[0m \u001b[0mindex\u001b[0m\u001b[1;33m,\u001b[0m \u001b[0mcolumns\u001b[0m\u001b[1;33m,\u001b[0m \u001b[0mdtype\u001b[0m\u001b[1;33m=\u001b[0m\u001b[0mdtype\u001b[0m\u001b[1;33m,\u001b[0m \u001b[0mcopy\u001b[0m\u001b[1;33m=\u001b[0m\u001b[0mcopy\u001b[0m\u001b[1;33m)\u001b[0m\u001b[1;33m\u001b[0m\u001b[1;33m\u001b[0m\u001b[0m\n\u001b[0m\u001b[0;32m    585\u001b[0m             \u001b[1;32melse\u001b[0m\u001b[1;33m:\u001b[0m\u001b[1;33m\u001b[0m\u001b[1;33m\u001b[0m\u001b[0m\n\u001b[0;32m    586\u001b[0m                 \u001b[0mmgr\u001b[0m \u001b[1;33m=\u001b[0m \u001b[0minit_dict\u001b[0m\u001b[1;33m(\u001b[0m\u001b[1;33m{\u001b[0m\u001b[1;33m}\u001b[0m\u001b[1;33m,\u001b[0m \u001b[0mindex\u001b[0m\u001b[1;33m,\u001b[0m \u001b[0mcolumns\u001b[0m\u001b[1;33m,\u001b[0m \u001b[0mdtype\u001b[0m\u001b[1;33m=\u001b[0m\u001b[0mdtype\u001b[0m\u001b[1;33m)\u001b[0m\u001b[1;33m\u001b[0m\u001b[1;33m\u001b[0m\u001b[0m\n",
      "\u001b[1;32m~\\AppData\\Local\\Programs\\Python\\Python37\\lib\\site-packages\\pandas\\core\\internals\\construction.py\u001b[0m in \u001b[0;36minit_ndarray\u001b[1;34m(values, index, columns, dtype, copy)\u001b[0m\n\u001b[0;32m    236\u001b[0m         \u001b[0mblock_values\u001b[0m \u001b[1;33m=\u001b[0m \u001b[1;33m[\u001b[0m\u001b[0mvalues\u001b[0m\u001b[1;33m]\u001b[0m\u001b[1;33m\u001b[0m\u001b[1;33m\u001b[0m\u001b[0m\n\u001b[0;32m    237\u001b[0m \u001b[1;33m\u001b[0m\u001b[0m\n\u001b[1;32m--> 238\u001b[1;33m     \u001b[1;32mreturn\u001b[0m \u001b[0mcreate_block_manager_from_blocks\u001b[0m\u001b[1;33m(\u001b[0m\u001b[0mblock_values\u001b[0m\u001b[1;33m,\u001b[0m \u001b[1;33m[\u001b[0m\u001b[0mcolumns\u001b[0m\u001b[1;33m,\u001b[0m \u001b[0mindex\u001b[0m\u001b[1;33m]\u001b[0m\u001b[1;33m)\u001b[0m\u001b[1;33m\u001b[0m\u001b[1;33m\u001b[0m\u001b[0m\n\u001b[0m\u001b[0;32m    239\u001b[0m \u001b[1;33m\u001b[0m\u001b[0m\n\u001b[0;32m    240\u001b[0m \u001b[1;33m\u001b[0m\u001b[0m\n",
      "\u001b[1;32m~\\AppData\\Local\\Programs\\Python\\Python37\\lib\\site-packages\\pandas\\core\\internals\\managers.py\u001b[0m in \u001b[0;36mcreate_block_manager_from_blocks\u001b[1;34m(blocks, axes)\u001b[0m\n\u001b[0;32m   1685\u001b[0m         \u001b[0mblocks\u001b[0m \u001b[1;33m=\u001b[0m \u001b[1;33m[\u001b[0m\u001b[0mgetattr\u001b[0m\u001b[1;33m(\u001b[0m\u001b[0mb\u001b[0m\u001b[1;33m,\u001b[0m \u001b[1;34m\"values\"\u001b[0m\u001b[1;33m,\u001b[0m \u001b[0mb\u001b[0m\u001b[1;33m)\u001b[0m \u001b[1;32mfor\u001b[0m \u001b[0mb\u001b[0m \u001b[1;32min\u001b[0m \u001b[0mblocks\u001b[0m\u001b[1;33m]\u001b[0m\u001b[1;33m\u001b[0m\u001b[1;33m\u001b[0m\u001b[0m\n\u001b[0;32m   1686\u001b[0m         \u001b[0mtot_items\u001b[0m \u001b[1;33m=\u001b[0m \u001b[0msum\u001b[0m\u001b[1;33m(\u001b[0m\u001b[0mb\u001b[0m\u001b[1;33m.\u001b[0m\u001b[0mshape\u001b[0m\u001b[1;33m[\u001b[0m\u001b[1;36m0\u001b[0m\u001b[1;33m]\u001b[0m \u001b[1;32mfor\u001b[0m \u001b[0mb\u001b[0m \u001b[1;32min\u001b[0m \u001b[0mblocks\u001b[0m\u001b[1;33m)\u001b[0m\u001b[1;33m\u001b[0m\u001b[1;33m\u001b[0m\u001b[0m\n\u001b[1;32m-> 1687\u001b[1;33m         \u001b[1;32mraise\u001b[0m \u001b[0mconstruction_error\u001b[0m\u001b[1;33m(\u001b[0m\u001b[0mtot_items\u001b[0m\u001b[1;33m,\u001b[0m \u001b[0mblocks\u001b[0m\u001b[1;33m[\u001b[0m\u001b[1;36m0\u001b[0m\u001b[1;33m]\u001b[0m\u001b[1;33m.\u001b[0m\u001b[0mshape\u001b[0m\u001b[1;33m[\u001b[0m\u001b[1;36m1\u001b[0m\u001b[1;33m:\u001b[0m\u001b[1;33m]\u001b[0m\u001b[1;33m,\u001b[0m \u001b[0maxes\u001b[0m\u001b[1;33m,\u001b[0m \u001b[0me\u001b[0m\u001b[1;33m)\u001b[0m\u001b[1;33m\u001b[0m\u001b[1;33m\u001b[0m\u001b[0m\n\u001b[0m\u001b[0;32m   1688\u001b[0m \u001b[1;33m\u001b[0m\u001b[0m\n\u001b[0;32m   1689\u001b[0m \u001b[1;33m\u001b[0m\u001b[0m\n",
      "\u001b[1;31mValueError\u001b[0m: Shape of passed values is (8, 1), indices imply (8, 2)"
     ]
    }
   ],
   "source": [
    "df4 = pd.DataFrame(df.league.str.split(' ',1).tolist(),\n",
    "                                 columns = ['row','league'])\n",
    "df4\n"
   ]
  },
  {
   "cell_type": "code",
   "execution_count": 36,
   "metadata": {},
   "outputs": [],
   "source": [
    "df4 = pd.DataFrame(df3)\n",
    "df4 "
   ]
  },
  {
   "cell_type": "code",
   "execution_count": 27,
   "metadata": {},
   "outputs": [
    {
     "output_type": "execute_result",
     "data": {
      "text/plain": [
       "                                                       league\n",
       "standard    [{'isNBAFranchise': False, 'isAllStar': True, ...\n",
       "africa      [{'isNBAFranchise': False, 'isAllStar': False,...\n",
       "sacramento  [{'isNBAFranchise': True, 'isAllStar': False, ...\n",
       "vegas       [{'isNBAFranchise': True, 'isAllStar': False, ...\n",
       "utah        [{'isNBAFranchise': True, 'isAllStar': False, ..."
      ],
      "text/html": "<div>\n<style scoped>\n    .dataframe tbody tr th:only-of-type {\n        vertical-align: middle;\n    }\n\n    .dataframe tbody tr th {\n        vertical-align: top;\n    }\n\n    .dataframe thead th {\n        text-align: right;\n    }\n</style>\n<table border=\"1\" class=\"dataframe\">\n  <thead>\n    <tr style=\"text-align: right;\">\n      <th></th>\n      <th>league</th>\n    </tr>\n  </thead>\n  <tbody>\n    <tr>\n      <th>standard</th>\n      <td>[{'isNBAFranchise': False, 'isAllStar': True, ...</td>\n    </tr>\n    <tr>\n      <th>africa</th>\n      <td>[{'isNBAFranchise': False, 'isAllStar': False,...</td>\n    </tr>\n    <tr>\n      <th>sacramento</th>\n      <td>[{'isNBAFranchise': True, 'isAllStar': False, ...</td>\n    </tr>\n    <tr>\n      <th>vegas</th>\n      <td>[{'isNBAFranchise': True, 'isAllStar': False, ...</td>\n    </tr>\n    <tr>\n      <th>utah</th>\n      <td>[{'isNBAFranchise': True, 'isAllStar': False, ...</td>\n    </tr>\n  </tbody>\n</table>\n</div>"
     },
     "metadata": {},
     "execution_count": 27
    }
   ],
   "source": [
    "df_members_json = pd.DataFrame(df3[\"league\"])\n",
    "df_members_json"
   ]
  },
  {
   "cell_type": "code",
   "execution_count": null,
   "metadata": {},
   "outputs": [],
   "source": []
  },
  {
   "cell_type": "code",
   "execution_count": null,
   "metadata": {},
   "outputs": [],
   "source": [
    "df_members_json = pd.DataFrame.from_dict(json_readed[\"league\"])\n",
    "df_members_json"
   ]
  },
  {
   "cell_type": "code",
   "execution_count": 53,
   "metadata": {},
   "outputs": [
    {
     "output_type": "stream",
     "name": "stdout",
     "text": [
      "<class 'dict'>\n"
     ]
    }
   ],
   "source": [
    "with open('data_indented.json', 'r+') as outfile:\n",
    "    json_readed = json.load(outfile)\n",
    "print(type(json_readed))\n"
   ]
  },
  {
   "cell_type": "code",
   "execution_count": 48,
   "metadata": {},
   "outputs": [
    {
     "output_type": "execute_result",
     "data": {
      "text/plain": [
       "                                                       league\n",
       "standard    [{'isNBAFranchise': False, 'isAllStar': True, ...\n",
       "africa      [{'isNBAFranchise': False, 'isAllStar': False,...\n",
       "sacramento  [{'isNBAFranchise': True, 'isAllStar': False, ...\n",
       "vegas       [{'isNBAFranchise': True, 'isAllStar': False, ...\n",
       "utah        [{'isNBAFranchise': True, 'isAllStar': False, ..."
      ],
      "text/html": "<div>\n<style scoped>\n    .dataframe tbody tr th:only-of-type {\n        vertical-align: middle;\n    }\n\n    .dataframe tbody tr th {\n        vertical-align: top;\n    }\n\n    .dataframe thead th {\n        text-align: right;\n    }\n</style>\n<table border=\"1\" class=\"dataframe\">\n  <thead>\n    <tr style=\"text-align: right;\">\n      <th></th>\n      <th>league</th>\n    </tr>\n  </thead>\n  <tbody>\n    <tr>\n      <th>standard</th>\n      <td>[{'isNBAFranchise': False, 'isAllStar': True, ...</td>\n    </tr>\n    <tr>\n      <th>africa</th>\n      <td>[{'isNBAFranchise': False, 'isAllStar': False,...</td>\n    </tr>\n    <tr>\n      <th>sacramento</th>\n      <td>[{'isNBAFranchise': True, 'isAllStar': False, ...</td>\n    </tr>\n    <tr>\n      <th>vegas</th>\n      <td>[{'isNBAFranchise': True, 'isAllStar': False, ...</td>\n    </tr>\n    <tr>\n      <th>utah</th>\n      <td>[{'isNBAFranchise': True, 'isAllStar': False, ...</td>\n    </tr>\n  </tbody>\n</table>\n</div>"
     },
     "metadata": {},
     "execution_count": 48
    }
   ],
   "source": [
    "df_league = pd.DataFrame(df3[\"league\"])\n",
    "df_league"
   ]
  },
  {
   "cell_type": "code",
   "execution_count": null,
   "metadata": {},
   "outputs": [],
   "source": []
  },
  {
   "cell_type": "code",
   "execution_count": 56,
   "metadata": {},
   "outputs": [
    {
     "output_type": "execute_result",
     "data": {
      "text/plain": [
       "dict"
      ]
     },
     "metadata": {},
     "execution_count": 56
    }
   ],
   "source": [
    "type(json_readed[\"league\"])"
   ]
  },
  {
   "cell_type": "code",
   "execution_count": 13,
   "metadata": {},
   "outputs": [
    {
     "output_type": "execute_result",
     "data": {
      "text/plain": [
       "                                                           0   \\\n",
       "standard    {'isNBAFranchise': False, 'isAllStar': True, '...   \n",
       "africa      {'isNBAFranchise': False, 'isAllStar': False, ...   \n",
       "sacramento  {'isNBAFranchise': True, 'isAllStar': False, '...   \n",
       "vegas       {'isNBAFranchise': True, 'isAllStar': False, '...   \n",
       "utah        {'isNBAFranchise': True, 'isAllStar': False, '...   \n",
       "\n",
       "                                                           1   \\\n",
       "standard    {'isNBAFranchise': False, 'isAllStar': True, '...   \n",
       "africa      {'isNBAFranchise': False, 'isAllStar': False, ...   \n",
       "sacramento  {'isNBAFranchise': True, 'isAllStar': False, '...   \n",
       "vegas       {'isNBAFranchise': True, 'isAllStar': False, '...   \n",
       "utah        {'isNBAFranchise': True, 'isAllStar': False, '...   \n",
       "\n",
       "                                                           2   \\\n",
       "standard    {'isNBAFranchise': False, 'isAllStar': True, '...   \n",
       "africa                                                   None   \n",
       "sacramento  {'isNBAFranchise': True, 'isAllStar': False, '...   \n",
       "vegas       {'isNBAFranchise': True, 'isAllStar': False, '...   \n",
       "utah        {'isNBAFranchise': True, 'isAllStar': False, '...   \n",
       "\n",
       "                                                           3   \\\n",
       "standard    {'isNBAFranchise': False, 'isAllStar': True, '...   \n",
       "africa                                                   None   \n",
       "sacramento  {'isNBAFranchise': True, 'isAllStar': False, '...   \n",
       "vegas       {'isNBAFranchise': True, 'isAllStar': False, '...   \n",
       "utah        {'isNBAFranchise': True, 'isAllStar': False, '...   \n",
       "\n",
       "                                                           4   \\\n",
       "standard    {'isNBAFranchise': False, 'isAllStar': True, '...   \n",
       "africa                                                   None   \n",
       "sacramento                                               None   \n",
       "vegas       {'isNBAFranchise': True, 'isAllStar': False, '...   \n",
       "utah                                                     None   \n",
       "\n",
       "                                                           5   \\\n",
       "standard    {'isNBAFranchise': False, 'isAllStar': True, '...   \n",
       "africa                                                   None   \n",
       "sacramento                                               None   \n",
       "vegas       {'isNBAFranchise': True, 'isAllStar': False, '...   \n",
       "utah                                                     None   \n",
       "\n",
       "                                                           6   \\\n",
       "standard    {'isNBAFranchise': False, 'isAllStar': False, ...   \n",
       "africa                                                   None   \n",
       "sacramento                                               None   \n",
       "vegas       {'isNBAFranchise': True, 'isAllStar': False, '...   \n",
       "utah                                                     None   \n",
       "\n",
       "                                                           7   \\\n",
       "standard    {'isNBAFranchise': False, 'isAllStar': False, ...   \n",
       "africa                                                   None   \n",
       "sacramento                                               None   \n",
       "vegas       {'isNBAFranchise': True, 'isAllStar': False, '...   \n",
       "utah                                                     None   \n",
       "\n",
       "                                                           8   \\\n",
       "standard    {'isNBAFranchise': False, 'isAllStar': False, ...   \n",
       "africa                                                   None   \n",
       "sacramento                                               None   \n",
       "vegas       {'isNBAFranchise': True, 'isAllStar': False, '...   \n",
       "utah                                                     None   \n",
       "\n",
       "                                                           9   ...  \\\n",
       "standard    {'isNBAFranchise': True, 'isAllStar': False, '...  ...   \n",
       "africa                                                   None  ...   \n",
       "sacramento                                               None  ...   \n",
       "vegas       {'isNBAFranchise': True, 'isAllStar': False, '...  ...   \n",
       "utah                                                     None  ...   \n",
       "\n",
       "                                                           38  \\\n",
       "standard    {'isNBAFranchise': True, 'isAllStar': False, '...   \n",
       "africa                                                   None   \n",
       "sacramento                                               None   \n",
       "vegas                                                    None   \n",
       "utah                                                     None   \n",
       "\n",
       "                                                           39  \\\n",
       "standard    {'isNBAFranchise': True, 'isAllStar': False, '...   \n",
       "africa                                                   None   \n",
       "sacramento                                               None   \n",
       "vegas                                                    None   \n",
       "utah                                                     None   \n",
       "\n",
       "                                                           40  \\\n",
       "standard    {'isNBAFranchise': False, 'isAllStar': False, ...   \n",
       "africa                                                   None   \n",
       "sacramento                                               None   \n",
       "vegas                                                    None   \n",
       "utah                                                     None   \n",
       "\n",
       "                                                           41  \\\n",
       "standard    {'isNBAFranchise': True, 'isAllStar': False, '...   \n",
       "africa                                                   None   \n",
       "sacramento                                               None   \n",
       "vegas                                                    None   \n",
       "utah                                                     None   \n",
       "\n",
       "                                                           42  \\\n",
       "standard    {'isNBAFranchise': True, 'isAllStar': False, '...   \n",
       "africa                                                   None   \n",
       "sacramento                                               None   \n",
       "vegas                                                    None   \n",
       "utah                                                     None   \n",
       "\n",
       "                                                           43  \\\n",
       "standard    {'isNBAFranchise': False, 'isAllStar': False, ...   \n",
       "africa                                                   None   \n",
       "sacramento                                               None   \n",
       "vegas                                                    None   \n",
       "utah                                                     None   \n",
       "\n",
       "                                                           44  \\\n",
       "standard    {'isNBAFranchise': False, 'isAllStar': False, ...   \n",
       "africa                                                   None   \n",
       "sacramento                                               None   \n",
       "vegas                                                    None   \n",
       "utah                                                     None   \n",
       "\n",
       "                                                           45  \\\n",
       "standard    {'isNBAFranchise': True, 'isAllStar': False, '...   \n",
       "africa                                                   None   \n",
       "sacramento                                               None   \n",
       "vegas                                                    None   \n",
       "utah                                                     None   \n",
       "\n",
       "                                                           46  \\\n",
       "standard    {'isNBAFranchise': True, 'isAllStar': False, '...   \n",
       "africa                                                   None   \n",
       "sacramento                                               None   \n",
       "vegas                                                    None   \n",
       "utah                                                     None   \n",
       "\n",
       "                                                           47  \n",
       "standard    {'isNBAFranchise': True, 'isAllStar': False, '...  \n",
       "africa                                                   None  \n",
       "sacramento                                               None  \n",
       "vegas                                                    None  \n",
       "utah                                                     None  \n",
       "\n",
       "[5 rows x 48 columns]"
      ],
      "text/html": "<div>\n<style scoped>\n    .dataframe tbody tr th:only-of-type {\n        vertical-align: middle;\n    }\n\n    .dataframe tbody tr th {\n        vertical-align: top;\n    }\n\n    .dataframe thead th {\n        text-align: right;\n    }\n</style>\n<table border=\"1\" class=\"dataframe\">\n  <thead>\n    <tr style=\"text-align: right;\">\n      <th></th>\n      <th>0</th>\n      <th>1</th>\n      <th>2</th>\n      <th>3</th>\n      <th>4</th>\n      <th>5</th>\n      <th>6</th>\n      <th>7</th>\n      <th>8</th>\n      <th>9</th>\n      <th>...</th>\n      <th>38</th>\n      <th>39</th>\n      <th>40</th>\n      <th>41</th>\n      <th>42</th>\n      <th>43</th>\n      <th>44</th>\n      <th>45</th>\n      <th>46</th>\n      <th>47</th>\n    </tr>\n  </thead>\n  <tbody>\n    <tr>\n      <th>standard</th>\n      <td>{'isNBAFranchise': False, 'isAllStar': True, '...</td>\n      <td>{'isNBAFranchise': False, 'isAllStar': True, '...</td>\n      <td>{'isNBAFranchise': False, 'isAllStar': True, '...</td>\n      <td>{'isNBAFranchise': False, 'isAllStar': True, '...</td>\n      <td>{'isNBAFranchise': False, 'isAllStar': True, '...</td>\n      <td>{'isNBAFranchise': False, 'isAllStar': True, '...</td>\n      <td>{'isNBAFranchise': False, 'isAllStar': False, ...</td>\n      <td>{'isNBAFranchise': False, 'isAllStar': False, ...</td>\n      <td>{'isNBAFranchise': False, 'isAllStar': False, ...</td>\n      <td>{'isNBAFranchise': True, 'isAllStar': False, '...</td>\n      <td>...</td>\n      <td>{'isNBAFranchise': True, 'isAllStar': False, '...</td>\n      <td>{'isNBAFranchise': True, 'isAllStar': False, '...</td>\n      <td>{'isNBAFranchise': False, 'isAllStar': False, ...</td>\n      <td>{'isNBAFranchise': True, 'isAllStar': False, '...</td>\n      <td>{'isNBAFranchise': True, 'isAllStar': False, '...</td>\n      <td>{'isNBAFranchise': False, 'isAllStar': False, ...</td>\n      <td>{'isNBAFranchise': False, 'isAllStar': False, ...</td>\n      <td>{'isNBAFranchise': True, 'isAllStar': False, '...</td>\n      <td>{'isNBAFranchise': True, 'isAllStar': False, '...</td>\n      <td>{'isNBAFranchise': True, 'isAllStar': False, '...</td>\n    </tr>\n    <tr>\n      <th>africa</th>\n      <td>{'isNBAFranchise': False, 'isAllStar': False, ...</td>\n      <td>{'isNBAFranchise': False, 'isAllStar': False, ...</td>\n      <td>None</td>\n      <td>None</td>\n      <td>None</td>\n      <td>None</td>\n      <td>None</td>\n      <td>None</td>\n      <td>None</td>\n      <td>None</td>\n      <td>...</td>\n      <td>None</td>\n      <td>None</td>\n      <td>None</td>\n      <td>None</td>\n      <td>None</td>\n      <td>None</td>\n      <td>None</td>\n      <td>None</td>\n      <td>None</td>\n      <td>None</td>\n    </tr>\n    <tr>\n      <th>sacramento</th>\n      <td>{'isNBAFranchise': True, 'isAllStar': False, '...</td>\n      <td>{'isNBAFranchise': True, 'isAllStar': False, '...</td>\n      <td>{'isNBAFranchise': True, 'isAllStar': False, '...</td>\n      <td>{'isNBAFranchise': True, 'isAllStar': False, '...</td>\n      <td>None</td>\n      <td>None</td>\n      <td>None</td>\n      <td>None</td>\n      <td>None</td>\n      <td>None</td>\n      <td>...</td>\n      <td>None</td>\n      <td>None</td>\n      <td>None</td>\n      <td>None</td>\n      <td>None</td>\n      <td>None</td>\n      <td>None</td>\n      <td>None</td>\n      <td>None</td>\n      <td>None</td>\n    </tr>\n    <tr>\n      <th>vegas</th>\n      <td>{'isNBAFranchise': True, 'isAllStar': False, '...</td>\n      <td>{'isNBAFranchise': True, 'isAllStar': False, '...</td>\n      <td>{'isNBAFranchise': True, 'isAllStar': False, '...</td>\n      <td>{'isNBAFranchise': True, 'isAllStar': False, '...</td>\n      <td>{'isNBAFranchise': True, 'isAllStar': False, '...</td>\n      <td>{'isNBAFranchise': True, 'isAllStar': False, '...</td>\n      <td>{'isNBAFranchise': True, 'isAllStar': False, '...</td>\n      <td>{'isNBAFranchise': True, 'isAllStar': False, '...</td>\n      <td>{'isNBAFranchise': True, 'isAllStar': False, '...</td>\n      <td>{'isNBAFranchise': True, 'isAllStar': False, '...</td>\n      <td>...</td>\n      <td>None</td>\n      <td>None</td>\n      <td>None</td>\n      <td>None</td>\n      <td>None</td>\n      <td>None</td>\n      <td>None</td>\n      <td>None</td>\n      <td>None</td>\n      <td>None</td>\n    </tr>\n    <tr>\n      <th>utah</th>\n      <td>{'isNBAFranchise': True, 'isAllStar': False, '...</td>\n      <td>{'isNBAFranchise': True, 'isAllStar': False, '...</td>\n      <td>{'isNBAFranchise': True, 'isAllStar': False, '...</td>\n      <td>{'isNBAFranchise': True, 'isAllStar': False, '...</td>\n      <td>None</td>\n      <td>None</td>\n      <td>None</td>\n      <td>None</td>\n      <td>None</td>\n      <td>None</td>\n      <td>...</td>\n      <td>None</td>\n      <td>None</td>\n      <td>None</td>\n      <td>None</td>\n      <td>None</td>\n      <td>None</td>\n      <td>None</td>\n      <td>None</td>\n      <td>None</td>\n      <td>None</td>\n    </tr>\n  </tbody>\n</table>\n<p>5 rows × 48 columns</p>\n</div>"
     },
     "metadata": {},
     "execution_count": 13
    }
   ],
   "source": [
    "df_members_json = pd.DataFrame.from_dict(json_readed[\"league\"], orient='index')\n",
    "df_members_json"
   ]
  },
  {
   "cell_type": "code",
   "execution_count": null,
   "metadata": {},
   "outputs": [],
   "source": []
  },
  {
   "cell_type": "code",
   "execution_count": 14,
   "metadata": {},
   "outputs": [
    {
     "output_type": "error",
     "ename": "AttributeError",
     "evalue": "'dict' object has no attribute 'Series'",
     "traceback": [
      "\u001b[1;31m---------------------------------------------------------------------------\u001b[0m",
      "\u001b[1;31mAttributeError\u001b[0m                            Traceback (most recent call last)",
      "\u001b[1;32m<ipython-input-14-c455d15ffc4d>\u001b[0m in \u001b[0;36m<module>\u001b[1;34m\u001b[0m\n\u001b[1;32m----> 1\u001b[1;33m \u001b[0mdf_members_json\u001b[0m \u001b[1;33m=\u001b[0m \u001b[0mpd\u001b[0m\u001b[1;33m.\u001b[0m\u001b[0mDataFrame\u001b[0m\u001b[1;33m(\u001b[0m\u001b[0mdict\u001b[0m\u001b[1;33m(\u001b[0m\u001b[1;33m[\u001b[0m \u001b[1;33m(\u001b[0m\u001b[0mk\u001b[0m\u001b[1;33m,\u001b[0m\u001b[0mjson_readed\u001b[0m\u001b[1;33m[\u001b[0m\u001b[1;34m\"league\"\u001b[0m\u001b[1;33m]\u001b[0m\u001b[1;33m.\u001b[0m\u001b[0mSeries\u001b[0m\u001b[1;33m(\u001b[0m\u001b[0mv\u001b[0m\u001b[1;33m)\u001b[0m\u001b[1;33m)\u001b[0m \u001b[1;32mfor\u001b[0m \u001b[0mk\u001b[0m\u001b[1;33m,\u001b[0m\u001b[0mv\u001b[0m \u001b[1;32min\u001b[0m \u001b[0mjson_readed\u001b[0m\u001b[1;33m[\u001b[0m\u001b[1;34m\"league\"\u001b[0m\u001b[1;33m]\u001b[0m\u001b[1;33m.\u001b[0m\u001b[0mitems\u001b[0m\u001b[1;33m(\u001b[0m\u001b[1;33m)\u001b[0m \u001b[1;33m]\u001b[0m\u001b[1;33m)\u001b[0m\u001b[1;33m)\u001b[0m \u001b[1;31m#B (Better)\u001b[0m\u001b[1;33m\u001b[0m\u001b[1;33m\u001b[0m\u001b[0m\n\u001b[0m\u001b[0;32m      2\u001b[0m \u001b[1;33m\u001b[0m\u001b[0m\n\u001b[0;32m      3\u001b[0m \u001b[0mdf_members_json\u001b[0m\u001b[1;33m\u001b[0m\u001b[1;33m\u001b[0m\u001b[0m\n\u001b[0;32m      4\u001b[0m \u001b[1;33m\u001b[0m\u001b[0m\n",
      "\u001b[1;32m<ipython-input-14-c455d15ffc4d>\u001b[0m in \u001b[0;36m<listcomp>\u001b[1;34m(.0)\u001b[0m\n\u001b[1;32m----> 1\u001b[1;33m \u001b[0mdf_members_json\u001b[0m \u001b[1;33m=\u001b[0m \u001b[0mpd\u001b[0m\u001b[1;33m.\u001b[0m\u001b[0mDataFrame\u001b[0m\u001b[1;33m(\u001b[0m\u001b[0mdict\u001b[0m\u001b[1;33m(\u001b[0m\u001b[1;33m[\u001b[0m \u001b[1;33m(\u001b[0m\u001b[0mk\u001b[0m\u001b[1;33m,\u001b[0m\u001b[0mjson_readed\u001b[0m\u001b[1;33m[\u001b[0m\u001b[1;34m\"league\"\u001b[0m\u001b[1;33m]\u001b[0m\u001b[1;33m.\u001b[0m\u001b[0mSeries\u001b[0m\u001b[1;33m(\u001b[0m\u001b[0mv\u001b[0m\u001b[1;33m)\u001b[0m\u001b[1;33m)\u001b[0m \u001b[1;32mfor\u001b[0m \u001b[0mk\u001b[0m\u001b[1;33m,\u001b[0m\u001b[0mv\u001b[0m \u001b[1;32min\u001b[0m \u001b[0mjson_readed\u001b[0m\u001b[1;33m[\u001b[0m\u001b[1;34m\"league\"\u001b[0m\u001b[1;33m]\u001b[0m\u001b[1;33m.\u001b[0m\u001b[0mitems\u001b[0m\u001b[1;33m(\u001b[0m\u001b[1;33m)\u001b[0m \u001b[1;33m]\u001b[0m\u001b[1;33m)\u001b[0m\u001b[1;33m)\u001b[0m \u001b[1;31m#B (Better)\u001b[0m\u001b[1;33m\u001b[0m\u001b[1;33m\u001b[0m\u001b[0m\n\u001b[0m\u001b[0;32m      2\u001b[0m \u001b[1;33m\u001b[0m\u001b[0m\n\u001b[0;32m      3\u001b[0m \u001b[0mdf_members_json\u001b[0m\u001b[1;33m\u001b[0m\u001b[1;33m\u001b[0m\u001b[0m\n\u001b[0;32m      4\u001b[0m \u001b[1;33m\u001b[0m\u001b[0m\n",
      "\u001b[1;31mAttributeError\u001b[0m: 'dict' object has no attribute 'Series'"
     ]
    }
   ],
   "source": [
    "df_members_json = pd.DataFrame(dict([ (k,json_readed[\"league\"].Series(v)) for k,v in json_readed[\"league\"].items() ])) #B (Better)\n",
    "\n",
    "df_members_json\n",
    " "
   ]
  },
  {
   "cell_type": "code",
   "execution_count": 85,
   "metadata": {},
   "outputs": [
    {
     "output_type": "execute_result",
     "data": {
      "text/plain": [
       "                                                       league\n",
       "standard    [{'isNBAFranchise': False, 'isAllStar': True, ...\n",
       "africa      [{'isNBAFranchise': False, 'isAllStar': False,...\n",
       "sacramento  [{'isNBAFranchise': True, 'isAllStar': False, ...\n",
       "vegas       [{'isNBAFranchise': True, 'isAllStar': False, ...\n",
       "utah        [{'isNBAFranchise': True, 'isAllStar': False, ..."
      ],
      "text/html": "<div>\n<style scoped>\n    .dataframe tbody tr th:only-of-type {\n        vertical-align: middle;\n    }\n\n    .dataframe tbody tr th {\n        vertical-align: top;\n    }\n\n    .dataframe thead th {\n        text-align: right;\n    }\n</style>\n<table border=\"1\" class=\"dataframe\">\n  <thead>\n    <tr style=\"text-align: right;\">\n      <th></th>\n      <th>league</th>\n    </tr>\n  </thead>\n  <tbody>\n    <tr>\n      <th>standard</th>\n      <td>[{'isNBAFranchise': False, 'isAllStar': True, ...</td>\n    </tr>\n    <tr>\n      <th>africa</th>\n      <td>[{'isNBAFranchise': False, 'isAllStar': False,...</td>\n    </tr>\n    <tr>\n      <th>sacramento</th>\n      <td>[{'isNBAFranchise': True, 'isAllStar': False, ...</td>\n    </tr>\n    <tr>\n      <th>vegas</th>\n      <td>[{'isNBAFranchise': True, 'isAllStar': False, ...</td>\n    </tr>\n    <tr>\n      <th>utah</th>\n      <td>[{'isNBAFranchise': True, 'isAllStar': False, ...</td>\n    </tr>\n  </tbody>\n</table>\n</div>"
     },
     "metadata": {},
     "execution_count": 85
    }
   ],
   "source": [
    "  df_members_json1 = pd.DataFrame(df_members_json[\"league\"])\n",
    "df_members_json1"
   ]
  },
  {
   "cell_type": "code",
   "execution_count": null,
   "metadata": {},
   "outputs": [],
   "source": []
  },
  {
   "cell_type": "markdown",
   "metadata": {},
   "source": [
    "### Data Mining & Data Wrangling\n",
    "As you can see, there are jsons inside the original json. For that, we have to mining the json (data mining) to be able to use it correctly (data wrangling). \n",
    "\n",
    "How do you solve this issue? Research about this and try a solution. "
   ]
  },
  {
   "source": [
    "#### GOAL"
   ],
   "cell_type": "markdown",
   "metadata": {}
  },
  {
   "source": [
    "![](json_df_goal_nba.png)"
   ],
   "cell_type": "markdown",
   "metadata": {}
  },
  {
   "cell_type": "code",
   "execution_count": null,
   "metadata": {},
   "outputs": [],
   "source": []
  }
 ],
 "metadata": {
  "language_info": {
   "name": "python",
   "codemirror_mode": {
    "name": "ipython",
    "version": 3
   },
   "version": "3.7.4"
  },
  "orig_nbformat": 2,
  "file_extension": ".py",
  "mimetype": "text/x-python",
  "name": "python",
  "npconvert_exporter": "python",
  "pygments_lexer": "ipython3",
  "version": 3,
  "kernelspec": {
   "name": "python374jvsc74a57bd0a9b83ec4160fc914f5169c2fc0bc9ab1c02e189a457abfa966969b692f6336e9",
   "display_name": "Python 3.7.4 64-bit"
  },
  "metadata": {
   "interpreter": {
    "hash": "a9b83ec4160fc914f5169c2fc0bc9ab1c02e189a457abfa966969b692f6336e9"
   }
  }
 },
 "nbformat": 4,
 "nbformat_minor": 2
}