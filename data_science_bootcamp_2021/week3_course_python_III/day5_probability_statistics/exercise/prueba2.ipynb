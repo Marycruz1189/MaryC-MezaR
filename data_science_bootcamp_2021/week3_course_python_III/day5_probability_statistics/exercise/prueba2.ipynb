{
 "metadata": {
  "language_info": {
   "codemirror_mode": {
    "name": "ipython",
    "version": 3
   },
   "file_extension": ".py",
   "mimetype": "text/x-python",
   "name": "python",
   "nbconvert_exporter": "python",
   "pygments_lexer": "ipython3",
   "version": "3.7.4"
  },
  "orig_nbformat": 2,
  "kernelspec": {
   "name": "python374jvsc74a57bd0a9b83ec4160fc914f5169c2fc0bc9ab1c02e189a457abfa966969b692f6336e9",
   "display_name": "Python 3.7.4 64-bit"
  },
  "metadata": {
   "interpreter": {
    "hash": "a9b83ec4160fc914f5169c2fc0bc9ab1c02e189a457abfa966969b692f6336e9"
   }
  }
 },
 "nbformat": 4,
 "nbformat_minor": 2,
 "cells": [
  {
   "cell_type": "code",
   "execution_count": 50,
   "metadata": {},
   "outputs": [
    {
     "output_type": "error",
     "ename": "TabError",
     "evalue": "inconsistent use of tabs and spaces in indentation (<ipython-input-50-18f0f89eafa3>, line 11)",
     "traceback": [
      "\u001b[1;36m  File \u001b[1;32m\"<ipython-input-50-18f0f89eafa3>\"\u001b[1;36m, line \u001b[1;32m11\u001b[0m\n\u001b[1;33m    print(\" \") ,\u001b[0m\n\u001b[1;37m                ^\u001b[0m\n\u001b[1;31mTabError\u001b[0m\u001b[1;31m:\u001b[0m inconsistent use of tabs and spaces in indentation\n"
     ]
    }
   ],
   "source": [
    "import copy, random\n",
    "\n",
    "\n",
    "def create_board (player):\n",
    "    #find out if you are printing the player 1 or player 2 board\n",
    "    if player == \"MaryCruz\" or player == \"Karina\":\n",
    "\n",
    "        print(\"The \" + player + \"'s board look like this: \\n\") \n",
    "    \n",
    "  \t#print the board\n",
    "\t\t    \n",
    "    for i in range(10):\n",
    "        print(\"~|\" * 10)\n",
    "\n",
    "    \n",
    "\n",
    "            \n",
    "create_board(\"MaryCruz\")\n",
    "\n"
   ]
  },
  {
   "cell_type": "code",
   "execution_count": 43,
   "metadata": {},
   "outputs": [],
   "source": [
    "def print_board(s, board):\n",
    "\n",
    "\t# WARNING: This function was crafted with a lot of attention. Please be aware that any\n",
    "\t#          modifications to this function will result in a poor output of the board \n",
    "\t#          layout. You have been warn. \n",
    "\n",
    "\t#find out if you are printing the computer or user board\n",
    "\tplayer = \"Computer\"\n",
    "\tif s == \"u\":\n",
    "\t\tplayer = \"User\"\n",
    "\t\n",
    "\tprint(\"The \" + player + \"'s board look like this: \\n\")\n",
    "\n",
    "\t#print the horizontal numbers\n",
    "\tprint(\" \") ,\n",
    "\tfor i in range(10):\n",
    "\t\tprint(\"  \" + str(i+1) + \"  \")\n",
    "\tprint(\"\\n\") \n",
    "\n",
    "\tfor i in range(10):\n",
    "\t\n",
    "\t\t#print the vertical line number\n",
    "\t\tif i != 9: \n",
    "\t\t\tprint(str(i+1) + \"  \")\n",
    "\t\telse:\n",
    "\t\t\tprint(str(i+1) + \" \")\n",
    "\n",
    "\t\t#print the board values, and cell dividers\n",
    "\t\tfor j in range(10):\n",
    "\t\t\tif board[i][j] == -1:\n",
    "\t\t\t\tprint(' ')\t\n",
    "\t\t\telif s == \"u\":\n",
    "\t\t\t\tprint(board[i][j])\n",
    "\t\t\telif s == \"c\":\n",
    "\t\t\t\tif board[i][j] == \"*\" or board[i][j] == \"$\":\n",
    "\t\t\t\t\tprint(board[i][j])\n",
    "\t\t\t\telse:\n",
    "\t\t\t\t\tprint(\" \")\n",
    "\t\t\t\n",
    "\t\t\tif j != 9:\n",
    "\t\t\t\tprint(\" | \")\n",
    "\t\tprint\n",
    "\t\t\n",
    "\t\t#print a horizontal line\n",
    "\t\tif i != 9:\n",
    "\t\t\tprint( \"   ----------------------------------------------------------\")\n",
    "\t\telse: \n",
    "\t\t\tprint "
   ]
  },
  {
   "cell_type": "code",
   "execution_count": 49,
   "metadata": {},
   "outputs": [
    {
     "output_type": "stream",
     "name": "stdout",
     "text": [
      " \n  1  \n  2  \n  3  \n  4  \n  5  \n  6  \n  7  \n  8  \n  9  \n  10  \n\n\n"
     ]
    }
   ],
   "source": [
    "print(\" \") ,\n",
    "\n",
    "for i in range(10):\n",
    "\tprint(\"  \" + str(i+1) + \"  \")\n",
    "print(\"\\n\") \n"
   ]
  },
  {
   "cell_type": "code",
   "execution_count": 44,
   "metadata": {},
   "outputs": [
    {
     "output_type": "stream",
     "name": "stdout",
     "text": [
      "The User's board look like this: \n\n \n  1  \n  2  \n  3  \n  4  \n  5  \n  6  \n  7  \n  8  \n  9  \n  10  \n\n\n1  \n*\n | \n"
     ]
    },
    {
     "output_type": "error",
     "ename": "IndexError",
     "evalue": "string index out of range",
     "traceback": [
      "\u001b[1;31m---------------------------------------------------------------------------\u001b[0m",
      "\u001b[1;31mIndexError\u001b[0m                                Traceback (most recent call last)",
      "\u001b[1;32m<ipython-input-44-454c493e11eb>\u001b[0m in \u001b[0;36m<module>\u001b[1;34m\u001b[0m\n\u001b[1;32m----> 1\u001b[1;33m \u001b[0mprint_board\u001b[0m\u001b[1;33m(\u001b[0m\u001b[1;34m\"u\"\u001b[0m\u001b[1;33m,\u001b[0m\u001b[1;34m\"*\"\u001b[0m\u001b[1;33m)\u001b[0m\u001b[1;33m\u001b[0m\u001b[1;33m\u001b[0m\u001b[0m\n\u001b[0m",
      "\u001b[1;32m<ipython-input-43-41608e711773>\u001b[0m in \u001b[0;36mprint_board\u001b[1;34m(s, board)\u001b[0m\n\u001b[0;32m     28\u001b[0m                 \u001b[1;31m#print the board values, and cell dividers\u001b[0m\u001b[1;33m\u001b[0m\u001b[1;33m\u001b[0m\u001b[1;33m\u001b[0m\u001b[0m\n\u001b[0;32m     29\u001b[0m                 \u001b[1;32mfor\u001b[0m \u001b[0mj\u001b[0m \u001b[1;32min\u001b[0m \u001b[0mrange\u001b[0m\u001b[1;33m(\u001b[0m\u001b[1;36m10\u001b[0m\u001b[1;33m)\u001b[0m\u001b[1;33m:\u001b[0m\u001b[1;33m\u001b[0m\u001b[1;33m\u001b[0m\u001b[0m\n\u001b[1;32m---> 30\u001b[1;33m                         \u001b[1;32mif\u001b[0m \u001b[0mboard\u001b[0m\u001b[1;33m[\u001b[0m\u001b[0mi\u001b[0m\u001b[1;33m]\u001b[0m\u001b[1;33m[\u001b[0m\u001b[0mj\u001b[0m\u001b[1;33m]\u001b[0m \u001b[1;33m==\u001b[0m \u001b[1;33m-\u001b[0m\u001b[1;36m1\u001b[0m\u001b[1;33m:\u001b[0m\u001b[1;33m\u001b[0m\u001b[1;33m\u001b[0m\u001b[0m\n\u001b[0m\u001b[0;32m     31\u001b[0m                                 \u001b[0mprint\u001b[0m\u001b[1;33m(\u001b[0m\u001b[1;34m' '\u001b[0m\u001b[1;33m)\u001b[0m\u001b[1;33m\u001b[0m\u001b[1;33m\u001b[0m\u001b[0m\n\u001b[0;32m     32\u001b[0m                         \u001b[1;32melif\u001b[0m \u001b[0ms\u001b[0m \u001b[1;33m==\u001b[0m \u001b[1;34m\"u\"\u001b[0m\u001b[1;33m:\u001b[0m\u001b[1;33m\u001b[0m\u001b[1;33m\u001b[0m\u001b[0m\n",
      "\u001b[1;31mIndexError\u001b[0m: string index out of range"
     ]
    }
   ],
   "source": [
    "print_board(\"u\",\"*\")"
   ]
  },
  {
   "cell_type": "code",
   "execution_count": 7,
   "metadata": {},
   "outputs": [],
   "source": [
    "if __name__==\"u\":\n",
    "\tmain()"
   ]
  },
  {
   "cell_type": "code",
   "execution_count": null,
   "metadata": {},
   "outputs": [],
   "source": []
  }
 ]
}