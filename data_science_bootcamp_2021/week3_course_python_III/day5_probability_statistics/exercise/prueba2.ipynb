{
 "metadata": {
  "language_info": {
   "codemirror_mode": {
    "name": "ipython",
    "version": 3
   },
   "file_extension": ".py",
   "mimetype": "text/x-python",
   "name": "python",
   "nbconvert_exporter": "python",
   "pygments_lexer": "ipython3",
   "version": "3.7.4"
  },
  "orig_nbformat": 2,
  "kernelspec": {
   "name": "python374jvsc74a57bd0a9b83ec4160fc914f5169c2fc0bc9ab1c02e189a457abfa966969b692f6336e9",
   "display_name": "Python 3.7.4 64-bit"
  },
  "metadata": {
   "interpreter": {
    "hash": "a9b83ec4160fc914f5169c2fc0bc9ab1c02e189a457abfa966969b692f6336e9"
   }
  }
 },
 "nbformat": 4,
 "nbformat_minor": 2,
 "cells": [
  {
   "cell_type": "code",
   "execution_count": 11,
   "metadata": {},
   "outputs": [
    {
     "output_type": "stream",
     "name": "stdout",
     "text": [
      "Number of Karina is 4\nNumber of Marycruz is 6\nMarycruz start the game and is the player1\n"
     ]
    },
    {
     "output_type": "execute_result",
     "data": {
      "text/plain": [
       "('Marycruz', 'Karina')"
      ]
     },
     "metadata": {},
     "execution_count": 11
    }
   ],
   "source": [
    "import copy, random\n",
    "\n",
    "\n",
    "def player_turns(turn1, turn2): \n",
    "    \"\"\"function to define the player \n",
    "    who starts the game\"\"\"\n",
    "    number1 = random.randint(1, 6)\n",
    "    print(f'Number of {turn1} is {number1}')\n",
    "    number2 = random.randint(1, 6)\n",
    "    print(f'Number of {turn2} is {number2}')\n",
    "    if number1 > number2:\n",
    "        player1 = turn1\n",
    "        player2 = turn2\n",
    "        print(f'{turn1} start the game and is the player1')\n",
    "        return player1, player2\n",
    "    else:\n",
    "        player1 = turn2 \n",
    "        player2 = turn1 \n",
    "        print(f'{turn2} start the game and is the player1')\n",
    "        return player1, player2\n",
    "\n",
    "player_turns(\"Karina\", \"Marycruz\")\n",
    " \n"
   ]
  },
  {
   "cell_type": "code",
   "execution_count": 3,
   "metadata": {},
   "outputs": [
    {
     "output_type": "stream",
     "name": "stdout",
     "text": [
      "~|~|~|~|~|~|~|~|~|~|\n~|~|~|~|~|~|~|~|~|~|\n~|~|~|~|~|~|~|~|~|~|\n~|~|~|~|~|~|~|~|~|~|\n~|~|~|~|~|~|~|~|~|~|\n~|~|~|~|~|~|~|~|~|~|\n~|~|~|~|~|~|~|~|~|~|\n~|~|~|~|~|~|~|~|~|~|\n~|~|~|~|~|~|~|~|~|~|\n~|~|~|~|~|~|~|~|~|~|\n"
     ]
    }
   ],
   "source": [
    "def board ():\n",
    "    \"\"\"setup blank 10x10 board\"\"\"\n",
    "    for i in range(10):\n",
    "        print (\"~|\" * 10)\n",
    "\n",
    "x = board()\n",
    "x "
   ]
  },
  {
   "cell_type": "code",
   "execution_count": 5,
   "metadata": {},
   "outputs": [
    {
     "output_type": "stream",
     "name": "stdout",
     "text": [
      "The <function player_turns at 0x00000170EE375A68>'s board look like this: \n\n<function board at 0x00000170EE375DC8>\n"
     ]
    }
   ],
   "source": [
    "\n",
    "\n",
    "def create_board ():\n",
    "    #find out if you are printing the player 1 or player 2 board\n",
    "   \n",
    "    print(f\"The {player_turns}'s board look like this: \\n\") \n",
    "    print(board)\n",
    "    \n",
    "  \t#print the board\n",
    "\t\t   \n",
    "               \n",
    "create_board ()\n"
   ]
  },
  {
   "cell_type": "code",
   "execution_count": null,
   "metadata": {},
   "outputs": [],
   "source": [
    "def v_or_h():\n",
    "\n",
    "\t#get ship orientation from player 1\n",
    "\twhile(True):\n",
    "\t\tplayer1_input = raw_input(\"vertical or horizontal (v,h) ? \")\n",
    "\t\tif player1_input == \"v\" or player1_input == \"h\":\n",
    "\t\t\treturn player1_input\n",
    "\t\telse:\n",
    "\t\t\tValueError(\"Orientation must have a value of either 'horizontal' or 'vertical'.\")\n",
    "\n",
    "def get_coor():\n",
    "\t\n",
    "\twhile (True):\n",
    "\t\tplayer1_input = raw_input(\"Enter the positions (row,col) ? \")\n",
    "\t\ttry:\n",
    "\t\t\t#Entered 2 values seprated by comma\n",
    "\t\t\tcoor = player1_input.split(\",\")\n",
    "\t\t\tif len(coor) != 2:\n",
    "\t\t\t\traise Exception(\"Sintax invalid, too few/many values\");\n",
    "\n",
    "\t\t\t#check that 2 values are integers\n",
    "\t\t\tcoor[0] = int(coor[0])-1\n",
    "\t\t\tcoor[1] = int(coor[1])-1\n",
    "\n",
    "\t\t\tif coor[0] > 9 or coor[0] < 0 or coor[1] > 9 or coor[1] < 0:\n",
    "\t\t\t\traise Exception(\"Only values between 1 to 10 only are allowed\")\n",
    "\n",
    "\t\t\treturn coor\n",
    "\t\t\n",
    "\t\texcept ValueError:\n",
    "\t\t\tprint \"Invalid entry. Please enter only numeric values for coordinates\""
   ]
  },
  {
   "cell_type": "code",
   "execution_count": 43,
   "metadata": {},
   "outputs": [],
   "source": [
    "\t    #types of ships\n",
    "\tships = {\"ship 2x1\":4,\n",
    "\t\t     \"ship 3x1\":3,\n",
    " \t\t     \"ship 4x1 \":2,\n",
    "\t\t     \"ship 5x1\":1}\n",
    "\n",
    "\n",
    "def place_ships_player_1(board,ships):\n",
    "\n",
    "\tfor ship in ships.keys():\n",
    "\n",
    "\t\t#get coordinates from user and vlidate the postion\n",
    "\t\tvalid = False\n",
    "\t\twhile(not valid):\n",
    "\n",
    "\t\t\tboard(player_turns)\n",
    "\t\t\tprint \"Put a/an \" + ship\n",
    "\t\t\trow,colum = get_coor()\n",
    "\t\t\torientation = v_or_h()\n",
    "\t\t\tvalid = validate(board,ships[ship],row,colum,orientation)\n",
    "\t\t\tif not valid:\n",
    "\t\t\t\tprint \"Place a ship in other place\"\n",
    "\t\t\t\traw_input(\"Hit ENTER to continue\")\n",
    "\n",
    "\t\t#place the ship\n",
    "\t\tcreate_board = place_ship(create_board,ships[ship],ship[0],orientation,x,y)\n",
    "\t\tcreate_board(\"MaryCruz\")\n",
    "\t\t\n",
    "\traw_input(\"Done placing user ships. Hit ENTER to continue\")\n",
    "\treturn create_board\n"
   ]
  },
  {
   "cell_type": "code",
   "execution_count": null,
   "metadata": {},
   "outputs": [],
   "source": [
    "\n",
    "\t\t\n"
   ]
  },
  {
   "cell_type": "code",
   "execution_count": 65,
   "metadata": {},
   "outputs": [],
   "source": [
    "def initial_status():\n",
    "\n",
    "\t   #types of ships\n",
    "\tships = {\"ship 2x1\":4,\n",
    "\t\t     \"ship 3x1\":3,\n",
    " \t\t     \"ship 4x1 \":2,\n",
    "\t\t     \"ship 5x1\":1}\n",
    "\n",
    "\t#setup user and computer boards\n",
    "\tplayer1_board = copy.deepcopy(create_board)\n",
    "\tplayer2_board = copy.deepcopy(create_board)\n",
    "\n",
    "\t#add ships as last element in the array\n",
    "\tplayer1_board.append(copy.deepcopy(ships))\n",
    "\tplayer2_board.append(copy.deepcopy(ships))\n",
    "\n",
    "\t#ship placement\n",
    "\tplayer1_board = place_ships_player_1(player1_board,ships)\n",
    "\tplayer2_board = place_ships_player_2(player2_board,ships)\n",
    "\n",
    "\n",
    "#game main loop\n",
    "\twhile(1):\n",
    "\n",
    "\t\t#user move\n",
    "\t\tprint_board(\"c\",comp_board)\n",
    "\t\tcomp_board = user_move(comp_board)\n",
    "\n",
    "\t\t#check if user won\n",
    "\t\tif comp_board == \"WIN\":\n",
    "\t\t\tprint \"User WON! :)\"\n",
    "\t\t\tquit()\n",
    "\t\t\t\n",
    "\t\t#display current computer board\n",
    "\t\tprint_board(\"c\",comp_board)\n",
    "\t\traw_input(\"To end user turn hit ENTER\")\n",
    "\n",
    "\t\t#computer move\n",
    "\t\tuser_board = computer_move(user_board)\n",
    "\t\t\n",
    "\t\t#check if computer move\n",
    "\t\tif user_board == \"WIN\":\n",
    "\t\t\tprint \"Computer WON! :(\"\n",
    "\t\t\tquit()\n",
    "\t\t\t\n",
    "\t\t#display user board\n",
    "\t\tprint_board(\"u\",user_board)\n",
    "\t\traw_input(\"To end computer turn hit ENTER\")\n",
    "\t\n",
    "if __name__==\"__main__\":\n",
    "\tmain()"
   ]
  },
  {
   "cell_type": "code",
   "execution_count": 66,
   "metadata": {},
   "outputs": [
    {
     "output_type": "error",
     "ename": "AttributeError",
     "evalue": "'function' object has no attribute 'append'",
     "traceback": [
      "\u001b[1;31m---------------------------------------------------------------------------\u001b[0m",
      "\u001b[1;31mAttributeError\u001b[0m                            Traceback (most recent call last)",
      "\u001b[1;32m<ipython-input-66-0780285ea2eb>\u001b[0m in \u001b[0;36m<module>\u001b[1;34m\u001b[0m\n\u001b[1;32m----> 1\u001b[1;33m \u001b[0minitial_status\u001b[0m\u001b[1;33m(\u001b[0m\u001b[1;33m)\u001b[0m\u001b[1;33m\u001b[0m\u001b[1;33m\u001b[0m\u001b[0m\n\u001b[0m",
      "\u001b[1;32m<ipython-input-65-d311adb43a22>\u001b[0m in \u001b[0;36minitial_status\u001b[1;34m()\u001b[0m\n\u001b[0;32m     12\u001b[0m \u001b[1;33m\u001b[0m\u001b[0m\n\u001b[0;32m     13\u001b[0m         \u001b[1;31m#add ships as last element in the array\u001b[0m\u001b[1;33m\u001b[0m\u001b[1;33m\u001b[0m\u001b[1;33m\u001b[0m\u001b[0m\n\u001b[1;32m---> 14\u001b[1;33m         \u001b[0mplayer1_board\u001b[0m\u001b[1;33m.\u001b[0m\u001b[0mappend\u001b[0m\u001b[1;33m(\u001b[0m\u001b[0mcopy\u001b[0m\u001b[1;33m.\u001b[0m\u001b[0mdeepcopy\u001b[0m\u001b[1;33m(\u001b[0m\u001b[0mships\u001b[0m\u001b[1;33m)\u001b[0m\u001b[1;33m)\u001b[0m\u001b[1;33m\u001b[0m\u001b[1;33m\u001b[0m\u001b[0m\n\u001b[0m\u001b[0;32m     15\u001b[0m         \u001b[0mplayer1_board\u001b[0m\u001b[1;33m.\u001b[0m\u001b[0mappend\u001b[0m\u001b[1;33m(\u001b[0m\u001b[0mcopy\u001b[0m\u001b[1;33m.\u001b[0m\u001b[0mdeepcopy\u001b[0m\u001b[1;33m(\u001b[0m\u001b[0mships\u001b[0m\u001b[1;33m)\u001b[0m\u001b[1;33m)\u001b[0m\u001b[1;33m\u001b[0m\u001b[1;33m\u001b[0m\u001b[0m\n\u001b[0;32m     16\u001b[0m \u001b[1;33m\u001b[0m\u001b[0m\n",
      "\u001b[1;31mAttributeError\u001b[0m: 'function' object has no attribute 'append'"
     ]
    }
   ],
   "source": [
    "initial_status()"
   ]
  },
  {
   "cell_type": "code",
   "execution_count": null,
   "metadata": {},
   "outputs": [],
   "source": [
    "https://code.activestate.com/recipes/578836-the-game-of-battleships-in-python/"
   ]
  },
  {
   "cell_type": "code",
   "execution_count": null,
   "metadata": {},
   "outputs": [],
   "source": [
    "https://gist.github.com/guimaion/9275543\n",
    "https://github.com/dmoisset/battleship-dojo\n",
    "https://stackoverflow.com/questions/55759918/battleship-game-in-python-for-a-project-in-school\n",
    "https://discuss.codecademy.com/t/excellent-battleship-game-written-in-python/430605\n",
    "https://stackoverflow.com/questions/20179953/simple-battleships-game-implementation-in-python\n",
    "https://stackoverflow.com/questions/34885789/i-am-making-a-battleship-game-in-python-and-i-want-to-add-more-ships"
   ]
  },
  {
   "cell_type": "code",
   "execution_count": 1,
   "metadata": {},
   "outputs": [
    {
     "output_type": "stream",
     "name": "stdout",
     "text": [
      "6\n"
     ]
    }
   ],
   "source": [
    "def func(x):\n",
    "  res = 0\n",
    "  for i in range(x):\n",
    "     res += i\n",
    "  return res\n",
    "\n",
    "print(func(4))"
   ]
  },
  {
   "cell_type": "code",
   "execution_count": null,
   "metadata": {},
   "outputs": [],
   "source": []
  }
 ]
}