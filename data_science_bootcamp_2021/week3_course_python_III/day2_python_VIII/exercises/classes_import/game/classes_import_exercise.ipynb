{
 "metadata": {
  "language_info": {
   "codemirror_mode": {
    "name": "ipython",
    "version": 3
   },
   "file_extension": ".py",
   "mimetype": "text/x-python",
   "name": "python",
   "nbconvert_exporter": "python",
   "pygments_lexer": "ipython3",
   "version": "3.7.4"
  },
  "orig_nbformat": 2,
  "kernelspec": {
   "name": "python374jvsc74a57bd0a9b83ec4160fc914f5169c2fc0bc9ab1c02e189a457abfa966969b692f6336e9",
   "display_name": "Python 3.7.4 64-bit"
  },
  "metadata": {
   "interpreter": {
    "hash": "a9b83ec4160fc914f5169c2fc0bc9ab1c02e189a457abfa966969b692f6336e9"
   }
  }
 },
 "nbformat": 4,
 "nbformat_minor": 2,
 "cells": [
  {
   "source": [
    "## 1\n",
    "\n",
    "Crea un archivo 'ClaseHumano.py' en la carpeta 'objects' que contenga una clase:\n",
    "\n",
    "* 'Humano' que tiene:\n",
    "    - Un atributo 'ojos' que por defecto es 2\n",
    "    - Un atributo 'piernas' que por defecto es 2\n",
    "    - Un atributo 'dientes' que por defecto es 32\n",
    "    - Un atributo 'nombre'\n",
    "    - Un atributo 'armadura' \n",
    "    - Un atributo 'nivel' \n",
    "    - Un atributo 'ataque'\n",
    "    - Un atributo 'salud' que por defecto es 100\n",
    "    - Una función  llamada 'atacar' que recibe un argumento 'orco' que representa otra clase ('Orco'). Esta función resta a la vida del 'Orco' el ataque de 'Humano' menos la armadura de 'Orco'. Al final, muestra por pantalla la vida del 'Orco'\n",
    "    - Una función no_vivo que retorna True si la vida del 'Humano' es igual o inferior a 0, False en otro caso.\n",
    "    - Una función que muestre por pantalla todos los atributos actuales de 'Humano' concatenados con un String representando el nombre del atributo que se muestra. Ejemplo: \"Nombre: Ataulfo | dientes: 32 | salud: 100 | ...\"\n",
    "\n",
    "Crea un archivo 'ClaseOrco.py' en la carpeta 'objects' que contenga una clase:\n",
    "\n",
    "* 'Orco' que tiene:\n",
    "    - Un atributo 'ojos' que por defecto es 2\n",
    "    - Un atributo 'piernas' que por defecto es 2\n",
    "    - Un atributo 'dientes' que por defecto es 56\n",
    "    - Un atributo 'nombre'\n",
    "    - Un atributo 'armadura' \n",
    "    - Un atributo 'nivel' \n",
    "    - Un atributo 'ataque'\n",
    "    - Un atributo 'salud' que por defecto es 100\n",
    "    - Una función  llamada 'atacar' que recibe un argumento 'humano' que representa otra clase ('Humano'). Esta función resta a la vida del 'Humano' el ataque de 'Orco' menos la armadura de 'Humano'. Al final, muestra por pantalla la vida del 'Humano'\n",
    "    - Una función no_vivo que retorna True si la vida del 'Humano' es igual o inferior a 0, False en otro caso.\n",
    "    - Una función que muestre por pantalla todos los atributos actuales de 'Orco' concatenados con un String representando el nombre del atributo que se muestra. Ejemplo: \"Nombre: Graug | dientes: 56 | salud: 100 | ...\"   "
   ],
   "cell_type": "markdown",
   "metadata": {}
  },
  {
   "source": [
    "## 2\n",
    "\n",
    "Desde aquí, importa las clases del ejercicio 1 (tendrás que utilizar sys.path para poder importar los archivos/módulos/librerías/ficheros). Crea una instancia de Humano/a y otra de Orco/a:\n",
    "\n",
    "* La clase Humano/a ha de inicializarse con los siguientes valores:\n",
    "    - nombre: tu nombre\n",
    "    - nivel: tu edad\n",
    "    - armadura: un número Entero que sea un décimo de tu nivel redondeado hacia abajo\n",
    "    - ataque: un número Entero que sea un quinto de tu nivel redondeado hacia abajo\n",
    "    - Todo lo demás por defecto.\n",
    "\n",
    "* La clase Orco/a ha de inicializarse con los siguientes valores:\n",
    "    - nombre: el nombre de tu compañero/a\n",
    "    - nivel: su edad\n",
    "    - armadura: un número Entero que sea un quinceavo de su nivel redondeado hacia arriba\n",
    "    - ataque: un número Entero que sea un sexto de su nivel redondeado hacia arriba\n",
    "    - Todo lo demás por defecto.\n"
   ],
   "cell_type": "markdown",
   "metadata": {}
  },
  {
   "cell_type": "code",
   "execution_count": 2,
   "metadata": {},
   "outputs": [
    {
     "output_type": "execute_result",
     "data": {
      "text/plain": [
       "['c:\\\\Users\\\\Mary\\\\Desktop\\\\Boot Camp\\\\Python\\\\MaryC-MezaR\\\\data_science_bootcamp_2021\\\\week3_course_python_III\\\\day2_python_VIII\\\\exercises\\\\classes_import\\\\game',\n",
       " 'c:\\\\Users\\\\Mary\\\\.vscode\\\\extensions\\\\ms-toolsai.jupyter-2021.5.745244803\\\\pythonFiles',\n",
       " 'c:\\\\Users\\\\Mary\\\\.vscode\\\\extensions\\\\ms-toolsai.jupyter-2021.5.745244803\\\\pythonFiles',\n",
       " 'c:\\\\Users\\\\Mary\\\\.vscode\\\\extensions\\\\ms-toolsai.jupyter-2021.5.745244803\\\\pythonFiles\\\\lib\\\\python',\n",
       " 'C:\\\\Users\\\\Mary\\\\AppData\\\\Local\\\\Programs\\\\Python\\\\Python37\\\\python37.zip',\n",
       " 'C:\\\\Users\\\\Mary\\\\AppData\\\\Local\\\\Programs\\\\Python\\\\Python37\\\\DLLs',\n",
       " 'C:\\\\Users\\\\Mary\\\\AppData\\\\Local\\\\Programs\\\\Python\\\\Python37\\\\lib',\n",
       " 'C:\\\\Users\\\\Mary\\\\AppData\\\\Local\\\\Programs\\\\Python\\\\Python37',\n",
       " '',\n",
       " 'C:\\\\Users\\\\Mary\\\\AppData\\\\Roaming\\\\Python\\\\Python37\\\\site-packages',\n",
       " 'C:\\\\Users\\\\Mary\\\\AppData\\\\Roaming\\\\Python\\\\Python37\\\\site-packages\\\\win32',\n",
       " 'C:\\\\Users\\\\Mary\\\\AppData\\\\Roaming\\\\Python\\\\Python37\\\\site-packages\\\\win32\\\\lib',\n",
       " 'C:\\\\Users\\\\Mary\\\\AppData\\\\Roaming\\\\Python\\\\Python37\\\\site-packages\\\\Pythonwin',\n",
       " 'C:\\\\Users\\\\Mary\\\\AppData\\\\Local\\\\Programs\\\\Python\\\\Python37\\\\lib\\\\site-packages',\n",
       " 'C:\\\\Users\\\\Mary\\\\AppData\\\\Roaming\\\\Python\\\\Python37\\\\site-packages\\\\IPython\\\\extensions',\n",
       " 'C:\\\\Users\\\\Mary\\\\.ipython',\n",
       " 'c:\\\\Users\\\\Mary\\\\Desktop\\\\Boot Camp\\\\Python\\\\MaryC-MezaR\\\\data_science_bootcamp_2021\\\\week3_course_python_III',\n",
       " 'c:\\\\Users\\\\Mary\\\\Desktop\\\\Boot Camp\\\\Python\\\\MaryC-MezaR\\\\data_science_bootcamp_2021\\\\week3_course_python_III']"
      ]
     },
     "metadata": {},
     "execution_count": 2
    }
   ],
   "source": [
    "# Tu código aquí\n",
    "\n",
    "import os\n",
    "import sys \n",
    "\n",
    "ruta = os.getcwd()\n",
    "for i in range(4):\n",
    "    ruta = os.path.dirname(ruta)\n",
    "    \n",
    "sys.path.append(ruta)\n",
    "sys.path \n"
   ]
  },
  {
   "cell_type": "code",
   "execution_count": 3,
   "metadata": {},
   "outputs": [
    {
     "output_type": "error",
     "ename": "ModuleNotFoundError",
     "evalue": "No module named 'classes_import'",
     "traceback": [
      "\u001b[1;31m---------------------------------------------------------------------------\u001b[0m",
      "\u001b[1;31mModuleNotFoundError\u001b[0m                       Traceback (most recent call last)",
      "\u001b[1;32m<ipython-input-3-3e49e5931a37>\u001b[0m in \u001b[0;36m<module>\u001b[1;34m\u001b[0m\n\u001b[1;32m----> 1\u001b[1;33m \u001b[1;32mimport\u001b[0m \u001b[0mclasses_import\u001b[0m\u001b[1;33m.\u001b[0m\u001b[0mgame\u001b[0m\u001b[1;33m.\u001b[0m\u001b[0mobject\u001b[0m\u001b[1;33m.\u001b[0m\u001b[0mClaseOrco\u001b[0m \u001b[1;32mas\u001b[0m \u001b[0morco\u001b[0m\u001b[1;33m\u001b[0m\u001b[1;33m\u001b[0m\u001b[0m\n\u001b[0m\u001b[0;32m      2\u001b[0m \u001b[1;32mimport\u001b[0m \u001b[0mclasses_import\u001b[0m\u001b[1;33m.\u001b[0m\u001b[0mgame\u001b[0m\u001b[1;33m.\u001b[0m\u001b[0mobject\u001b[0m \u001b[1;32mas\u001b[0m \u001b[0mhumano\u001b[0m\u001b[1;33m\u001b[0m\u001b[1;33m\u001b[0m\u001b[0m\n",
      "\u001b[1;31mModuleNotFoundError\u001b[0m: No module named 'classes_import'"
     ]
    }
   ],
   "source": [
    "import classes_import.game.object.ClaseOrco as orco\n",
    "import classes_import.game.object as humano"
   ]
  },
  {
   "source": [
    "## 3\n",
    "\n",
    "Crea un bucle infinito que espere en cada turno(Iteración) 1 segundo. Para ello has de utilizar la función 'sleep(1)' de la librería time. En cada uno de los turnos debe ocurrir lo siguiente:\n",
    "\n",
    "- Que se muestre por pantalla el número del turno que se lleva empezando desde 1.  \n",
    "- Que se ataquen las instancias. Para ello, has de llamar a la función 'atacar' de cada una de las instancias.\n",
    "- Comprobar si una instancia no está viva con la función correspondiente. Si una instancia no está viva, mostrar por pantalla que una de ellas ha perdido y la otra ha ganado. Terminar el juego aquí.\n",
    "- Mostrar al finalizar el turno una barra divisoria para diferenciar un turno del siguiente.\n",
    "\n",
    "Hay que tener en cuenta: \n",
    "\n",
    "- Una instancia no puede atacar a la otra si no está viva.\n",
    "- Empieza primero la instancia que tiene menos nivel."
   ],
   "cell_type": "markdown",
   "metadata": {}
  },
  {
   "cell_type": "code",
   "execution_count": null,
   "metadata": {},
   "outputs": [],
   "source": [
    "# Tu código aquí"
   ]
  }
 ]
}