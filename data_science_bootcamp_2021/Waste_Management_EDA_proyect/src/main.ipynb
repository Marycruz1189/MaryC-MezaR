{
 "metadata": {
  "language_info": {
   "codemirror_mode": {
    "name": "ipython",
    "version": 3
   },
   "file_extension": ".py",
   "mimetype": "text/x-python",
   "name": "python",
   "nbconvert_exporter": "python",
   "pygments_lexer": "ipython3",
   "version": "3.7.4"
  },
  "orig_nbformat": 2,
  "kernelspec": {
   "name": "python374jvsc74a57bd0a9b83ec4160fc914f5169c2fc0bc9ab1c02e189a457abfa966969b692f6336e9",
   "display_name": "Python 3.7.4 64-bit"
  },
  "metadata": {
   "interpreter": {
    "hash": "a9b83ec4160fc914f5169c2fc0bc9ab1c02e189a457abfa966969b692f6336e9"
   }
  }
 },
 "nbformat": 4,
 "nbformat_minor": 2,
 "cells": [
  {
   "source": [
    "## 1. Imports the required libraries for EDA\n",
    "#### First of all, import the needed libraries.Common data science functions have been used: numpy, pandas, matplotlib."
   ],
   "cell_type": "markdown",
   "metadata": {}
  },
  {
   "cell_type": "code",
   "execution_count": 1,
   "metadata": {},
   "outputs": [],
   "source": [
    "# numpy and pandas for data manipulation\n",
    "import numpy as np\n",
    "import pandas as pd \n",
    "\n",
    "# File system manangement\n",
    "import os\n",
    "\n",
    "# Necessary command\n",
    "from utils.mining_data_tb import *\n",
    "\n",
    "# matplotlib and seaborn for plotting\n",
    "import matplotlib.pyplot as plt\n",
    "import seaborn as sns\n",
    "%matplotlib inline \n",
    "sns.set(color_codes=True)"
   ]
  },
  {
   "source": [
    "## 2. Load the data into the data frame.\n",
    "#### Loading the data into the pandas data frame is certainly one of the most important steps in EDA. First, we can list all the available data files. There are a total of 5 files. 3 files representing waste management: 1 file with information on waste generation, 1 file on waste disposal, 1 file on emissions produced by waste management. And 2 files to contrast the previous variables: 1 on the Spanish economy (GDP) and 1 on the population. "
   ],
   "cell_type": "markdown",
   "metadata": {}
  },
  {
   "cell_type": "code",
   "execution_count": 20,
   "metadata": {},
   "outputs": [
    {
     "output_type": "stream",
     "name": "stdout",
     "text": [
      "['PIBcorriente_milesdeeuros.xlsx', 'poblacion.xls', 'recogida_residuos.xls', 'residuos_gestionados_nuevo.xlsx', 'total contaminantes nacional.xlsx']\n"
     ]
    }
   ],
   "source": [
    "# List files available\n",
    "print(os.listdir(\"../data/\"))\n"
   ]
  },
  {
   "cell_type": "code",
   "execution_count": null,
   "metadata": {},
   "outputs": [],
   "source": []
  },
  {
   "cell_type": "code",
   "execution_count": 2,
   "metadata": {},
   "outputs": [],
   "source": [
    "# Read databases\n",
    "gdp, disposal, population, collection, emissions = read_databases()\n",
    "\n",
    "\n",
    "# Load into dataframes\n",
    "gdp = pd.read_excel(gdp)\n",
    "population = pd.read_excel(population)\n",
    "waste_disposal = pd.read_excel(disposal)\n",
    "waste_collection = pd.read_excel(collection)\n",
    "waste_emissions = pd.read_excel(emissions)\n"
   ]
  },
  {
   "source": [
    "## 3. Data Cleaning\n",
    "#### After completing the Data Sourcing, the next step in the process of EDA is Data Cleaning. It is very important to get rid of the irregularities and clean the data after sourcing it into system.\n",
    "#### * Missing Values\n",
    "#### * Incorrect Format\n",
    "#### * Incorrect Headers\n",
    "#### * Anomalies"
   ],
   "cell_type": "markdown",
   "metadata": {}
  }
 ]
}