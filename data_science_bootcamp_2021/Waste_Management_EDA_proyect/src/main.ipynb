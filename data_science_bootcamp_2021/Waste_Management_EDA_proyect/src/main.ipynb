{
 "metadata": {
  "language_info": {
   "codemirror_mode": {
    "name": "ipython",
    "version": 3
   },
   "file_extension": ".py",
   "mimetype": "text/x-python",
   "name": "python",
   "nbconvert_exporter": "python",
   "pygments_lexer": "ipython3",
   "version": "3.7.4"
  },
  "orig_nbformat": 2,
  "kernelspec": {
   "name": "python374jvsc74a57bd0a9b83ec4160fc914f5169c2fc0bc9ab1c02e189a457abfa966969b692f6336e9",
   "display_name": "Python 3.7.4 64-bit"
  },
  "metadata": {
   "interpreter": {
    "hash": "a9b83ec4160fc914f5169c2fc0bc9ab1c02e189a457abfa966969b692f6336e9"
   }
  }
 },
 "nbformat": 4,
 "nbformat_minor": 2,
 "cells": [
  {
   "source": [
    "<img src='..//resources/waste-treatment-processes.jpg'>"
   ],
   "cell_type": "markdown",
   "metadata": {}
  },
  {
   "source": [
    "## 1. Imports the required libraries for EDA\n",
    "#### First of all, import the needed libraries.Common data science functions have been used: numpy, pandas, matplotlib."
   ],
   "cell_type": "markdown",
   "metadata": {}
  },
  {
   "cell_type": "code",
   "execution_count": 2,
   "metadata": {},
   "outputs": [],
   "source": [
    "# numpy and pandas for data manipulation\n",
    "import numpy as np\n",
    "import pandas as pd \n",
    "import re \n",
    "\n",
    "# File system manangement\n",
    "import os\n",
    "\n",
    "# Necessary command\n",
    "from utils.mining_data_tb import *\n",
    "\n",
    "# matplotlib and seaborn for plotting\n",
    "import matplotlib.pyplot as plt\n",
    "import seaborn as sns\n",
    "%matplotlib inline \n",
    "sns.set(color_codes=True)"
   ]
  },
  {
   "source": [
    "## 2. Load the data into the data frame.\n",
    "#### Loading the data into the pandas data frame is certainly one of the most important steps in EDA. First, we can list all the available data files. There are a total of 5 files. 3 files representing waste management: 1 file with information on waste generation, 1 file on waste disposal, 1 file on emissions produced by waste management. And 2 files to contrast the previous variables: 1 on the Spanish economy (GDP) and 1 on the population. "
   ],
   "cell_type": "markdown",
   "metadata": {}
  },
  {
   "cell_type": "code",
   "execution_count": 3,
   "metadata": {},
   "outputs": [
    {
     "output_type": "stream",
     "name": "stdout",
     "text": [
      "['PIBcorriente_milesdeeuros.xlsx', 'poblacion.xls', 'recogida_residuos.xlsx', 'residuos_gestionados_nuevo.xlsx', 'total contaminantes nacional.xlsx']\n"
     ]
    }
   ],
   "source": [
    "# List files available\n",
    "print(os.listdir(\"../data/\"))\n"
   ]
  },
  {
   "cell_type": "code",
   "execution_count": 4,
   "metadata": {},
   "outputs": [],
   "source": [
    "#data = pd.read_csv('../data/recogida_residuos.xlsx')"
   ]
  },
  {
   "cell_type": "code",
   "execution_count": 5,
   "metadata": {},
   "outputs": [],
   "source": [
    "# Read databases\n",
    "gdp, disposal, population, collection, emissions = read_databases()\n",
    "\n",
    "\n",
    "# Load into dataframes\n",
    "gdp = pd.read_excel(gdp)\n",
    "population = pd.read_excel(population)\n",
    "waste_disposal = pd.read_excel(disposal)\n",
    "waste_collection = pd.read_excel(collection)\n",
    "waste_emissions = pd.read_excel(emissions)\n"
   ]
  },
  {
   "source": [
    "## 3. Basic Data Exploration\n",
    "#### In this step, it will be checked what the datasets are composed.  As they are different databases, they have different formats and types of objects. "
   ],
   "cell_type": "markdown",
   "metadata": {}
  },
  {
   "cell_type": "code",
   "execution_count": 6,
   "metadata": {},
   "outputs": [
    {
     "output_type": "execute_result",
     "data": {
      "text/plain": [
       "       Comunidad Autónoma      2000      2001       2002       2003  \\\n",
       "0               ANDALUCÍA  86568676  93709992  100949639  109668109   \n",
       "1                  ARAGÓN  20071592  21577543   23368239   24975186   \n",
       "2  PRINCIPADO DE ASTURIAS  14305047  15409649   16299205   17208849   \n",
       "\n",
       "        2004       2005       2006       2007       2008       2009  \\\n",
       "0  118493081  128578073  138535591  148025809  151226849  144878289   \n",
       "1   26638692   28663286   31098276   33853480   35141063   33564425   \n",
       "2   18299196   19843031   21562413   23105938   23844408   22541896   \n",
       "\n",
       "        2010       2011       2012       2013       2014       2015  \\\n",
       "0  144752225  143389086  138007226  136048003  137722026  144745569   \n",
       "1   33828995   33368344   31963049   32082809   32289054   32876311   \n",
       "2   22733586   22375426   21364846   20746770   20652899   21372587   \n",
       "\n",
       "        2016       2017       2018  \n",
       "0  148405362  155371755  160711363  \n",
       "1   34214691   35638352   36850296  \n",
       "2   21694246   22592548   23258673  "
      ],
      "text/html": "<div>\n<style scoped>\n    .dataframe tbody tr th:only-of-type {\n        vertical-align: middle;\n    }\n\n    .dataframe tbody tr th {\n        vertical-align: top;\n    }\n\n    .dataframe thead th {\n        text-align: right;\n    }\n</style>\n<table border=\"1\" class=\"dataframe\">\n  <thead>\n    <tr style=\"text-align: right;\">\n      <th></th>\n      <th>Comunidad Autónoma</th>\n      <th>2000</th>\n      <th>2001</th>\n      <th>2002</th>\n      <th>2003</th>\n      <th>2004</th>\n      <th>2005</th>\n      <th>2006</th>\n      <th>2007</th>\n      <th>2008</th>\n      <th>2009</th>\n      <th>2010</th>\n      <th>2011</th>\n      <th>2012</th>\n      <th>2013</th>\n      <th>2014</th>\n      <th>2015</th>\n      <th>2016</th>\n      <th>2017</th>\n      <th>2018</th>\n    </tr>\n  </thead>\n  <tbody>\n    <tr>\n      <th>0</th>\n      <td>ANDALUCÍA</td>\n      <td>86568676</td>\n      <td>93709992</td>\n      <td>100949639</td>\n      <td>109668109</td>\n      <td>118493081</td>\n      <td>128578073</td>\n      <td>138535591</td>\n      <td>148025809</td>\n      <td>151226849</td>\n      <td>144878289</td>\n      <td>144752225</td>\n      <td>143389086</td>\n      <td>138007226</td>\n      <td>136048003</td>\n      <td>137722026</td>\n      <td>144745569</td>\n      <td>148405362</td>\n      <td>155371755</td>\n      <td>160711363</td>\n    </tr>\n    <tr>\n      <th>1</th>\n      <td>ARAGÓN</td>\n      <td>20071592</td>\n      <td>21577543</td>\n      <td>23368239</td>\n      <td>24975186</td>\n      <td>26638692</td>\n      <td>28663286</td>\n      <td>31098276</td>\n      <td>33853480</td>\n      <td>35141063</td>\n      <td>33564425</td>\n      <td>33828995</td>\n      <td>33368344</td>\n      <td>31963049</td>\n      <td>32082809</td>\n      <td>32289054</td>\n      <td>32876311</td>\n      <td>34214691</td>\n      <td>35638352</td>\n      <td>36850296</td>\n    </tr>\n    <tr>\n      <th>2</th>\n      <td>PRINCIPADO DE ASTURIAS</td>\n      <td>14305047</td>\n      <td>15409649</td>\n      <td>16299205</td>\n      <td>17208849</td>\n      <td>18299196</td>\n      <td>19843031</td>\n      <td>21562413</td>\n      <td>23105938</td>\n      <td>23844408</td>\n      <td>22541896</td>\n      <td>22733586</td>\n      <td>22375426</td>\n      <td>21364846</td>\n      <td>20746770</td>\n      <td>20652899</td>\n      <td>21372587</td>\n      <td>21694246</td>\n      <td>22592548</td>\n      <td>23258673</td>\n    </tr>\n  </tbody>\n</table>\n</div>"
     },
     "metadata": {},
     "execution_count": 6
    }
   ],
   "source": [
    "gdp.head(3)"
   ]
  },
  {
   "cell_type": "code",
   "execution_count": 7,
   "metadata": {},
   "outputs": [
    {
     "output_type": "execute_result",
     "data": {
      "text/plain": [
       "       Comunidad Autónoma     2018     2017     2016     2015     2014  \\\n",
       "0               ANDALUCÍA  8384408  8379820  8388107  8399043  8402305   \n",
       "1                  ARAGÓN  1308728  1308750  1308563  1317847  1325385   \n",
       "2  PRINCIPADO DE ASTURIAS  1028244  1034960  1042608  1051229  1061756   \n",
       "\n",
       "      2013     2012     2011     2010  ...     2005     2004     2003  \\\n",
       "0  8440300  8449985  8424102  8370975  ...  7849799  7687518  7606848   \n",
       "1  1347150  1349467  1346293  1347095  ...  1269027  1249584  1230090   \n",
       "2  1068165  1077360  1081487  1084341  ...  1076635  1073761  1075381   \n",
       "\n",
       "      2002     2001     2000     1999     1998  1997     1996  \n",
       "0  7478432  7403968  7340052  7305117  7236459        7234873  \n",
       "1  1217514  1199753  1189909  1186849  1183234        1187546  \n",
       "2  1073971  1075329  1076567  1084314  1081834        1087885  \n",
       "\n",
       "[3 rows x 24 columns]"
      ],
      "text/html": "<div>\n<style scoped>\n    .dataframe tbody tr th:only-of-type {\n        vertical-align: middle;\n    }\n\n    .dataframe tbody tr th {\n        vertical-align: top;\n    }\n\n    .dataframe thead th {\n        text-align: right;\n    }\n</style>\n<table border=\"1\" class=\"dataframe\">\n  <thead>\n    <tr style=\"text-align: right;\">\n      <th></th>\n      <th>Comunidad Autónoma</th>\n      <th>2018</th>\n      <th>2017</th>\n      <th>2016</th>\n      <th>2015</th>\n      <th>2014</th>\n      <th>2013</th>\n      <th>2012</th>\n      <th>2011</th>\n      <th>2010</th>\n      <th>...</th>\n      <th>2005</th>\n      <th>2004</th>\n      <th>2003</th>\n      <th>2002</th>\n      <th>2001</th>\n      <th>2000</th>\n      <th>1999</th>\n      <th>1998</th>\n      <th>1997</th>\n      <th>1996</th>\n    </tr>\n  </thead>\n  <tbody>\n    <tr>\n      <th>0</th>\n      <td>ANDALUCÍA</td>\n      <td>8384408</td>\n      <td>8379820</td>\n      <td>8388107</td>\n      <td>8399043</td>\n      <td>8402305</td>\n      <td>8440300</td>\n      <td>8449985</td>\n      <td>8424102</td>\n      <td>8370975</td>\n      <td>...</td>\n      <td>7849799</td>\n      <td>7687518</td>\n      <td>7606848</td>\n      <td>7478432</td>\n      <td>7403968</td>\n      <td>7340052</td>\n      <td>7305117</td>\n      <td>7236459</td>\n      <td></td>\n      <td>7234873</td>\n    </tr>\n    <tr>\n      <th>1</th>\n      <td>ARAGÓN</td>\n      <td>1308728</td>\n      <td>1308750</td>\n      <td>1308563</td>\n      <td>1317847</td>\n      <td>1325385</td>\n      <td>1347150</td>\n      <td>1349467</td>\n      <td>1346293</td>\n      <td>1347095</td>\n      <td>...</td>\n      <td>1269027</td>\n      <td>1249584</td>\n      <td>1230090</td>\n      <td>1217514</td>\n      <td>1199753</td>\n      <td>1189909</td>\n      <td>1186849</td>\n      <td>1183234</td>\n      <td></td>\n      <td>1187546</td>\n    </tr>\n    <tr>\n      <th>2</th>\n      <td>PRINCIPADO DE ASTURIAS</td>\n      <td>1028244</td>\n      <td>1034960</td>\n      <td>1042608</td>\n      <td>1051229</td>\n      <td>1061756</td>\n      <td>1068165</td>\n      <td>1077360</td>\n      <td>1081487</td>\n      <td>1084341</td>\n      <td>...</td>\n      <td>1076635</td>\n      <td>1073761</td>\n      <td>1075381</td>\n      <td>1073971</td>\n      <td>1075329</td>\n      <td>1076567</td>\n      <td>1084314</td>\n      <td>1081834</td>\n      <td></td>\n      <td>1087885</td>\n    </tr>\n  </tbody>\n</table>\n<p>3 rows × 24 columns</p>\n</div>"
     },
     "metadata": {},
     "execution_count": 7
    }
   ],
   "source": [
    "population.head(3)"
   ]
  },
  {
   "cell_type": "code",
   "execution_count": 8,
   "metadata": {},
   "outputs": [
    {
     "output_type": "execute_result",
     "data": {
      "text/plain": [
       "    Año   Comunidades Autónomas  Reciclado procedente de recogida separada  \\\n",
       "0  2018               Andalucía                                   412818.0   \n",
       "1  2018                  Aragón                                    82418.0   \n",
       "2  2018  Principado de Asturias                                    83728.0   \n",
       "\n",
       "   Materiales recuperados-TMB mezclados  \\\n",
       "0                              166217.0   \n",
       "1                               10209.0   \n",
       "2                                   0.0   \n",
       "\n",
       "   Compostado/Digestion anaerobia de FORS  Compostado/Digestión anaerobia  \\\n",
       "0                                 45572.0                        685734.0   \n",
       "1                                212000.0                         79834.0   \n",
       "2                                  2481.0                             0.0   \n",
       "\n",
       "   Incinerado  Vertido de rechazos  Vertido sin tratamiento previo      Total  \\\n",
       "0         0.0            2404796.0                        599650.0  4314787.0   \n",
       "1         0.0             172831.0                        226741.0   572245.0   \n",
       "2         0.0               4908.0                        390873.0   481990.0   \n",
       "\n",
       "   Unnamed: 10  \n",
       "0          NaN  \n",
       "1          NaN  \n",
       "2          NaN  "
      ],
      "text/html": "<div>\n<style scoped>\n    .dataframe tbody tr th:only-of-type {\n        vertical-align: middle;\n    }\n\n    .dataframe tbody tr th {\n        vertical-align: top;\n    }\n\n    .dataframe thead th {\n        text-align: right;\n    }\n</style>\n<table border=\"1\" class=\"dataframe\">\n  <thead>\n    <tr style=\"text-align: right;\">\n      <th></th>\n      <th>Año</th>\n      <th>Comunidades Autónomas</th>\n      <th>Reciclado procedente de recogida separada</th>\n      <th>Materiales recuperados-TMB mezclados</th>\n      <th>Compostado/Digestion anaerobia de FORS</th>\n      <th>Compostado/Digestión anaerobia</th>\n      <th>Incinerado</th>\n      <th>Vertido de rechazos</th>\n      <th>Vertido sin tratamiento previo</th>\n      <th>Total</th>\n      <th>Unnamed: 10</th>\n    </tr>\n  </thead>\n  <tbody>\n    <tr>\n      <th>0</th>\n      <td>2018</td>\n      <td>Andalucía</td>\n      <td>412818.0</td>\n      <td>166217.0</td>\n      <td>45572.0</td>\n      <td>685734.0</td>\n      <td>0.0</td>\n      <td>2404796.0</td>\n      <td>599650.0</td>\n      <td>4314787.0</td>\n      <td>NaN</td>\n    </tr>\n    <tr>\n      <th>1</th>\n      <td>2018</td>\n      <td>Aragón</td>\n      <td>82418.0</td>\n      <td>10209.0</td>\n      <td>212000.0</td>\n      <td>79834.0</td>\n      <td>0.0</td>\n      <td>172831.0</td>\n      <td>226741.0</td>\n      <td>572245.0</td>\n      <td>NaN</td>\n    </tr>\n    <tr>\n      <th>2</th>\n      <td>2018</td>\n      <td>Principado de Asturias</td>\n      <td>83728.0</td>\n      <td>0.0</td>\n      <td>2481.0</td>\n      <td>0.0</td>\n      <td>0.0</td>\n      <td>4908.0</td>\n      <td>390873.0</td>\n      <td>481990.0</td>\n      <td>NaN</td>\n    </tr>\n  </tbody>\n</table>\n</div>"
     },
     "metadata": {},
     "execution_count": 8
    }
   ],
   "source": [
    "waste_disposal.head(3)"
   ]
  },
  {
   "cell_type": "code",
   "execution_count": 9,
   "metadata": {},
   "outputs": [
    {
     "output_type": "execute_result",
     "data": {
      "text/plain": [
       "                                                                2018  \\\n",
       "0                                                     Total nacional   \n",
       "1  10.1.1 Residuos domésticos y similares (domést...        17611068   \n",
       "2  10.1.2 Residuos domésticos voluminosos mezclad...          673495   \n",
       "\n",
       "      2018.1  2018.2                  2018.3          2018.4    2018.5  \\\n",
       "0  Andalucía  Aragón  Principado de Asturias  ILLES BALEARS   Canarias   \n",
       "1    3755593  475448                  388505          672375   1128714   \n",
       "2     153300   24205                   15404           65140     25440   \n",
       "\n",
       "      2018.6           2018.7                2018.8  ...  \\\n",
       "0  Cantabria  Castilla y León  Castilla - La Mancha  ...   \n",
       "1     246839           915396                849572  ...   \n",
       "2      23336            17151                  9959  ...   \n",
       "\n",
       "                 2010.8    2010.9               2010.10      2010.11  2010.12  \\\n",
       "0  Castilla - La Mancha  Cataluña  Comunitat Valenciana  Extremadura  Galicia   \n",
       "1                968613   2441711               1869060       491529  1002349   \n",
       "2                 31588     77627                 59550        16706    23130   \n",
       "\n",
       "               2010.13           2010.14                     2010.15  \\\n",
       "0  Comunidad de Madrid  Región de Murcia  Comunidad Foral de Navarra   \n",
       "1              2108673            711540                      185635   \n",
       "2                66879             15924                       10709   \n",
       "\n",
       "      2010.16    2010.17  \n",
       "0  País Vasco  LA RIOJA   \n",
       "1      694220     111409  \n",
       "2       24083       1276  \n",
       "\n",
       "[3 rows x 163 columns]"
      ],
      "text/html": "<div>\n<style scoped>\n    .dataframe tbody tr th:only-of-type {\n        vertical-align: middle;\n    }\n\n    .dataframe tbody tr th {\n        vertical-align: top;\n    }\n\n    .dataframe thead th {\n        text-align: right;\n    }\n</style>\n<table border=\"1\" class=\"dataframe\">\n  <thead>\n    <tr style=\"text-align: right;\">\n      <th></th>\n      <th></th>\n      <th>2018</th>\n      <th>2018.1</th>\n      <th>2018.2</th>\n      <th>2018.3</th>\n      <th>2018.4</th>\n      <th>2018.5</th>\n      <th>2018.6</th>\n      <th>2018.7</th>\n      <th>2018.8</th>\n      <th>...</th>\n      <th>2010.8</th>\n      <th>2010.9</th>\n      <th>2010.10</th>\n      <th>2010.11</th>\n      <th>2010.12</th>\n      <th>2010.13</th>\n      <th>2010.14</th>\n      <th>2010.15</th>\n      <th>2010.16</th>\n      <th>2010.17</th>\n    </tr>\n  </thead>\n  <tbody>\n    <tr>\n      <th>0</th>\n      <td></td>\n      <td>Total nacional</td>\n      <td>Andalucía</td>\n      <td>Aragón</td>\n      <td>Principado de Asturias</td>\n      <td>ILLES BALEARS</td>\n      <td>Canarias</td>\n      <td>Cantabria</td>\n      <td>Castilla y León</td>\n      <td>Castilla - La Mancha</td>\n      <td>...</td>\n      <td>Castilla - La Mancha</td>\n      <td>Cataluña</td>\n      <td>Comunitat Valenciana</td>\n      <td>Extremadura</td>\n      <td>Galicia</td>\n      <td>Comunidad de Madrid</td>\n      <td>Región de Murcia</td>\n      <td>Comunidad Foral de Navarra</td>\n      <td>País Vasco</td>\n      <td>LA RIOJA</td>\n    </tr>\n    <tr>\n      <th>1</th>\n      <td>10.1.1 Residuos domésticos y similares (domést...</td>\n      <td>17611068</td>\n      <td>3755593</td>\n      <td>475448</td>\n      <td>388505</td>\n      <td>672375</td>\n      <td>1128714</td>\n      <td>246839</td>\n      <td>915396</td>\n      <td>849572</td>\n      <td>...</td>\n      <td>968613</td>\n      <td>2441711</td>\n      <td>1869060</td>\n      <td>491529</td>\n      <td>1002349</td>\n      <td>2108673</td>\n      <td>711540</td>\n      <td>185635</td>\n      <td>694220</td>\n      <td>111409</td>\n    </tr>\n    <tr>\n      <th>2</th>\n      <td>10.1.2 Residuos domésticos voluminosos mezclad...</td>\n      <td>673495</td>\n      <td>153300</td>\n      <td>24205</td>\n      <td>15404</td>\n      <td>65140</td>\n      <td>25440</td>\n      <td>23336</td>\n      <td>17151</td>\n      <td>9959</td>\n      <td>...</td>\n      <td>31588</td>\n      <td>77627</td>\n      <td>59550</td>\n      <td>16706</td>\n      <td>23130</td>\n      <td>66879</td>\n      <td>15924</td>\n      <td>10709</td>\n      <td>24083</td>\n      <td>1276</td>\n    </tr>\n  </tbody>\n</table>\n<p>3 rows × 163 columns</p>\n</div>"
     },
     "metadata": {},
     "execution_count": 9
    }
   ],
   "source": [
    "waste_collection.head(3)"
   ]
  },
  {
   "cell_type": "code",
   "execution_count": 10,
   "metadata": {},
   "outputs": [
    {
     "output_type": "execute_result",
     "data": {
      "text/plain": [
       "   ANNO   SECTOR ACTIVIDAD                                        DESCRIPCION  \\\n",
       "0  2010  J_Waste        5A  Biological treatment of waste - Solid waste di...   \n",
       "1  2010  J_Waste       5B1         Biological treatment of waste - Composting   \n",
       "2  2010  J_Waste       5B2  Biological treatment of waste - Anaerobic dige...   \n",
       "\n",
       "        NO2     NMVOC  SOX       NH3     PM2_5      PM10  ...  DIOX  BEN_A_PI  \\\n",
       "0  0.012060  4.255421  0.0  0.000000  0.005535  0.008467  ...   0.0       0.0   \n",
       "1  0.000000  0.000000  0.0  1.087810  0.000000  0.000000  ...   0.0       0.0   \n",
       "2  0.001835  0.000000  0.0  0.085614  0.000763  0.000763  ...   0.0       0.0   \n",
       "\n",
       "   BEN_B_FL  BEN_K_FL  INDENO  PAH  HCB  PCB  Unnamed: 30  Unnamed: 31  \n",
       "0       0.0       0.0     0.0  0.0  0.0  0.0          NaN          NaN  \n",
       "1       0.0       0.0     0.0  0.0  0.0  0.0          NaN          NaN  \n",
       "2       0.0       0.0     0.0  0.0  0.0  0.0          NaN          NaN  \n",
       "\n",
       "[3 rows x 32 columns]"
      ],
      "text/html": "<div>\n<style scoped>\n    .dataframe tbody tr th:only-of-type {\n        vertical-align: middle;\n    }\n\n    .dataframe tbody tr th {\n        vertical-align: top;\n    }\n\n    .dataframe thead th {\n        text-align: right;\n    }\n</style>\n<table border=\"1\" class=\"dataframe\">\n  <thead>\n    <tr style=\"text-align: right;\">\n      <th></th>\n      <th>ANNO</th>\n      <th>SECTOR</th>\n      <th>ACTIVIDAD</th>\n      <th>DESCRIPCION</th>\n      <th>NO2</th>\n      <th>NMVOC</th>\n      <th>SOX</th>\n      <th>NH3</th>\n      <th>PM2_5</th>\n      <th>PM10</th>\n      <th>...</th>\n      <th>DIOX</th>\n      <th>BEN_A_PI</th>\n      <th>BEN_B_FL</th>\n      <th>BEN_K_FL</th>\n      <th>INDENO</th>\n      <th>PAH</th>\n      <th>HCB</th>\n      <th>PCB</th>\n      <th>Unnamed: 30</th>\n      <th>Unnamed: 31</th>\n    </tr>\n  </thead>\n  <tbody>\n    <tr>\n      <th>0</th>\n      <td>2010</td>\n      <td>J_Waste</td>\n      <td>5A</td>\n      <td>Biological treatment of waste - Solid waste di...</td>\n      <td>0.012060</td>\n      <td>4.255421</td>\n      <td>0.0</td>\n      <td>0.000000</td>\n      <td>0.005535</td>\n      <td>0.008467</td>\n      <td>...</td>\n      <td>0.0</td>\n      <td>0.0</td>\n      <td>0.0</td>\n      <td>0.0</td>\n      <td>0.0</td>\n      <td>0.0</td>\n      <td>0.0</td>\n      <td>0.0</td>\n      <td>NaN</td>\n      <td>NaN</td>\n    </tr>\n    <tr>\n      <th>1</th>\n      <td>2010</td>\n      <td>J_Waste</td>\n      <td>5B1</td>\n      <td>Biological treatment of waste - Composting</td>\n      <td>0.000000</td>\n      <td>0.000000</td>\n      <td>0.0</td>\n      <td>1.087810</td>\n      <td>0.000000</td>\n      <td>0.000000</td>\n      <td>...</td>\n      <td>0.0</td>\n      <td>0.0</td>\n      <td>0.0</td>\n      <td>0.0</td>\n      <td>0.0</td>\n      <td>0.0</td>\n      <td>0.0</td>\n      <td>0.0</td>\n      <td>NaN</td>\n      <td>NaN</td>\n    </tr>\n    <tr>\n      <th>2</th>\n      <td>2010</td>\n      <td>J_Waste</td>\n      <td>5B2</td>\n      <td>Biological treatment of waste - Anaerobic dige...</td>\n      <td>0.001835</td>\n      <td>0.000000</td>\n      <td>0.0</td>\n      <td>0.085614</td>\n      <td>0.000763</td>\n      <td>0.000763</td>\n      <td>...</td>\n      <td>0.0</td>\n      <td>0.0</td>\n      <td>0.0</td>\n      <td>0.0</td>\n      <td>0.0</td>\n      <td>0.0</td>\n      <td>0.0</td>\n      <td>0.0</td>\n      <td>NaN</td>\n      <td>NaN</td>\n    </tr>\n  </tbody>\n</table>\n<p>3 rows × 32 columns</p>\n</div>"
     },
     "metadata": {},
     "execution_count": 10
    }
   ],
   "source": [
    "waste_emissions.head(3)"
   ]
  },
  {
   "source": [
    "## 4. Data Cleaning\n",
    "#### After completing the Data Sourcing, the next step in the process of EDA is Data Cleaning. It is very important to get rid of the irregularities and clean the data after sourcing it into system.\n",
    "#### For the development of this project, a database cleaning is carried out independently or following patterns in databases with a similar format. To subsequently join the 5 databases.\n",
    "#### * Missing Values\n",
    "#### * Incorrect Format\n",
    "#### * Incorrect Headers\n",
    "#### * Anomalies"
   ],
   "cell_type": "markdown",
   "metadata": {}
  },
  {
   "source": [
    "#### 4.1. \n",
    "##### For this database, it has been decided to place the years and the autonomous communities as rows, and the waste management variables will be placed as columns. The first difference is observed in the GDP and population databases. We proceed to eliminate the years that are not going to be considered in the analysis and to invert the shapes of the bases, to bring them closer to the desired format."
   ],
   "cell_type": "markdown",
   "metadata": {}
  },
  {
   "cell_type": "code",
   "execution_count": 11,
   "metadata": {},
   "outputs": [],
   "source": [
    "# Melt row into column\n",
    "gdp, population = melt_data(gdp, population)"
   ]
  },
  {
   "cell_type": "code",
   "execution_count": 12,
   "metadata": {},
   "outputs": [
    {
     "output_type": "execute_result",
     "data": {
      "text/plain": [
       "    Comunidad Autónoma   Año        PIB\n",
       "0            ANDALUCÍA  2010  144752225\n",
       "160          ANDALUCÍA  2018  160711363\n",
       "120          ANDALUCÍA  2016  148405362"
      ],
      "text/html": "<div>\n<style scoped>\n    .dataframe tbody tr th:only-of-type {\n        vertical-align: middle;\n    }\n\n    .dataframe tbody tr th {\n        vertical-align: top;\n    }\n\n    .dataframe thead th {\n        text-align: right;\n    }\n</style>\n<table border=\"1\" class=\"dataframe\">\n  <thead>\n    <tr style=\"text-align: right;\">\n      <th></th>\n      <th>Comunidad Autónoma</th>\n      <th>Año</th>\n      <th>PIB</th>\n    </tr>\n  </thead>\n  <tbody>\n    <tr>\n      <th>0</th>\n      <td>ANDALUCÍA</td>\n      <td>2010</td>\n      <td>144752225</td>\n    </tr>\n    <tr>\n      <th>160</th>\n      <td>ANDALUCÍA</td>\n      <td>2018</td>\n      <td>160711363</td>\n    </tr>\n    <tr>\n      <th>120</th>\n      <td>ANDALUCÍA</td>\n      <td>2016</td>\n      <td>148405362</td>\n    </tr>\n  </tbody>\n</table>\n</div>"
     },
     "metadata": {},
     "execution_count": 12
    }
   ],
   "source": [
    "\n",
    "gdp.head(3)"
   ]
  },
  {
   "cell_type": "code",
   "execution_count": 13,
   "metadata": {},
   "outputs": [
    {
     "output_type": "execute_result",
     "data": {
      "text/plain": [
       "    Comunidad Autónoma   Año  Poblacion\n",
       "0            ANDALUCÍA  2010    8370975\n",
       "160          ANDALUCÍA  2018    8384408\n",
       "120          ANDALUCÍA  2016    8388107"
      ],
      "text/html": "<div>\n<style scoped>\n    .dataframe tbody tr th:only-of-type {\n        vertical-align: middle;\n    }\n\n    .dataframe tbody tr th {\n        vertical-align: top;\n    }\n\n    .dataframe thead th {\n        text-align: right;\n    }\n</style>\n<table border=\"1\" class=\"dataframe\">\n  <thead>\n    <tr style=\"text-align: right;\">\n      <th></th>\n      <th>Comunidad Autónoma</th>\n      <th>Año</th>\n      <th>Poblacion</th>\n    </tr>\n  </thead>\n  <tbody>\n    <tr>\n      <th>0</th>\n      <td>ANDALUCÍA</td>\n      <td>2010</td>\n      <td>8370975</td>\n    </tr>\n    <tr>\n      <th>160</th>\n      <td>ANDALUCÍA</td>\n      <td>2018</td>\n      <td>8384408</td>\n    </tr>\n    <tr>\n      <th>120</th>\n      <td>ANDALUCÍA</td>\n      <td>2016</td>\n      <td>8388107</td>\n    </tr>\n  </tbody>\n</table>\n</div>"
     },
     "metadata": {},
     "execution_count": 13
    }
   ],
   "source": [
    "population.head(3)"
   ]
  },
  {
   "source": [
    "#### 4.2 WASTE COLLECTION & DISPOSAL\n",
    "##### It has been observed that both the collection and the disposal base have a similar format, therefore a similar cleaning function is applied for both."
   ],
   "cell_type": "markdown",
   "metadata": {}
  },
  {
   "cell_type": "code",
   "execution_count": 14,
   "metadata": {},
   "outputs": [
    {
     "output_type": "execute_result",
     "data": {
      "text/plain": [
       "    Año Comunidad Autónoma  Recoleccion-domésticos y vias  \\\n",
       "0  2018     TOTAL NACIONAL                       17611068   \n",
       "1  2018          ANDALUCÍA                        3755593   \n",
       "2  2018             ARAGÓN                         475448   \n",
       "\n",
       "   Recoleccion-voluminosos  Recoleccion-metálicos  Recoleccion-vidrio  \\\n",
       "0                   673495                  27875              834764   \n",
       "1                   153300                   1600              108768   \n",
       "2                    24205                    324               18939   \n",
       "\n",
       "   Recoleccion-papel y carton  Recoleccion-plasticos  Recoleccion-madera  \\\n",
       "0                     1067384                  24050              136153   \n",
       "1                      117131                   1677               12520   \n",
       "2                       28910                    251                3276   \n",
       "\n",
       "   Recoleccion-textiles  Recoleccion-eq. electricos  Recoleccion-pilas  \\\n",
       "0                 40344                       58733               1890   \n",
       "1                  3269                        5036                108   \n",
       "2                   571                        1226                 12   \n",
       "\n",
       "   Recoleccion-animales  Recoleccion-Envases mixtos  lodos  \\\n",
       "0               1010016                      743556      0   \n",
       "1                 92395                       94281      0   \n",
       "2                  8503                       19142      0   \n",
       "\n",
       "   Recoleccion-construccion  Recoleccion-otros  TOTAL RESIDUOS MEZCLADOS  \\\n",
       "0                    472548               1891                  18284563   \n",
       "1                     81204                374                   3908893   \n",
       "2                     69649                  2                    499653   \n",
       "\n",
       "   TOTAL RESIDUOS DE RECOGIDA SEPARADA  TOTAL RESIDUOS  \n",
       "0                              4419204        22703767  \n",
       "1                               518363         4427256  \n",
       "2                               150805          650458  "
      ],
      "text/html": "<div>\n<style scoped>\n    .dataframe tbody tr th:only-of-type {\n        vertical-align: middle;\n    }\n\n    .dataframe tbody tr th {\n        vertical-align: top;\n    }\n\n    .dataframe thead th {\n        text-align: right;\n    }\n</style>\n<table border=\"1\" class=\"dataframe\">\n  <thead>\n    <tr style=\"text-align: right;\">\n      <th></th>\n      <th>Año</th>\n      <th>Comunidad Autónoma</th>\n      <th>Recoleccion-domésticos y vias</th>\n      <th>Recoleccion-voluminosos</th>\n      <th>Recoleccion-metálicos</th>\n      <th>Recoleccion-vidrio</th>\n      <th>Recoleccion-papel y carton</th>\n      <th>Recoleccion-plasticos</th>\n      <th>Recoleccion-madera</th>\n      <th>Recoleccion-textiles</th>\n      <th>Recoleccion-eq. electricos</th>\n      <th>Recoleccion-pilas</th>\n      <th>Recoleccion-animales</th>\n      <th>Recoleccion-Envases mixtos</th>\n      <th>lodos</th>\n      <th>Recoleccion-construccion</th>\n      <th>Recoleccion-otros</th>\n      <th>TOTAL RESIDUOS MEZCLADOS</th>\n      <th>TOTAL RESIDUOS DE RECOGIDA SEPARADA</th>\n      <th>TOTAL RESIDUOS</th>\n    </tr>\n  </thead>\n  <tbody>\n    <tr>\n      <th>0</th>\n      <td>2018</td>\n      <td>TOTAL NACIONAL</td>\n      <td>17611068</td>\n      <td>673495</td>\n      <td>27875</td>\n      <td>834764</td>\n      <td>1067384</td>\n      <td>24050</td>\n      <td>136153</td>\n      <td>40344</td>\n      <td>58733</td>\n      <td>1890</td>\n      <td>1010016</td>\n      <td>743556</td>\n      <td>0</td>\n      <td>472548</td>\n      <td>1891</td>\n      <td>18284563</td>\n      <td>4419204</td>\n      <td>22703767</td>\n    </tr>\n    <tr>\n      <th>1</th>\n      <td>2018</td>\n      <td>ANDALUCÍA</td>\n      <td>3755593</td>\n      <td>153300</td>\n      <td>1600</td>\n      <td>108768</td>\n      <td>117131</td>\n      <td>1677</td>\n      <td>12520</td>\n      <td>3269</td>\n      <td>5036</td>\n      <td>108</td>\n      <td>92395</td>\n      <td>94281</td>\n      <td>0</td>\n      <td>81204</td>\n      <td>374</td>\n      <td>3908893</td>\n      <td>518363</td>\n      <td>4427256</td>\n    </tr>\n    <tr>\n      <th>2</th>\n      <td>2018</td>\n      <td>ARAGÓN</td>\n      <td>475448</td>\n      <td>24205</td>\n      <td>324</td>\n      <td>18939</td>\n      <td>28910</td>\n      <td>251</td>\n      <td>3276</td>\n      <td>571</td>\n      <td>1226</td>\n      <td>12</td>\n      <td>8503</td>\n      <td>19142</td>\n      <td>0</td>\n      <td>69649</td>\n      <td>2</td>\n      <td>499653</td>\n      <td>150805</td>\n      <td>650458</td>\n    </tr>\n  </tbody>\n</table>\n</div>"
     },
     "metadata": {},
     "execution_count": 14
    }
   ],
   "source": [
    "## WASTE COLLECTION DATA BASE CLEANED \n",
    "waste_collection = clean_collection(waste_collection)\n",
    "waste_collection.head(3)"
   ]
  },
  {
   "cell_type": "code",
   "execution_count": 15,
   "metadata": {},
   "outputs": [
    {
     "output_type": "execute_result",
     "data": {
      "text/plain": [
       "    Año      Comunidad Autónoma  Reciclado procedente de recogida separada  \\\n",
       "0  2018               ANDALUCÍA                                   412818.0   \n",
       "1  2018                  ARAGÓN                                    82418.0   \n",
       "2  2018  PRINCIPADO DE ASTURIAS                                    83728.0   \n",
       "\n",
       "   Materiales recuperados-TMB mezclados  \\\n",
       "0                              166217.0   \n",
       "1                               10209.0   \n",
       "2                                   0.0   \n",
       "\n",
       "   Compostado/Digestion anaerobia de FORS  Compostado/Digestión anaerobia  \\\n",
       "0                                 45572.0                        685734.0   \n",
       "1                                212000.0                         79834.0   \n",
       "2                                  2481.0                             0.0   \n",
       "\n",
       "   Incinerado  Vertido de rechazos  Vertido sin tratamiento previo      Total  \n",
       "0         0.0            2404796.0                        599650.0  4314787.0  \n",
       "1         0.0             172831.0                        226741.0   572245.0  \n",
       "2         0.0               4908.0                        390873.0   481990.0  "
      ],
      "text/html": "<div>\n<style scoped>\n    .dataframe tbody tr th:only-of-type {\n        vertical-align: middle;\n    }\n\n    .dataframe tbody tr th {\n        vertical-align: top;\n    }\n\n    .dataframe thead th {\n        text-align: right;\n    }\n</style>\n<table border=\"1\" class=\"dataframe\">\n  <thead>\n    <tr style=\"text-align: right;\">\n      <th></th>\n      <th>Año</th>\n      <th>Comunidad Autónoma</th>\n      <th>Reciclado procedente de recogida separada</th>\n      <th>Materiales recuperados-TMB mezclados</th>\n      <th>Compostado/Digestion anaerobia de FORS</th>\n      <th>Compostado/Digestión anaerobia</th>\n      <th>Incinerado</th>\n      <th>Vertido de rechazos</th>\n      <th>Vertido sin tratamiento previo</th>\n      <th>Total</th>\n    </tr>\n  </thead>\n  <tbody>\n    <tr>\n      <th>0</th>\n      <td>2018</td>\n      <td>ANDALUCÍA</td>\n      <td>412818.0</td>\n      <td>166217.0</td>\n      <td>45572.0</td>\n      <td>685734.0</td>\n      <td>0.0</td>\n      <td>2404796.0</td>\n      <td>599650.0</td>\n      <td>4314787.0</td>\n    </tr>\n    <tr>\n      <th>1</th>\n      <td>2018</td>\n      <td>ARAGÓN</td>\n      <td>82418.0</td>\n      <td>10209.0</td>\n      <td>212000.0</td>\n      <td>79834.0</td>\n      <td>0.0</td>\n      <td>172831.0</td>\n      <td>226741.0</td>\n      <td>572245.0</td>\n    </tr>\n    <tr>\n      <th>2</th>\n      <td>2018</td>\n      <td>PRINCIPADO DE ASTURIAS</td>\n      <td>83728.0</td>\n      <td>0.0</td>\n      <td>2481.0</td>\n      <td>0.0</td>\n      <td>0.0</td>\n      <td>4908.0</td>\n      <td>390873.0</td>\n      <td>481990.0</td>\n    </tr>\n  </tbody>\n</table>\n</div>"
     },
     "metadata": {},
     "execution_count": 15
    }
   ],
   "source": [
    "## WASTE DISPOSAL DATA BASE CLEANED\n",
    "waste_disposal = clean_disposal(waste_disposal)\n",
    "waste_disposal.head(3)\n"
   ]
  },
  {
   "source": [
    "#### 4.3. WASTE EMISSIONS DATA BASE CLEANED \n",
    "##### For this database, no disaggregated information on pollutants by Autonomous Community has been found. However, to obtain the amount of pollution that has been produced by waste management, this information has been retained, which, when joined to the general database, will be NaN.\n",
    "\n"
   ],
   "cell_type": "markdown",
   "metadata": {}
  },
  {
   "cell_type": "code",
   "execution_count": 16,
   "metadata": {},
   "outputs": [
    {
     "output_type": "execute_result",
     "data": {
      "text/plain": [
       "DESCRIPCION  Biological treatment of waste - Anaerobic digestion at biogas facilities  \\\n",
       "0                                                         0.12                          \n",
       "1                                                         0.19                          \n",
       "2                                                         0.25                          \n",
       "\n",
       "DESCRIPCION  Biological treatment of waste - Composting  \\\n",
       "0                                                  1.09   \n",
       "1                                                  1.03   \n",
       "2                                                  0.99   \n",
       "\n",
       "DESCRIPCION  Biological treatment of waste - Solid waste disposal on land  \\\n",
       "0                                                         4.52              \n",
       "1                                                         4.76              \n",
       "2                                                         4.74              \n",
       "\n",
       "DESCRIPCION  Clinical waste incineration  Cremation  \\\n",
       "0                                    0.0       0.32   \n",
       "1                                    0.0       0.34   \n",
       "2                                    0.0       0.38   \n",
       "\n",
       "DESCRIPCION  Domestic wastewater handling  Hazardous waste incineration  \\\n",
       "0                                    0.31                           0.0   \n",
       "1                                    0.23                           0.0   \n",
       "2                                    0.22                           0.0   \n",
       "\n",
       "DESCRIPCION  Industrial waste incineration  Industrial wastewater handling  \\\n",
       "0                                      0.0                            0.09   \n",
       "1                                      0.0                            0.09   \n",
       "2                                      0.0                            0.08   \n",
       "\n",
       "DESCRIPCION  Municipal waste incineration  Open burning of waste  \\\n",
       "0                                     0.0                 792.33   \n",
       "1                                     0.0                 826.90   \n",
       "2                                     0.0                 542.86   \n",
       "\n",
       "DESCRIPCION  Other waste (please specify in IIR)  \\\n",
       "0                                          16.23   \n",
       "1                                          19.80   \n",
       "2                                          18.72   \n",
       "\n",
       "DESCRIPCION  Other waste incineration (please specify in the IIR)  \\\n",
       "0                                                          0.0      \n",
       "1                                                          0.0      \n",
       "2                                                          0.0      \n",
       "\n",
       "DESCRIPCION  Other wastewater handling  Sewage sludge incineration   Año  \n",
       "0                                 1.49                       13.14  2010  \n",
       "1                                 1.45                       13.03  2011  \n",
       "2                                 0.67                       15.78  2012  "
      ],
      "text/html": "<div>\n<style scoped>\n    .dataframe tbody tr th:only-of-type {\n        vertical-align: middle;\n    }\n\n    .dataframe tbody tr th {\n        vertical-align: top;\n    }\n\n    .dataframe thead th {\n        text-align: right;\n    }\n</style>\n<table border=\"1\" class=\"dataframe\">\n  <thead>\n    <tr style=\"text-align: right;\">\n      <th>DESCRIPCION</th>\n      <th>Biological treatment of waste - Anaerobic digestion at biogas facilities</th>\n      <th>Biological treatment of waste - Composting</th>\n      <th>Biological treatment of waste - Solid waste disposal on land</th>\n      <th>Clinical waste incineration</th>\n      <th>Cremation</th>\n      <th>Domestic wastewater handling</th>\n      <th>Hazardous waste incineration</th>\n      <th>Industrial waste incineration</th>\n      <th>Industrial wastewater handling</th>\n      <th>Municipal waste incineration</th>\n      <th>Open burning of waste</th>\n      <th>Other waste (please specify in IIR)</th>\n      <th>Other waste incineration (please specify in the IIR)</th>\n      <th>Other wastewater handling</th>\n      <th>Sewage sludge incineration</th>\n      <th>Año</th>\n    </tr>\n  </thead>\n  <tbody>\n    <tr>\n      <th>0</th>\n      <td>0.12</td>\n      <td>1.09</td>\n      <td>4.52</td>\n      <td>0.0</td>\n      <td>0.32</td>\n      <td>0.31</td>\n      <td>0.0</td>\n      <td>0.0</td>\n      <td>0.09</td>\n      <td>0.0</td>\n      <td>792.33</td>\n      <td>16.23</td>\n      <td>0.0</td>\n      <td>1.49</td>\n      <td>13.14</td>\n      <td>2010</td>\n    </tr>\n    <tr>\n      <th>1</th>\n      <td>0.19</td>\n      <td>1.03</td>\n      <td>4.76</td>\n      <td>0.0</td>\n      <td>0.34</td>\n      <td>0.23</td>\n      <td>0.0</td>\n      <td>0.0</td>\n      <td>0.09</td>\n      <td>0.0</td>\n      <td>826.90</td>\n      <td>19.80</td>\n      <td>0.0</td>\n      <td>1.45</td>\n      <td>13.03</td>\n      <td>2011</td>\n    </tr>\n    <tr>\n      <th>2</th>\n      <td>0.25</td>\n      <td>0.99</td>\n      <td>4.74</td>\n      <td>0.0</td>\n      <td>0.38</td>\n      <td>0.22</td>\n      <td>0.0</td>\n      <td>0.0</td>\n      <td>0.08</td>\n      <td>0.0</td>\n      <td>542.86</td>\n      <td>18.72</td>\n      <td>0.0</td>\n      <td>0.67</td>\n      <td>15.78</td>\n      <td>2012</td>\n    </tr>\n  </tbody>\n</table>\n</div>"
     },
     "metadata": {},
     "execution_count": 16
    }
   ],
   "source": [
    "waste_emissions = clean_emissions(waste_emissions)\n",
    "waste_emissions.head(3)"
   ]
  },
  {
   "source": [
    "#### 4.4 DATABASES MERGE\n",
    "#### After the different databases have been adapted to a similar format, they are merged into a single database that will be used for the exploratory analysis."
   ],
   "cell_type": "markdown",
   "metadata": {}
  },
  {
   "cell_type": "code",
   "execution_count": 17,
   "metadata": {},
   "outputs": [
    {
     "output_type": "execute_result",
     "data": {
      "text/plain": [
       "         Comunidad Autónoma   Año           PIB   Poblacion  GDP per capita  \\\n",
       "0                 ANDALUCÍA  2010  1.447522e+08   8370975.0        17292.16   \n",
       "1                    ARAGÓN  2010  3.382900e+07   1347095.0        25112.55   \n",
       "2                  CANARIAS  2010  4.081148e+07   2118519.0        19264.16   \n",
       "3                 CANTABRIA  2010  1.283668e+07    592250.0        21674.44   \n",
       "4      CASTILLA - LA MANCHA  2010  3.870683e+07   2098373.0        18446.11   \n",
       "..                      ...   ...           ...         ...             ...   \n",
       "175                 MELILLA  2015  1.461285e+06     85584.0        17074.28   \n",
       "176              PAÍS VASCO  2015  6.498999e+07   2189257.0        29685.87   \n",
       "177  PRINCIPADO DE ASTURIAS  2015  2.137259e+07   1051229.0        20331.05   \n",
       "178        REGIÓN DE MURCIA  2015  2.849208e+07   1467288.0        19418.19   \n",
       "179          TOTAL NACIONAL  2015  1.077590e+09  46624382.0        23112.16   \n",
       "\n",
       "     Recoleccion-domésticos y vias  Recoleccion-voluminosos  \\\n",
       "0                        4213174.0                 155836.0   \n",
       "1                         479442.0                  14003.0   \n",
       "2                        1220612.0                  30371.0   \n",
       "3                         259965.0                   8153.0   \n",
       "4                         968613.0                  31588.0   \n",
       "..                             ...                      ...   \n",
       "175                            NaN                      NaN   \n",
       "176                       659754.0                   8447.0   \n",
       "177                       388188.0                  15971.0   \n",
       "178                       589409.0                  11306.0   \n",
       "179                     17106176.0                 647373.0   \n",
       "\n",
       "     Recoleccion-metálicos  Recoleccion-vidrio  Recoleccion-papel y carton  \\\n",
       "0                  11203.0             82031.0                    136017.0   \n",
       "1                   1105.0             23203.0                     31964.0   \n",
       "2                   1953.0             27221.0                     69027.0   \n",
       "3                   1005.0             10547.0                     13826.0   \n",
       "4                  11221.0             20887.0                     36202.0   \n",
       "..                     ...                 ...                         ...   \n",
       "175                    NaN                 NaN                         NaN   \n",
       "176                  430.0             58948.0                    117879.0   \n",
       "177                  750.0             33197.0                     56253.0   \n",
       "178                  194.0             23450.0                     13814.0   \n",
       "179                22430.0            755608.0                   1008959.0   \n",
       "\n",
       "     ...  Domestic wastewater handling  Hazardous waste incineration  \\\n",
       "0    ...                          0.31                           0.0   \n",
       "1    ...                          0.31                           0.0   \n",
       "2    ...                          0.31                           0.0   \n",
       "3    ...                          0.31                           0.0   \n",
       "4    ...                          0.31                           0.0   \n",
       "..   ...                           ...                           ...   \n",
       "175  ...                          0.22                           0.0   \n",
       "176  ...                          0.22                           0.0   \n",
       "177  ...                          0.22                           0.0   \n",
       "178  ...                          0.22                           0.0   \n",
       "179  ...                          0.22                           0.0   \n",
       "\n",
       "     Industrial waste incineration  Industrial wastewater handling  \\\n",
       "0                              0.0                            0.09   \n",
       "1                              0.0                            0.09   \n",
       "2                              0.0                            0.09   \n",
       "3                              0.0                            0.09   \n",
       "4                              0.0                            0.09   \n",
       "..                             ...                             ...   \n",
       "175                            0.0                            0.09   \n",
       "176                            0.0                            0.09   \n",
       "177                            0.0                            0.09   \n",
       "178                            0.0                            0.09   \n",
       "179                            0.0                            0.09   \n",
       "\n",
       "     Municipal waste incineration  Open burning of waste  \\\n",
       "0                             0.0                 792.33   \n",
       "1                             0.0                 792.33   \n",
       "2                             0.0                 792.33   \n",
       "3                             0.0                 792.33   \n",
       "4                             0.0                 792.33   \n",
       "..                            ...                    ...   \n",
       "175                           0.0                 797.12   \n",
       "176                           0.0                 797.12   \n",
       "177                           0.0                 797.12   \n",
       "178                           0.0                 797.12   \n",
       "179                           0.0                 797.12   \n",
       "\n",
       "     Other waste (please specify in IIR)  \\\n",
       "0                                  16.23   \n",
       "1                                  16.23   \n",
       "2                                  16.23   \n",
       "3                                  16.23   \n",
       "4                                  16.23   \n",
       "..                                   ...   \n",
       "175                                17.37   \n",
       "176                                17.37   \n",
       "177                                17.37   \n",
       "178                                17.37   \n",
       "179                                17.37   \n",
       "\n",
       "     Other waste incineration (please specify in the IIR)  \\\n",
       "0                                                  0.0      \n",
       "1                                                  0.0      \n",
       "2                                                  0.0      \n",
       "3                                                  0.0      \n",
       "4                                                  0.0      \n",
       "..                                                 ...      \n",
       "175                                                0.0      \n",
       "176                                                0.0      \n",
       "177                                                0.0      \n",
       "178                                                0.0      \n",
       "179                                                0.0      \n",
       "\n",
       "     Other wastewater handling  Sewage sludge incineration  \n",
       "0                         1.49                       13.14  \n",
       "1                         1.49                       13.14  \n",
       "2                         1.49                       13.14  \n",
       "3                         1.49                       13.14  \n",
       "4                         1.49                       13.14  \n",
       "..                         ...                         ...  \n",
       "175                       2.08                       11.58  \n",
       "176                       2.08                       11.58  \n",
       "177                       2.08                       11.58  \n",
       "178                       2.08                       11.58  \n",
       "179                       2.08                       11.58  \n",
       "\n",
       "[180 rows x 46 columns]"
      ],
      "text/html": "<div>\n<style scoped>\n    .dataframe tbody tr th:only-of-type {\n        vertical-align: middle;\n    }\n\n    .dataframe tbody tr th {\n        vertical-align: top;\n    }\n\n    .dataframe thead th {\n        text-align: right;\n    }\n</style>\n<table border=\"1\" class=\"dataframe\">\n  <thead>\n    <tr style=\"text-align: right;\">\n      <th></th>\n      <th>Comunidad Autónoma</th>\n      <th>Año</th>\n      <th>PIB</th>\n      <th>Poblacion</th>\n      <th>GDP per capita</th>\n      <th>Recoleccion-domésticos y vias</th>\n      <th>Recoleccion-voluminosos</th>\n      <th>Recoleccion-metálicos</th>\n      <th>Recoleccion-vidrio</th>\n      <th>Recoleccion-papel y carton</th>\n      <th>...</th>\n      <th>Domestic wastewater handling</th>\n      <th>Hazardous waste incineration</th>\n      <th>Industrial waste incineration</th>\n      <th>Industrial wastewater handling</th>\n      <th>Municipal waste incineration</th>\n      <th>Open burning of waste</th>\n      <th>Other waste (please specify in IIR)</th>\n      <th>Other waste incineration (please specify in the IIR)</th>\n      <th>Other wastewater handling</th>\n      <th>Sewage sludge incineration</th>\n    </tr>\n  </thead>\n  <tbody>\n    <tr>\n      <th>0</th>\n      <td>ANDALUCÍA</td>\n      <td>2010</td>\n      <td>1.447522e+08</td>\n      <td>8370975.0</td>\n      <td>17292.16</td>\n      <td>4213174.0</td>\n      <td>155836.0</td>\n      <td>11203.0</td>\n      <td>82031.0</td>\n      <td>136017.0</td>\n      <td>...</td>\n      <td>0.31</td>\n      <td>0.0</td>\n      <td>0.0</td>\n      <td>0.09</td>\n      <td>0.0</td>\n      <td>792.33</td>\n      <td>16.23</td>\n      <td>0.0</td>\n      <td>1.49</td>\n      <td>13.14</td>\n    </tr>\n    <tr>\n      <th>1</th>\n      <td>ARAGÓN</td>\n      <td>2010</td>\n      <td>3.382900e+07</td>\n      <td>1347095.0</td>\n      <td>25112.55</td>\n      <td>479442.0</td>\n      <td>14003.0</td>\n      <td>1105.0</td>\n      <td>23203.0</td>\n      <td>31964.0</td>\n      <td>...</td>\n      <td>0.31</td>\n      <td>0.0</td>\n      <td>0.0</td>\n      <td>0.09</td>\n      <td>0.0</td>\n      <td>792.33</td>\n      <td>16.23</td>\n      <td>0.0</td>\n      <td>1.49</td>\n      <td>13.14</td>\n    </tr>\n    <tr>\n      <th>2</th>\n      <td>CANARIAS</td>\n      <td>2010</td>\n      <td>4.081148e+07</td>\n      <td>2118519.0</td>\n      <td>19264.16</td>\n      <td>1220612.0</td>\n      <td>30371.0</td>\n      <td>1953.0</td>\n      <td>27221.0</td>\n      <td>69027.0</td>\n      <td>...</td>\n      <td>0.31</td>\n      <td>0.0</td>\n      <td>0.0</td>\n      <td>0.09</td>\n      <td>0.0</td>\n      <td>792.33</td>\n      <td>16.23</td>\n      <td>0.0</td>\n      <td>1.49</td>\n      <td>13.14</td>\n    </tr>\n    <tr>\n      <th>3</th>\n      <td>CANTABRIA</td>\n      <td>2010</td>\n      <td>1.283668e+07</td>\n      <td>592250.0</td>\n      <td>21674.44</td>\n      <td>259965.0</td>\n      <td>8153.0</td>\n      <td>1005.0</td>\n      <td>10547.0</td>\n      <td>13826.0</td>\n      <td>...</td>\n      <td>0.31</td>\n      <td>0.0</td>\n      <td>0.0</td>\n      <td>0.09</td>\n      <td>0.0</td>\n      <td>792.33</td>\n      <td>16.23</td>\n      <td>0.0</td>\n      <td>1.49</td>\n      <td>13.14</td>\n    </tr>\n    <tr>\n      <th>4</th>\n      <td>CASTILLA - LA MANCHA</td>\n      <td>2010</td>\n      <td>3.870683e+07</td>\n      <td>2098373.0</td>\n      <td>18446.11</td>\n      <td>968613.0</td>\n      <td>31588.0</td>\n      <td>11221.0</td>\n      <td>20887.0</td>\n      <td>36202.0</td>\n      <td>...</td>\n      <td>0.31</td>\n      <td>0.0</td>\n      <td>0.0</td>\n      <td>0.09</td>\n      <td>0.0</td>\n      <td>792.33</td>\n      <td>16.23</td>\n      <td>0.0</td>\n      <td>1.49</td>\n      <td>13.14</td>\n    </tr>\n    <tr>\n      <th>...</th>\n      <td>...</td>\n      <td>...</td>\n      <td>...</td>\n      <td>...</td>\n      <td>...</td>\n      <td>...</td>\n      <td>...</td>\n      <td>...</td>\n      <td>...</td>\n      <td>...</td>\n      <td>...</td>\n      <td>...</td>\n      <td>...</td>\n      <td>...</td>\n      <td>...</td>\n      <td>...</td>\n      <td>...</td>\n      <td>...</td>\n      <td>...</td>\n      <td>...</td>\n      <td>...</td>\n    </tr>\n    <tr>\n      <th>175</th>\n      <td>MELILLA</td>\n      <td>2015</td>\n      <td>1.461285e+06</td>\n      <td>85584.0</td>\n      <td>17074.28</td>\n      <td>NaN</td>\n      <td>NaN</td>\n      <td>NaN</td>\n      <td>NaN</td>\n      <td>NaN</td>\n      <td>...</td>\n      <td>0.22</td>\n      <td>0.0</td>\n      <td>0.0</td>\n      <td>0.09</td>\n      <td>0.0</td>\n      <td>797.12</td>\n      <td>17.37</td>\n      <td>0.0</td>\n      <td>2.08</td>\n      <td>11.58</td>\n    </tr>\n    <tr>\n      <th>176</th>\n      <td>PAÍS VASCO</td>\n      <td>2015</td>\n      <td>6.498999e+07</td>\n      <td>2189257.0</td>\n      <td>29685.87</td>\n      <td>659754.0</td>\n      <td>8447.0</td>\n      <td>430.0</td>\n      <td>58948.0</td>\n      <td>117879.0</td>\n      <td>...</td>\n      <td>0.22</td>\n      <td>0.0</td>\n      <td>0.0</td>\n      <td>0.09</td>\n      <td>0.0</td>\n      <td>797.12</td>\n      <td>17.37</td>\n      <td>0.0</td>\n      <td>2.08</td>\n      <td>11.58</td>\n    </tr>\n    <tr>\n      <th>177</th>\n      <td>PRINCIPADO DE ASTURIAS</td>\n      <td>2015</td>\n      <td>2.137259e+07</td>\n      <td>1051229.0</td>\n      <td>20331.05</td>\n      <td>388188.0</td>\n      <td>15971.0</td>\n      <td>750.0</td>\n      <td>33197.0</td>\n      <td>56253.0</td>\n      <td>...</td>\n      <td>0.22</td>\n      <td>0.0</td>\n      <td>0.0</td>\n      <td>0.09</td>\n      <td>0.0</td>\n      <td>797.12</td>\n      <td>17.37</td>\n      <td>0.0</td>\n      <td>2.08</td>\n      <td>11.58</td>\n    </tr>\n    <tr>\n      <th>178</th>\n      <td>REGIÓN DE MURCIA</td>\n      <td>2015</td>\n      <td>2.849208e+07</td>\n      <td>1467288.0</td>\n      <td>19418.19</td>\n      <td>589409.0</td>\n      <td>11306.0</td>\n      <td>194.0</td>\n      <td>23450.0</td>\n      <td>13814.0</td>\n      <td>...</td>\n      <td>0.22</td>\n      <td>0.0</td>\n      <td>0.0</td>\n      <td>0.09</td>\n      <td>0.0</td>\n      <td>797.12</td>\n      <td>17.37</td>\n      <td>0.0</td>\n      <td>2.08</td>\n      <td>11.58</td>\n    </tr>\n    <tr>\n      <th>179</th>\n      <td>TOTAL NACIONAL</td>\n      <td>2015</td>\n      <td>1.077590e+09</td>\n      <td>46624382.0</td>\n      <td>23112.16</td>\n      <td>17106176.0</td>\n      <td>647373.0</td>\n      <td>22430.0</td>\n      <td>755608.0</td>\n      <td>1008959.0</td>\n      <td>...</td>\n      <td>0.22</td>\n      <td>0.0</td>\n      <td>0.0</td>\n      <td>0.09</td>\n      <td>0.0</td>\n      <td>797.12</td>\n      <td>17.37</td>\n      <td>0.0</td>\n      <td>2.08</td>\n      <td>11.58</td>\n    </tr>\n  </tbody>\n</table>\n<p>180 rows × 46 columns</p>\n</div>"
     },
     "metadata": {},
     "execution_count": 17
    }
   ],
   "source": [
    "waste_management = merge(gdp, population, waste_collection, waste_disposal, waste_emissions)\n",
    "waste_management"
   ]
  },
  {
   "source": [
    "#### 4.5 RENAMING THE COLUMNS \n",
    "#### In this instance, most of the column names are very confusing to read, so I just tweaked their column names. This is a good approach it improves the readability of the data set. The language of the variables in this database has been changed to standardise it according to this report. Identifying with C for collection, D for disposal variables, and E for emissions. "
   ],
   "cell_type": "markdown",
   "metadata": {}
  },
  {
   "cell_type": "code",
   "execution_count": 18,
   "metadata": {},
   "outputs": [
    {
     "output_type": "execute_result",
     "data": {
      "text/plain": [
       "  Autonomous communities  Year          GDP  Population  GDP per capita  \\\n",
       "0              ANDALUCÍA  2010  144752225.0   8370975.0        17292.16   \n",
       "1                 ARAGÓN  2010   33828995.0   1347095.0        25112.55   \n",
       "2               CANARIAS  2010   40811481.0   2118519.0        19264.16   \n",
       "\n",
       "   Domestic Waste and Wheelie Bins -C   Bulk -C  Metallics waste-C  \\\n",
       "0                           4213174.0  155836.0            11203.0   \n",
       "1                            479442.0   14003.0             1105.0   \n",
       "2                           1220612.0   30371.0             1953.0   \n",
       "\n",
       "   Waste Glass-C  Waste Paper and Cardboard-C  ...  \\\n",
       "0        82031.0                     136017.0  ...   \n",
       "1        23203.0                      31964.0  ...   \n",
       "2        27221.0                      69027.0  ...   \n",
       "\n",
       "   Domestic wastewater handling  Hazardous waste incineration  \\\n",
       "0                          0.31                           0.0   \n",
       "1                          0.31                           0.0   \n",
       "2                          0.31                           0.0   \n",
       "\n",
       "   Industrial waste incineration  Industrial wastewater handling  \\\n",
       "0                            0.0                            0.09   \n",
       "1                            0.0                            0.09   \n",
       "2                            0.0                            0.09   \n",
       "\n",
       "   Municipal waste incineration  Open burning of waste  Other waste-E  \\\n",
       "0                           0.0                 792.33          16.23   \n",
       "1                           0.0                 792.33          16.23   \n",
       "2                           0.0                 792.33          16.23   \n",
       "\n",
       "   Other waste incineration-E  Other wastewater handling  \\\n",
       "0                         0.0                       1.49   \n",
       "1                         0.0                       1.49   \n",
       "2                         0.0                       1.49   \n",
       "\n",
       "   Sewage sludge incineration  \n",
       "0                       13.14  \n",
       "1                       13.14  \n",
       "2                       13.14  \n",
       "\n",
       "[3 rows x 46 columns]"
      ],
      "text/html": "<div>\n<style scoped>\n    .dataframe tbody tr th:only-of-type {\n        vertical-align: middle;\n    }\n\n    .dataframe tbody tr th {\n        vertical-align: top;\n    }\n\n    .dataframe thead th {\n        text-align: right;\n    }\n</style>\n<table border=\"1\" class=\"dataframe\">\n  <thead>\n    <tr style=\"text-align: right;\">\n      <th></th>\n      <th>Autonomous communities</th>\n      <th>Year</th>\n      <th>GDP</th>\n      <th>Population</th>\n      <th>GDP per capita</th>\n      <th>Domestic Waste and Wheelie Bins -C</th>\n      <th>Bulk -C</th>\n      <th>Metallics waste-C</th>\n      <th>Waste Glass-C</th>\n      <th>Waste Paper and Cardboard-C</th>\n      <th>...</th>\n      <th>Domestic wastewater handling</th>\n      <th>Hazardous waste incineration</th>\n      <th>Industrial waste incineration</th>\n      <th>Industrial wastewater handling</th>\n      <th>Municipal waste incineration</th>\n      <th>Open burning of waste</th>\n      <th>Other waste-E</th>\n      <th>Other waste incineration-E</th>\n      <th>Other wastewater handling</th>\n      <th>Sewage sludge incineration</th>\n    </tr>\n  </thead>\n  <tbody>\n    <tr>\n      <th>0</th>\n      <td>ANDALUCÍA</td>\n      <td>2010</td>\n      <td>144752225.0</td>\n      <td>8370975.0</td>\n      <td>17292.16</td>\n      <td>4213174.0</td>\n      <td>155836.0</td>\n      <td>11203.0</td>\n      <td>82031.0</td>\n      <td>136017.0</td>\n      <td>...</td>\n      <td>0.31</td>\n      <td>0.0</td>\n      <td>0.0</td>\n      <td>0.09</td>\n      <td>0.0</td>\n      <td>792.33</td>\n      <td>16.23</td>\n      <td>0.0</td>\n      <td>1.49</td>\n      <td>13.14</td>\n    </tr>\n    <tr>\n      <th>1</th>\n      <td>ARAGÓN</td>\n      <td>2010</td>\n      <td>33828995.0</td>\n      <td>1347095.0</td>\n      <td>25112.55</td>\n      <td>479442.0</td>\n      <td>14003.0</td>\n      <td>1105.0</td>\n      <td>23203.0</td>\n      <td>31964.0</td>\n      <td>...</td>\n      <td>0.31</td>\n      <td>0.0</td>\n      <td>0.0</td>\n      <td>0.09</td>\n      <td>0.0</td>\n      <td>792.33</td>\n      <td>16.23</td>\n      <td>0.0</td>\n      <td>1.49</td>\n      <td>13.14</td>\n    </tr>\n    <tr>\n      <th>2</th>\n      <td>CANARIAS</td>\n      <td>2010</td>\n      <td>40811481.0</td>\n      <td>2118519.0</td>\n      <td>19264.16</td>\n      <td>1220612.0</td>\n      <td>30371.0</td>\n      <td>1953.0</td>\n      <td>27221.0</td>\n      <td>69027.0</td>\n      <td>...</td>\n      <td>0.31</td>\n      <td>0.0</td>\n      <td>0.0</td>\n      <td>0.09</td>\n      <td>0.0</td>\n      <td>792.33</td>\n      <td>16.23</td>\n      <td>0.0</td>\n      <td>1.49</td>\n      <td>13.14</td>\n    </tr>\n  </tbody>\n</table>\n<p>3 rows × 46 columns</p>\n</div>"
     },
     "metadata": {},
     "execution_count": 18
    }
   ],
   "source": [
    "waste_management = rename_db(waste_management)\n",
    "waste_management.head(3)"
   ]
  },
  {
   "source": [
    "## 5. Exploratory Data Analysis\n",
    "### In this part of the process, statistics are computed and calculations are made to find trends, anomalies, patterns or relationships within the data. Will serve to see what the data can tell us beyond the formal task of modelling or hypothesis testing."
   ],
   "cell_type": "markdown",
   "metadata": {}
  },
  {
   "source": [
    "#### 5.1 EXAMINE THE DISTRIBUTION OF THE TARGET VARIABLES \n",
    "#### The objective of this project is to analyse solid waste management in the Spanish Autonomous Communities and to verify the relationship with economic and population growth. It will also analyse the atmospheric emissions that this sector represents."
   ],
   "cell_type": "markdown",
   "metadata": {}
  },
  {
   "cell_type": "code",
   "execution_count": 20,
   "metadata": {},
   "outputs": [
    {
     "output_type": "execute_result",
     "data": {
      "text/plain": [
       "              Year           GDP    Population  GDP per capita  \\\n",
       "count   180.000000  1.800000e+02  1.800000e+02      180.000000   \n",
       "mean   2014.000000  1.085833e+08  4.687272e+06    22413.896000   \n",
       "std       2.589191  2.332272e+08  9.998762e+06     4494.026136   \n",
       "min    2010.000000  1.369832e+06  7.603400e+04    15399.900000   \n",
       "25%    2012.000000  1.796602e+07  9.330715e+05    18909.610000   \n",
       "50%    2014.000000  3.589570e+07  1.752658e+06    21306.505000   \n",
       "75%    2016.000000  7.759946e+07  3.333617e+06    25452.195000   \n",
       "max    2018.000000  1.204241e+09  4.726532e+07    35136.940000   \n",
       "\n",
       "       Domestic Waste and Wheelie Bins -C        Bulk -C  Metallics waste-C  \\\n",
       "count                        1.620000e+02     162.000000         162.000000   \n",
       "mean                         1.955064e+06   70279.259259        3327.666667   \n",
       "std                          3.919217e+06  152071.367952        7475.923788   \n",
       "min                          1.030260e+05     741.000000           0.000000   \n",
       "25%                          4.288010e+05    9625.250000         331.750000   \n",
       "50%                          7.741405e+05   19736.500000         834.500000   \n",
       "75%                          1.852328e+06   45711.250000        2521.250000   \n",
       "max                          1.880867e+07  910708.000000       56416.000000   \n",
       "\n",
       "       Waste Glass-C  Waste Paper and Cardboard-C     Plastics-C  ...  \\\n",
       "count     162.000000                 1.620000e+02     162.000000  ...   \n",
       "mean    85559.555556                 1.224548e+05    7063.462963  ...   \n",
       "std    171472.541648                 2.522466e+05   19894.366509  ...   \n",
       "min      5868.000000                 4.053000e+03       0.000000  ...   \n",
       "25%     18336.500000                 2.621275e+04     172.750000  ...   \n",
       "50%     33648.500000                 3.933050e+04    1404.500000  ...   \n",
       "75%     77790.250000                 9.549650e+04    4820.500000  ...   \n",
       "max    834764.000000                 1.467365e+06  185501.000000  ...   \n",
       "\n",
       "       Domestic wastewater handling  Hazardous waste incineration  \\\n",
       "count                    180.000000                         180.0   \n",
       "mean                       0.227778                           0.0   \n",
       "std                        0.029814                           0.0   \n",
       "min                        0.210000                           0.0   \n",
       "25%                        0.210000                           0.0   \n",
       "50%                        0.220000                           0.0   \n",
       "75%                        0.220000                           0.0   \n",
       "max                        0.310000                           0.0   \n",
       "\n",
       "       Industrial waste incineration  Industrial wastewater handling  \\\n",
       "count                          180.0                      180.000000   \n",
       "mean                             0.0                        0.087778   \n",
       "std                              0.0                        0.004169   \n",
       "min                              0.0                        0.080000   \n",
       "25%                              0.0                        0.090000   \n",
       "50%                              0.0                        0.090000   \n",
       "75%                              0.0                        0.090000   \n",
       "max                              0.0                        0.090000   \n",
       "\n",
       "       Municipal waste incineration  Open burning of waste  Other waste-E  \\\n",
       "count                         180.0             180.000000     180.000000   \n",
       "mean                            0.0             785.938889      21.354444   \n",
       "std                             0.0             137.022592      10.312692   \n",
       "min                             0.0             542.860000      16.230000   \n",
       "25%                             0.0             742.750000      17.370000   \n",
       "50%                             0.0             792.330000      17.520000   \n",
       "75%                             0.0             826.900000      18.720000   \n",
       "max                             0.0            1009.630000      50.310000   \n",
       "\n",
       "       Other waste incineration-E  Other wastewater handling  \\\n",
       "count                       180.0                 180.000000   \n",
       "mean                          0.0                   1.633333   \n",
       "std                           0.0                   0.571756   \n",
       "min                           0.0                   0.670000   \n",
       "25%                           0.0                   1.450000   \n",
       "50%                           0.0                   2.080000   \n",
       "75%                           0.0                   2.080000   \n",
       "max                           0.0                   2.090000   \n",
       "\n",
       "       Sewage sludge incineration  \n",
       "count                  180.000000  \n",
       "mean                    12.271111  \n",
       "std                      1.461227  \n",
       "min                     10.580000  \n",
       "25%                     11.560000  \n",
       "50%                     11.610000  \n",
       "75%                     13.030000  \n",
       "max                     15.780000  \n",
       "\n",
       "[8 rows x 45 columns]"
      ],
      "text/html": "<div>\n<style scoped>\n    .dataframe tbody tr th:only-of-type {\n        vertical-align: middle;\n    }\n\n    .dataframe tbody tr th {\n        vertical-align: top;\n    }\n\n    .dataframe thead th {\n        text-align: right;\n    }\n</style>\n<table border=\"1\" class=\"dataframe\">\n  <thead>\n    <tr style=\"text-align: right;\">\n      <th></th>\n      <th>Year</th>\n      <th>GDP</th>\n      <th>Population</th>\n      <th>GDP per capita</th>\n      <th>Domestic Waste and Wheelie Bins -C</th>\n      <th>Bulk -C</th>\n      <th>Metallics waste-C</th>\n      <th>Waste Glass-C</th>\n      <th>Waste Paper and Cardboard-C</th>\n      <th>Plastics-C</th>\n      <th>...</th>\n      <th>Domestic wastewater handling</th>\n      <th>Hazardous waste incineration</th>\n      <th>Industrial waste incineration</th>\n      <th>Industrial wastewater handling</th>\n      <th>Municipal waste incineration</th>\n      <th>Open burning of waste</th>\n      <th>Other waste-E</th>\n      <th>Other waste incineration-E</th>\n      <th>Other wastewater handling</th>\n      <th>Sewage sludge incineration</th>\n    </tr>\n  </thead>\n  <tbody>\n    <tr>\n      <th>count</th>\n      <td>180.000000</td>\n      <td>1.800000e+02</td>\n      <td>1.800000e+02</td>\n      <td>180.000000</td>\n      <td>1.620000e+02</td>\n      <td>162.000000</td>\n      <td>162.000000</td>\n      <td>162.000000</td>\n      <td>1.620000e+02</td>\n      <td>162.000000</td>\n      <td>...</td>\n      <td>180.000000</td>\n      <td>180.0</td>\n      <td>180.0</td>\n      <td>180.000000</td>\n      <td>180.0</td>\n      <td>180.000000</td>\n      <td>180.000000</td>\n      <td>180.0</td>\n      <td>180.000000</td>\n      <td>180.000000</td>\n    </tr>\n    <tr>\n      <th>mean</th>\n      <td>2014.000000</td>\n      <td>1.085833e+08</td>\n      <td>4.687272e+06</td>\n      <td>22413.896000</td>\n      <td>1.955064e+06</td>\n      <td>70279.259259</td>\n      <td>3327.666667</td>\n      <td>85559.555556</td>\n      <td>1.224548e+05</td>\n      <td>7063.462963</td>\n      <td>...</td>\n      <td>0.227778</td>\n      <td>0.0</td>\n      <td>0.0</td>\n      <td>0.087778</td>\n      <td>0.0</td>\n      <td>785.938889</td>\n      <td>21.354444</td>\n      <td>0.0</td>\n      <td>1.633333</td>\n      <td>12.271111</td>\n    </tr>\n    <tr>\n      <th>std</th>\n      <td>2.589191</td>\n      <td>2.332272e+08</td>\n      <td>9.998762e+06</td>\n      <td>4494.026136</td>\n      <td>3.919217e+06</td>\n      <td>152071.367952</td>\n      <td>7475.923788</td>\n      <td>171472.541648</td>\n      <td>2.522466e+05</td>\n      <td>19894.366509</td>\n      <td>...</td>\n      <td>0.029814</td>\n      <td>0.0</td>\n      <td>0.0</td>\n      <td>0.004169</td>\n      <td>0.0</td>\n      <td>137.022592</td>\n      <td>10.312692</td>\n      <td>0.0</td>\n      <td>0.571756</td>\n      <td>1.461227</td>\n    </tr>\n    <tr>\n      <th>min</th>\n      <td>2010.000000</td>\n      <td>1.369832e+06</td>\n      <td>7.603400e+04</td>\n      <td>15399.900000</td>\n      <td>1.030260e+05</td>\n      <td>741.000000</td>\n      <td>0.000000</td>\n      <td>5868.000000</td>\n      <td>4.053000e+03</td>\n      <td>0.000000</td>\n      <td>...</td>\n      <td>0.210000</td>\n      <td>0.0</td>\n      <td>0.0</td>\n      <td>0.080000</td>\n      <td>0.0</td>\n      <td>542.860000</td>\n      <td>16.230000</td>\n      <td>0.0</td>\n      <td>0.670000</td>\n      <td>10.580000</td>\n    </tr>\n    <tr>\n      <th>25%</th>\n      <td>2012.000000</td>\n      <td>1.796602e+07</td>\n      <td>9.330715e+05</td>\n      <td>18909.610000</td>\n      <td>4.288010e+05</td>\n      <td>9625.250000</td>\n      <td>331.750000</td>\n      <td>18336.500000</td>\n      <td>2.621275e+04</td>\n      <td>172.750000</td>\n      <td>...</td>\n      <td>0.210000</td>\n      <td>0.0</td>\n      <td>0.0</td>\n      <td>0.090000</td>\n      <td>0.0</td>\n      <td>742.750000</td>\n      <td>17.370000</td>\n      <td>0.0</td>\n      <td>1.450000</td>\n      <td>11.560000</td>\n    </tr>\n    <tr>\n      <th>50%</th>\n      <td>2014.000000</td>\n      <td>3.589570e+07</td>\n      <td>1.752658e+06</td>\n      <td>21306.505000</td>\n      <td>7.741405e+05</td>\n      <td>19736.500000</td>\n      <td>834.500000</td>\n      <td>33648.500000</td>\n      <td>3.933050e+04</td>\n      <td>1404.500000</td>\n      <td>...</td>\n      <td>0.220000</td>\n      <td>0.0</td>\n      <td>0.0</td>\n      <td>0.090000</td>\n      <td>0.0</td>\n      <td>792.330000</td>\n      <td>17.520000</td>\n      <td>0.0</td>\n      <td>2.080000</td>\n      <td>11.610000</td>\n    </tr>\n    <tr>\n      <th>75%</th>\n      <td>2016.000000</td>\n      <td>7.759946e+07</td>\n      <td>3.333617e+06</td>\n      <td>25452.195000</td>\n      <td>1.852328e+06</td>\n      <td>45711.250000</td>\n      <td>2521.250000</td>\n      <td>77790.250000</td>\n      <td>9.549650e+04</td>\n      <td>4820.500000</td>\n      <td>...</td>\n      <td>0.220000</td>\n      <td>0.0</td>\n      <td>0.0</td>\n      <td>0.090000</td>\n      <td>0.0</td>\n      <td>826.900000</td>\n      <td>18.720000</td>\n      <td>0.0</td>\n      <td>2.080000</td>\n      <td>13.030000</td>\n    </tr>\n    <tr>\n      <th>max</th>\n      <td>2018.000000</td>\n      <td>1.204241e+09</td>\n      <td>4.726532e+07</td>\n      <td>35136.940000</td>\n      <td>1.880867e+07</td>\n      <td>910708.000000</td>\n      <td>56416.000000</td>\n      <td>834764.000000</td>\n      <td>1.467365e+06</td>\n      <td>185501.000000</td>\n      <td>...</td>\n      <td>0.310000</td>\n      <td>0.0</td>\n      <td>0.0</td>\n      <td>0.090000</td>\n      <td>0.0</td>\n      <td>1009.630000</td>\n      <td>50.310000</td>\n      <td>0.0</td>\n      <td>2.090000</td>\n      <td>15.780000</td>\n    </tr>\n  </tbody>\n</table>\n<p>8 rows × 45 columns</p>\n</div>"
     },
     "metadata": {},
     "execution_count": 20
    }
   ],
   "source": [
    "waste_management.describe()"
   ]
  },
  {
   "cell_type": "code",
   "execution_count": null,
   "metadata": {},
   "outputs": [],
   "source": []
  }
 ]
}