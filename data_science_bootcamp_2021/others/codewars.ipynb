{
 "metadata": {
  "language_info": {
   "codemirror_mode": {
    "name": "ipython",
    "version": 3
   },
   "file_extension": ".py",
   "mimetype": "text/x-python",
   "name": "python",
   "nbconvert_exporter": "python",
   "pygments_lexer": "ipython3",
   "version": "3.7.4"
  },
  "orig_nbformat": 2,
  "kernelspec": {
   "name": "python374jvsc74a57bd0a9b83ec4160fc914f5169c2fc0bc9ab1c02e189a457abfa966969b692f6336e9",
   "display_name": "Python 3.7.4 64-bit"
  },
  "metadata": {
   "interpreter": {
    "hash": "a9b83ec4160fc914f5169c2fc0bc9ab1c02e189a457abfa966969b692f6336e9"
   }
  }
 },
 "nbformat": 4,
 "nbformat_minor": 2,
 "cells": [
  {
   "cell_type": "code",
   "execution_count": 2,
   "metadata": {},
   "outputs": [
    {
     "output_type": "execute_result",
     "data": {
      "text/plain": [
       "True"
      ]
     },
     "metadata": {},
     "execution_count": 2
    }
   ],
   "source": [
    "def even_number(n):\n",
    "             \n",
    "    if n % 2 ==0:\n",
    "        return (True)\n",
    "    else:\n",
    "        return (False)\n",
    "\n",
    "even_number(4)"
   ]
  },
  {
   "cell_type": "code",
   "execution_count": null,
   "metadata": {},
   "outputs": [],
   "source": [
    "def func(n):\n",
    "             \n",
    "    if n % 2 ==0:\n",
    "        return (True)\n",
    "    else:\n",
    "        return (False)\n",
    "        \n",
    "                \n",
    "    #your code here\n",
    "\n",
    "def map(arr, somefunction=func):\n",
    "    import types\n",
    "    types.FunctionType\n",
    "    \n",
    "    list(map(arr, somefunction))\n",
    "    return map\n",
    "    \n",
    "\n",
    "https://www.codewars.com/kata/560fbc2d636966b21e00009e/train/python"
   ]
  },
  {
   "cell_type": "code",
   "execution_count": 3,
   "metadata": {},
   "outputs": [
    {
     "output_type": "execute_result",
     "data": {
      "text/plain": [
       "'111'"
      ]
     },
     "metadata": {},
     "execution_count": 3
    }
   ],
   "source": [
    "def add_binary(a,b):\n",
    "    suma = a + b\n",
    "    suma = str(bin(suma))\n",
    "    return suma[2:]\n",
    "\n",
    "\n",
    "add_binary(a=5, b=2)"
   ]
  },
  {
   "cell_type": "code",
   "execution_count": null,
   "metadata": {},
   "outputs": [],
   "source": [
    "([1,2,2], [1]), [2,2]\n",
    "\n",
    "array_diff([1,2,2,2,3],[2]) == [1,3]\n",
    "\n",
    "array_diff([1,2],[1]) == [2]\n",
    "\n",
    "It should remove all values from list a, which are present in list b keeping their order.\n",
    "\n",
    "\n",
    "If a value is present in b, all of its occurrences must be removed from the other:"
   ]
  },
  {
   "cell_type": "code",
   "execution_count": null,
   "metadata": {},
   "outputs": [],
   "source": [
    "a was [1,2,2], b was [], expected [1,2,2]: [1] should equal [1, 2, 2]"
   ]
  },
  {
   "cell_type": "code",
   "execution_count": 72,
   "metadata": {},
   "outputs": [],
   "source": [
    "if a in b:\n",
    "    a.remove(b)\n",
    "            \n",
    "    print(a)\n",
    "\n",
    "array_diff([1,2,2], [])"
   ]
  },
  {
   "cell_type": "code",
   "execution_count": 1,
   "metadata": {},
   "outputs": [],
   "source": [
    "def array_diff(a, b):\n",
    "    c = []\n",
    "    for i in b:\n",
    "        if i in a:\n",
    "            c.append(i)\n",
    "            print(c) \n",
    "\n",
    "array_diff([1,2,2], [])"
   ]
  },
  {
   "cell_type": "code",
   "execution_count": 77,
   "metadata": {},
   "outputs": [
    {
     "output_type": "stream",
     "name": "stdout",
     "text": [
      "1 125 27\n"
     ]
    }
   ],
   "source": [
    " x = 1**3 \n",
    " y = 5**3 \n",
    " z = 3**3 \n",
    " print(x, y, z)"
   ]
  },
  {
   "cell_type": "code",
   "execution_count": 135,
   "metadata": {},
   "outputs": [
    {
     "output_type": "stream",
     "name": "stdout",
     "text": [
      "[1, 5, 3]\n[1, 25, 9]\n35\n"
     ]
    }
   ],
   "source": [
    "value = 153\n",
    "res = list(map(int, str(value)))\n",
    "print(res)\n",
    "suma = list(map(lambda x: x**2, res))\n",
    "suma1 = sum(suma)\n",
    "print(suma)\n",
    "print(suma1)\n"
   ]
  },
  {
   "cell_type": "code",
   "execution_count": 134,
   "metadata": {},
   "outputs": [
    {
     "output_type": "stream",
     "name": "stdout",
     "text": [
      "1\n26\n35\n"
     ]
    }
   ],
   "source": [
    "suma1 = 0\n",
    "for i in suma:\n",
    "\n",
    "    suma1 += i\n",
    "    print(suma1)\n"
   ]
  },
  {
   "cell_type": "code",
   "execution_count": 145,
   "metadata": {},
   "outputs": [
    {
     "output_type": "execute_result",
     "data": {
      "text/plain": [
       "True"
      ]
     },
     "metadata": {},
     "execution_count": 145
    }
   ],
   "source": [
    "def narcissistic( value ):\n",
    "\n",
    "    # Code away\n",
    "    res = list(map(int, str(value)))\n",
    "    res1 = len(res)\n",
    "    \n",
    "    suma1 = list(map(lambda x: x**res1, res))\n",
    "    suma2 = sum(suma1)\n",
    "    if value == suma2:\n",
    "        return  True\n",
    "    else:\n",
    "        return False\n",
    "      \n",
    "      \n",
    "narcissistic(371)\n",
    "\n",
    "        \n",
    "    "
   ]
  },
  {
   "cell_type": "code",
   "execution_count": 144,
   "metadata": {},
   "outputs": [
    {
     "output_type": "execute_result",
     "data": {
      "text/plain": [
       "3"
      ]
     },
     "metadata": {},
     "execution_count": 144
    }
   ],
   "source": [
    "res1 = len(res)\n",
    "res1"
   ]
  },
  {
   "cell_type": "code",
   "execution_count": 119,
   "metadata": {},
   "outputs": [
    {
     "output_type": "stream",
     "name": "stdout",
     "text": [
      "[1, 5, 3]\n"
     ]
    }
   ],
   "source": [
    "lista = 153\n",
    "\n",
    "res = list(map(int, str(lista)))\n",
    "print(res)\n",
    "\n",
    "\n"
   ]
  },
  {
   "cell_type": "code",
   "execution_count": null,
   "metadata": {},
   "outputs": [],
   "source": [
    "lista = [1,2,34,5]\n",
    "\n",
    "list_vacia = []\n",
    "\n",
    "for e in lista: \n",
    "    list_vacia.append(e * 2)\n",
    "    \n",
    "list_vacia"
   ]
  },
  {
   "cell_type": "code",
   "execution_count": 29,
   "metadata": {},
   "outputs": [
    {
     "output_type": "stream",
     "name": "stdout",
     "text": [
      "Peter likes this\n"
     ]
    }
   ],
   "source": [
    "def likes(names):\n",
    "    # your code here\n",
    "    if len(names) == 0:\n",
    "        print(\"no one likes this\") \n",
    "    elif len(names) == 1:\n",
    "        print(names[0], \"likes this\")\n",
    "    elif len(names) == 2:\n",
    "        print(names[0], \"and\", names[1], \"like this\")\n",
    "    elif len(names) == 3:\n",
    "        print(names[0],\",\", names[1], \"and\", names[2], \"like this\")\n",
    "    else:\n",
    "        if len(names) <= 4:\n",
    "            print(names[0],\",\", names[1], \"and\", len(names), \"others like this\" )\n",
    "    pass\n",
    "\n",
    "\n",
    "likes(['Peter'])"
   ]
  },
  {
   "cell_type": "code",
   "execution_count": 39,
   "metadata": {},
   "outputs": [
    {
     "output_type": "execute_result",
     "data": {
      "text/plain": [
       "False"
      ]
     },
     "metadata": {},
     "execution_count": 39
    }
   ],
   "source": [
    "def xo(s):\n",
    "    if s.count(\"x\") == s.count(\"o\") or (\"s\" and \"o\") not in s:\n",
    "        return True\n",
    "    else:\n",
    "        return False\n",
    "\n",
    "xo(\"xooxx\")"
   ]
  },
  {
   "cell_type": "code",
   "execution_count": null,
   "metadata": {},
   "outputs": [],
   "source": [
    "XO(\"ooxx\") => true\n",
    "XO(\"xooxx\") => false\n",
    "XO(\"ooxXm\") => true\n",
    "XO(\"zpzpzpp\") => true // when no 'x' and 'o' is present should return true\n",
    "XO(\"zzoo\") => false"
   ]
  },
  {
   "cell_type": "code",
   "execution_count": 113,
   "metadata": {},
   "outputs": [
    {
     "output_type": "execute_result",
     "data": {
      "text/plain": [
       "'False 7 is not prime'"
      ]
     },
     "metadata": {},
     "execution_count": 113
    }
   ],
   "source": [
    "# Program to check if a number is prime or not\n",
    "#divide por 1 y si mismo\n",
    "def is_prime(num):\n",
    "    flag = False\n",
    "    \n",
    "    for i in range(0, 1):\n",
    "        flag == False\n",
    "    for i in range(2, num):\n",
    "        if (num % i) == 0:\n",
    "            flag == True\n",
    "        else:\n",
    "            flag == False\n",
    "    if flag:\n",
    "        return f\"{flag} {num} is prime\"\n",
    "    else:\n",
    "        return f\"{flag} {num} is not prime\"        \n",
    "            \n",
    "is_prime(7)\n"
   ]
  },
  {
   "cell_type": "code",
   "execution_count": 114,
   "metadata": {},
   "outputs": [
    {
     "output_type": "execute_result",
     "data": {
      "text/plain": [
       "'True 12 is prime'"
      ]
     },
     "metadata": {},
     "execution_count": 114
    }
   ],
   "source": [
    "def is_prime(num):\n",
    "   \n",
    "  \n",
    "   \n",
    "    for i in range(2, num):\n",
    "        if (num % i) == 0:\n",
    "            return f\"True {num} is prime\"\n",
    "           \n",
    "        else:\n",
    "            return f\"False {num} is not prime\"\n",
    "\n",
    "\n",
    "is_prime(12)   "
   ]
  },
  {
   "cell_type": "code",
   "execution_count": 150,
   "metadata": {},
   "outputs": [],
   "source": [
    "def is_prime(num):\n",
    "    \n",
    "    if num == 0 or num == 1:\n",
    "        return f\"{num} is not prime\"\n",
    "    if num == 2:\n",
    "        return f\"{num} is prime\"\n",
    " \n",
    "    for i in range(2, num):\n",
    "        if (num % i) == 0:\n",
    "            return f\"{num} is not prime\"\n",
    "            \n",
    "        else:\n",
    "            return f\"{num} is prime\"\n",
    "    \n",
    "            \n",
    "is_prime(2)"
   ]
  },
  {
   "cell_type": "code",
   "execution_count": 15,
   "metadata": {},
   "outputs": [
    {
     "output_type": "stream",
     "name": "stdout",
     "text": [
      "2\n"
     ]
    }
   ],
   "source": [
    "x = 3\n",
    "num = 17\n",
    "print(num % x)"
   ]
  },
  {
   "cell_type": "code",
   "execution_count": 1,
   "metadata": {},
   "outputs": [
    {
     "output_type": "stream",
     "name": "stdout",
     "text": [
      "2\n"
     ]
    }
   ],
   "source": [
    "if not True:\n",
    "   print(\"1\")\n",
    "elif not (1 + 1 == 3):\n",
    "   print(\"2\")\n",
    "else:\n",
    "   print(\"3\")"
   ]
  },
  {
   "cell_type": "code",
   "execution_count": null,
   "metadata": {},
   "outputs": [],
   "source": []
  }
 ]
}