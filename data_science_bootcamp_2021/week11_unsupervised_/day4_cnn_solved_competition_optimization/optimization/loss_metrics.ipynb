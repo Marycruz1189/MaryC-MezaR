{
 "metadata": {
  "language_info": {
   "codemirror_mode": {
    "name": "ipython",
    "version": 3
   },
   "file_extension": ".py",
   "mimetype": "text/x-python",
   "name": "python",
   "nbconvert_exporter": "python",
   "pygments_lexer": "ipython3",
   "version": 3
  },
  "orig_nbformat": 4
 },
 "nbformat": 4,
 "nbformat_minor": 2,
 "cells": [
  {
   "cell_type": "code",
   "execution_count": null,
   "metadata": {},
   "outputs": [],
   "source": []
  },
  {
   "cell_type": "code",
   "execution_count": null,
   "metadata": {},
   "outputs": [],
   "source": [
    "\n",
    "# Correo Spam\n",
    "y_real_logit = 0\n",
    "y_real_one_hot_encoder = [1, 0]\n",
    "\n",
    "# Red neuronal con 1 neurona de salida \n",
    "y_pred = 1\n",
    "\n",
    "# Red neuronal con 1 neurona de salida con sigmoid de salida\n",
    "y_pred = 0.70\n",
    "\n",
    "# Red neuronal con X neuronas de salida = al número de clases (con softmax)\n",
    "\n"
   ]
  }
 ]
}