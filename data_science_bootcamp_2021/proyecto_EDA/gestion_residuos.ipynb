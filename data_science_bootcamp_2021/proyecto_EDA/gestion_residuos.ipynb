{
 "metadata": {
  "language_info": {
   "codemirror_mode": {
    "name": "ipython",
    "version": 3
   },
   "file_extension": ".py",
   "mimetype": "text/x-python",
   "name": "python",
   "nbconvert_exporter": "python",
   "pygments_lexer": "ipython3",
   "version": "3.7.4"
  },
  "orig_nbformat": 2,
  "kernelspec": {
   "name": "python374jvsc74a57bd0a9b83ec4160fc914f5169c2fc0bc9ab1c02e189a457abfa966969b692f6336e9",
   "display_name": "Python 3.7.4 64-bit"
  },
  "metadata": {
   "interpreter": {
    "hash": "a9b83ec4160fc914f5169c2fc0bc9ab1c02e189a457abfa966969b692f6336e9"
   }
  }
 },
 "nbformat": 4,
 "nbformat_minor": 2,
 "cells": [
  {
   "source": [
    "### GESTION DE RESIDUOS"
   ],
   "cell_type": "markdown",
   "metadata": {}
  },
  {
   "cell_type": "code",
   "execution_count": 2,
   "metadata": {},
   "outputs": [],
   "source": [
    "import pandas as pd\n",
    "import numpy as np\n",
    "import re"
   ]
  },
  {
   "cell_type": "code",
   "execution_count": 18,
   "metadata": {},
   "outputs": [],
   "source": [
    "gestion = pd.read_excel(\"data/residuos_gestionados.xls\")"
   ]
  },
  {
   "cell_type": "code",
   "execution_count": 19,
   "metadata": {},
   "outputs": [
    {
     "output_type": "execute_result",
     "data": {
      "text/plain": [
       "                2018                  2018.1         2018.2  \\\n",
       "0       Recuperación  Operaciones de relleno        Vertido   \n",
       "1  TOTAL GENERAL  tn       TOTAL GENERAL  tn  TOTAL GENERAL   \n",
       "2           47245057                12180380       58811441   \n",
       "\n",
       "              2018.3             2018.4               2017  \\\n",
       "0       Incineración              Total       Recuperación   \n",
       "1  TOTAL GENERAL  tn  TOTAL GENERAL  tn  TOTAL GENERAL  tn   \n",
       "2            3720678          121957556           44921844   \n",
       "\n",
       "                   2017.1             2017.2             2017.3  \\\n",
       "0  Operaciones de relleno            Vertido       Incineración   \n",
       "1       TOTAL GENERAL  tn  TOTAL GENERAL  tn  TOTAL GENERAL  tn   \n",
       "2                 4270531           62226693            4067227   \n",
       "\n",
       "              2017.4  ...               2011                  2011.1  \\\n",
       "0              Total  ...       Recuperación  Operaciones de relleno   \n",
       "1  TOTAL GENERAL  tn  ...  TOTAL GENERAL  tn       TOTAL GENERAL  tn   \n",
       "2          115486295  ...           53081624                 6665117   \n",
       "\n",
       "              2011.2             2011.3             2011.4               2010  \\\n",
       "0            Vertido       Incineración              Total       Recuperación   \n",
       "1  TOTAL GENERAL  tn  TOTAL GENERAL  tn  TOTAL GENERAL  tn      TOTAL GENERAL   \n",
       "2           49643268            3398695          112788703  TOTAL GENERAL  tn   \n",
       "\n",
       "                   2010.1             2010.2             2010.3  \\\n",
       "0  Operaciones de relleno            Vertido       Incineración   \n",
       "1       TOTAL GENERAL  tn  TOTAL GENERAL  tn  TOTAL GENERAL  tn   \n",
       "2                 5713515           49464293            2934780   \n",
       "\n",
       "              2010.4  \n",
       "0              Total  \n",
       "1  TOTAL GENERAL  tn  \n",
       "2          132687982  \n",
       "\n",
       "[3 rows x 45 columns]"
      ],
      "text/html": "<div>\n<style scoped>\n    .dataframe tbody tr th:only-of-type {\n        vertical-align: middle;\n    }\n\n    .dataframe tbody tr th {\n        vertical-align: top;\n    }\n\n    .dataframe thead th {\n        text-align: right;\n    }\n</style>\n<table border=\"1\" class=\"dataframe\">\n  <thead>\n    <tr style=\"text-align: right;\">\n      <th></th>\n      <th>2018</th>\n      <th>2018.1</th>\n      <th>2018.2</th>\n      <th>2018.3</th>\n      <th>2018.4</th>\n      <th>2017</th>\n      <th>2017.1</th>\n      <th>2017.2</th>\n      <th>2017.3</th>\n      <th>2017.4</th>\n      <th>...</th>\n      <th>2011</th>\n      <th>2011.1</th>\n      <th>2011.2</th>\n      <th>2011.3</th>\n      <th>2011.4</th>\n      <th>2010</th>\n      <th>2010.1</th>\n      <th>2010.2</th>\n      <th>2010.3</th>\n      <th>2010.4</th>\n    </tr>\n  </thead>\n  <tbody>\n    <tr>\n      <th>0</th>\n      <td>Recuperación</td>\n      <td>Operaciones de relleno</td>\n      <td>Vertido</td>\n      <td>Incineración</td>\n      <td>Total</td>\n      <td>Recuperación</td>\n      <td>Operaciones de relleno</td>\n      <td>Vertido</td>\n      <td>Incineración</td>\n      <td>Total</td>\n      <td>...</td>\n      <td>Recuperación</td>\n      <td>Operaciones de relleno</td>\n      <td>Vertido</td>\n      <td>Incineración</td>\n      <td>Total</td>\n      <td>Recuperación</td>\n      <td>Operaciones de relleno</td>\n      <td>Vertido</td>\n      <td>Incineración</td>\n      <td>Total</td>\n    </tr>\n    <tr>\n      <th>1</th>\n      <td>TOTAL GENERAL  tn</td>\n      <td>TOTAL GENERAL  tn</td>\n      <td>TOTAL GENERAL</td>\n      <td>TOTAL GENERAL  tn</td>\n      <td>TOTAL GENERAL  tn</td>\n      <td>TOTAL GENERAL  tn</td>\n      <td>TOTAL GENERAL  tn</td>\n      <td>TOTAL GENERAL  tn</td>\n      <td>TOTAL GENERAL  tn</td>\n      <td>TOTAL GENERAL  tn</td>\n      <td>...</td>\n      <td>TOTAL GENERAL  tn</td>\n      <td>TOTAL GENERAL  tn</td>\n      <td>TOTAL GENERAL  tn</td>\n      <td>TOTAL GENERAL  tn</td>\n      <td>TOTAL GENERAL  tn</td>\n      <td>TOTAL GENERAL</td>\n      <td>TOTAL GENERAL  tn</td>\n      <td>TOTAL GENERAL  tn</td>\n      <td>TOTAL GENERAL  tn</td>\n      <td>TOTAL GENERAL  tn</td>\n    </tr>\n    <tr>\n      <th>2</th>\n      <td>47245057</td>\n      <td>12180380</td>\n      <td>58811441</td>\n      <td>3720678</td>\n      <td>121957556</td>\n      <td>44921844</td>\n      <td>4270531</td>\n      <td>62226693</td>\n      <td>4067227</td>\n      <td>115486295</td>\n      <td>...</td>\n      <td>53081624</td>\n      <td>6665117</td>\n      <td>49643268</td>\n      <td>3398695</td>\n      <td>112788703</td>\n      <td>TOTAL GENERAL  tn</td>\n      <td>5713515</td>\n      <td>49464293</td>\n      <td>2934780</td>\n      <td>132687982</td>\n    </tr>\n  </tbody>\n</table>\n<p>3 rows × 45 columns</p>\n</div>"
     },
     "metadata": {},
     "execution_count": 19
    }
   ],
   "source": [
    "gestion.head()"
   ]
  },
  {
   "cell_type": "code",
   "execution_count": 20,
   "metadata": {},
   "outputs": [],
   "source": [
    "gestion_clean= gestion.T"
   ]
  },
  {
   "cell_type": "code",
   "execution_count": 21,
   "metadata": {},
   "outputs": [],
   "source": [
    "#PASO LA PRIMERA COLUMNA PARA LUEGO CAMBIAR EL  NOMBRE\n",
    "gestion_clean.columns = gestion_clean.iloc[0]\n",
    "gestion_clean = gestion_clean[1:] "
   ]
  },
  {
   "cell_type": "code",
   "execution_count": 22,
   "metadata": {},
   "outputs": [
    {
     "output_type": "execute_result",
     "data": {
      "text/plain": [
       "2018              Recuperación  TOTAL GENERAL  tn   47245057\n",
       "2018.1  Operaciones de relleno  TOTAL GENERAL  tn   12180380\n",
       "2018.2                 Vertido      TOTAL GENERAL   58811441\n",
       "2018.3            Incineración  TOTAL GENERAL  tn    3720678\n",
       "2018.4                   Total  TOTAL GENERAL  tn  121957556\n",
       "2017              Recuperación  TOTAL GENERAL  tn   44921844"
      ],
      "text/html": "<div>\n<style scoped>\n    .dataframe tbody tr th:only-of-type {\n        vertical-align: middle;\n    }\n\n    .dataframe tbody tr th {\n        vertical-align: top;\n    }\n\n    .dataframe thead th {\n        text-align: right;\n    }\n</style>\n<table border=\"1\" class=\"dataframe\">\n  <thead>\n    <tr style=\"text-align: right;\">\n      <th>2018</th>\n      <th>Recuperación</th>\n      <th>TOTAL GENERAL  tn</th>\n      <th>47245057</th>\n    </tr>\n  </thead>\n  <tbody>\n    <tr>\n      <th>2018.1</th>\n      <td>Operaciones de relleno</td>\n      <td>TOTAL GENERAL  tn</td>\n      <td>12180380</td>\n    </tr>\n    <tr>\n      <th>2018.2</th>\n      <td>Vertido</td>\n      <td>TOTAL GENERAL</td>\n      <td>58811441</td>\n    </tr>\n    <tr>\n      <th>2018.3</th>\n      <td>Incineración</td>\n      <td>TOTAL GENERAL  tn</td>\n      <td>3720678</td>\n    </tr>\n    <tr>\n      <th>2018.4</th>\n      <td>Total</td>\n      <td>TOTAL GENERAL  tn</td>\n      <td>121957556</td>\n    </tr>\n    <tr>\n      <th>2017</th>\n      <td>Recuperación</td>\n      <td>TOTAL GENERAL  tn</td>\n      <td>44921844</td>\n    </tr>\n  </tbody>\n</table>\n</div>"
     },
     "metadata": {},
     "execution_count": 22
    }
   ],
   "source": [
    "gestion_clean.head()"
   ]
  },
  {
   "cell_type": "code",
   "execution_count": 24,
   "metadata": {},
   "outputs": [],
   "source": [
    "recoleccion = pd.read_csv(\"recoleccion_clean.csv\")"
   ]
  },
  {
   "cell_type": "code",
   "execution_count": 25,
   "metadata": {},
   "outputs": [
    {
     "output_type": "execute_result",
     "data": {
      "text/plain": [
       "      Año           Comunidad Autonoma  Residuos domésticos y vias  \\\n",
       "0    2018               Total nacional                    17611068   \n",
       "1    2018                    Andalucía                     3755593   \n",
       "2    2018                       Aragón                      475448   \n",
       "3    2018      Asturias, Principado de                      388505   \n",
       "4    2018               Balears, Illes                      672375   \n",
       "..    ...                          ...                         ...   \n",
       "157  2010         Madrid, Comunidad de                     2108673   \n",
       "158  2010            Murcia, Región de                      711540   \n",
       "159  2010  Navarra, Comunidad Foral de                      185635   \n",
       "160  2010                   País Vasco                      694220   \n",
       "161  2010                    Rioja, La                      111409   \n",
       "\n",
       "     Voluminosos  Metálicos  Vidrio  Papel y carton  Plasticos  Madera  \\\n",
       "0         673495      27875  834764         1067384      24050  136153   \n",
       "1         153300       1600  108768          117131       1677   12520   \n",
       "2          24205        324   18939           28910        251    3276   \n",
       "3          15404        813   16425           41766        943    3534   \n",
       "4          65140       7982   40752           54341        407    2752   \n",
       "..           ...        ...     ...             ...        ...     ...   \n",
       "157        66879       4273   82497          160181      38083    5555   \n",
       "158        15924        817   74000           22561       4404     871   \n",
       "159        10709       1894   16168           30090       2512    4831   \n",
       "160        24083       2402   54075          169542       7922   22625   \n",
       "161         1276          0    6496            9187          0    1153   \n",
       "\n",
       "     Textiles  Equipos electricos  pilas  animales  Envases mixtos  lodos  \\\n",
       "0       40344               58733   1890   1010016          743556      0   \n",
       "1        3269                5036    108     92395           94281      0   \n",
       "2         571                1226     12      8503           19142      0   \n",
       "3        1234                2260     21      4879           12696      0   \n",
       "4         742                5105     19     54262           35189      0   \n",
       "..        ...                 ...    ...       ...             ...    ...   \n",
       "157       317               10253    293     52720          141179      0   \n",
       "158        46                1752    218     52953           13236      1   \n",
       "159       858                3626    118     27200           20135   2245   \n",
       "160      1097                2092    157     16071           31046    668   \n",
       "161        11                 266      7         0            4717      0   \n",
       "\n",
       "     construccion  Otros  TOTAL RESIDUOS MEZCLADOS  \\\n",
       "0          472548   1891                  18284563   \n",
       "1           81204    374                   3908893   \n",
       "2           69649      2                    499653   \n",
       "3           12409     44                    403909   \n",
       "4           19402     19                    737515   \n",
       "..            ...    ...                       ...   \n",
       "157         16930  17379                   2175552   \n",
       "158           472   8708                    727464   \n",
       "159           462  10661                    196344   \n",
       "160         42783   7270                    718303   \n",
       "161             0      1                    112685   \n",
       "\n",
       "     TOTAL RESIDUOS DE RECOGIDA SEPARADA  TOTAL RESIDUOS  \n",
       "0                                4419204        22703767  \n",
       "1                                 518363         4427256  \n",
       "2                                 150805          650458  \n",
       "3                                  97024          500933  \n",
       "4                                 220972          958487  \n",
       "..                                   ...             ...  \n",
       "157                               529660         2705212  \n",
       "158                               180039          907503  \n",
       "159                               120800          317144  \n",
       "160                               357750         1076053  \n",
       "161                                21838          134523  \n",
       "\n",
       "[162 rows x 20 columns]"
      ],
      "text/html": "<div>\n<style scoped>\n    .dataframe tbody tr th:only-of-type {\n        vertical-align: middle;\n    }\n\n    .dataframe tbody tr th {\n        vertical-align: top;\n    }\n\n    .dataframe thead th {\n        text-align: right;\n    }\n</style>\n<table border=\"1\" class=\"dataframe\">\n  <thead>\n    <tr style=\"text-align: right;\">\n      <th></th>\n      <th>Año</th>\n      <th>Comunidad Autonoma</th>\n      <th>Residuos domésticos y vias</th>\n      <th>Voluminosos</th>\n      <th>Metálicos</th>\n      <th>Vidrio</th>\n      <th>Papel y carton</th>\n      <th>Plasticos</th>\n      <th>Madera</th>\n      <th>Textiles</th>\n      <th>Equipos electricos</th>\n      <th>pilas</th>\n      <th>animales</th>\n      <th>Envases mixtos</th>\n      <th>lodos</th>\n      <th>construccion</th>\n      <th>Otros</th>\n      <th>TOTAL RESIDUOS MEZCLADOS</th>\n      <th>TOTAL RESIDUOS DE RECOGIDA SEPARADA</th>\n      <th>TOTAL RESIDUOS</th>\n    </tr>\n  </thead>\n  <tbody>\n    <tr>\n      <th>0</th>\n      <td>2018</td>\n      <td>Total nacional</td>\n      <td>17611068</td>\n      <td>673495</td>\n      <td>27875</td>\n      <td>834764</td>\n      <td>1067384</td>\n      <td>24050</td>\n      <td>136153</td>\n      <td>40344</td>\n      <td>58733</td>\n      <td>1890</td>\n      <td>1010016</td>\n      <td>743556</td>\n      <td>0</td>\n      <td>472548</td>\n      <td>1891</td>\n      <td>18284563</td>\n      <td>4419204</td>\n      <td>22703767</td>\n    </tr>\n    <tr>\n      <th>1</th>\n      <td>2018</td>\n      <td>Andalucía</td>\n      <td>3755593</td>\n      <td>153300</td>\n      <td>1600</td>\n      <td>108768</td>\n      <td>117131</td>\n      <td>1677</td>\n      <td>12520</td>\n      <td>3269</td>\n      <td>5036</td>\n      <td>108</td>\n      <td>92395</td>\n      <td>94281</td>\n      <td>0</td>\n      <td>81204</td>\n      <td>374</td>\n      <td>3908893</td>\n      <td>518363</td>\n      <td>4427256</td>\n    </tr>\n    <tr>\n      <th>2</th>\n      <td>2018</td>\n      <td>Aragón</td>\n      <td>475448</td>\n      <td>24205</td>\n      <td>324</td>\n      <td>18939</td>\n      <td>28910</td>\n      <td>251</td>\n      <td>3276</td>\n      <td>571</td>\n      <td>1226</td>\n      <td>12</td>\n      <td>8503</td>\n      <td>19142</td>\n      <td>0</td>\n      <td>69649</td>\n      <td>2</td>\n      <td>499653</td>\n      <td>150805</td>\n      <td>650458</td>\n    </tr>\n    <tr>\n      <th>3</th>\n      <td>2018</td>\n      <td>Asturias, Principado de</td>\n      <td>388505</td>\n      <td>15404</td>\n      <td>813</td>\n      <td>16425</td>\n      <td>41766</td>\n      <td>943</td>\n      <td>3534</td>\n      <td>1234</td>\n      <td>2260</td>\n      <td>21</td>\n      <td>4879</td>\n      <td>12696</td>\n      <td>0</td>\n      <td>12409</td>\n      <td>44</td>\n      <td>403909</td>\n      <td>97024</td>\n      <td>500933</td>\n    </tr>\n    <tr>\n      <th>4</th>\n      <td>2018</td>\n      <td>Balears, Illes</td>\n      <td>672375</td>\n      <td>65140</td>\n      <td>7982</td>\n      <td>40752</td>\n      <td>54341</td>\n      <td>407</td>\n      <td>2752</td>\n      <td>742</td>\n      <td>5105</td>\n      <td>19</td>\n      <td>54262</td>\n      <td>35189</td>\n      <td>0</td>\n      <td>19402</td>\n      <td>19</td>\n      <td>737515</td>\n      <td>220972</td>\n      <td>958487</td>\n    </tr>\n    <tr>\n      <th>...</th>\n      <td>...</td>\n      <td>...</td>\n      <td>...</td>\n      <td>...</td>\n      <td>...</td>\n      <td>...</td>\n      <td>...</td>\n      <td>...</td>\n      <td>...</td>\n      <td>...</td>\n      <td>...</td>\n      <td>...</td>\n      <td>...</td>\n      <td>...</td>\n      <td>...</td>\n      <td>...</td>\n      <td>...</td>\n      <td>...</td>\n      <td>...</td>\n      <td>...</td>\n    </tr>\n    <tr>\n      <th>157</th>\n      <td>2010</td>\n      <td>Madrid, Comunidad de</td>\n      <td>2108673</td>\n      <td>66879</td>\n      <td>4273</td>\n      <td>82497</td>\n      <td>160181</td>\n      <td>38083</td>\n      <td>5555</td>\n      <td>317</td>\n      <td>10253</td>\n      <td>293</td>\n      <td>52720</td>\n      <td>141179</td>\n      <td>0</td>\n      <td>16930</td>\n      <td>17379</td>\n      <td>2175552</td>\n      <td>529660</td>\n      <td>2705212</td>\n    </tr>\n    <tr>\n      <th>158</th>\n      <td>2010</td>\n      <td>Murcia, Región de</td>\n      <td>711540</td>\n      <td>15924</td>\n      <td>817</td>\n      <td>74000</td>\n      <td>22561</td>\n      <td>4404</td>\n      <td>871</td>\n      <td>46</td>\n      <td>1752</td>\n      <td>218</td>\n      <td>52953</td>\n      <td>13236</td>\n      <td>1</td>\n      <td>472</td>\n      <td>8708</td>\n      <td>727464</td>\n      <td>180039</td>\n      <td>907503</td>\n    </tr>\n    <tr>\n      <th>159</th>\n      <td>2010</td>\n      <td>Navarra, Comunidad Foral de</td>\n      <td>185635</td>\n      <td>10709</td>\n      <td>1894</td>\n      <td>16168</td>\n      <td>30090</td>\n      <td>2512</td>\n      <td>4831</td>\n      <td>858</td>\n      <td>3626</td>\n      <td>118</td>\n      <td>27200</td>\n      <td>20135</td>\n      <td>2245</td>\n      <td>462</td>\n      <td>10661</td>\n      <td>196344</td>\n      <td>120800</td>\n      <td>317144</td>\n    </tr>\n    <tr>\n      <th>160</th>\n      <td>2010</td>\n      <td>País Vasco</td>\n      <td>694220</td>\n      <td>24083</td>\n      <td>2402</td>\n      <td>54075</td>\n      <td>169542</td>\n      <td>7922</td>\n      <td>22625</td>\n      <td>1097</td>\n      <td>2092</td>\n      <td>157</td>\n      <td>16071</td>\n      <td>31046</td>\n      <td>668</td>\n      <td>42783</td>\n      <td>7270</td>\n      <td>718303</td>\n      <td>357750</td>\n      <td>1076053</td>\n    </tr>\n    <tr>\n      <th>161</th>\n      <td>2010</td>\n      <td>Rioja, La</td>\n      <td>111409</td>\n      <td>1276</td>\n      <td>0</td>\n      <td>6496</td>\n      <td>9187</td>\n      <td>0</td>\n      <td>1153</td>\n      <td>11</td>\n      <td>266</td>\n      <td>7</td>\n      <td>0</td>\n      <td>4717</td>\n      <td>0</td>\n      <td>0</td>\n      <td>1</td>\n      <td>112685</td>\n      <td>21838</td>\n      <td>134523</td>\n    </tr>\n  </tbody>\n</table>\n<p>162 rows × 20 columns</p>\n</div>"
     },
     "metadata": {},
     "execution_count": 25
    }
   ],
   "source": [
    "recoleccion"
   ]
  },
  {
   "cell_type": "code",
   "execution_count": null,
   "metadata": {},
   "outputs": [],
   "source": []
  }
 ]
}