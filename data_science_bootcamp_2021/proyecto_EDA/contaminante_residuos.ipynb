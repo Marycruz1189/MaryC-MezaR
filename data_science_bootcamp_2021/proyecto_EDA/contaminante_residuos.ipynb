{
 "metadata": {
  "language_info": {
   "codemirror_mode": {
    "name": "ipython",
    "version": 3
   },
   "file_extension": ".py",
   "mimetype": "text/x-python",
   "name": "python",
   "nbconvert_exporter": "python",
   "pygments_lexer": "ipython3",
   "version": "3.7.4"
  },
  "orig_nbformat": 2,
  "kernelspec": {
   "name": "python374jvsc74a57bd0a9b83ec4160fc914f5169c2fc0bc9ab1c02e189a457abfa966969b692f6336e9",
   "display_name": "Python 3.7.4 64-bit"
  },
  "metadata": {
   "interpreter": {
    "hash": "a9b83ec4160fc914f5169c2fc0bc9ab1c02e189a457abfa966969b692f6336e9"
   }
  }
 },
 "nbformat": 4,
 "nbformat_minor": 2,
 "cells": [
  {
   "source": [
    "## EMISION DE GASES EFECTO INVERNADERO"
   ],
   "cell_type": "markdown",
   "metadata": {}
  },
  {
   "cell_type": "code",
   "execution_count": 1,
   "metadata": {},
   "outputs": [],
   "source": [
    "import pandas as pd\n",
    "import numpy as np"
   ]
  },
  {
   "cell_type": "code",
   "execution_count": 3,
   "metadata": {},
   "outputs": [
    {
     "output_type": "execute_result",
     "data": {
      "text/plain": [
       "     ANNO   SECTOR ACTIVIDAD  \\\n",
       "0    2010  J_Waste        5A   \n",
       "1    2010  J_Waste       5B1   \n",
       "2    2010  J_Waste       5B2   \n",
       "3    2010  J_Waste      5C1a   \n",
       "4    2010  J_Waste     5C1bi   \n",
       "..    ...      ...       ...   \n",
       "145  2019  J_Waste       5C2   \n",
       "146  2019  J_Waste       5D1   \n",
       "147  2019  J_Waste       5D2   \n",
       "148  2019  J_Waste       5D3   \n",
       "149  2019  J_Waste        5E   \n",
       "\n",
       "                                           DESCRIPCION        NO2      NMVOC  \\\n",
       "0    Biological treatment of waste - Solid waste di...   0.012060   4.255421   \n",
       "1           Biological treatment of waste - Composting   0.000000   0.000000   \n",
       "2    Biological treatment of waste - Anaerobic dige...   0.001835   0.000000   \n",
       "3                         Municipal waste incineration   0.000000   0.000000   \n",
       "4                        Industrial waste incineration   0.000000   0.000000   \n",
       "..                                                 ...        ...        ...   \n",
       "145                              Open burning of waste  16.561077  17.641147   \n",
       "146                       Domestic wastewater handling   0.006856   0.071834   \n",
       "147                     Industrial wastewater handling   0.003129   0.024939   \n",
       "148                          Other wastewater handling   0.000000   0.000000   \n",
       "149                Other waste (please specify in IIR)   0.000000   0.012628   \n",
       "\n",
       "          SOX       NH3      PM2_5       PM10  ...       DIOX  BEN_A_PI  \\\n",
       "0    0.000000  0.000000   0.005535   0.008467  ...   0.000000  0.000000   \n",
       "1    0.000000  1.087810   0.000000   0.000000  ...   0.000000  0.000000   \n",
       "2    0.000000  0.085614   0.000763   0.000763  ...   0.000000  0.000000   \n",
       "3    0.000000  0.000000   0.000000   0.000000  ...   0.000000  0.000000   \n",
       "4    0.000000  0.000000   0.000000   0.000000  ...   0.000000  0.000000   \n",
       "..        ...       ...        ...        ...  ...        ...       ...   \n",
       "145  0.360023  0.000000  45.122933  49.563222  ...   6.000390  0.129239   \n",
       "146  0.000000  0.000000   0.002848   0.002848  ...   0.000000  0.000000   \n",
       "147  0.000000  0.000000   0.001301   0.001301  ...   0.000000  0.000000   \n",
       "148  0.000000  2.110270   0.000000   0.000000  ...   0.000000  0.000000   \n",
       "149  0.000000  0.001514   1.627843   1.627843  ...  16.672112  0.000000   \n",
       "\n",
       "     BEN_B_FL  BEN_K_FL  INDENO       PAH  HCB  PCB  Unnamed: 30  Unnamed: 31  \n",
       "0    0.000000  0.000000     0.0  0.000000  0.0  0.0          NaN          NaN  \n",
       "1    0.000000  0.000000     0.0  0.000000  0.0  0.0          NaN          NaN  \n",
       "2    0.000000  0.000000     0.0  0.000000  0.0  0.0          NaN          NaN  \n",
       "3    0.000000  0.000000     0.0  0.000000  0.0  0.0          NaN          NaN  \n",
       "4    0.000000  0.000000     0.0  0.000000  0.0  0.0          NaN          NaN  \n",
       "..        ...       ...     ...       ...  ...  ...          ...          ...  \n",
       "145  0.249247  0.221553     0.0  0.600039  0.0  0.0          NaN          NaN  \n",
       "146  0.000000  0.000000     0.0  0.000000  0.0  0.0          NaN          NaN  \n",
       "147  0.000000  0.000000     0.0  0.000000  0.0  0.0          NaN          NaN  \n",
       "148  0.000000  0.000000     0.0  0.000000  0.0  0.0          NaN          NaN  \n",
       "149  0.000000  0.000000     0.0  0.000000  0.0  0.0          NaN          NaN  \n",
       "\n",
       "[150 rows x 32 columns]"
      ],
      "text/html": "<div>\n<style scoped>\n    .dataframe tbody tr th:only-of-type {\n        vertical-align: middle;\n    }\n\n    .dataframe tbody tr th {\n        vertical-align: top;\n    }\n\n    .dataframe thead th {\n        text-align: right;\n    }\n</style>\n<table border=\"1\" class=\"dataframe\">\n  <thead>\n    <tr style=\"text-align: right;\">\n      <th></th>\n      <th>ANNO</th>\n      <th>SECTOR</th>\n      <th>ACTIVIDAD</th>\n      <th>DESCRIPCION</th>\n      <th>NO2</th>\n      <th>NMVOC</th>\n      <th>SOX</th>\n      <th>NH3</th>\n      <th>PM2_5</th>\n      <th>PM10</th>\n      <th>...</th>\n      <th>DIOX</th>\n      <th>BEN_A_PI</th>\n      <th>BEN_B_FL</th>\n      <th>BEN_K_FL</th>\n      <th>INDENO</th>\n      <th>PAH</th>\n      <th>HCB</th>\n      <th>PCB</th>\n      <th>Unnamed: 30</th>\n      <th>Unnamed: 31</th>\n    </tr>\n  </thead>\n  <tbody>\n    <tr>\n      <th>0</th>\n      <td>2010</td>\n      <td>J_Waste</td>\n      <td>5A</td>\n      <td>Biological treatment of waste - Solid waste di...</td>\n      <td>0.012060</td>\n      <td>4.255421</td>\n      <td>0.000000</td>\n      <td>0.000000</td>\n      <td>0.005535</td>\n      <td>0.008467</td>\n      <td>...</td>\n      <td>0.000000</td>\n      <td>0.000000</td>\n      <td>0.000000</td>\n      <td>0.000000</td>\n      <td>0.0</td>\n      <td>0.000000</td>\n      <td>0.0</td>\n      <td>0.0</td>\n      <td>NaN</td>\n      <td>NaN</td>\n    </tr>\n    <tr>\n      <th>1</th>\n      <td>2010</td>\n      <td>J_Waste</td>\n      <td>5B1</td>\n      <td>Biological treatment of waste - Composting</td>\n      <td>0.000000</td>\n      <td>0.000000</td>\n      <td>0.000000</td>\n      <td>1.087810</td>\n      <td>0.000000</td>\n      <td>0.000000</td>\n      <td>...</td>\n      <td>0.000000</td>\n      <td>0.000000</td>\n      <td>0.000000</td>\n      <td>0.000000</td>\n      <td>0.0</td>\n      <td>0.000000</td>\n      <td>0.0</td>\n      <td>0.0</td>\n      <td>NaN</td>\n      <td>NaN</td>\n    </tr>\n    <tr>\n      <th>2</th>\n      <td>2010</td>\n      <td>J_Waste</td>\n      <td>5B2</td>\n      <td>Biological treatment of waste - Anaerobic dige...</td>\n      <td>0.001835</td>\n      <td>0.000000</td>\n      <td>0.000000</td>\n      <td>0.085614</td>\n      <td>0.000763</td>\n      <td>0.000763</td>\n      <td>...</td>\n      <td>0.000000</td>\n      <td>0.000000</td>\n      <td>0.000000</td>\n      <td>0.000000</td>\n      <td>0.0</td>\n      <td>0.000000</td>\n      <td>0.0</td>\n      <td>0.0</td>\n      <td>NaN</td>\n      <td>NaN</td>\n    </tr>\n    <tr>\n      <th>3</th>\n      <td>2010</td>\n      <td>J_Waste</td>\n      <td>5C1a</td>\n      <td>Municipal waste incineration</td>\n      <td>0.000000</td>\n      <td>0.000000</td>\n      <td>0.000000</td>\n      <td>0.000000</td>\n      <td>0.000000</td>\n      <td>0.000000</td>\n      <td>...</td>\n      <td>0.000000</td>\n      <td>0.000000</td>\n      <td>0.000000</td>\n      <td>0.000000</td>\n      <td>0.0</td>\n      <td>0.000000</td>\n      <td>0.0</td>\n      <td>0.0</td>\n      <td>NaN</td>\n      <td>NaN</td>\n    </tr>\n    <tr>\n      <th>4</th>\n      <td>2010</td>\n      <td>J_Waste</td>\n      <td>5C1bi</td>\n      <td>Industrial waste incineration</td>\n      <td>0.000000</td>\n      <td>0.000000</td>\n      <td>0.000000</td>\n      <td>0.000000</td>\n      <td>0.000000</td>\n      <td>0.000000</td>\n      <td>...</td>\n      <td>0.000000</td>\n      <td>0.000000</td>\n      <td>0.000000</td>\n      <td>0.000000</td>\n      <td>0.0</td>\n      <td>0.000000</td>\n      <td>0.0</td>\n      <td>0.0</td>\n      <td>NaN</td>\n      <td>NaN</td>\n    </tr>\n    <tr>\n      <th>...</th>\n      <td>...</td>\n      <td>...</td>\n      <td>...</td>\n      <td>...</td>\n      <td>...</td>\n      <td>...</td>\n      <td>...</td>\n      <td>...</td>\n      <td>...</td>\n      <td>...</td>\n      <td>...</td>\n      <td>...</td>\n      <td>...</td>\n      <td>...</td>\n      <td>...</td>\n      <td>...</td>\n      <td>...</td>\n      <td>...</td>\n      <td>...</td>\n      <td>...</td>\n      <td>...</td>\n    </tr>\n    <tr>\n      <th>145</th>\n      <td>2019</td>\n      <td>J_Waste</td>\n      <td>5C2</td>\n      <td>Open burning of waste</td>\n      <td>16.561077</td>\n      <td>17.641147</td>\n      <td>0.360023</td>\n      <td>0.000000</td>\n      <td>45.122933</td>\n      <td>49.563222</td>\n      <td>...</td>\n      <td>6.000390</td>\n      <td>0.129239</td>\n      <td>0.249247</td>\n      <td>0.221553</td>\n      <td>0.0</td>\n      <td>0.600039</td>\n      <td>0.0</td>\n      <td>0.0</td>\n      <td>NaN</td>\n      <td>NaN</td>\n    </tr>\n    <tr>\n      <th>146</th>\n      <td>2019</td>\n      <td>J_Waste</td>\n      <td>5D1</td>\n      <td>Domestic wastewater handling</td>\n      <td>0.006856</td>\n      <td>0.071834</td>\n      <td>0.000000</td>\n      <td>0.000000</td>\n      <td>0.002848</td>\n      <td>0.002848</td>\n      <td>...</td>\n      <td>0.000000</td>\n      <td>0.000000</td>\n      <td>0.000000</td>\n      <td>0.000000</td>\n      <td>0.0</td>\n      <td>0.000000</td>\n      <td>0.0</td>\n      <td>0.0</td>\n      <td>NaN</td>\n      <td>NaN</td>\n    </tr>\n    <tr>\n      <th>147</th>\n      <td>2019</td>\n      <td>J_Waste</td>\n      <td>5D2</td>\n      <td>Industrial wastewater handling</td>\n      <td>0.003129</td>\n      <td>0.024939</td>\n      <td>0.000000</td>\n      <td>0.000000</td>\n      <td>0.001301</td>\n      <td>0.001301</td>\n      <td>...</td>\n      <td>0.000000</td>\n      <td>0.000000</td>\n      <td>0.000000</td>\n      <td>0.000000</td>\n      <td>0.0</td>\n      <td>0.000000</td>\n      <td>0.0</td>\n      <td>0.0</td>\n      <td>NaN</td>\n      <td>NaN</td>\n    </tr>\n    <tr>\n      <th>148</th>\n      <td>2019</td>\n      <td>J_Waste</td>\n      <td>5D3</td>\n      <td>Other wastewater handling</td>\n      <td>0.000000</td>\n      <td>0.000000</td>\n      <td>0.000000</td>\n      <td>2.110270</td>\n      <td>0.000000</td>\n      <td>0.000000</td>\n      <td>...</td>\n      <td>0.000000</td>\n      <td>0.000000</td>\n      <td>0.000000</td>\n      <td>0.000000</td>\n      <td>0.0</td>\n      <td>0.000000</td>\n      <td>0.0</td>\n      <td>0.0</td>\n      <td>NaN</td>\n      <td>NaN</td>\n    </tr>\n    <tr>\n      <th>149</th>\n      <td>2019</td>\n      <td>J_Waste</td>\n      <td>5E</td>\n      <td>Other waste (please specify in IIR)</td>\n      <td>0.000000</td>\n      <td>0.012628</td>\n      <td>0.000000</td>\n      <td>0.001514</td>\n      <td>1.627843</td>\n      <td>1.627843</td>\n      <td>...</td>\n      <td>16.672112</td>\n      <td>0.000000</td>\n      <td>0.000000</td>\n      <td>0.000000</td>\n      <td>0.0</td>\n      <td>0.000000</td>\n      <td>0.0</td>\n      <td>0.0</td>\n      <td>NaN</td>\n      <td>NaN</td>\n    </tr>\n  </tbody>\n</table>\n<p>150 rows × 32 columns</p>\n</div>"
     },
     "metadata": {},
     "execution_count": 3
    }
   ],
   "source": [
    "emisiones = pd.read_excel(\"data/total contaminantes nacional.xlsx\")\n",
    "emisiones"
   ]
  },
  {
   "cell_type": "code",
   "execution_count": null,
   "metadata": {},
   "outputs": [],
   "source": []
  }
 ]
}