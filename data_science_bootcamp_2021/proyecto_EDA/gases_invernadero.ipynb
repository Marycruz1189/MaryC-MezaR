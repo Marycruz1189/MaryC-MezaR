{
 "metadata": {
  "language_info": {
   "codemirror_mode": {
    "name": "ipython",
    "version": 3
   },
   "file_extension": ".py",
   "mimetype": "text/x-python",
   "name": "python",
   "nbconvert_exporter": "python",
   "pygments_lexer": "ipython3",
   "version": "3.7.4"
  },
  "orig_nbformat": 2,
  "kernelspec": {
   "name": "python374jvsc74a57bd0a9b83ec4160fc914f5169c2fc0bc9ab1c02e189a457abfa966969b692f6336e9",
   "display_name": "Python 3.7.4 64-bit"
  },
  "metadata": {
   "interpreter": {
    "hash": "a9b83ec4160fc914f5169c2fc0bc9ab1c02e189a457abfa966969b692f6336e9"
   }
  }
 },
 "nbformat": 4,
 "nbformat_minor": 2,
 "cells": [
  {
   "source": [
    "## GASES DE EFECTO INVERNADERO"
   ],
   "cell_type": "markdown",
   "metadata": {}
  },
  {
   "cell_type": "code",
   "execution_count": 2,
   "metadata": {},
   "outputs": [],
   "source": [
    "import pandas as pd\n",
    "import numpy as np"
   ]
  },
  {
   "cell_type": "code",
   "execution_count": 3,
   "metadata": {},
   "outputs": [
    {
     "output_type": "execute_result",
     "data": {
      "text/plain": [
       "                                            VALORES    2019   2018    2017  \\\n",
       "0  Total de Emisiones de Gases Efecto Invernadero...    NaN    NaN     NaN   \n",
       "1      Valor: PER CÁPITA=Toneladas CO2 equivalent...   6.86   7.34    7.49   \n",
       "2      Índices de volumen encadenados (año 2015=100)  92.20  98.50  100.60   \n",
       "3                      Tasas de variación interanual  -6.50  -2.10    3.90   \n",
       "4  Total de Emisiones de Gases Efecto Invernadero...    NaN    NaN     NaN   \n",
       "5      Valor: PER CÁPITA=Toneladas CO2 equivalent...   0.27   0.29    0.30   \n",
       "6      Índices de volumen encadenados (año 2015=100)  84.40  91.30   95.10   \n",
       "7                      Tasas de variación interanual  -7.50  -4.00    1.10   \n",
       "\n",
       "    2016    2015    2014    2013    2012    2011    2010    2009   2008  \n",
       "0    NaN     NaN     NaN     NaN     NaN     NaN     NaN     NaN    NaN  \n",
       "1   7.21    7.45    7.18    7.09    7.63    7.79    7.84    8.19   9.14  \n",
       "2  96.80  100.00   96.50   95.30  102.40  104.60  105.20  110.00  122.7  \n",
       "3  -3.20    3.70    1.30   -7.00   -2.10   -0.60   -4.30  -10.40     ..  \n",
       "4    NaN     NaN     NaN     NaN     NaN     NaN     NaN     NaN    NaN  \n",
       "5   0.30    0.32    0.32    0.32    0.34    0.34    0.34    0.35   0.38  \n",
       "6  94.10  100.00  100.30  100.70  107.10  106.00  105.40  109.90  117.1  \n",
       "7  -5.90   -0.30   -0.40   -6.00    1.00    0.60   -4.10   -6.10     ..  "
      ],
      "text/html": "<div>\n<style scoped>\n    .dataframe tbody tr th:only-of-type {\n        vertical-align: middle;\n    }\n\n    .dataframe tbody tr th {\n        vertical-align: top;\n    }\n\n    .dataframe thead th {\n        text-align: right;\n    }\n</style>\n<table border=\"1\" class=\"dataframe\">\n  <thead>\n    <tr style=\"text-align: right;\">\n      <th></th>\n      <th>VALORES</th>\n      <th>2019</th>\n      <th>2018</th>\n      <th>2017</th>\n      <th>2016</th>\n      <th>2015</th>\n      <th>2014</th>\n      <th>2013</th>\n      <th>2012</th>\n      <th>2011</th>\n      <th>2010</th>\n      <th>2009</th>\n      <th>2008</th>\n    </tr>\n  </thead>\n  <tbody>\n    <tr>\n      <th>0</th>\n      <td>Total de Emisiones de Gases Efecto Invernadero...</td>\n      <td>NaN</td>\n      <td>NaN</td>\n      <td>NaN</td>\n      <td>NaN</td>\n      <td>NaN</td>\n      <td>NaN</td>\n      <td>NaN</td>\n      <td>NaN</td>\n      <td>NaN</td>\n      <td>NaN</td>\n      <td>NaN</td>\n      <td>NaN</td>\n    </tr>\n    <tr>\n      <th>1</th>\n      <td>Valor: PER CÁPITA=Toneladas CO2 equivalent...</td>\n      <td>6.86</td>\n      <td>7.34</td>\n      <td>7.49</td>\n      <td>7.21</td>\n      <td>7.45</td>\n      <td>7.18</td>\n      <td>7.09</td>\n      <td>7.63</td>\n      <td>7.79</td>\n      <td>7.84</td>\n      <td>8.19</td>\n      <td>9.14</td>\n    </tr>\n    <tr>\n      <th>2</th>\n      <td>Índices de volumen encadenados (año 2015=100)</td>\n      <td>92.20</td>\n      <td>98.50</td>\n      <td>100.60</td>\n      <td>96.80</td>\n      <td>100.00</td>\n      <td>96.50</td>\n      <td>95.30</td>\n      <td>102.40</td>\n      <td>104.60</td>\n      <td>105.20</td>\n      <td>110.00</td>\n      <td>122.7</td>\n    </tr>\n    <tr>\n      <th>3</th>\n      <td>Tasas de variación interanual</td>\n      <td>-6.50</td>\n      <td>-2.10</td>\n      <td>3.90</td>\n      <td>-3.20</td>\n      <td>3.70</td>\n      <td>1.30</td>\n      <td>-7.00</td>\n      <td>-2.10</td>\n      <td>-0.60</td>\n      <td>-4.30</td>\n      <td>-10.40</td>\n      <td>..</td>\n    </tr>\n    <tr>\n      <th>4</th>\n      <td>Total de Emisiones de Gases Efecto Invernadero...</td>\n      <td>NaN</td>\n      <td>NaN</td>\n      <td>NaN</td>\n      <td>NaN</td>\n      <td>NaN</td>\n      <td>NaN</td>\n      <td>NaN</td>\n      <td>NaN</td>\n      <td>NaN</td>\n      <td>NaN</td>\n      <td>NaN</td>\n      <td>NaN</td>\n    </tr>\n    <tr>\n      <th>5</th>\n      <td>Valor: PER CÁPITA=Toneladas CO2 equivalent...</td>\n      <td>0.27</td>\n      <td>0.29</td>\n      <td>0.30</td>\n      <td>0.30</td>\n      <td>0.32</td>\n      <td>0.32</td>\n      <td>0.32</td>\n      <td>0.34</td>\n      <td>0.34</td>\n      <td>0.34</td>\n      <td>0.35</td>\n      <td>0.38</td>\n    </tr>\n    <tr>\n      <th>6</th>\n      <td>Índices de volumen encadenados (año 2015=100)</td>\n      <td>84.40</td>\n      <td>91.30</td>\n      <td>95.10</td>\n      <td>94.10</td>\n      <td>100.00</td>\n      <td>100.30</td>\n      <td>100.70</td>\n      <td>107.10</td>\n      <td>106.00</td>\n      <td>105.40</td>\n      <td>109.90</td>\n      <td>117.1</td>\n    </tr>\n    <tr>\n      <th>7</th>\n      <td>Tasas de variación interanual</td>\n      <td>-7.50</td>\n      <td>-4.00</td>\n      <td>1.10</td>\n      <td>-5.90</td>\n      <td>-0.30</td>\n      <td>-0.40</td>\n      <td>-6.00</td>\n      <td>1.00</td>\n      <td>0.60</td>\n      <td>-4.10</td>\n      <td>-6.10</td>\n      <td>..</td>\n    </tr>\n  </tbody>\n</table>\n</div>"
     },
     "metadata": {},
     "execution_count": 3
    }
   ],
   "source": [
    "gases = pd.read_excel(\"data/Gases Efecto Invernadero por PIB y per cápita.xls\")\n",
    "gases"
   ]
  },
  {
   "cell_type": "code",
   "execution_count": null,
   "metadata": {},
   "outputs": [],
   "source": []
  }
 ]
}