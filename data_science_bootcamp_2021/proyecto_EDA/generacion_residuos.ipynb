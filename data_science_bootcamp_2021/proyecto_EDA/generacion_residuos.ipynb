{
 "metadata": {
  "language_info": {
   "codemirror_mode": {
    "name": "ipython",
    "version": 3
   },
   "file_extension": ".py",
   "mimetype": "text/x-python",
   "name": "python",
   "nbconvert_exporter": "python",
   "pygments_lexer": "ipython3",
   "version": "3.7.4"
  },
  "orig_nbformat": 2,
  "kernelspec": {
   "name": "python374jvsc74a57bd0a9b83ec4160fc914f5169c2fc0bc9ab1c02e189a457abfa966969b692f6336e9",
   "display_name": "Python 3.7.4 64-bit"
  },
  "metadata": {
   "interpreter": {
    "hash": "a9b83ec4160fc914f5169c2fc0bc9ab1c02e189a457abfa966969b692f6336e9"
   }
  }
 },
 "nbformat": 4,
 "nbformat_minor": 2,
 "cells": [
  {
   "source": [
    "## GENERACION DE RESIDUOS"
   ],
   "cell_type": "markdown",
   "metadata": {}
  },
  {
   "cell_type": "code",
   "execution_count": 126,
   "metadata": {},
   "outputs": [],
   "source": [
    "import pandas as pd\n",
    "import numpy as np\n",
    "import re"
   ]
  },
  {
   "cell_type": "code",
   "execution_count": 127,
   "metadata": {},
   "outputs": [],
   "source": [
    "recoleccion = pd.read_excel(\"data/recogida_residuos.xls\")"
   ]
  },
  {
   "cell_type": "code",
   "execution_count": 110,
   "metadata": {},
   "outputs": [
    {
     "output_type": "execute_result",
     "data": {
      "text/plain": [
       "                                                                2018  \\\n",
       "0                                                     Total nacional   \n",
       "1  10.1.1 Residuos domésticos y similares (domést...        17611068   \n",
       "2  10.1.2 Residuos domésticos voluminosos mezclad...          673495   \n",
       "3                              06 Residuos metálicos           27875   \n",
       "4                            07.1 Residuos de vidrio          834764   \n",
       "\n",
       "      2018.1  2018.2                   2018.3          2018.4    2018.5  \\\n",
       "0  Andalucía  Aragón  Asturias, Principado de  Balears, Illes  Canarias   \n",
       "1    3755593  475448                   388505          672375   1128714   \n",
       "2     153300   24205                    15404           65140     25440   \n",
       "3       1600     324                      813            7982      2305   \n",
       "4     108768   18939                    16425           40752     41243   \n",
       "\n",
       "      2018.6           2018.7                2018.8  ...  \\\n",
       "0  Cantabria  Castilla y León  Castilla - La Mancha  ...   \n",
       "1     246839           915396                849572  ...   \n",
       "2      23336            17151                  9959  ...   \n",
       "3        484              816                   531  ...   \n",
       "4      11261            49557                 21350  ...   \n",
       "\n",
       "                 2010.8    2010.9               2010.10      2010.11  2010.12  \\\n",
       "0  Castilla - La Mancha  Cataluña  Comunitat Valenciana  Extremadura  Galicia   \n",
       "1                968613   2441711               1869060       491529  1002349   \n",
       "2                 31588     77627                 59550        16706    23130   \n",
       "3                 11221     13187                  3290         1220      884   \n",
       "4                 20887    186378                 77146         8570    39096   \n",
       "\n",
       "                2010.13            2010.14                      2010.15  \\\n",
       "0  Madrid, Comunidad de  Murcia, Región de  Navarra, Comunidad Foral de   \n",
       "1               2108673             711540                       185635   \n",
       "2                 66879              15924                        10709   \n",
       "3                  4273                817                         1894   \n",
       "4                 82497              74000                        16168   \n",
       "\n",
       "      2010.16    2010.17  \n",
       "0  País Vasco  Rioja, La  \n",
       "1      694220     111409  \n",
       "2       24083       1276  \n",
       "3        2402          0  \n",
       "4       54075       6496  \n",
       "\n",
       "[5 rows x 163 columns]"
      ],
      "text/html": "<div>\n<style scoped>\n    .dataframe tbody tr th:only-of-type {\n        vertical-align: middle;\n    }\n\n    .dataframe tbody tr th {\n        vertical-align: top;\n    }\n\n    .dataframe thead th {\n        text-align: right;\n    }\n</style>\n<table border=\"1\" class=\"dataframe\">\n  <thead>\n    <tr style=\"text-align: right;\">\n      <th></th>\n      <th></th>\n      <th>2018</th>\n      <th>2018.1</th>\n      <th>2018.2</th>\n      <th>2018.3</th>\n      <th>2018.4</th>\n      <th>2018.5</th>\n      <th>2018.6</th>\n      <th>2018.7</th>\n      <th>2018.8</th>\n      <th>...</th>\n      <th>2010.8</th>\n      <th>2010.9</th>\n      <th>2010.10</th>\n      <th>2010.11</th>\n      <th>2010.12</th>\n      <th>2010.13</th>\n      <th>2010.14</th>\n      <th>2010.15</th>\n      <th>2010.16</th>\n      <th>2010.17</th>\n    </tr>\n  </thead>\n  <tbody>\n    <tr>\n      <th>0</th>\n      <td></td>\n      <td>Total nacional</td>\n      <td>Andalucía</td>\n      <td>Aragón</td>\n      <td>Asturias, Principado de</td>\n      <td>Balears, Illes</td>\n      <td>Canarias</td>\n      <td>Cantabria</td>\n      <td>Castilla y León</td>\n      <td>Castilla - La Mancha</td>\n      <td>...</td>\n      <td>Castilla - La Mancha</td>\n      <td>Cataluña</td>\n      <td>Comunitat Valenciana</td>\n      <td>Extremadura</td>\n      <td>Galicia</td>\n      <td>Madrid, Comunidad de</td>\n      <td>Murcia, Región de</td>\n      <td>Navarra, Comunidad Foral de</td>\n      <td>País Vasco</td>\n      <td>Rioja, La</td>\n    </tr>\n    <tr>\n      <th>1</th>\n      <td>10.1.1 Residuos domésticos y similares (domést...</td>\n      <td>17611068</td>\n      <td>3755593</td>\n      <td>475448</td>\n      <td>388505</td>\n      <td>672375</td>\n      <td>1128714</td>\n      <td>246839</td>\n      <td>915396</td>\n      <td>849572</td>\n      <td>...</td>\n      <td>968613</td>\n      <td>2441711</td>\n      <td>1869060</td>\n      <td>491529</td>\n      <td>1002349</td>\n      <td>2108673</td>\n      <td>711540</td>\n      <td>185635</td>\n      <td>694220</td>\n      <td>111409</td>\n    </tr>\n    <tr>\n      <th>2</th>\n      <td>10.1.2 Residuos domésticos voluminosos mezclad...</td>\n      <td>673495</td>\n      <td>153300</td>\n      <td>24205</td>\n      <td>15404</td>\n      <td>65140</td>\n      <td>25440</td>\n      <td>23336</td>\n      <td>17151</td>\n      <td>9959</td>\n      <td>...</td>\n      <td>31588</td>\n      <td>77627</td>\n      <td>59550</td>\n      <td>16706</td>\n      <td>23130</td>\n      <td>66879</td>\n      <td>15924</td>\n      <td>10709</td>\n      <td>24083</td>\n      <td>1276</td>\n    </tr>\n    <tr>\n      <th>3</th>\n      <td>06 Residuos metálicos</td>\n      <td>27875</td>\n      <td>1600</td>\n      <td>324</td>\n      <td>813</td>\n      <td>7982</td>\n      <td>2305</td>\n      <td>484</td>\n      <td>816</td>\n      <td>531</td>\n      <td>...</td>\n      <td>11221</td>\n      <td>13187</td>\n      <td>3290</td>\n      <td>1220</td>\n      <td>884</td>\n      <td>4273</td>\n      <td>817</td>\n      <td>1894</td>\n      <td>2402</td>\n      <td>0</td>\n    </tr>\n    <tr>\n      <th>4</th>\n      <td>07.1 Residuos de vidrio</td>\n      <td>834764</td>\n      <td>108768</td>\n      <td>18939</td>\n      <td>16425</td>\n      <td>40752</td>\n      <td>41243</td>\n      <td>11261</td>\n      <td>49557</td>\n      <td>21350</td>\n      <td>...</td>\n      <td>20887</td>\n      <td>186378</td>\n      <td>77146</td>\n      <td>8570</td>\n      <td>39096</td>\n      <td>82497</td>\n      <td>74000</td>\n      <td>16168</td>\n      <td>54075</td>\n      <td>6496</td>\n    </tr>\n  </tbody>\n</table>\n<p>5 rows × 163 columns</p>\n</div>"
     },
     "metadata": {},
     "execution_count": 110
    }
   ],
   "source": [
    "recoleccion.head()"
   ]
  },
  {
   "cell_type": "code",
   "execution_count": 128,
   "metadata": {},
   "outputs": [],
   "source": [
    "recoleccion_clean= recoleccion.T"
   ]
  },
  {
   "cell_type": "code",
   "execution_count": 129,
   "metadata": {},
   "outputs": [],
   "source": [
    "#PASO LA PRIMERA COLUMNA PARA LUEGO CAMBIAR EL  NOMBRE\n",
    "recoleccion_clean.columns = recoleccion_clean.iloc[0]\n",
    "recoleccion_clean = recoleccion_clean[1:] "
   ]
  },
  {
   "cell_type": "code",
   "execution_count": 130,
   "metadata": {},
   "outputs": [
    {
     "output_type": "execute_result",
     "data": {
      "text/plain": [
       "             Comunidad Autonoma Recoleccion-domésticos y vias  \\\n",
       "2018             Total nacional                      17611068   \n",
       "2018.1                Andalucía                       3755593   \n",
       "2018.2                   Aragón                        475448   \n",
       "2018.3  Asturias, Principado de                        388505   \n",
       "2018.4           Balears, Illes                        672375   \n",
       "\n",
       "       Recoleccion-voluminosos Recoleccion-metálicos Recoleccion-vidrio  \\\n",
       "2018                    673495                 27875             834764   \n",
       "2018.1                  153300                  1600             108768   \n",
       "2018.2                   24205                   324              18939   \n",
       "2018.3                   15404                   813              16425   \n",
       "2018.4                   65140                  7982              40752   \n",
       "\n",
       "       Recoleccion-papel y carton Recoleccion-plasticos Recoleccion-madera  \\\n",
       "2018                      1067384                 24050             136153   \n",
       "2018.1                     117131                  1677              12520   \n",
       "2018.2                      28910                   251               3276   \n",
       "2018.3                      41766                   943               3534   \n",
       "2018.4                      54341                   407               2752   \n",
       "\n",
       "       Recoleccion-textiles Recoleccion-eq. electricos Recoleccion-pilas  \\\n",
       "2018                  40344                      58733              1890   \n",
       "2018.1                 3269                       5036               108   \n",
       "2018.2                  571                       1226                12   \n",
       "2018.3                 1234                       2260                21   \n",
       "2018.4                  742                       5105                19   \n",
       "\n",
       "       Recoleccion-animales Recoleccion-Envases mixtos lodos  \\\n",
       "2018                1010016                     743556     0   \n",
       "2018.1                92395                      94281     0   \n",
       "2018.2                 8503                      19142     0   \n",
       "2018.3                 4879                      12696     0   \n",
       "2018.4                54262                      35189     0   \n",
       "\n",
       "       Recoleccion-construccion Recoleccion-otros TOTAL RESIDUOS MEZCLADOS  \\\n",
       "2018                     472548              1891                 18284563   \n",
       "2018.1                    81204               374                  3908893   \n",
       "2018.2                    69649                 2                   499653   \n",
       "2018.3                    12409                44                   403909   \n",
       "2018.4                    19402                19                   737515   \n",
       "\n",
       "       TOTAL RESIDUOS DE RECOGIDA SEPARADA TOTAL RESIDUOS  \n",
       "2018                               4419204       22703767  \n",
       "2018.1                              518363        4427256  \n",
       "2018.2                              150805         650458  \n",
       "2018.3                               97024         500933  \n",
       "2018.4                              220972         958487  "
      ],
      "text/html": "<div>\n<style scoped>\n    .dataframe tbody tr th:only-of-type {\n        vertical-align: middle;\n    }\n\n    .dataframe tbody tr th {\n        vertical-align: top;\n    }\n\n    .dataframe thead th {\n        text-align: right;\n    }\n</style>\n<table border=\"1\" class=\"dataframe\">\n  <thead>\n    <tr style=\"text-align: right;\">\n      <th></th>\n      <th>Comunidad Autonoma</th>\n      <th>Recoleccion-domésticos y vias</th>\n      <th>Recoleccion-voluminosos</th>\n      <th>Recoleccion-metálicos</th>\n      <th>Recoleccion-vidrio</th>\n      <th>Recoleccion-papel y carton</th>\n      <th>Recoleccion-plasticos</th>\n      <th>Recoleccion-madera</th>\n      <th>Recoleccion-textiles</th>\n      <th>Recoleccion-eq. electricos</th>\n      <th>Recoleccion-pilas</th>\n      <th>Recoleccion-animales</th>\n      <th>Recoleccion-Envases mixtos</th>\n      <th>lodos</th>\n      <th>Recoleccion-construccion</th>\n      <th>Recoleccion-otros</th>\n      <th>TOTAL RESIDUOS MEZCLADOS</th>\n      <th>TOTAL RESIDUOS DE RECOGIDA SEPARADA</th>\n      <th>TOTAL RESIDUOS</th>\n    </tr>\n  </thead>\n  <tbody>\n    <tr>\n      <th>2018</th>\n      <td>Total nacional</td>\n      <td>17611068</td>\n      <td>673495</td>\n      <td>27875</td>\n      <td>834764</td>\n      <td>1067384</td>\n      <td>24050</td>\n      <td>136153</td>\n      <td>40344</td>\n      <td>58733</td>\n      <td>1890</td>\n      <td>1010016</td>\n      <td>743556</td>\n      <td>0</td>\n      <td>472548</td>\n      <td>1891</td>\n      <td>18284563</td>\n      <td>4419204</td>\n      <td>22703767</td>\n    </tr>\n    <tr>\n      <th>2018.1</th>\n      <td>Andalucía</td>\n      <td>3755593</td>\n      <td>153300</td>\n      <td>1600</td>\n      <td>108768</td>\n      <td>117131</td>\n      <td>1677</td>\n      <td>12520</td>\n      <td>3269</td>\n      <td>5036</td>\n      <td>108</td>\n      <td>92395</td>\n      <td>94281</td>\n      <td>0</td>\n      <td>81204</td>\n      <td>374</td>\n      <td>3908893</td>\n      <td>518363</td>\n      <td>4427256</td>\n    </tr>\n    <tr>\n      <th>2018.2</th>\n      <td>Aragón</td>\n      <td>475448</td>\n      <td>24205</td>\n      <td>324</td>\n      <td>18939</td>\n      <td>28910</td>\n      <td>251</td>\n      <td>3276</td>\n      <td>571</td>\n      <td>1226</td>\n      <td>12</td>\n      <td>8503</td>\n      <td>19142</td>\n      <td>0</td>\n      <td>69649</td>\n      <td>2</td>\n      <td>499653</td>\n      <td>150805</td>\n      <td>650458</td>\n    </tr>\n    <tr>\n      <th>2018.3</th>\n      <td>Asturias, Principado de</td>\n      <td>388505</td>\n      <td>15404</td>\n      <td>813</td>\n      <td>16425</td>\n      <td>41766</td>\n      <td>943</td>\n      <td>3534</td>\n      <td>1234</td>\n      <td>2260</td>\n      <td>21</td>\n      <td>4879</td>\n      <td>12696</td>\n      <td>0</td>\n      <td>12409</td>\n      <td>44</td>\n      <td>403909</td>\n      <td>97024</td>\n      <td>500933</td>\n    </tr>\n    <tr>\n      <th>2018.4</th>\n      <td>Balears, Illes</td>\n      <td>672375</td>\n      <td>65140</td>\n      <td>7982</td>\n      <td>40752</td>\n      <td>54341</td>\n      <td>407</td>\n      <td>2752</td>\n      <td>742</td>\n      <td>5105</td>\n      <td>19</td>\n      <td>54262</td>\n      <td>35189</td>\n      <td>0</td>\n      <td>19402</td>\n      <td>19</td>\n      <td>737515</td>\n      <td>220972</td>\n      <td>958487</td>\n    </tr>\n  </tbody>\n</table>\n</div>"
     },
     "metadata": {},
     "execution_count": 130
    }
   ],
   "source": [
    "#RENAME COLUMNS \n",
    "\n",
    "new_names = {' ': 'Comunidad Autonoma', '10.1.1 Residuos domésticos y similares (domésticos y vías públicas)': 'Recoleccion-domésticos y vias', '10.1.2 Residuos domésticos voluminosos mezclados (enseres domésticos)': 'Recoleccion-voluminosos', '06 Residuos metálicos': 'Recoleccion-metálicos', '07.1 Residuos de vidrio': 'Recoleccion-vidrio', '07.2 Residuos de papel y cartón': 'Recoleccion-papel y carton', '07.4 Residuos de plásticos': 'Recoleccion-plasticos', '07.5 Residuos de Madera': 'Recoleccion-madera', '07.6 Residuos textiles': 'Recoleccion-textiles', '08.2 y 08.43 Equipos eléctricos desechados y Componentes de equipos eléctrónicos desechados': 'Recoleccion-eq. electricos', '08.41 Residuos de pilas y acumuladores': 'Recoleccion-pilas', '09. Residuos animales y vegetales': 'Recoleccion-animales', '10.21 Envases mixtos y embalajes mezclados': 'Recoleccion-Envases mixtos', '11 Lodos comunes (secos)': 'lodos', '12 Residuos minerales (incluye residuos de construcción y demolición)': 'Recoleccion-construccion', '18 Otros': 'Recoleccion-otros'}\n",
    "recoleccion_clean.rename(columns=new_names, inplace=True)\n",
    "recoleccion_clean.head()"
   ]
  },
  {
   "cell_type": "code",
   "execution_count": 131,
   "metadata": {},
   "outputs": [],
   "source": [
    "recoleccion_clean['Año'] = recoleccion_clean.index"
   ]
  },
  {
   "cell_type": "code",
   "execution_count": 132,
   "metadata": {},
   "outputs": [],
   "source": [
    "# Se aplico un patron para arreglar la columna año\n",
    "\n",
    "recoleccion_clean['Año_1'] = recoleccion_clean['Año'].str.extract(r'(\\d{4})')\n"
   ]
  },
  {
   "cell_type": "code",
   "execution_count": 133,
   "metadata": {},
   "outputs": [
    {
     "output_type": "execute_result",
     "data": {
      "text/plain": [
       "                  Comunidad Autonoma Recoleccion-domésticos y vias  \\\n",
       "2018                  Total nacional                      17611068   \n",
       "2018.1                     Andalucía                       3755593   \n",
       "2018.2                        Aragón                        475448   \n",
       "2018.3       Asturias, Principado de                        388505   \n",
       "2018.4                Balears, Illes                        672375   \n",
       "...                              ...                           ...   \n",
       "2010.13         Madrid, Comunidad de                       2108673   \n",
       "2010.14            Murcia, Región de                        711540   \n",
       "2010.15  Navarra, Comunidad Foral de                        185635   \n",
       "2010.16                   País Vasco                        694220   \n",
       "2010.17                    Rioja, La                        111409   \n",
       "\n",
       "        Recoleccion-voluminosos Recoleccion-metálicos Recoleccion-vidrio  \\\n",
       "2018                     673495                 27875             834764   \n",
       "2018.1                   153300                  1600             108768   \n",
       "2018.2                    24205                   324              18939   \n",
       "2018.3                    15404                   813              16425   \n",
       "2018.4                    65140                  7982              40752   \n",
       "...                         ...                   ...                ...   \n",
       "2010.13                   66879                  4273              82497   \n",
       "2010.14                   15924                   817              74000   \n",
       "2010.15                   10709                  1894              16168   \n",
       "2010.16                   24083                  2402              54075   \n",
       "2010.17                    1276                     0               6496   \n",
       "\n",
       "        Recoleccion-papel y carton Recoleccion-plasticos Recoleccion-madera  \\\n",
       "2018                       1067384                 24050             136153   \n",
       "2018.1                      117131                  1677              12520   \n",
       "2018.2                       28910                   251               3276   \n",
       "2018.3                       41766                   943               3534   \n",
       "2018.4                       54341                   407               2752   \n",
       "...                            ...                   ...                ...   \n",
       "2010.13                     160181                 38083               5555   \n",
       "2010.14                      22561                  4404                871   \n",
       "2010.15                      30090                  2512               4831   \n",
       "2010.16                     169542                  7922              22625   \n",
       "2010.17                       9187                     0               1153   \n",
       "\n",
       "        Recoleccion-textiles Recoleccion-eq. electricos  ...  \\\n",
       "2018                   40344                      58733  ...   \n",
       "2018.1                  3269                       5036  ...   \n",
       "2018.2                   571                       1226  ...   \n",
       "2018.3                  1234                       2260  ...   \n",
       "2018.4                   742                       5105  ...   \n",
       "...                      ...                        ...  ...   \n",
       "2010.13                  317                      10253  ...   \n",
       "2010.14                   46                       1752  ...   \n",
       "2010.15                  858                       3626  ...   \n",
       "2010.16                 1097                       2092  ...   \n",
       "2010.17                   11                        266  ...   \n",
       "\n",
       "        Recoleccion-animales Recoleccion-Envases mixtos lodos  \\\n",
       "2018                 1010016                     743556     0   \n",
       "2018.1                 92395                      94281     0   \n",
       "2018.2                  8503                      19142     0   \n",
       "2018.3                  4879                      12696     0   \n",
       "2018.4                 54262                      35189     0   \n",
       "...                      ...                        ...   ...   \n",
       "2010.13                52720                     141179     0   \n",
       "2010.14                52953                      13236     1   \n",
       "2010.15                27200                      20135  2245   \n",
       "2010.16                16071                      31046   668   \n",
       "2010.17                    0                       4717     0   \n",
       "\n",
       "        Recoleccion-construccion Recoleccion-otros TOTAL RESIDUOS MEZCLADOS  \\\n",
       "2018                      472548              1891                 18284563   \n",
       "2018.1                     81204               374                  3908893   \n",
       "2018.2                     69649                 2                   499653   \n",
       "2018.3                     12409                44                   403909   \n",
       "2018.4                     19402                19                   737515   \n",
       "...                          ...               ...                      ...   \n",
       "2010.13                    16930             17379                  2175552   \n",
       "2010.14                      472              8708                   727464   \n",
       "2010.15                      462             10661                   196344   \n",
       "2010.16                    42783              7270                   718303   \n",
       "2010.17                        0                 1                   112685   \n",
       "\n",
       "        TOTAL RESIDUOS DE RECOGIDA SEPARADA TOTAL RESIDUOS      Año Año_1  \n",
       "2018                                4419204       22703767     2018  2018  \n",
       "2018.1                               518363        4427256   2018.1  2018  \n",
       "2018.2                               150805         650458   2018.2  2018  \n",
       "2018.3                                97024         500933   2018.3  2018  \n",
       "2018.4                               220972         958487   2018.4  2018  \n",
       "...                                     ...            ...      ...   ...  \n",
       "2010.13                              529660        2705212  2010.13  2010  \n",
       "2010.14                              180039         907503  2010.14  2010  \n",
       "2010.15                              120800         317144  2010.15  2010  \n",
       "2010.16                              357750        1076053  2010.16  2010  \n",
       "2010.17                               21838         134523  2010.17  2010  \n",
       "\n",
       "[162 rows x 21 columns]"
      ],
      "text/html": "<div>\n<style scoped>\n    .dataframe tbody tr th:only-of-type {\n        vertical-align: middle;\n    }\n\n    .dataframe tbody tr th {\n        vertical-align: top;\n    }\n\n    .dataframe thead th {\n        text-align: right;\n    }\n</style>\n<table border=\"1\" class=\"dataframe\">\n  <thead>\n    <tr style=\"text-align: right;\">\n      <th></th>\n      <th>Comunidad Autonoma</th>\n      <th>Recoleccion-domésticos y vias</th>\n      <th>Recoleccion-voluminosos</th>\n      <th>Recoleccion-metálicos</th>\n      <th>Recoleccion-vidrio</th>\n      <th>Recoleccion-papel y carton</th>\n      <th>Recoleccion-plasticos</th>\n      <th>Recoleccion-madera</th>\n      <th>Recoleccion-textiles</th>\n      <th>Recoleccion-eq. electricos</th>\n      <th>...</th>\n      <th>Recoleccion-animales</th>\n      <th>Recoleccion-Envases mixtos</th>\n      <th>lodos</th>\n      <th>Recoleccion-construccion</th>\n      <th>Recoleccion-otros</th>\n      <th>TOTAL RESIDUOS MEZCLADOS</th>\n      <th>TOTAL RESIDUOS DE RECOGIDA SEPARADA</th>\n      <th>TOTAL RESIDUOS</th>\n      <th>Año</th>\n      <th>Año_1</th>\n    </tr>\n  </thead>\n  <tbody>\n    <tr>\n      <th>2018</th>\n      <td>Total nacional</td>\n      <td>17611068</td>\n      <td>673495</td>\n      <td>27875</td>\n      <td>834764</td>\n      <td>1067384</td>\n      <td>24050</td>\n      <td>136153</td>\n      <td>40344</td>\n      <td>58733</td>\n      <td>...</td>\n      <td>1010016</td>\n      <td>743556</td>\n      <td>0</td>\n      <td>472548</td>\n      <td>1891</td>\n      <td>18284563</td>\n      <td>4419204</td>\n      <td>22703767</td>\n      <td>2018</td>\n      <td>2018</td>\n    </tr>\n    <tr>\n      <th>2018.1</th>\n      <td>Andalucía</td>\n      <td>3755593</td>\n      <td>153300</td>\n      <td>1600</td>\n      <td>108768</td>\n      <td>117131</td>\n      <td>1677</td>\n      <td>12520</td>\n      <td>3269</td>\n      <td>5036</td>\n      <td>...</td>\n      <td>92395</td>\n      <td>94281</td>\n      <td>0</td>\n      <td>81204</td>\n      <td>374</td>\n      <td>3908893</td>\n      <td>518363</td>\n      <td>4427256</td>\n      <td>2018.1</td>\n      <td>2018</td>\n    </tr>\n    <tr>\n      <th>2018.2</th>\n      <td>Aragón</td>\n      <td>475448</td>\n      <td>24205</td>\n      <td>324</td>\n      <td>18939</td>\n      <td>28910</td>\n      <td>251</td>\n      <td>3276</td>\n      <td>571</td>\n      <td>1226</td>\n      <td>...</td>\n      <td>8503</td>\n      <td>19142</td>\n      <td>0</td>\n      <td>69649</td>\n      <td>2</td>\n      <td>499653</td>\n      <td>150805</td>\n      <td>650458</td>\n      <td>2018.2</td>\n      <td>2018</td>\n    </tr>\n    <tr>\n      <th>2018.3</th>\n      <td>Asturias, Principado de</td>\n      <td>388505</td>\n      <td>15404</td>\n      <td>813</td>\n      <td>16425</td>\n      <td>41766</td>\n      <td>943</td>\n      <td>3534</td>\n      <td>1234</td>\n      <td>2260</td>\n      <td>...</td>\n      <td>4879</td>\n      <td>12696</td>\n      <td>0</td>\n      <td>12409</td>\n      <td>44</td>\n      <td>403909</td>\n      <td>97024</td>\n      <td>500933</td>\n      <td>2018.3</td>\n      <td>2018</td>\n    </tr>\n    <tr>\n      <th>2018.4</th>\n      <td>Balears, Illes</td>\n      <td>672375</td>\n      <td>65140</td>\n      <td>7982</td>\n      <td>40752</td>\n      <td>54341</td>\n      <td>407</td>\n      <td>2752</td>\n      <td>742</td>\n      <td>5105</td>\n      <td>...</td>\n      <td>54262</td>\n      <td>35189</td>\n      <td>0</td>\n      <td>19402</td>\n      <td>19</td>\n      <td>737515</td>\n      <td>220972</td>\n      <td>958487</td>\n      <td>2018.4</td>\n      <td>2018</td>\n    </tr>\n    <tr>\n      <th>...</th>\n      <td>...</td>\n      <td>...</td>\n      <td>...</td>\n      <td>...</td>\n      <td>...</td>\n      <td>...</td>\n      <td>...</td>\n      <td>...</td>\n      <td>...</td>\n      <td>...</td>\n      <td>...</td>\n      <td>...</td>\n      <td>...</td>\n      <td>...</td>\n      <td>...</td>\n      <td>...</td>\n      <td>...</td>\n      <td>...</td>\n      <td>...</td>\n      <td>...</td>\n      <td>...</td>\n    </tr>\n    <tr>\n      <th>2010.13</th>\n      <td>Madrid, Comunidad de</td>\n      <td>2108673</td>\n      <td>66879</td>\n      <td>4273</td>\n      <td>82497</td>\n      <td>160181</td>\n      <td>38083</td>\n      <td>5555</td>\n      <td>317</td>\n      <td>10253</td>\n      <td>...</td>\n      <td>52720</td>\n      <td>141179</td>\n      <td>0</td>\n      <td>16930</td>\n      <td>17379</td>\n      <td>2175552</td>\n      <td>529660</td>\n      <td>2705212</td>\n      <td>2010.13</td>\n      <td>2010</td>\n    </tr>\n    <tr>\n      <th>2010.14</th>\n      <td>Murcia, Región de</td>\n      <td>711540</td>\n      <td>15924</td>\n      <td>817</td>\n      <td>74000</td>\n      <td>22561</td>\n      <td>4404</td>\n      <td>871</td>\n      <td>46</td>\n      <td>1752</td>\n      <td>...</td>\n      <td>52953</td>\n      <td>13236</td>\n      <td>1</td>\n      <td>472</td>\n      <td>8708</td>\n      <td>727464</td>\n      <td>180039</td>\n      <td>907503</td>\n      <td>2010.14</td>\n      <td>2010</td>\n    </tr>\n    <tr>\n      <th>2010.15</th>\n      <td>Navarra, Comunidad Foral de</td>\n      <td>185635</td>\n      <td>10709</td>\n      <td>1894</td>\n      <td>16168</td>\n      <td>30090</td>\n      <td>2512</td>\n      <td>4831</td>\n      <td>858</td>\n      <td>3626</td>\n      <td>...</td>\n      <td>27200</td>\n      <td>20135</td>\n      <td>2245</td>\n      <td>462</td>\n      <td>10661</td>\n      <td>196344</td>\n      <td>120800</td>\n      <td>317144</td>\n      <td>2010.15</td>\n      <td>2010</td>\n    </tr>\n    <tr>\n      <th>2010.16</th>\n      <td>País Vasco</td>\n      <td>694220</td>\n      <td>24083</td>\n      <td>2402</td>\n      <td>54075</td>\n      <td>169542</td>\n      <td>7922</td>\n      <td>22625</td>\n      <td>1097</td>\n      <td>2092</td>\n      <td>...</td>\n      <td>16071</td>\n      <td>31046</td>\n      <td>668</td>\n      <td>42783</td>\n      <td>7270</td>\n      <td>718303</td>\n      <td>357750</td>\n      <td>1076053</td>\n      <td>2010.16</td>\n      <td>2010</td>\n    </tr>\n    <tr>\n      <th>2010.17</th>\n      <td>Rioja, La</td>\n      <td>111409</td>\n      <td>1276</td>\n      <td>0</td>\n      <td>6496</td>\n      <td>9187</td>\n      <td>0</td>\n      <td>1153</td>\n      <td>11</td>\n      <td>266</td>\n      <td>...</td>\n      <td>0</td>\n      <td>4717</td>\n      <td>0</td>\n      <td>0</td>\n      <td>1</td>\n      <td>112685</td>\n      <td>21838</td>\n      <td>134523</td>\n      <td>2010.17</td>\n      <td>2010</td>\n    </tr>\n  </tbody>\n</table>\n<p>162 rows × 21 columns</p>\n</div>"
     },
     "metadata": {},
     "execution_count": 133
    }
   ],
   "source": [
    "recoleccion_clean"
   ]
  },
  {
   "cell_type": "code",
   "execution_count": 134,
   "metadata": {},
   "outputs": [],
   "source": [
    "recoleccion_clean = recoleccion_clean.drop(columns=['Año'], axis=1)"
   ]
  },
  {
   "cell_type": "code",
   "execution_count": 135,
   "metadata": {},
   "outputs": [],
   "source": [
    "#renombrar la columna Año_1 a año \n",
    "recoleccion_clean.rename(columns={'Año_1':'Año'}, inplace=True)"
   ]
  },
  {
   "cell_type": "code",
   "execution_count": 136,
   "metadata": {},
   "outputs": [],
   "source": [
    "# traje la ultima columna al primer espacio\n",
    "cols = recoleccion_clean.columns.tolist()\n",
    "cols = cols[-1:] + cols[:-1]"
   ]
  },
  {
   "cell_type": "code",
   "execution_count": 122,
   "metadata": {},
   "outputs": [
    {
     "output_type": "execute_result",
     "data": {
      "text/plain": [
       "          Año           Comunidad Autonoma Residuos domésticos y vias  \\\n",
       "2018     2018               Total nacional                   17611068   \n",
       "2018.1   2018                    Andalucía                    3755593   \n",
       "2018.2   2018                       Aragón                     475448   \n",
       "2018.3   2018      Asturias, Principado de                     388505   \n",
       "2018.4   2018               Balears, Illes                     672375   \n",
       "...       ...                          ...                        ...   \n",
       "2010.13  2010         Madrid, Comunidad de                    2108673   \n",
       "2010.14  2010            Murcia, Región de                     711540   \n",
       "2010.15  2010  Navarra, Comunidad Foral de                     185635   \n",
       "2010.16  2010                   País Vasco                     694220   \n",
       "2010.17  2010                    Rioja, La                     111409   \n",
       "\n",
       "        Voluminosos Metálicos  Vidrio Papel y carton Plasticos  Madera  \\\n",
       "2018         673495     27875  834764        1067384     24050  136153   \n",
       "2018.1       153300      1600  108768         117131      1677   12520   \n",
       "2018.2        24205       324   18939          28910       251    3276   \n",
       "2018.3        15404       813   16425          41766       943    3534   \n",
       "2018.4        65140      7982   40752          54341       407    2752   \n",
       "...             ...       ...     ...            ...       ...     ...   \n",
       "2010.13       66879      4273   82497         160181     38083    5555   \n",
       "2010.14       15924       817   74000          22561      4404     871   \n",
       "2010.15       10709      1894   16168          30090      2512    4831   \n",
       "2010.16       24083      2402   54075         169542      7922   22625   \n",
       "2010.17        1276         0    6496           9187         0    1153   \n",
       "\n",
       "        Textiles Equipos electricos pilas animales Envases mixtos lodos  \\\n",
       "2018       40344              58733  1890  1010016         743556     0   \n",
       "2018.1      3269               5036   108    92395          94281     0   \n",
       "2018.2       571               1226    12     8503          19142     0   \n",
       "2018.3      1234               2260    21     4879          12696     0   \n",
       "2018.4       742               5105    19    54262          35189     0   \n",
       "...          ...                ...   ...      ...            ...   ...   \n",
       "2010.13      317              10253   293    52720         141179     0   \n",
       "2010.14       46               1752   218    52953          13236     1   \n",
       "2010.15      858               3626   118    27200          20135  2245   \n",
       "2010.16     1097               2092   157    16071          31046   668   \n",
       "2010.17       11                266     7        0           4717     0   \n",
       "\n",
       "        construccion  Otros TOTAL RESIDUOS MEZCLADOS  \\\n",
       "2018          472548   1891                 18284563   \n",
       "2018.1         81204    374                  3908893   \n",
       "2018.2         69649      2                   499653   \n",
       "2018.3         12409     44                   403909   \n",
       "2018.4         19402     19                   737515   \n",
       "...              ...    ...                      ...   \n",
       "2010.13        16930  17379                  2175552   \n",
       "2010.14          472   8708                   727464   \n",
       "2010.15          462  10661                   196344   \n",
       "2010.16        42783   7270                   718303   \n",
       "2010.17            0      1                   112685   \n",
       "\n",
       "        TOTAL RESIDUOS DE RECOGIDA SEPARADA TOTAL RESIDUOS  \n",
       "2018                                4419204       22703767  \n",
       "2018.1                               518363        4427256  \n",
       "2018.2                               150805         650458  \n",
       "2018.3                                97024         500933  \n",
       "2018.4                               220972         958487  \n",
       "...                                     ...            ...  \n",
       "2010.13                              529660        2705212  \n",
       "2010.14                              180039         907503  \n",
       "2010.15                              120800         317144  \n",
       "2010.16                              357750        1076053  \n",
       "2010.17                               21838         134523  \n",
       "\n",
       "[162 rows x 20 columns]"
      ],
      "text/html": "<div>\n<style scoped>\n    .dataframe tbody tr th:only-of-type {\n        vertical-align: middle;\n    }\n\n    .dataframe tbody tr th {\n        vertical-align: top;\n    }\n\n    .dataframe thead th {\n        text-align: right;\n    }\n</style>\n<table border=\"1\" class=\"dataframe\">\n  <thead>\n    <tr style=\"text-align: right;\">\n      <th></th>\n      <th>Año</th>\n      <th>Comunidad Autonoma</th>\n      <th>Residuos domésticos y vias</th>\n      <th>Voluminosos</th>\n      <th>Metálicos</th>\n      <th>Vidrio</th>\n      <th>Papel y carton</th>\n      <th>Plasticos</th>\n      <th>Madera</th>\n      <th>Textiles</th>\n      <th>Equipos electricos</th>\n      <th>pilas</th>\n      <th>animales</th>\n      <th>Envases mixtos</th>\n      <th>lodos</th>\n      <th>construccion</th>\n      <th>Otros</th>\n      <th>TOTAL RESIDUOS MEZCLADOS</th>\n      <th>TOTAL RESIDUOS DE RECOGIDA SEPARADA</th>\n      <th>TOTAL RESIDUOS</th>\n    </tr>\n  </thead>\n  <tbody>\n    <tr>\n      <th>2018</th>\n      <td>2018</td>\n      <td>Total nacional</td>\n      <td>17611068</td>\n      <td>673495</td>\n      <td>27875</td>\n      <td>834764</td>\n      <td>1067384</td>\n      <td>24050</td>\n      <td>136153</td>\n      <td>40344</td>\n      <td>58733</td>\n      <td>1890</td>\n      <td>1010016</td>\n      <td>743556</td>\n      <td>0</td>\n      <td>472548</td>\n      <td>1891</td>\n      <td>18284563</td>\n      <td>4419204</td>\n      <td>22703767</td>\n    </tr>\n    <tr>\n      <th>2018.1</th>\n      <td>2018</td>\n      <td>Andalucía</td>\n      <td>3755593</td>\n      <td>153300</td>\n      <td>1600</td>\n      <td>108768</td>\n      <td>117131</td>\n      <td>1677</td>\n      <td>12520</td>\n      <td>3269</td>\n      <td>5036</td>\n      <td>108</td>\n      <td>92395</td>\n      <td>94281</td>\n      <td>0</td>\n      <td>81204</td>\n      <td>374</td>\n      <td>3908893</td>\n      <td>518363</td>\n      <td>4427256</td>\n    </tr>\n    <tr>\n      <th>2018.2</th>\n      <td>2018</td>\n      <td>Aragón</td>\n      <td>475448</td>\n      <td>24205</td>\n      <td>324</td>\n      <td>18939</td>\n      <td>28910</td>\n      <td>251</td>\n      <td>3276</td>\n      <td>571</td>\n      <td>1226</td>\n      <td>12</td>\n      <td>8503</td>\n      <td>19142</td>\n      <td>0</td>\n      <td>69649</td>\n      <td>2</td>\n      <td>499653</td>\n      <td>150805</td>\n      <td>650458</td>\n    </tr>\n    <tr>\n      <th>2018.3</th>\n      <td>2018</td>\n      <td>Asturias, Principado de</td>\n      <td>388505</td>\n      <td>15404</td>\n      <td>813</td>\n      <td>16425</td>\n      <td>41766</td>\n      <td>943</td>\n      <td>3534</td>\n      <td>1234</td>\n      <td>2260</td>\n      <td>21</td>\n      <td>4879</td>\n      <td>12696</td>\n      <td>0</td>\n      <td>12409</td>\n      <td>44</td>\n      <td>403909</td>\n      <td>97024</td>\n      <td>500933</td>\n    </tr>\n    <tr>\n      <th>2018.4</th>\n      <td>2018</td>\n      <td>Balears, Illes</td>\n      <td>672375</td>\n      <td>65140</td>\n      <td>7982</td>\n      <td>40752</td>\n      <td>54341</td>\n      <td>407</td>\n      <td>2752</td>\n      <td>742</td>\n      <td>5105</td>\n      <td>19</td>\n      <td>54262</td>\n      <td>35189</td>\n      <td>0</td>\n      <td>19402</td>\n      <td>19</td>\n      <td>737515</td>\n      <td>220972</td>\n      <td>958487</td>\n    </tr>\n    <tr>\n      <th>...</th>\n      <td>...</td>\n      <td>...</td>\n      <td>...</td>\n      <td>...</td>\n      <td>...</td>\n      <td>...</td>\n      <td>...</td>\n      <td>...</td>\n      <td>...</td>\n      <td>...</td>\n      <td>...</td>\n      <td>...</td>\n      <td>...</td>\n      <td>...</td>\n      <td>...</td>\n      <td>...</td>\n      <td>...</td>\n      <td>...</td>\n      <td>...</td>\n      <td>...</td>\n    </tr>\n    <tr>\n      <th>2010.13</th>\n      <td>2010</td>\n      <td>Madrid, Comunidad de</td>\n      <td>2108673</td>\n      <td>66879</td>\n      <td>4273</td>\n      <td>82497</td>\n      <td>160181</td>\n      <td>38083</td>\n      <td>5555</td>\n      <td>317</td>\n      <td>10253</td>\n      <td>293</td>\n      <td>52720</td>\n      <td>141179</td>\n      <td>0</td>\n      <td>16930</td>\n      <td>17379</td>\n      <td>2175552</td>\n      <td>529660</td>\n      <td>2705212</td>\n    </tr>\n    <tr>\n      <th>2010.14</th>\n      <td>2010</td>\n      <td>Murcia, Región de</td>\n      <td>711540</td>\n      <td>15924</td>\n      <td>817</td>\n      <td>74000</td>\n      <td>22561</td>\n      <td>4404</td>\n      <td>871</td>\n      <td>46</td>\n      <td>1752</td>\n      <td>218</td>\n      <td>52953</td>\n      <td>13236</td>\n      <td>1</td>\n      <td>472</td>\n      <td>8708</td>\n      <td>727464</td>\n      <td>180039</td>\n      <td>907503</td>\n    </tr>\n    <tr>\n      <th>2010.15</th>\n      <td>2010</td>\n      <td>Navarra, Comunidad Foral de</td>\n      <td>185635</td>\n      <td>10709</td>\n      <td>1894</td>\n      <td>16168</td>\n      <td>30090</td>\n      <td>2512</td>\n      <td>4831</td>\n      <td>858</td>\n      <td>3626</td>\n      <td>118</td>\n      <td>27200</td>\n      <td>20135</td>\n      <td>2245</td>\n      <td>462</td>\n      <td>10661</td>\n      <td>196344</td>\n      <td>120800</td>\n      <td>317144</td>\n    </tr>\n    <tr>\n      <th>2010.16</th>\n      <td>2010</td>\n      <td>País Vasco</td>\n      <td>694220</td>\n      <td>24083</td>\n      <td>2402</td>\n      <td>54075</td>\n      <td>169542</td>\n      <td>7922</td>\n      <td>22625</td>\n      <td>1097</td>\n      <td>2092</td>\n      <td>157</td>\n      <td>16071</td>\n      <td>31046</td>\n      <td>668</td>\n      <td>42783</td>\n      <td>7270</td>\n      <td>718303</td>\n      <td>357750</td>\n      <td>1076053</td>\n    </tr>\n    <tr>\n      <th>2010.17</th>\n      <td>2010</td>\n      <td>Rioja, La</td>\n      <td>111409</td>\n      <td>1276</td>\n      <td>0</td>\n      <td>6496</td>\n      <td>9187</td>\n      <td>0</td>\n      <td>1153</td>\n      <td>11</td>\n      <td>266</td>\n      <td>7</td>\n      <td>0</td>\n      <td>4717</td>\n      <td>0</td>\n      <td>0</td>\n      <td>1</td>\n      <td>112685</td>\n      <td>21838</td>\n      <td>134523</td>\n    </tr>\n  </tbody>\n</table>\n<p>162 rows × 20 columns</p>\n</div>"
     },
     "metadata": {},
     "execution_count": 122
    }
   ],
   "source": [
    "# traje la ultima columna al primer espacio\n",
    "recoleccion_db_clean = recoleccion_clean[cols]\n",
    "recoleccion_db_clean"
   ]
  },
  {
   "cell_type": "code",
   "execution_count": 137,
   "metadata": {},
   "outputs": [],
   "source": [
    "#reiniciar el index\n",
    "recoleccion_db_clean = recoleccion_db_clean.reset_index(drop=True)"
   ]
  },
  {
   "cell_type": "code",
   "execution_count": 1,
   "metadata": {},
   "outputs": [
    {
     "output_type": "error",
     "ename": "NameError",
     "evalue": "name 'recoleccion_db_clean' is not defined",
     "traceback": [
      "\u001b[1;31m---------------------------------------------------------------------------\u001b[0m",
      "\u001b[1;31mNameError\u001b[0m                                 Traceback (most recent call last)",
      "\u001b[1;32m<ipython-input-1-ae615829b56e>\u001b[0m in \u001b[0;36m<module>\u001b[1;34m\u001b[0m\n\u001b[1;32m----> 1\u001b[1;33m \u001b[0mrecoleccion_db_clean\u001b[0m\u001b[1;33m\u001b[0m\u001b[1;33m\u001b[0m\u001b[0m\n\u001b[0m",
      "\u001b[1;31mNameError\u001b[0m: name 'recoleccion_db_clean' is not defined"
     ]
    }
   ],
   "source": [
    "recoleccion_db_clean"
   ]
  },
  {
   "cell_type": "code",
   "execution_count": 138,
   "metadata": {},
   "outputs": [],
   "source": [
    "## GUARDAMOS LA BASE DE DATOS\n",
    "\n",
    "recoleccion_db_clean.to_csv('recoleccion_clean.csv', index=False)"
   ]
  },
  {
   "cell_type": "code",
   "execution_count": null,
   "metadata": {},
   "outputs": [],
   "source": []
  }
 ]
}