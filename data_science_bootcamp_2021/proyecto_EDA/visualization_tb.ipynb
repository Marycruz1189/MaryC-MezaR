{
 "metadata": {
  "language_info": {
   "codemirror_mode": {
    "name": "ipython",
    "version": 3
   },
   "file_extension": ".py",
   "mimetype": "text/x-python",
   "name": "python",
   "nbconvert_exporter": "python",
   "pygments_lexer": "ipython3",
   "version": "3.7.4"
  },
  "orig_nbformat": 2,
  "kernelspec": {
   "name": "python374jvsc74a57bd0a9b83ec4160fc914f5169c2fc0bc9ab1c02e189a457abfa966969b692f6336e9",
   "display_name": "Python 3.7.4 64-bit"
  },
  "metadata": {
   "interpreter": {
    "hash": "a9b83ec4160fc914f5169c2fc0bc9ab1c02e189a457abfa966969b692f6336e9"
   }
  }
 },
 "nbformat": 4,
 "nbformat_minor": 2,
 "cells": [
  {
   "cell_type": "code",
   "execution_count": 5,
   "metadata": {},
   "outputs": [],
   "source": [
    "import pandas as pd\n",
    "import numpy as np\n",
    "import re\n",
    "import os"
   ]
  },
  {
   "cell_type": "code",
   "execution_count": 8,
   "metadata": {},
   "outputs": [],
   "source": [
    "SEP = os.sep\n",
    "dir = os.path.dirname\n",
    "csv_fullpath = dir(dir(os.getcwd())) + SEP + \"data\" + SEP + \"df_EDA_proyect.csv\""
   ]
  },
  {
   "cell_type": "code",
   "execution_count": 9,
   "metadata": {},
   "outputs": [
    {
     "output_type": "execute_result",
     "data": {
      "text/plain": [
       "    Comunidad Autónoma   Año           PIB   Poblacion  PIB per capita  \\\n",
       "0            ANDALUCÍA  2010  1.447522e+08   8370975.0        17292.16   \n",
       "1            ANDALUCÍA  2018  1.607114e+08   8384408.0        19167.88   \n",
       "2            ANDALUCÍA  2016  1.484054e+08   8388107.0        17692.35   \n",
       "3            ANDALUCÍA  2014  1.377220e+08   8402305.0        16390.98   \n",
       "4            ANDALUCÍA  2011  1.433891e+08   8424102.0        17021.29   \n",
       "..                 ...   ...           ...         ...             ...   \n",
       "175     TOTAL NACIONAL  2017  1.161867e+09  46572132.0        24947.69   \n",
       "176     TOTAL NACIONAL  2016  1.113840e+09  46557008.0        23924.22   \n",
       "177     TOTAL NACIONAL  2011  1.063763e+09  47190493.0        22541.89   \n",
       "178     TOTAL NACIONAL  2013  1.020348e+09  47129783.0        21649.75   \n",
       "179     TOTAL NACIONAL  2018  1.204241e+09  46722980.0        25774.06   \n",
       "\n",
       "     Recoleccion-domésticos y vias  Recoleccion-voluminosos  \\\n",
       "0                        4213174.0                 155836.0   \n",
       "1                        3755593.0                 153300.0   \n",
       "2                        3545590.0                 361986.0   \n",
       "3                        3437380.0                 252293.0   \n",
       "4                        3796057.0                 152281.0   \n",
       "..                             ...                      ...   \n",
       "175                     17457709.0                 814281.0   \n",
       "176                     17141367.0                 910708.0   \n",
       "177                     18291848.0                 481780.0   \n",
       "178                     17320704.0                 532122.0   \n",
       "179                     17611068.0                 673495.0   \n",
       "\n",
       "     Recoleccion-metálicos  Recoleccion-vidrio  Recoleccion-papel y carton  \\\n",
       "0                  11203.0             82031.0                    136017.0   \n",
       "1                   1600.0            108768.0                    117131.0   \n",
       "2                   4425.0             99622.0                    101816.0   \n",
       "3                   4321.0             82208.0                     95866.0   \n",
       "4                   8370.0             74820.0                    118200.0   \n",
       "..                     ...                 ...                         ...   \n",
       "175                20940.0            815883.0                   1061380.0   \n",
       "176                20376.0            797928.0                   1021166.0   \n",
       "177                43394.0            733682.0                   1266397.0   \n",
       "178                20985.0            720930.0                    988226.0   \n",
       "179                27875.0            834764.0                   1067384.0   \n",
       "\n",
       "     ...  Domestic wastewater handling  Hazardous waste incineration  \\\n",
       "0    ...                           NaN                           NaN   \n",
       "1    ...                           NaN                           NaN   \n",
       "2    ...                           NaN                           NaN   \n",
       "3    ...                           NaN                           NaN   \n",
       "4    ...                           NaN                           NaN   \n",
       "..   ...                           ...                           ...   \n",
       "175  ...                          0.21                           0.0   \n",
       "176  ...                          0.21                           0.0   \n",
       "177  ...                          0.23                           0.0   \n",
       "178  ...                          0.22                           0.0   \n",
       "179  ...                          0.21                           0.0   \n",
       "\n",
       "     Industrial waste incineration  Industrial wastewater handling  \\\n",
       "0                              NaN                             NaN   \n",
       "1                              NaN                             NaN   \n",
       "2                              NaN                             NaN   \n",
       "3                              NaN                             NaN   \n",
       "4                              NaN                             NaN   \n",
       "..                             ...                             ...   \n",
       "175                            0.0                            0.09   \n",
       "176                            0.0                            0.09   \n",
       "177                            0.0                            0.09   \n",
       "178                            0.0                            0.08   \n",
       "179                            0.0                            0.09   \n",
       "\n",
       "     Municipal waste incineration  Open burning of waste  \\\n",
       "0                             NaN                    NaN   \n",
       "1                             NaN                    NaN   \n",
       "2                             NaN                    NaN   \n",
       "3                             NaN                    NaN   \n",
       "4                             NaN                    NaN   \n",
       "..                            ...                    ...   \n",
       "175                           0.0                 742.75   \n",
       "176                           0.0                 785.16   \n",
       "177                           0.0                 826.90   \n",
       "178                           0.0                 954.47   \n",
       "179                           0.0                1009.63   \n",
       "\n",
       "     Other waste (please specify in IIR)  \\\n",
       "0                                    NaN   \n",
       "1                                    NaN   \n",
       "2                                    NaN   \n",
       "3                                    NaN   \n",
       "4                                    NaN   \n",
       "..                                   ...   \n",
       "175                                16.83   \n",
       "176                                50.31   \n",
       "177                                19.80   \n",
       "178                                17.95   \n",
       "179                                17.52   \n",
       "\n",
       "     Other waste incineration (please specify in the IIR)  \\\n",
       "0                                                  NaN      \n",
       "1                                                  NaN      \n",
       "2                                                  NaN      \n",
       "3                                                  NaN      \n",
       "4                                                  NaN      \n",
       "..                                                 ...      \n",
       "175                                                0.0      \n",
       "176                                                0.0      \n",
       "177                                                0.0      \n",
       "178                                                0.0      \n",
       "179                                                0.0      \n",
       "\n",
       "     Other wastewater handling  Sewage sludge incineration  \n",
       "0                          NaN                         NaN  \n",
       "1                          NaN                         NaN  \n",
       "2                          NaN                         NaN  \n",
       "3                          NaN                         NaN  \n",
       "4                          NaN                         NaN  \n",
       "..                         ...                         ...  \n",
       "175                       2.09                       11.61  \n",
       "176                       2.08                       11.92  \n",
       "177                       1.45                       13.03  \n",
       "178                       0.67                       10.58  \n",
       "179                       2.09                       11.56  \n",
       "\n",
       "[180 rows x 46 columns]"
      ],
      "text/html": "<div>\n<style scoped>\n    .dataframe tbody tr th:only-of-type {\n        vertical-align: middle;\n    }\n\n    .dataframe tbody tr th {\n        vertical-align: top;\n    }\n\n    .dataframe thead th {\n        text-align: right;\n    }\n</style>\n<table border=\"1\" class=\"dataframe\">\n  <thead>\n    <tr style=\"text-align: right;\">\n      <th></th>\n      <th>Comunidad Autónoma</th>\n      <th>Año</th>\n      <th>PIB</th>\n      <th>Poblacion</th>\n      <th>PIB per capita</th>\n      <th>Recoleccion-domésticos y vias</th>\n      <th>Recoleccion-voluminosos</th>\n      <th>Recoleccion-metálicos</th>\n      <th>Recoleccion-vidrio</th>\n      <th>Recoleccion-papel y carton</th>\n      <th>...</th>\n      <th>Domestic wastewater handling</th>\n      <th>Hazardous waste incineration</th>\n      <th>Industrial waste incineration</th>\n      <th>Industrial wastewater handling</th>\n      <th>Municipal waste incineration</th>\n      <th>Open burning of waste</th>\n      <th>Other waste (please specify in IIR)</th>\n      <th>Other waste incineration (please specify in the IIR)</th>\n      <th>Other wastewater handling</th>\n      <th>Sewage sludge incineration</th>\n    </tr>\n  </thead>\n  <tbody>\n    <tr>\n      <th>0</th>\n      <td>ANDALUCÍA</td>\n      <td>2010</td>\n      <td>1.447522e+08</td>\n      <td>8370975.0</td>\n      <td>17292.16</td>\n      <td>4213174.0</td>\n      <td>155836.0</td>\n      <td>11203.0</td>\n      <td>82031.0</td>\n      <td>136017.0</td>\n      <td>...</td>\n      <td>NaN</td>\n      <td>NaN</td>\n      <td>NaN</td>\n      <td>NaN</td>\n      <td>NaN</td>\n      <td>NaN</td>\n      <td>NaN</td>\n      <td>NaN</td>\n      <td>NaN</td>\n      <td>NaN</td>\n    </tr>\n    <tr>\n      <th>1</th>\n      <td>ANDALUCÍA</td>\n      <td>2018</td>\n      <td>1.607114e+08</td>\n      <td>8384408.0</td>\n      <td>19167.88</td>\n      <td>3755593.0</td>\n      <td>153300.0</td>\n      <td>1600.0</td>\n      <td>108768.0</td>\n      <td>117131.0</td>\n      <td>...</td>\n      <td>NaN</td>\n      <td>NaN</td>\n      <td>NaN</td>\n      <td>NaN</td>\n      <td>NaN</td>\n      <td>NaN</td>\n      <td>NaN</td>\n      <td>NaN</td>\n      <td>NaN</td>\n      <td>NaN</td>\n    </tr>\n    <tr>\n      <th>2</th>\n      <td>ANDALUCÍA</td>\n      <td>2016</td>\n      <td>1.484054e+08</td>\n      <td>8388107.0</td>\n      <td>17692.35</td>\n      <td>3545590.0</td>\n      <td>361986.0</td>\n      <td>4425.0</td>\n      <td>99622.0</td>\n      <td>101816.0</td>\n      <td>...</td>\n      <td>NaN</td>\n      <td>NaN</td>\n      <td>NaN</td>\n      <td>NaN</td>\n      <td>NaN</td>\n      <td>NaN</td>\n      <td>NaN</td>\n      <td>NaN</td>\n      <td>NaN</td>\n      <td>NaN</td>\n    </tr>\n    <tr>\n      <th>3</th>\n      <td>ANDALUCÍA</td>\n      <td>2014</td>\n      <td>1.377220e+08</td>\n      <td>8402305.0</td>\n      <td>16390.98</td>\n      <td>3437380.0</td>\n      <td>252293.0</td>\n      <td>4321.0</td>\n      <td>82208.0</td>\n      <td>95866.0</td>\n      <td>...</td>\n      <td>NaN</td>\n      <td>NaN</td>\n      <td>NaN</td>\n      <td>NaN</td>\n      <td>NaN</td>\n      <td>NaN</td>\n      <td>NaN</td>\n      <td>NaN</td>\n      <td>NaN</td>\n      <td>NaN</td>\n    </tr>\n    <tr>\n      <th>4</th>\n      <td>ANDALUCÍA</td>\n      <td>2011</td>\n      <td>1.433891e+08</td>\n      <td>8424102.0</td>\n      <td>17021.29</td>\n      <td>3796057.0</td>\n      <td>152281.0</td>\n      <td>8370.0</td>\n      <td>74820.0</td>\n      <td>118200.0</td>\n      <td>...</td>\n      <td>NaN</td>\n      <td>NaN</td>\n      <td>NaN</td>\n      <td>NaN</td>\n      <td>NaN</td>\n      <td>NaN</td>\n      <td>NaN</td>\n      <td>NaN</td>\n      <td>NaN</td>\n      <td>NaN</td>\n    </tr>\n    <tr>\n      <th>...</th>\n      <td>...</td>\n      <td>...</td>\n      <td>...</td>\n      <td>...</td>\n      <td>...</td>\n      <td>...</td>\n      <td>...</td>\n      <td>...</td>\n      <td>...</td>\n      <td>...</td>\n      <td>...</td>\n      <td>...</td>\n      <td>...</td>\n      <td>...</td>\n      <td>...</td>\n      <td>...</td>\n      <td>...</td>\n      <td>...</td>\n      <td>...</td>\n      <td>...</td>\n      <td>...</td>\n    </tr>\n    <tr>\n      <th>175</th>\n      <td>TOTAL NACIONAL</td>\n      <td>2017</td>\n      <td>1.161867e+09</td>\n      <td>46572132.0</td>\n      <td>24947.69</td>\n      <td>17457709.0</td>\n      <td>814281.0</td>\n      <td>20940.0</td>\n      <td>815883.0</td>\n      <td>1061380.0</td>\n      <td>...</td>\n      <td>0.21</td>\n      <td>0.0</td>\n      <td>0.0</td>\n      <td>0.09</td>\n      <td>0.0</td>\n      <td>742.75</td>\n      <td>16.83</td>\n      <td>0.0</td>\n      <td>2.09</td>\n      <td>11.61</td>\n    </tr>\n    <tr>\n      <th>176</th>\n      <td>TOTAL NACIONAL</td>\n      <td>2016</td>\n      <td>1.113840e+09</td>\n      <td>46557008.0</td>\n      <td>23924.22</td>\n      <td>17141367.0</td>\n      <td>910708.0</td>\n      <td>20376.0</td>\n      <td>797928.0</td>\n      <td>1021166.0</td>\n      <td>...</td>\n      <td>0.21</td>\n      <td>0.0</td>\n      <td>0.0</td>\n      <td>0.09</td>\n      <td>0.0</td>\n      <td>785.16</td>\n      <td>50.31</td>\n      <td>0.0</td>\n      <td>2.08</td>\n      <td>11.92</td>\n    </tr>\n    <tr>\n      <th>177</th>\n      <td>TOTAL NACIONAL</td>\n      <td>2011</td>\n      <td>1.063763e+09</td>\n      <td>47190493.0</td>\n      <td>22541.89</td>\n      <td>18291848.0</td>\n      <td>481780.0</td>\n      <td>43394.0</td>\n      <td>733682.0</td>\n      <td>1266397.0</td>\n      <td>...</td>\n      <td>0.23</td>\n      <td>0.0</td>\n      <td>0.0</td>\n      <td>0.09</td>\n      <td>0.0</td>\n      <td>826.90</td>\n      <td>19.80</td>\n      <td>0.0</td>\n      <td>1.45</td>\n      <td>13.03</td>\n    </tr>\n    <tr>\n      <th>178</th>\n      <td>TOTAL NACIONAL</td>\n      <td>2013</td>\n      <td>1.020348e+09</td>\n      <td>47129783.0</td>\n      <td>21649.75</td>\n      <td>17320704.0</td>\n      <td>532122.0</td>\n      <td>20985.0</td>\n      <td>720930.0</td>\n      <td>988226.0</td>\n      <td>...</td>\n      <td>0.22</td>\n      <td>0.0</td>\n      <td>0.0</td>\n      <td>0.08</td>\n      <td>0.0</td>\n      <td>954.47</td>\n      <td>17.95</td>\n      <td>0.0</td>\n      <td>0.67</td>\n      <td>10.58</td>\n    </tr>\n    <tr>\n      <th>179</th>\n      <td>TOTAL NACIONAL</td>\n      <td>2018</td>\n      <td>1.204241e+09</td>\n      <td>46722980.0</td>\n      <td>25774.06</td>\n      <td>17611068.0</td>\n      <td>673495.0</td>\n      <td>27875.0</td>\n      <td>834764.0</td>\n      <td>1067384.0</td>\n      <td>...</td>\n      <td>0.21</td>\n      <td>0.0</td>\n      <td>0.0</td>\n      <td>0.09</td>\n      <td>0.0</td>\n      <td>1009.63</td>\n      <td>17.52</td>\n      <td>0.0</td>\n      <td>2.09</td>\n      <td>11.56</td>\n    </tr>\n  </tbody>\n</table>\n<p>180 rows × 46 columns</p>\n</div>"
     },
     "metadata": {},
     "execution_count": 9
    }
   ],
   "source": [
    "waste_management  = pd.read_csv(csv_fullpath)\n",
    "waste_management"
   ]
  },
  {
   "cell_type": "code",
   "execution_count": null,
   "metadata": {},
   "outputs": [],
   "source": []
  }
 ]
}