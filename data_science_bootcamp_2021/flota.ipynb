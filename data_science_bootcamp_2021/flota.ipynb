{
 "metadata": {
  "language_info": {
   "codemirror_mode": {
    "name": "ipython",
    "version": 3
   },
   "file_extension": ".py",
   "mimetype": "text/x-python",
   "name": "python",
   "nbconvert_exporter": "python",
   "pygments_lexer": "ipython3",
   "version": "3.7.4"
  },
  "orig_nbformat": 2,
  "kernelspec": {
   "name": "python374jvsc74a57bd0a9b83ec4160fc914f5169c2fc0bc9ab1c02e189a457abfa966969b692f6336e9",
   "display_name": "Python 3.7.4 64-bit"
  },
  "metadata": {
   "interpreter": {
    "hash": "a9b83ec4160fc914f5169c2fc0bc9ab1c02e189a457abfa966969b692f6336e9"
   }
  }
 },
 "nbformat": 4,
 "nbformat_minor": 2,
 "cells": [
  {
   "cell_type": "code",
   "execution_count": null,
   "metadata": {},
   "outputs": [],
   "source": [
    "## Yo habia empezado a hacer el juego inicialmente en clases, tengo varios archivos con clases y demas pero me estaba complicando, por eso lo he pasado nuevamente por aqui para ir probando, aun no me sale nada, solo eltablero como podras ver. En el documento que te pongo: hay una funcion para hacer el tablero, una es para hacer seguimiento por que hay que ver el tablero del enemigo, hay una para clase de barcos y otro para ubicar los barcos en el tablero.\n",
    "#Lo que quiero es que veas y vayas probando y arreglando el codigo para que funcione. Yo igual voy a seguir con otra parte del trabajo la de preparar la otra parte para ponerla en funcionamiento. Mejor dicho alguna cosa me escribes hoy si tienes dudas o alguna idea "
   ]
  },
  {
   "cell_type": "code",
   "execution_count": null,
   "metadata": {},
   "outputs": [],
   "source": [
    "import random,time, os\n",
    "from sys import platform,exit\n",
    "\n",
    "\n",
    "#Tableros\n",
    "\n",
    "tableroJugador1 = []\n",
    "tableroJugador2 = []\n",
    "\n",
    "#nombres\n",
    "nombre = []\n",
    "\n",
    "#Guardar cantidad de barcos restantes\n",
    "barcosJugador1 ={}\n",
    "barcosJugador2 ={}\n",
    "\n",
    "#Puntajes, nombres y seguidos en listas\n",
    "listaUsuario = []\n",
    "listaPuntaje = []\n",
    "listaSeguidos = []\n",
    "\n",
    "#variable global\n",
    "seguidas = 0"
   ]
  },
  {
   "cell_type": "code",
   "execution_count": 51,
   "metadata": {},
   "outputs": [
    {
     "output_type": "stream",
     "name": "stdout",
     "text": [
      "\t\n1  \n2  \n3  \n4  \n5  \n6  \n7  \n8  \n9  \n10  \n\n\n1 \t\n~ | ~ | ~ | ~ | ~ | ~ | ~ | ~ | ~ | ~\n2 \t\n~ | ~ | ~ | ~ | ~ | ~ | ~ | ~ | ~ | ~\n3 \t\n~ | ~ | ~ | ~ | ~ | ~ | ~ | ~ | ~ | ~\n4 \t\n~ | ~ | ~ | ~ | ~ | ~ | ~ | ~ | ~ | ~\n5 \t\n~ | ~ | ~ | ~ | ~ | ~ | ~ | ~ | ~ | ~\n6 \t\n~ | ~ | ~ | ~ | ~ | ~ | ~ | ~ | ~ | ~\n7 \t\n~ | ~ | ~ | ~ | ~ | ~ | ~ | ~ | ~ | ~\n8 \t\n~ | ~ | ~ | ~ | ~ | ~ | ~ | ~ | ~ | ~\n9 \t\n~ | ~ | ~ | ~ | ~ | ~ | ~ | ~ | ~ | ~\n10 \t\n~ | ~ | ~ | ~ | ~ | ~ | ~ | ~ | ~ | ~\n"
     ]
    }
   ],
   "source": [
    "#Inicializar el tablero\n",
    "\n",
    "board = []\n",
    "\n",
    "for x in range(10):\n",
    "    board.append([\"~\"] * 10)\n",
    "\n",
    "def print_board(board):\n",
    "    for row in board:\n",
    "        print(\" \".join(row)) \n",
    "\n",
    "def mostrarTablero(board):\n",
    "\tprint(u\"\\t\")\n",
    "\tfor x in range(10):\n",
    "\t\tprint(str(x+1)+\"  \")\n",
    "\tprint(u\"\\n\") \n",
    "\tcont = 1\n",
    "\tfor x in board:\n",
    "\t\tprint(cont,\"\\t\") \n",
    "\t\tprint(u\" | \".join(x))\n",
    "\t\tcont += 1\n",
    "\n",
    "mostrarTablero(board)"
   ]
  },
  {
   "cell_type": "code",
   "execution_count": null,
   "metadata": {},
   "outputs": [],
   "source": [
    "# Verifica si la ubicacion no esta ocupada\n",
    "\n",
    "def validar_colum(fila, colum, tamaño):\n",
    "        \n",
    "    validar_coor = []\n",
    "\n",
    "    for i in range(tamaño):\n",
    "        if mostrarTablero[fila][colum] == \"~\":\n",
    "\n",
    "            valid_coords.append((fila, colum))\n",
    "            colum = colum + 1\n",
    "        else:\n",
    "            colum = colum + 1\n",
    "            #else:\n",
    "                #return False\n",
    "\n",
    "        if tamaño == len(validar_coor):\n",
    "            return True\n",
    "        else:\n",
    "            return False\n",
    "\n",
    "    def validar_fila(fila, colum, tamaño):\n",
    "\n",
    "        validar_coor = []\n",
    "\n",
    "        for i in range(tamaño):\n",
    "            \n",
    "            if mostrarTablero[fila][colum] == \"~\":\n",
    "                validar_coor.append((fila, colum))\n",
    "                fila = colum + 1\n",
    "            #else:\n",
    "                #fila = colum + 1\n",
    "            else:\n",
    "                return False\n",
    "\n",
    "        if tamaño == len(validar_coor):\n",
    "            return True\n",
    "        else:\n",
    "            return False\n",
    "\n"
   ]
  },
  {
   "cell_type": "code",
   "execution_count": null,
   "metadata": {},
   "outputs": [],
   "source": [
    "class Seguimiento:\n",
    "\n",
    "    \"\"\"Mostrar el estado del oponente\"\"\"\n",
    "\n",
    "    def __init__(self, ancho=10, alto=10 ):\n",
    "        self.tablero = [[\"~|\" * alto for i in range(ancho)]\n",
    "\n",
    "    def __getitem__(self, punto):\n",
    "        fila, colum = punto\n",
    "        return self.seguimiento[fila][colum]\n",
    "\n",
    "    def __setitem__(self, punto, valor):\n",
    "        fila, colum = punto\n",
    "        self.radar[fila][colum] = valor\n",
    "\n",
    "    def imprimir_seguimiento():\n",
    "        for fila in seguimiento:\n",
    "            print(\" \".join(fila))"
   ]
  },
  {
   "cell_type": "code",
   "execution_count": null,
   "metadata": {},
   "outputs": [],
   "source": [
    "#Para clase Barco ubicar los barcos \n",
    "    def rango_vertical():\n",
    "        for i in range(tamaño):\n",
    "            coord.append((filas, colum))\n",
    "            filas = colum + 1\n",
    "\n",
    "    def rango_horizontal():\n",
    "        for i in range(tamaño):\n",
    "            coord.append((row, col))\n",
    "            col = col + 1\n",
    "\n",
    "    def verificar_estado():\n",
    "        if coord == []:\n",
    "            return True\n",
    "        else:\n",
    "            return False\n",
    "\t\t"
   ]
  },
  {
   "cell_type": "code",
   "execution_count": null,
   "metadata": {},
   "outputs": [],
   "source": [
    "#para crear los barcos en el tablero \n",
    "\n",
    "cantidad = {\"ship 2x1\":4,\n",
    "\t\t     \"ship 3x1\":3,\n",
    " \t\t     \"ship 4x1 \":2,\n",
    "\t\t     \"ship 5x1\":1}\n",
    "\n",
    "\n",
    "def ubicar_barcos():\n",
    "    ships = {\"ship 2x1\":2,\n",
    "\t\t     \"ship 3x1\":2,\n",
    " \t\t     \"ship 4x1 \":4,\n",
    "\t\t     \"ship 5x1\":5}\n",
    "       #ver como ubicar el numero de barcos que se pide\n",
    "        for barco, tamaño in ships.items():\n",
    "\n",
    "            flag = True\n",
    "            while flag:\n",
    "                mostrarTablero()\n",
    "                try:\n",
    "                    print(\"Estado inicial de la flota, inserte el %s\" % (ship))\n",
    "                    ubicacion_inicial = (input(\"Inserte las coordenadas del 1 al 10 en formato nhn:n(filas/horizontal/columnas) o nvn:n (columna/vertical/filas)\"))\n",
    "                    if ubicacion_inicial in \"v\":\n",
    "                        for elem in ubicacion_inicial:\n",
    "                            if 'v' in elem:\n",
    "                                fila = []\n",
    "                                colum = []\n",
    "                                \n",
    "                                colum.append(int(elem[0]))\n",
    "                                fila.append(int(elem[2:4]))\n",
    "                                mostrarTablero(fila, colum)\n",
    "                            else:\n",
    "                                input(\"Posición ocupada, intentar de nuevo\")\n",
    "\n",
    "                            if 'h' in elem:\n",
    "                                fila = []\n",
    "                                colum = []\n",
    "                                fila.append(int(elem[0]))\n",
    "                                colum.append(int(elem[2:4]))\n",
    "                                mostrarTablero(fila, colum)\n",
    "                            else:\n",
    "                                input(\"Posición ocupada, intentar de nuevo\")\n",
    "                            ver_consola()\n",
    "\n",
    "def ver_consola():\n",
    "        imprimir_seguimiento()\n",
    "        print(\"|                 |\")\n",
    "        mostrarTablero()\n",
    "\n",
    "                    \n",
    "\n"
   ]
  },
  {
   "cell_type": "code",
   "execution_count": null,
   "metadata": {},
   "outputs": [],
   "source": [
    "\n"
   ]
  },
  {
   "cell_type": "code",
   "execution_count": null,
   "metadata": {},
   "outputs": [],
   "source": [
    "\n"
   ]
  }
 ]
}