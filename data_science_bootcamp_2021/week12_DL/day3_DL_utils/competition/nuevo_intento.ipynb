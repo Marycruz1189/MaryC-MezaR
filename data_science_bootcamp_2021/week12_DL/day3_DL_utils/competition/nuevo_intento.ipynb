{
 "metadata": {
  "language_info": {
   "codemirror_mode": {
    "name": "ipython",
    "version": 3
   },
   "file_extension": ".py",
   "mimetype": "text/x-python",
   "name": "python",
   "nbconvert_exporter": "python",
   "pygments_lexer": "ipython3",
   "version": "3.7.4"
  },
  "orig_nbformat": 4,
  "kernelspec": {
   "name": "python3",
   "display_name": "Python 3.7.4 64-bit"
  },
  "interpreter": {
   "hash": "a9b83ec4160fc914f5169c2fc0bc9ab1c02e189a457abfa966969b692f6336e9"
  }
 },
 "nbformat": 4,
 "nbformat_minor": 2,
 "cells": [
  {
   "cell_type": "code",
   "execution_count": null,
   "metadata": {},
   "outputs": [],
   "source": []
  },
  {
   "cell_type": "code",
   "execution_count": 1,
   "metadata": {},
   "outputs": [
    {
     "output_type": "execute_result",
     "data": {
      "text/plain": [
       "       path    label     id        img\n",
       "0     train    happy  00007  00007.jpg\n",
       "1     train    happy  00014  00014.jpg\n",
       "2     train    happy  00030  00030.jpg\n",
       "3     train    happy  00034  00034.jpg\n",
       "4     train    happy  00046  00046.jpg\n",
       "...     ...      ...    ...        ...\n",
       "6171  train  sadness  28674  28674.jpg\n",
       "6172  train  sadness  28678  28678.jpg\n",
       "6173  train  sadness  28680  28680.jpg\n",
       "6174  train  sadness  28683  28683.jpg\n",
       "6175  train  sadness  28685  28685.jpg\n",
       "\n",
       "[6176 rows x 4 columns]"
      ],
      "text/html": "<div>\n<style scoped>\n    .dataframe tbody tr th:only-of-type {\n        vertical-align: middle;\n    }\n\n    .dataframe tbody tr th {\n        vertical-align: top;\n    }\n\n    .dataframe thead th {\n        text-align: right;\n    }\n</style>\n<table border=\"1\" class=\"dataframe\">\n  <thead>\n    <tr style=\"text-align: right;\">\n      <th></th>\n      <th>path</th>\n      <th>label</th>\n      <th>id</th>\n      <th>img</th>\n    </tr>\n  </thead>\n  <tbody>\n    <tr>\n      <th>0</th>\n      <td>train</td>\n      <td>happy</td>\n      <td>00007</td>\n      <td>00007.jpg</td>\n    </tr>\n    <tr>\n      <th>1</th>\n      <td>train</td>\n      <td>happy</td>\n      <td>00014</td>\n      <td>00014.jpg</td>\n    </tr>\n    <tr>\n      <th>2</th>\n      <td>train</td>\n      <td>happy</td>\n      <td>00030</td>\n      <td>00030.jpg</td>\n    </tr>\n    <tr>\n      <th>3</th>\n      <td>train</td>\n      <td>happy</td>\n      <td>00034</td>\n      <td>00034.jpg</td>\n    </tr>\n    <tr>\n      <th>4</th>\n      <td>train</td>\n      <td>happy</td>\n      <td>00046</td>\n      <td>00046.jpg</td>\n    </tr>\n    <tr>\n      <th>...</th>\n      <td>...</td>\n      <td>...</td>\n      <td>...</td>\n      <td>...</td>\n    </tr>\n    <tr>\n      <th>6171</th>\n      <td>train</td>\n      <td>sadness</td>\n      <td>28674</td>\n      <td>28674.jpg</td>\n    </tr>\n    <tr>\n      <th>6172</th>\n      <td>train</td>\n      <td>sadness</td>\n      <td>28678</td>\n      <td>28678.jpg</td>\n    </tr>\n    <tr>\n      <th>6173</th>\n      <td>train</td>\n      <td>sadness</td>\n      <td>28680</td>\n      <td>28680.jpg</td>\n    </tr>\n    <tr>\n      <th>6174</th>\n      <td>train</td>\n      <td>sadness</td>\n      <td>28683</td>\n      <td>28683.jpg</td>\n    </tr>\n    <tr>\n      <th>6175</th>\n      <td>train</td>\n      <td>sadness</td>\n      <td>28685</td>\n      <td>28685.jpg</td>\n    </tr>\n  </tbody>\n</table>\n<p>6176 rows × 4 columns</p>\n</div>"
     },
     "metadata": {},
     "execution_count": 1
    }
   ],
   "source": [
    "#PARA CREAR LA COLUMNA PATH\n",
    "\n",
    "import glob\n",
    "import pandas as pd\n",
    "\n",
    "path_train = \"train/**/**.jpg\"\n",
    "\n",
    "def make_imag_df(path):\n",
    "    dictionary = {}\n",
    "    for paths in glob.glob(path):\n",
    "        dictionary.setdefault('path', []).append(paths.split('\\\\')[-3])\n",
    "        dictionary.setdefault('label', []).append(paths.split('\\\\')[-2])\n",
    "        dictionary.setdefault('id', []).append(paths.split('\\\\')[-1][:-4])\n",
    "        dictionary.setdefault('img', []).append(paths.split('\\\\')[-1])\n",
    "    images = pd.DataFrame(dictionary)\n",
    "    return images\n",
    "\n",
    "make_imag_df(path_train)"
   ]
  },
  {
   "cell_type": "code",
   "execution_count": 4,
   "metadata": {},
   "outputs": [],
   "source": [
    "\n",
    "import pandas as pd\n",
    "import matplotlib.pyplot as plt\n",
    "import numpy as np\n",
    "\n",
    "import cv2"
   ]
  },
  {
   "cell_type": "code",
   "execution_count": 5,
   "metadata": {},
   "outputs": [
    {
     "output_type": "execute_result",
     "data": {
      "text/plain": [
       "        label  id_img               path\n",
       "0       happy   22373    happy/22373.jpg\n",
       "1       happy   21433    happy/21433.jpg\n",
       "2       happy   12418    happy/12418.jpg\n",
       "3       happy   21278    happy/21278.jpg\n",
       "4       happy    8081    happy/08081.jpg\n",
       "...       ...     ...                ...\n",
       "6171  sadness   11346  sadness/11346.jpg\n",
       "6172  sadness    4441  sadness/04441.jpg\n",
       "6173  sadness   15236  sadness/15236.jpg\n",
       "6174  sadness   27361  sadness/27361.jpg\n",
       "6175  sadness   25239  sadness/25239.jpg\n",
       "\n",
       "[6176 rows x 3 columns]"
      ],
      "text/html": "<div>\n<style scoped>\n    .dataframe tbody tr th:only-of-type {\n        vertical-align: middle;\n    }\n\n    .dataframe tbody tr th {\n        vertical-align: top;\n    }\n\n    .dataframe thead th {\n        text-align: right;\n    }\n</style>\n<table border=\"1\" class=\"dataframe\">\n  <thead>\n    <tr style=\"text-align: right;\">\n      <th></th>\n      <th>label</th>\n      <th>id_img</th>\n      <th>path</th>\n    </tr>\n  </thead>\n  <tbody>\n    <tr>\n      <th>0</th>\n      <td>happy</td>\n      <td>22373</td>\n      <td>happy/22373.jpg</td>\n    </tr>\n    <tr>\n      <th>1</th>\n      <td>happy</td>\n      <td>21433</td>\n      <td>happy/21433.jpg</td>\n    </tr>\n    <tr>\n      <th>2</th>\n      <td>happy</td>\n      <td>12418</td>\n      <td>happy/12418.jpg</td>\n    </tr>\n    <tr>\n      <th>3</th>\n      <td>happy</td>\n      <td>21278</td>\n      <td>happy/21278.jpg</td>\n    </tr>\n    <tr>\n      <th>4</th>\n      <td>happy</td>\n      <td>8081</td>\n      <td>happy/08081.jpg</td>\n    </tr>\n    <tr>\n      <th>...</th>\n      <td>...</td>\n      <td>...</td>\n      <td>...</td>\n    </tr>\n    <tr>\n      <th>6171</th>\n      <td>sadness</td>\n      <td>11346</td>\n      <td>sadness/11346.jpg</td>\n    </tr>\n    <tr>\n      <th>6172</th>\n      <td>sadness</td>\n      <td>4441</td>\n      <td>sadness/04441.jpg</td>\n    </tr>\n    <tr>\n      <th>6173</th>\n      <td>sadness</td>\n      <td>15236</td>\n      <td>sadness/15236.jpg</td>\n    </tr>\n    <tr>\n      <th>6174</th>\n      <td>sadness</td>\n      <td>27361</td>\n      <td>sadness/27361.jpg</td>\n    </tr>\n    <tr>\n      <th>6175</th>\n      <td>sadness</td>\n      <td>25239</td>\n      <td>sadness/25239.jpg</td>\n    </tr>\n  </tbody>\n</table>\n<p>6176 rows × 3 columns</p>\n</div>"
     },
     "metadata": {},
     "execution_count": 5
    }
   ],
   "source": [
    "train_set = pd.read_csv(\"train_set.csv\")\n",
    "train_set"
   ]
  },
  {
   "cell_type": "code",
   "execution_count": 6,
   "metadata": {},
   "outputs": [],
   "source": [
    "imagenes = []\n",
    "for i in train_set.path:\n",
    "    x = \"train/\" + i\n",
    "    imagenes.append(cv2.imread(x, 0))\n",
    "train_set[\"nombre_img\"] = imagenes"
   ]
  },
  {
   "cell_type": "code",
   "execution_count": 7,
   "metadata": {},
   "outputs": [
    {
     "output_type": "execute_result",
     "data": {
      "text/plain": [
       "        label  id_img               path  \\\n",
       "0       happy   22373    happy/22373.jpg   \n",
       "1       happy   21433    happy/21433.jpg   \n",
       "2       happy   12418    happy/12418.jpg   \n",
       "3       happy   21278    happy/21278.jpg   \n",
       "4       happy    8081    happy/08081.jpg   \n",
       "...       ...     ...                ...   \n",
       "6171  sadness   11346  sadness/11346.jpg   \n",
       "6172  sadness    4441  sadness/04441.jpg   \n",
       "6173  sadness   15236  sadness/15236.jpg   \n",
       "6174  sadness   27361  sadness/27361.jpg   \n",
       "6175  sadness   25239  sadness/25239.jpg   \n",
       "\n",
       "                                             nombre_img  \n",
       "0     [[25, 44, 56, 68, 88, 98, 93, 92, 105, 120, 13...  \n",
       "1     [[33, 29, 22, 18, 19, 23, 22, 19, 20, 23, 14, ...  \n",
       "2     [[35, 43, 66, 84, 71, 41, 36, 53, 97, 56, 100,...  \n",
       "3     [[118, 124, 132, 126, 127, 139, 67, 38, 33, 29...  \n",
       "4     [[201, 209, 193, 107, 106, 107, 98, 114, 144, ...  \n",
       "...                                                 ...  \n",
       "6171  [[167, 180, 196, 171, 101, 50, 52, 70, 55, 49,...  \n",
       "6172  [[163, 154, 128, 116, 121, 106, 90, 99, 115, 1...  \n",
       "6173  [[109, 25, 29, 33, 55, 65, 82, 87, 147, 179, 1...  \n",
       "6174  [[62, 64, 67, 52, 57, 65, 50, 55, 117, 179, 15...  \n",
       "6175  [[163, 167, 123, 78, 50, 30, 26, 14, 7, 12, 50...  \n",
       "\n",
       "[6176 rows x 4 columns]"
      ],
      "text/html": "<div>\n<style scoped>\n    .dataframe tbody tr th:only-of-type {\n        vertical-align: middle;\n    }\n\n    .dataframe tbody tr th {\n        vertical-align: top;\n    }\n\n    .dataframe thead th {\n        text-align: right;\n    }\n</style>\n<table border=\"1\" class=\"dataframe\">\n  <thead>\n    <tr style=\"text-align: right;\">\n      <th></th>\n      <th>label</th>\n      <th>id_img</th>\n      <th>path</th>\n      <th>nombre_img</th>\n    </tr>\n  </thead>\n  <tbody>\n    <tr>\n      <th>0</th>\n      <td>happy</td>\n      <td>22373</td>\n      <td>happy/22373.jpg</td>\n      <td>[[25, 44, 56, 68, 88, 98, 93, 92, 105, 120, 13...</td>\n    </tr>\n    <tr>\n      <th>1</th>\n      <td>happy</td>\n      <td>21433</td>\n      <td>happy/21433.jpg</td>\n      <td>[[33, 29, 22, 18, 19, 23, 22, 19, 20, 23, 14, ...</td>\n    </tr>\n    <tr>\n      <th>2</th>\n      <td>happy</td>\n      <td>12418</td>\n      <td>happy/12418.jpg</td>\n      <td>[[35, 43, 66, 84, 71, 41, 36, 53, 97, 56, 100,...</td>\n    </tr>\n    <tr>\n      <th>3</th>\n      <td>happy</td>\n      <td>21278</td>\n      <td>happy/21278.jpg</td>\n      <td>[[118, 124, 132, 126, 127, 139, 67, 38, 33, 29...</td>\n    </tr>\n    <tr>\n      <th>4</th>\n      <td>happy</td>\n      <td>8081</td>\n      <td>happy/08081.jpg</td>\n      <td>[[201, 209, 193, 107, 106, 107, 98, 114, 144, ...</td>\n    </tr>\n    <tr>\n      <th>...</th>\n      <td>...</td>\n      <td>...</td>\n      <td>...</td>\n      <td>...</td>\n    </tr>\n    <tr>\n      <th>6171</th>\n      <td>sadness</td>\n      <td>11346</td>\n      <td>sadness/11346.jpg</td>\n      <td>[[167, 180, 196, 171, 101, 50, 52, 70, 55, 49,...</td>\n    </tr>\n    <tr>\n      <th>6172</th>\n      <td>sadness</td>\n      <td>4441</td>\n      <td>sadness/04441.jpg</td>\n      <td>[[163, 154, 128, 116, 121, 106, 90, 99, 115, 1...</td>\n    </tr>\n    <tr>\n      <th>6173</th>\n      <td>sadness</td>\n      <td>15236</td>\n      <td>sadness/15236.jpg</td>\n      <td>[[109, 25, 29, 33, 55, 65, 82, 87, 147, 179, 1...</td>\n    </tr>\n    <tr>\n      <th>6174</th>\n      <td>sadness</td>\n      <td>27361</td>\n      <td>sadness/27361.jpg</td>\n      <td>[[62, 64, 67, 52, 57, 65, 50, 55, 117, 179, 15...</td>\n    </tr>\n    <tr>\n      <th>6175</th>\n      <td>sadness</td>\n      <td>25239</td>\n      <td>sadness/25239.jpg</td>\n      <td>[[163, 167, 123, 78, 50, 30, 26, 14, 7, 12, 50...</td>\n    </tr>\n  </tbody>\n</table>\n<p>6176 rows × 4 columns</p>\n</div>"
     },
     "metadata": {},
     "execution_count": 7
    }
   ],
   "source": [
    "train_set"
   ]
  },
  {
   "cell_type": "code",
   "execution_count": 8,
   "metadata": {},
   "outputs": [],
   "source": [
    "categoria = ['sadness', 'happy']"
   ]
  },
  {
   "cell_type": "code",
   "execution_count": 9,
   "metadata": {},
   "outputs": [],
   "source": [
    "\n",
    "train_set[\"label\"] = train_set[\"label\"].apply(lambda x: 1 if x == \"happy\" else 0)"
   ]
  },
  {
   "cell_type": "code",
   "execution_count": 10,
   "metadata": {},
   "outputs": [
    {
     "output_type": "execute_result",
     "data": {
      "text/plain": [
       "      label  id_img               path  \\\n",
       "0         1   22373    happy/22373.jpg   \n",
       "1         1   21433    happy/21433.jpg   \n",
       "2         1   12418    happy/12418.jpg   \n",
       "3         1   21278    happy/21278.jpg   \n",
       "4         1    8081    happy/08081.jpg   \n",
       "...     ...     ...                ...   \n",
       "6171      0   11346  sadness/11346.jpg   \n",
       "6172      0    4441  sadness/04441.jpg   \n",
       "6173      0   15236  sadness/15236.jpg   \n",
       "6174      0   27361  sadness/27361.jpg   \n",
       "6175      0   25239  sadness/25239.jpg   \n",
       "\n",
       "                                             nombre_img  \n",
       "0     [[25, 44, 56, 68, 88, 98, 93, 92, 105, 120, 13...  \n",
       "1     [[33, 29, 22, 18, 19, 23, 22, 19, 20, 23, 14, ...  \n",
       "2     [[35, 43, 66, 84, 71, 41, 36, 53, 97, 56, 100,...  \n",
       "3     [[118, 124, 132, 126, 127, 139, 67, 38, 33, 29...  \n",
       "4     [[201, 209, 193, 107, 106, 107, 98, 114, 144, ...  \n",
       "...                                                 ...  \n",
       "6171  [[167, 180, 196, 171, 101, 50, 52, 70, 55, 49,...  \n",
       "6172  [[163, 154, 128, 116, 121, 106, 90, 99, 115, 1...  \n",
       "6173  [[109, 25, 29, 33, 55, 65, 82, 87, 147, 179, 1...  \n",
       "6174  [[62, 64, 67, 52, 57, 65, 50, 55, 117, 179, 15...  \n",
       "6175  [[163, 167, 123, 78, 50, 30, 26, 14, 7, 12, 50...  \n",
       "\n",
       "[6176 rows x 4 columns]"
      ],
      "text/html": "<div>\n<style scoped>\n    .dataframe tbody tr th:only-of-type {\n        vertical-align: middle;\n    }\n\n    .dataframe tbody tr th {\n        vertical-align: top;\n    }\n\n    .dataframe thead th {\n        text-align: right;\n    }\n</style>\n<table border=\"1\" class=\"dataframe\">\n  <thead>\n    <tr style=\"text-align: right;\">\n      <th></th>\n      <th>label</th>\n      <th>id_img</th>\n      <th>path</th>\n      <th>nombre_img</th>\n    </tr>\n  </thead>\n  <tbody>\n    <tr>\n      <th>0</th>\n      <td>1</td>\n      <td>22373</td>\n      <td>happy/22373.jpg</td>\n      <td>[[25, 44, 56, 68, 88, 98, 93, 92, 105, 120, 13...</td>\n    </tr>\n    <tr>\n      <th>1</th>\n      <td>1</td>\n      <td>21433</td>\n      <td>happy/21433.jpg</td>\n      <td>[[33, 29, 22, 18, 19, 23, 22, 19, 20, 23, 14, ...</td>\n    </tr>\n    <tr>\n      <th>2</th>\n      <td>1</td>\n      <td>12418</td>\n      <td>happy/12418.jpg</td>\n      <td>[[35, 43, 66, 84, 71, 41, 36, 53, 97, 56, 100,...</td>\n    </tr>\n    <tr>\n      <th>3</th>\n      <td>1</td>\n      <td>21278</td>\n      <td>happy/21278.jpg</td>\n      <td>[[118, 124, 132, 126, 127, 139, 67, 38, 33, 29...</td>\n    </tr>\n    <tr>\n      <th>4</th>\n      <td>1</td>\n      <td>8081</td>\n      <td>happy/08081.jpg</td>\n      <td>[[201, 209, 193, 107, 106, 107, 98, 114, 144, ...</td>\n    </tr>\n    <tr>\n      <th>...</th>\n      <td>...</td>\n      <td>...</td>\n      <td>...</td>\n      <td>...</td>\n    </tr>\n    <tr>\n      <th>6171</th>\n      <td>0</td>\n      <td>11346</td>\n      <td>sadness/11346.jpg</td>\n      <td>[[167, 180, 196, 171, 101, 50, 52, 70, 55, 49,...</td>\n    </tr>\n    <tr>\n      <th>6172</th>\n      <td>0</td>\n      <td>4441</td>\n      <td>sadness/04441.jpg</td>\n      <td>[[163, 154, 128, 116, 121, 106, 90, 99, 115, 1...</td>\n    </tr>\n    <tr>\n      <th>6173</th>\n      <td>0</td>\n      <td>15236</td>\n      <td>sadness/15236.jpg</td>\n      <td>[[109, 25, 29, 33, 55, 65, 82, 87, 147, 179, 1...</td>\n    </tr>\n    <tr>\n      <th>6174</th>\n      <td>0</td>\n      <td>27361</td>\n      <td>sadness/27361.jpg</td>\n      <td>[[62, 64, 67, 52, 57, 65, 50, 55, 117, 179, 15...</td>\n    </tr>\n    <tr>\n      <th>6175</th>\n      <td>0</td>\n      <td>25239</td>\n      <td>sadness/25239.jpg</td>\n      <td>[[163, 167, 123, 78, 50, 30, 26, 14, 7, 12, 50...</td>\n    </tr>\n  </tbody>\n</table>\n<p>6176 rows × 4 columns</p>\n</div>"
     },
     "metadata": {},
     "execution_count": 10
    }
   ],
   "source": [
    "train_set"
   ]
  },
  {
   "cell_type": "code",
   "execution_count": 11,
   "metadata": {},
   "outputs": [],
   "source": [
    "X = np.stack(train_set.nombre_img)\n",
    "y = np.stack(train_set.label)"
   ]
  },
  {
   "cell_type": "code",
   "execution_count": 12,
   "metadata": {},
   "outputs": [],
   "source": [
    "from sklearn.model_selection import train_test_split \n",
    "import numpy as np\n",
    "import tensorflow as tf\n",
    "from tensorflow.keras import datasets, layers, models"
   ]
  },
  {
   "cell_type": "code",
   "execution_count": 13,
   "metadata": {},
   "outputs": [],
   "source": [
    "train_images, test_images, train_labels, test_labels = train_test_split(X, y, test_size=0.2, random_state=42)"
   ]
  },
  {
   "cell_type": "code",
   "execution_count": 14,
   "metadata": {},
   "outputs": [],
   "source": [
    "    # Hacemos reshape y normalizamos\n",
    "train_images = train_images.reshape(train_images.shape[0],48,48,1)\n",
    "train_images = train_images / 255\n",
    "\n",
    "test_images = test_images.reshape(test_images.shape[0],48,48,1)\n",
    "test_images = test_images / 255"
   ]
  },
  {
   "cell_type": "code",
   "execution_count": 15,
   "metadata": {},
   "outputs": [],
   "source": [
    "# otro modelo sigmoidea ## este es el usado en la primera subida \n",
    "\n",
    "model = models.Sequential()\n",
    "model.add(layers.Conv2D(filters=8, \n",
    "                        kernel_size=(2),\n",
    "                        input_shape=(48, 48, 1),\n",
    "                        padding='same'))\n",
    "model.add(layers.MaxPooling2D())\n",
    "model.add(layers.Conv2D(filters=8, \n",
    "                        kernel_size=(2),\n",
    "                        input_shape=(48, 48, 1),\n",
    "                        padding='same'))\n",
    "model.add(layers.MaxPooling2D()) \n",
    "model.add(layers.Dropout(0.25))\n",
    "model.add(layers.Flatten())\n",
    "model.add(layers.Dense(32, activation='sigmoid'))\n",
    "model.add(layers.Dense(1, activation=\"softmax\"))"
   ]
  },
  {
   "cell_type": "code",
   "execution_count": 16,
   "metadata": {},
   "outputs": [],
   "source": [
    "model.compile(optimizer='adam',\n",
    "                loss='binary_crossentropy',\n",
    "                metrics=['accuracy'])"
   ]
  },
  {
   "cell_type": "code",
   "execution_count": 17,
   "metadata": {},
   "outputs": [
    {
     "output_type": "stream",
     "name": "stdout",
     "text": [
      "Epoch 1/10\n",
      "155/155 [==============================] - 2s 12ms/step - loss: 0.6809 - accuracy: 0.5298\n",
      "Epoch 2/10\n",
      "155/155 [==============================] - 2s 12ms/step - loss: 0.6378 - accuracy: 0.5298\n",
      "Epoch 3/10\n",
      "155/155 [==============================] - 2s 12ms/step - loss: 0.6074 - accuracy: 0.5298\n",
      "Epoch 4/10\n",
      "155/155 [==============================] - 2s 13ms/step - loss: 0.5888 - accuracy: 0.5298\n",
      "Epoch 5/10\n",
      "155/155 [==============================] - 2s 11ms/step - loss: 0.5775 - accuracy: 0.5298\n",
      "Epoch 6/10\n",
      "155/155 [==============================] - 2s 11ms/step - loss: 0.5634 - accuracy: 0.5298\n",
      "Epoch 7/10\n",
      "155/155 [==============================] - 2s 12ms/step - loss: 0.5545 - accuracy: 0.5298\n",
      "Epoch 8/10\n",
      "155/155 [==============================] - 2s 11ms/step - loss: 0.5474 - accuracy: 0.5298\n",
      "Epoch 9/10\n",
      "155/155 [==============================] - 2s 11ms/step - loss: 0.5393 - accuracy: 0.5298\n",
      "Epoch 10/10\n",
      "155/155 [==============================] - 2s 11ms/step - loss: 0.5286 - accuracy: 0.5298\n"
     ]
    },
    {
     "output_type": "execute_result",
     "data": {
      "text/plain": [
       "<tensorflow.python.keras.callbacks.History at 0x1c6baa66108>"
      ]
     },
     "metadata": {},
     "execution_count": 17
    }
   ],
   "source": [
    "model.fit(train_images, train_labels, epochs=10)"
   ]
  },
  {
   "cell_type": "code",
   "execution_count": 18,
   "metadata": {},
   "outputs": [
    {
     "output_type": "stream",
     "name": "stdout",
     "text": [
      "39/39 - 0s - loss: 0.5428 - accuracy: 0.5405\n"
     ]
    }
   ],
   "source": [
    "test_loss, test_acc = model.evaluate(test_images,  test_labels, verbose=2)"
   ]
  },
  {
   "cell_type": "code",
   "execution_count": 19,
   "metadata": {},
   "outputs": [],
   "source": [
    "from tensorflow.keras.models import Model, Sequential,load_model\n",
    "from tensorflow.keras.layers import Input,Conv2D,MaxPooling2D,Dropout,Flatten,Dense, BatchNormalization"
   ]
  },
  {
   "cell_type": "code",
   "execution_count": 20,
   "metadata": {},
   "outputs": [],
   "source": [
    "## este es el de mi modelo voy a probarlo aqui \n",
    "\n",
    "model_3 = Sequential()\n",
    "model_3.add(Conv2D(64, (3, 3), input_shape=(48, 48, 1), padding='same', activation='relu'))\n",
    "model_3.add(Conv2D(64, (3, 3), activation='relu', padding='same'))\n",
    "model_3.add(MaxPooling2D(pool_size=(2, 2)))\n",
    "model_3.add(BatchNormalization())\n",
    "model_3.add(Dropout(0.25))\n",
    "\n",
    "model_3.add(Conv2D(128, (3, 3), activation='relu', padding='same'))\n",
    "model_3.add(Conv2D(128, (3, 3), activation='relu', padding='same'))\n",
    "model_3.add(MaxPooling2D(pool_size=(2, 2)))\n",
    "model_3.add(BatchNormalization())\n",
    "model_3.add(Dropout(0.25))\n",
    "\n",
    "model_3.add(Conv2D(256, (3, 3), activation='relu', padding='same'))\n",
    "model_3.add(Conv2D(256, (3, 3), activation='relu', padding='same'))\n",
    "model_3.add(MaxPooling2D(pool_size=(2, 2)))\n",
    "model_3.add(BatchNormalization())\n",
    "model_3.add(Dropout(0.25))\n",
    "\n",
    "model_3.add(Flatten())\n",
    "model_3.add(Dense(1024, activation='sigmoid'))\n",
    "model_3.add(Dense(1, activation='softmax'))"
   ]
  },
  {
   "cell_type": "code",
   "execution_count": 21,
   "metadata": {},
   "outputs": [],
   "source": [
    "model_3.compile(optimizer='adam',\n",
    "                loss='binary_crossentropy',\n",
    "                metrics=['accuracy'])"
   ]
  },
  {
   "cell_type": "code",
   "execution_count": 22,
   "metadata": {},
   "outputs": [
    {
     "output_type": "stream",
     "name": "stdout",
     "text": [
      "Epoch 1/10\n",
      "155/155 [==============================] - 94s 599ms/step - loss: 0.7868 - accuracy: 0.5298\n",
      "Epoch 2/10\n",
      "155/155 [==============================] - 95s 614ms/step - loss: 0.6326 - accuracy: 0.5298\n",
      "Epoch 3/10\n",
      "155/155 [==============================] - 106s 687ms/step - loss: 0.5354 - accuracy: 0.5298\n",
      "Epoch 4/10\n",
      "155/155 [==============================] - 102s 658ms/step - loss: 0.4514 - accuracy: 0.5298\n",
      "Epoch 5/10\n",
      "155/155 [==============================] - 104s 668ms/step - loss: 0.3756 - accuracy: 0.5298\n",
      "Epoch 6/10\n",
      "155/155 [==============================] - 109s 706ms/step - loss: 0.3129 - accuracy: 0.5298\n",
      "Epoch 7/10\n",
      "155/155 [==============================] - 108s 696ms/step - loss: 0.2487 - accuracy: 0.5298\n",
      "Epoch 8/10\n",
      "155/155 [==============================] - 106s 685ms/step - loss: 0.1970 - accuracy: 0.5298\n",
      "Epoch 9/10\n",
      "155/155 [==============================] - 109s 702ms/step - loss: 0.1535 - accuracy: 0.5298\n",
      "Epoch 10/10\n",
      "155/155 [==============================] - 111s 718ms/step - loss: 0.1359 - accuracy: 0.5298\n"
     ]
    },
    {
     "output_type": "execute_result",
     "data": {
      "text/plain": [
       "<tensorflow.python.keras.callbacks.History at 0x1dfda165408>"
      ]
     },
     "metadata": {},
     "execution_count": 22
    }
   ],
   "source": [
    "model_3.fit(train_images, train_labels, epochs=10)"
   ]
  },
  {
   "cell_type": "code",
   "execution_count": 19,
   "metadata": {},
   "outputs": [
    {
     "output_type": "stream",
     "name": "stdout",
     "text": [
      "\nTest accuracy: 0.5404530763626099\n"
     ]
    }
   ],
   "source": [
    "print('\\nTest accuracy:', test_acc)"
   ]
  },
  {
   "source": [
    "## Predecimos el modelo"
   ],
   "cell_type": "markdown",
   "metadata": {}
  },
  {
   "cell_type": "code",
   "execution_count": 20,
   "metadata": {},
   "outputs": [
    {
     "output_type": "execute_result",
     "data": {
      "text/plain": [
       "   id_img            path\n",
       "0   18341  test/18341.jpg\n",
       "1   13176  test/13176.jpg\n",
       "2   23945  test/23945.jpg\n",
       "3   15968  test/15968.jpg\n",
       "4   18382  test/18382.jpg"
      ],
      "text/html": "<div>\n<style scoped>\n    .dataframe tbody tr th:only-of-type {\n        vertical-align: middle;\n    }\n\n    .dataframe tbody tr th {\n        vertical-align: top;\n    }\n\n    .dataframe thead th {\n        text-align: right;\n    }\n</style>\n<table border=\"1\" class=\"dataframe\">\n  <thead>\n    <tr style=\"text-align: right;\">\n      <th></th>\n      <th>id_img</th>\n      <th>path</th>\n    </tr>\n  </thead>\n  <tbody>\n    <tr>\n      <th>0</th>\n      <td>18341</td>\n      <td>test/18341.jpg</td>\n    </tr>\n    <tr>\n      <th>1</th>\n      <td>13176</td>\n      <td>test/13176.jpg</td>\n    </tr>\n    <tr>\n      <th>2</th>\n      <td>23945</td>\n      <td>test/23945.jpg</td>\n    </tr>\n    <tr>\n      <th>3</th>\n      <td>15968</td>\n      <td>test/15968.jpg</td>\n    </tr>\n    <tr>\n      <th>4</th>\n      <td>18382</td>\n      <td>test/18382.jpg</td>\n    </tr>\n  </tbody>\n</table>\n</div>"
     },
     "metadata": {},
     "execution_count": 20
    }
   ],
   "source": [
    "to_pred = pd.read_csv(\"test_set.csv\")\n",
    "to_pred.head()"
   ]
  },
  {
   "cell_type": "code",
   "execution_count": 22,
   "metadata": {},
   "outputs": [],
   "source": [
    "imagenes = []\n",
    "for i in to_pred.path:\n",
    "    x = i\n",
    "    imagenes.append(cv2.imread(x, 0))\n",
    "to_pred[\"nombre_img\"] = imagenes"
   ]
  },
  {
   "cell_type": "code",
   "execution_count": 23,
   "metadata": {},
   "outputs": [],
   "source": [
    "y_test = np.stack(to_pred.nombre_img)"
   ]
  },
  {
   "cell_type": "code",
   "execution_count": 24,
   "metadata": {},
   "outputs": [],
   "source": [
    "y_test = y_test.reshape(y_test.shape[0],48,48,1)\n",
    "y_test = y_test / 255"
   ]
  },
  {
   "cell_type": "code",
   "execution_count": 25,
   "metadata": {},
   "outputs": [
    {
     "output_type": "execute_result",
     "data": {
      "text/plain": [
       "array([[1.],\n",
       "       [1.],\n",
       "       [1.],\n",
       "       ...,\n",
       "       [1.],\n",
       "       [1.],\n",
       "       [1.]], dtype=float32)"
      ]
     },
     "metadata": {},
     "execution_count": 25
    }
   ],
   "source": [
    "predictions_submit = model.predict(y_test)\n",
    "predictions_submit"
   ]
  },
  {
   "cell_type": "code",
   "execution_count": 26,
   "metadata": {},
   "outputs": [],
   "source": [
    "predictions_submit = list(predictions_submit)"
   ]
  },
  {
   "cell_type": "code",
   "execution_count": 27,
   "metadata": {},
   "outputs": [
    {
     "output_type": "execute_result",
     "data": {
      "text/plain": [
       "        0\n",
       "0     1.0\n",
       "1     1.0\n",
       "2     1.0\n",
       "3     1.0\n",
       "4     1.0\n",
       "...   ...\n",
       "4112  1.0\n",
       "4113  1.0\n",
       "4114  1.0\n",
       "4115  1.0\n",
       "4116  1.0\n",
       "\n",
       "[4117 rows x 1 columns]"
      ],
      "text/html": "<div>\n<style scoped>\n    .dataframe tbody tr th:only-of-type {\n        vertical-align: middle;\n    }\n\n    .dataframe tbody tr th {\n        vertical-align: top;\n    }\n\n    .dataframe thead th {\n        text-align: right;\n    }\n</style>\n<table border=\"1\" class=\"dataframe\">\n  <thead>\n    <tr style=\"text-align: right;\">\n      <th></th>\n      <th>0</th>\n    </tr>\n  </thead>\n  <tbody>\n    <tr>\n      <th>0</th>\n      <td>1.0</td>\n    </tr>\n    <tr>\n      <th>1</th>\n      <td>1.0</td>\n    </tr>\n    <tr>\n      <th>2</th>\n      <td>1.0</td>\n    </tr>\n    <tr>\n      <th>3</th>\n      <td>1.0</td>\n    </tr>\n    <tr>\n      <th>4</th>\n      <td>1.0</td>\n    </tr>\n    <tr>\n      <th>...</th>\n      <td>...</td>\n    </tr>\n    <tr>\n      <th>4112</th>\n      <td>1.0</td>\n    </tr>\n    <tr>\n      <th>4113</th>\n      <td>1.0</td>\n    </tr>\n    <tr>\n      <th>4114</th>\n      <td>1.0</td>\n    </tr>\n    <tr>\n      <th>4115</th>\n      <td>1.0</td>\n    </tr>\n    <tr>\n      <th>4116</th>\n      <td>1.0</td>\n    </tr>\n  </tbody>\n</table>\n<p>4117 rows × 1 columns</p>\n</div>"
     },
     "metadata": {},
     "execution_count": 27
    }
   ],
   "source": [
    "predictions_submit = pd.DataFrame(predictions_submit)\n",
    "predictions_submit"
   ]
  },
  {
   "cell_type": "code",
   "execution_count": 28,
   "metadata": {},
   "outputs": [
    {
     "output_type": "execute_result",
     "data": {
      "text/plain": [
       "      id_img  label\n",
       "0      18341    1.0\n",
       "1      13176    1.0\n",
       "2      23945    1.0\n",
       "3      15968    1.0\n",
       "4      18382    1.0\n",
       "...      ...    ...\n",
       "4112    8966    1.0\n",
       "4113   12111    1.0\n",
       "4114   16629    1.0\n",
       "4115   24322    1.0\n",
       "4116   23412    1.0\n",
       "\n",
       "[4117 rows x 2 columns]"
      ],
      "text/html": "<div>\n<style scoped>\n    .dataframe tbody tr th:only-of-type {\n        vertical-align: middle;\n    }\n\n    .dataframe tbody tr th {\n        vertical-align: top;\n    }\n\n    .dataframe thead th {\n        text-align: right;\n    }\n</style>\n<table border=\"1\" class=\"dataframe\">\n  <thead>\n    <tr style=\"text-align: right;\">\n      <th></th>\n      <th>id_img</th>\n      <th>label</th>\n    </tr>\n  </thead>\n  <tbody>\n    <tr>\n      <th>0</th>\n      <td>18341</td>\n      <td>1.0</td>\n    </tr>\n    <tr>\n      <th>1</th>\n      <td>13176</td>\n      <td>1.0</td>\n    </tr>\n    <tr>\n      <th>2</th>\n      <td>23945</td>\n      <td>1.0</td>\n    </tr>\n    <tr>\n      <th>3</th>\n      <td>15968</td>\n      <td>1.0</td>\n    </tr>\n    <tr>\n      <th>4</th>\n      <td>18382</td>\n      <td>1.0</td>\n    </tr>\n    <tr>\n      <th>...</th>\n      <td>...</td>\n      <td>...</td>\n    </tr>\n    <tr>\n      <th>4112</th>\n      <td>8966</td>\n      <td>1.0</td>\n    </tr>\n    <tr>\n      <th>4113</th>\n      <td>12111</td>\n      <td>1.0</td>\n    </tr>\n    <tr>\n      <th>4114</th>\n      <td>16629</td>\n      <td>1.0</td>\n    </tr>\n    <tr>\n      <th>4115</th>\n      <td>24322</td>\n      <td>1.0</td>\n    </tr>\n    <tr>\n      <th>4116</th>\n      <td>23412</td>\n      <td>1.0</td>\n    </tr>\n  </tbody>\n</table>\n<p>4117 rows × 2 columns</p>\n</div>"
     },
     "metadata": {},
     "execution_count": 28
    }
   ],
   "source": [
    "submission = pd.DataFrame({\"id_img\": to_pred[\"id_img\"], \"label\": predictions_submit[0]})\n",
    "submission"
   ]
  },
  {
   "cell_type": "code",
   "execution_count": 29,
   "metadata": {},
   "outputs": [
    {
     "output_type": "execute_result",
     "data": {
      "text/plain": [
       "      id_img  label\n",
       "0      18341  happy\n",
       "1      13176  happy\n",
       "2      23945  happy\n",
       "3      15968  happy\n",
       "4      18382  happy\n",
       "...      ...    ...\n",
       "4112    8966  happy\n",
       "4113   12111  happy\n",
       "4114   16629  happy\n",
       "4115   24322  happy\n",
       "4116   23412  happy\n",
       "\n",
       "[4117 rows x 2 columns]"
      ],
      "text/html": "<div>\n<style scoped>\n    .dataframe tbody tr th:only-of-type {\n        vertical-align: middle;\n    }\n\n    .dataframe tbody tr th {\n        vertical-align: top;\n    }\n\n    .dataframe thead th {\n        text-align: right;\n    }\n</style>\n<table border=\"1\" class=\"dataframe\">\n  <thead>\n    <tr style=\"text-align: right;\">\n      <th></th>\n      <th>id_img</th>\n      <th>label</th>\n    </tr>\n  </thead>\n  <tbody>\n    <tr>\n      <th>0</th>\n      <td>18341</td>\n      <td>happy</td>\n    </tr>\n    <tr>\n      <th>1</th>\n      <td>13176</td>\n      <td>happy</td>\n    </tr>\n    <tr>\n      <th>2</th>\n      <td>23945</td>\n      <td>happy</td>\n    </tr>\n    <tr>\n      <th>3</th>\n      <td>15968</td>\n      <td>happy</td>\n    </tr>\n    <tr>\n      <th>4</th>\n      <td>18382</td>\n      <td>happy</td>\n    </tr>\n    <tr>\n      <th>...</th>\n      <td>...</td>\n      <td>...</td>\n    </tr>\n    <tr>\n      <th>4112</th>\n      <td>8966</td>\n      <td>happy</td>\n    </tr>\n    <tr>\n      <th>4113</th>\n      <td>12111</td>\n      <td>happy</td>\n    </tr>\n    <tr>\n      <th>4114</th>\n      <td>16629</td>\n      <td>happy</td>\n    </tr>\n    <tr>\n      <th>4115</th>\n      <td>24322</td>\n      <td>happy</td>\n    </tr>\n    <tr>\n      <th>4116</th>\n      <td>23412</td>\n      <td>happy</td>\n    </tr>\n  </tbody>\n</table>\n<p>4117 rows × 2 columns</p>\n</div>"
     },
     "metadata": {},
     "execution_count": 29
    }
   ],
   "source": [
    "submission[\"label\"] = submission[\"label\"].astype(float)\n",
    "submission[\"label\"] = submission[\"label\"].apply(lambda x: \"happy\" if x == 1.0 else \"sadness\")\n",
    "submission"
   ]
  },
  {
   "cell_type": "code",
   "execution_count": 32,
   "metadata": {},
   "outputs": [],
   "source": [
    "sample = pd.read_csv(\"sample_submission.csv\")"
   ]
  },
  {
   "cell_type": "code",
   "execution_count": 39,
   "metadata": {},
   "outputs": [],
   "source": [
    "def chequeator(df_to_submit):\n",
    "    \"\"\"\n",
    "    Esta función se asegura de que tu submission tenga la forma requerida por Kaggle.\n",
    "    \n",
    "    Si es así, se guardará el dataframe en un `csv` y estará listo para subir a Kaggle.\n",
    "    \n",
    "    Si no, LEE EL MENSAJE Y HAZLE CASO.\n",
    "    \n",
    "    Si aún no:\n",
    "    - apaga tu ordenador, \n",
    "    - date una vuelta, \n",
    "    - enciendelo otra vez, \n",
    "    - abre este notebook y \n",
    "    - leelo todo de nuevo. \n",
    "    Todos nos merecemos una segunda oportunidad. También tú.\n",
    "    \"\"\"\n",
    "    if df_to_submit.shape == sample.shape:\n",
    "        if df_to_submit.columns.all() == sample.columns.all():\n",
    "            if df_to_submit.id_img.all() == sample.id_img.all():\n",
    "                print(\"You're ready to submit!\")\n",
    "                submission.to_csv(\"submission.csv\", index = False) #muy importante el index = False\n",
    "                 \n",
    "            else:\n",
    "                print(\"Check the ids and try again\")\n",
    "        else:\n",
    "            print(\"Check the names of the columns and try again\")\n",
    "    else:\n",
    "        print(\"Check the number of rows and/or columns and try again\")\n",
    "        print(\"\\nMensaje secreto de Clara: No me puedo creer que después de todo este notebook hayas hecho algún cambio en las filas de `diamonds_test.csv`. Lloro.\")"
   ]
  },
  {
   "cell_type": "code",
   "execution_count": 40,
   "metadata": {},
   "outputs": [
    {
     "output_type": "stream",
     "name": "stdout",
     "text": [
      "You're ready to submit!\n"
     ]
    }
   ],
   "source": [
    "chequeator(submission)"
   ]
  },
  {
   "cell_type": "code",
   "execution_count": 44,
   "metadata": {},
   "outputs": [],
   "source": [
    "# save MODEL\n",
    "import tensorflow as tf\n",
    "model = model.save('my_first_model.h5')"
   ]
  },
  {
   "source": [
    "## OTRO INTENTO"
   ],
   "cell_type": "markdown",
   "metadata": {}
  },
  {
   "cell_type": "code",
   "execution_count": 47,
   "metadata": {},
   "outputs": [],
   "source": [
    "model_2 = models.Sequential()\n",
    "model_2.add(layers.Conv2D(filters=25, \n",
    "                        kernel_size=(2), \n",
    "                        activation='sigmoid',\n",
    "                        input_shape=(48, 48, 1),\n",
    "                        padding='same'))\n",
    "model_2.add(layers.MaxPooling2D())\n",
    "model_2.add(layers.Conv2D(filters=50, \n",
    "                        kernel_size=(2),\n",
    "                        activation='sigmoid',\n",
    "                        input_shape=(48, 48, 1),\n",
    "                        padding='same'))\n",
    "model_2.add(layers.MaxPooling2D()) \n",
    "model_2.add(layers.Dropout(0.25))\n",
    "model_2.add(layers.Flatten())\n",
    "model_2.add(layers.Dense(75, activation='sigmoid'))\n",
    "model_2.add(layers.Dense(1, activation=\"softmax\"))"
   ]
  },
  {
   "cell_type": "code",
   "execution_count": 51,
   "metadata": {},
   "outputs": [],
   "source": [
    "model_2.compile(optimizer='adam',\n",
    "                loss='binary_crossentropy',\n",
    "                metrics=['accuracy'])"
   ]
  },
  {
   "cell_type": "code",
   "execution_count": 52,
   "metadata": {},
   "outputs": [
    {
     "output_type": "stream",
     "name": "stdout",
     "text": [
      "Epoch 1/15\n",
      "155/155 [==============================] - 7s 42ms/step - loss: 0.7119 - accuracy: 0.5298\n",
      "Epoch 2/15\n",
      "155/155 [==============================] - 6s 42ms/step - loss: 0.6923 - accuracy: 0.5298\n",
      "Epoch 3/15\n",
      "155/155 [==============================] - 6s 42ms/step - loss: 0.6921 - accuracy: 0.5298\n",
      "Epoch 4/15\n",
      "155/155 [==============================] - 7s 42ms/step - loss: 0.6927 - accuracy: 0.5298\n",
      "Epoch 5/15\n",
      "155/155 [==============================] - 7s 42ms/step - loss: 0.6922 - accuracy: 0.5298\n",
      "Epoch 6/15\n",
      "155/155 [==============================] - 7s 42ms/step - loss: 0.6922 - accuracy: 0.5298\n",
      "Epoch 7/15\n",
      "155/155 [==============================] - 7s 43ms/step - loss: 0.6922 - accuracy: 0.5298\n",
      "Epoch 8/15\n",
      "155/155 [==============================] - 7s 42ms/step - loss: 0.6922 - accuracy: 0.5298\n",
      "Epoch 9/15\n",
      "155/155 [==============================] - 7s 42ms/step - loss: 0.6919 - accuracy: 0.5298\n",
      "Epoch 10/15\n",
      "155/155 [==============================] - 7s 43ms/step - loss: 0.6920 - accuracy: 0.5298\n",
      "Epoch 11/15\n",
      "155/155 [==============================] - 7s 42ms/step - loss: 0.6922 - accuracy: 0.5298\n",
      "Epoch 12/15\n",
      "155/155 [==============================] - 7s 43ms/step - loss: 0.6929 - accuracy: 0.5298\n",
      "Epoch 13/15\n",
      "155/155 [==============================] - 7s 43ms/step - loss: 0.6915 - accuracy: 0.5298\n",
      "Epoch 14/15\n",
      "155/155 [==============================] - 7s 42ms/step - loss: 0.6920 - accuracy: 0.5298\n",
      "Epoch 15/15\n",
      "155/155 [==============================] - 7s 42ms/step - loss: 0.6920 - accuracy: 0.5298\n"
     ]
    },
    {
     "output_type": "execute_result",
     "data": {
      "text/plain": [
       "<tensorflow.python.keras.callbacks.History at 0x1c6c25c0088>"
      ]
     },
     "metadata": {},
     "execution_count": 52
    }
   ],
   "source": [
    "model_2.fit(train_images, train_labels, epochs=15)"
   ]
  },
  {
   "cell_type": "code",
   "execution_count": 54,
   "metadata": {},
   "outputs": [
    {
     "output_type": "stream",
     "name": "stdout",
     "text": [
      "39/39 - 1s - loss: 0.6900 - accuracy: 0.5405\n"
     ]
    }
   ],
   "source": [
    "test_loss, test_acc = model_2.evaluate(test_images,  test_labels, verbose=2)"
   ]
  },
  {
   "cell_type": "code",
   "execution_count": null,
   "metadata": {},
   "outputs": [],
   "source": [
    "# tiene una mayor pérdida que el anterior "
   ]
  },
  {
   "cell_type": "code",
   "execution_count": 56,
   "metadata": {},
   "outputs": [],
   "source": [
    "# Nuevo modelo \n",
    "\n",
    "model_3 = models.Sequential()\n",
    "model_3.add(layers.Conv2D(filters=8, \n",
    "                        kernel_size=(2),\n",
    "                        input_shape=(48, 48, 1),\n",
    "                        padding='same'))\n",
    "model_3.add(layers.MaxPooling2D())\n",
    "\n",
    "model_3.add(layers.Dropout(0.25))\n",
    "model_3.add(layers.Flatten())\n",
    "model_3.add(layers.Dense(32, activation='sigmoid'))\n",
    "model_3.add(layers.Dense(1, activation=\"softmax\"))"
   ]
  },
  {
   "cell_type": "code",
   "execution_count": 57,
   "metadata": {},
   "outputs": [],
   "source": [
    "model_3.compile(optimizer='adam',\n",
    "                loss='binary_crossentropy',\n",
    "                metrics=['accuracy'])"
   ]
  },
  {
   "cell_type": "code",
   "execution_count": 58,
   "metadata": {},
   "outputs": [
    {
     "output_type": "stream",
     "name": "stdout",
     "text": [
      "Epoch 1/10\n",
      "155/155 [==============================] - 3s 13ms/step - loss: 0.6724 - accuracy: 0.5298\n",
      "Epoch 2/10\n",
      "155/155 [==============================] - 2s 13ms/step - loss: 0.6209 - accuracy: 0.5298\n",
      "Epoch 3/10\n",
      "155/155 [==============================] - 2s 13ms/step - loss: 0.5996 - accuracy: 0.5298\n",
      "Epoch 4/10\n",
      "155/155 [==============================] - 2s 13ms/step - loss: 0.5886 - accuracy: 0.5298\n",
      "Epoch 5/10\n",
      "155/155 [==============================] - 2s 13ms/step - loss: 0.5691 - accuracy: 0.5298\n",
      "Epoch 6/10\n",
      "155/155 [==============================] - 2s 13ms/step - loss: 0.5508 - accuracy: 0.5298\n",
      "Epoch 7/10\n",
      "155/155 [==============================] - 2s 13ms/step - loss: 0.5396 - accuracy: 0.5298\n",
      "Epoch 8/10\n",
      "155/155 [==============================] - 2s 13ms/step - loss: 0.5271 - accuracy: 0.5298\n",
      "Epoch 9/10\n",
      "155/155 [==============================] - 2s 13ms/step - loss: 0.5131 - accuracy: 0.5298\n",
      "Epoch 10/10\n",
      "155/155 [==============================] - 2s 12ms/step - loss: 0.5026 - accuracy: 0.5298\n"
     ]
    },
    {
     "output_type": "execute_result",
     "data": {
      "text/plain": [
       "<tensorflow.python.keras.callbacks.History at 0x1c6c29d5788>"
      ]
     },
     "metadata": {},
     "execution_count": 58
    }
   ],
   "source": [
    "model_3.fit(train_images, train_labels, epochs=10)"
   ]
  },
  {
   "cell_type": "code",
   "execution_count": 59,
   "metadata": {},
   "outputs": [
    {
     "output_type": "stream",
     "name": "stdout",
     "text": [
      "39/39 - 1s - loss: 0.6900 - accuracy: 0.5405\n"
     ]
    }
   ],
   "source": [
    "test_loss, test_acc = model_2.evaluate(test_images,  test_labels, verbose=2)"
   ]
  },
  {
   "cell_type": "code",
   "execution_count": 68,
   "metadata": {},
   "outputs": [],
   "source": [
    "from tensorflow.keras.applications.vgg16 import VGG16\n",
    "\n",
    "base_model = VGG16(input_shape = (48, 48, 3),\n",
    "                  include_top=False, \n",
    "                  weights = 'imagenet')\n",
    "\n",
    "for layer in base_model.layers:\n",
    "    layer.trainable = False \n",
    "x0 = layers.Flatten()(base_model.output) \n",
    "x1 = layers.Dense(512, activation='relu')(x0) \n",
    "x2 = layers.Dropout(0.5)(x1)\n",
    "x3 = layers.Dense(1, activation='sigmoid')(x2)\n",
    "model_4 = tf.keras.models.Model(base_model.input, x3) #aqui ya estoy concatenando los modelos\n",
    "\n",
    "model_4.compile(optimizer = 'adam', loss = 'binary_crossentropy',metrics = ['acc'])"
   ]
  },
  {
   "cell_type": "code",
   "execution_count": 69,
   "metadata": {},
   "outputs": [
    {
     "output_type": "execute_result",
     "data": {
      "text/plain": [
       "(array([[[[0.23529412],\n",
       "          [0.25098039],\n",
       "          [0.25490196],\n",
       "          ...,\n",
       "          [0.21960784],\n",
       "          [0.27058824],\n",
       "          [0.36078431]],\n",
       " \n",
       "         [[0.23529412],\n",
       "          [0.24313725],\n",
       "          [0.24705882],\n",
       "          ...,\n",
       "          [0.21568627],\n",
       "          [0.25882353],\n",
       "          [0.34901961]],\n",
       " \n",
       "         [[0.23137255],\n",
       "          [0.23529412],\n",
       "          [0.23921569],\n",
       "          ...,\n",
       "          [0.20392157],\n",
       "          [0.23529412],\n",
       "          [0.31372549]],\n",
       " \n",
       "         ...,\n",
       " \n",
       "         [[0.42352941],\n",
       "          [0.40392157],\n",
       "          [0.39215686],\n",
       "          ...,\n",
       "          [0.45098039],\n",
       "          [0.40784314],\n",
       "          [0.38039216]],\n",
       " \n",
       "         [[0.43137255],\n",
       "          [0.40392157],\n",
       "          [0.38039216],\n",
       "          ...,\n",
       "          [0.43529412],\n",
       "          [0.40392157],\n",
       "          [0.39215686]],\n",
       " \n",
       "         [[0.40784314],\n",
       "          [0.38431373],\n",
       "          [0.36078431],\n",
       "          ...,\n",
       "          [0.42352941],\n",
       "          [0.39607843],\n",
       "          [0.39607843]]],\n",
       " \n",
       " \n",
       "        [[[0.31372549],\n",
       "          [0.51372549],\n",
       "          [0.51372549],\n",
       "          ...,\n",
       "          [0.1254902 ],\n",
       "          [0.13333333],\n",
       "          [0.2       ]],\n",
       " \n",
       "         [[0.27843137],\n",
       "          [0.34117647],\n",
       "          [0.40392157],\n",
       "          ...,\n",
       "          [0.15294118],\n",
       "          [0.15294118],\n",
       "          [0.16078431]],\n",
       " \n",
       "         [[0.50196078],\n",
       "          [0.40392157],\n",
       "          [0.42352941],\n",
       "          ...,\n",
       "          [0.13333333],\n",
       "          [0.14901961],\n",
       "          [0.15294118]],\n",
       " \n",
       "         ...,\n",
       " \n",
       "         [[0.81568627],\n",
       "          [0.81960784],\n",
       "          [0.81568627],\n",
       "          ...,\n",
       "          [0.14117647],\n",
       "          [0.15294118],\n",
       "          [0.15686275]],\n",
       " \n",
       "         [[0.78039216],\n",
       "          [0.79215686],\n",
       "          [0.80392157],\n",
       "          ...,\n",
       "          [0.14117647],\n",
       "          [0.14901961],\n",
       "          [0.15686275]],\n",
       " \n",
       "         [[0.72156863],\n",
       "          [0.74117647],\n",
       "          [0.78431373],\n",
       "          ...,\n",
       "          [0.1372549 ],\n",
       "          [0.14901961],\n",
       "          [0.15294118]]],\n",
       " \n",
       " \n",
       "        [[[0.63529412],\n",
       "          [0.28627451],\n",
       "          [0.21176471],\n",
       "          ...,\n",
       "          [0.47058824],\n",
       "          [0.74117647],\n",
       "          [0.95294118]],\n",
       " \n",
       "         [[0.49019608],\n",
       "          [0.20392157],\n",
       "          [0.19607843],\n",
       "          ...,\n",
       "          [0.4       ],\n",
       "          [0.63137255],\n",
       "          [0.84313725]],\n",
       " \n",
       "         [[0.30980392],\n",
       "          [0.1372549 ],\n",
       "          [0.2       ],\n",
       "          ...,\n",
       "          [0.32156863],\n",
       "          [0.48627451],\n",
       "          [0.69411765]],\n",
       " \n",
       "         ...,\n",
       " \n",
       "         [[0.16078431],\n",
       "          [0.14901961],\n",
       "          [0.14117647],\n",
       "          ...,\n",
       "          [0.63921569],\n",
       "          [0.57254902],\n",
       "          [0.52156863]],\n",
       " \n",
       "         [[0.16078431],\n",
       "          [0.14901961],\n",
       "          [0.1372549 ],\n",
       "          ...,\n",
       "          [0.56078431],\n",
       "          [0.50980392],\n",
       "          [0.48627451]],\n",
       " \n",
       "         [[0.16078431],\n",
       "          [0.14509804],\n",
       "          [0.12941176],\n",
       "          ...,\n",
       "          [0.52941176],\n",
       "          [0.48627451],\n",
       "          [0.4745098 ]]],\n",
       " \n",
       " \n",
       "        ...,\n",
       " \n",
       " \n",
       "        [[[0.08235294],\n",
       "          [0.0745098 ],\n",
       "          [0.09803922],\n",
       "          ...,\n",
       "          [0.16078431],\n",
       "          [0.23921569],\n",
       "          [0.34117647]],\n",
       " \n",
       "         [[0.0627451 ],\n",
       "          [0.08627451],\n",
       "          [0.11764706],\n",
       "          ...,\n",
       "          [0.15686275],\n",
       "          [0.23137255],\n",
       "          [0.34509804]],\n",
       " \n",
       "         [[0.05490196],\n",
       "          [0.10196078],\n",
       "          [0.14117647],\n",
       "          ...,\n",
       "          [0.14901961],\n",
       "          [0.21176471],\n",
       "          [0.32941176]],\n",
       " \n",
       "         ...,\n",
       " \n",
       "         [[0.30980392],\n",
       "          [0.30980392],\n",
       "          [0.34901961],\n",
       "          ...,\n",
       "          [0.02745098],\n",
       "          [0.04705882],\n",
       "          [0.04705882]],\n",
       " \n",
       "         [[0.29803922],\n",
       "          [0.30196078],\n",
       "          [0.34117647],\n",
       "          ...,\n",
       "          [0.02745098],\n",
       "          [0.03529412],\n",
       "          [0.04313725]],\n",
       " \n",
       "         [[0.29411765],\n",
       "          [0.29803922],\n",
       "          [0.33333333],\n",
       "          ...,\n",
       "          [0.03529412],\n",
       "          [0.02745098],\n",
       "          [0.04705882]]],\n",
       " \n",
       " \n",
       "        [[[0.61568627],\n",
       "          [0.65098039],\n",
       "          [0.70196078],\n",
       "          ...,\n",
       "          [0.48627451],\n",
       "          [0.61568627],\n",
       "          [0.61568627]],\n",
       " \n",
       "         [[0.63529412],\n",
       "          [0.65882353],\n",
       "          [0.70588235],\n",
       "          ...,\n",
       "          [0.41568627],\n",
       "          [0.48627451],\n",
       "          [0.58431373]],\n",
       " \n",
       "         [[0.66666667],\n",
       "          [0.66666667],\n",
       "          [0.70196078],\n",
       "          ...,\n",
       "          [0.41960784],\n",
       "          [0.40392157],\n",
       "          [0.51764706]],\n",
       " \n",
       "         ...,\n",
       " \n",
       "         [[0.5372549 ],\n",
       "          [0.55686275],\n",
       "          [0.58431373],\n",
       "          ...,\n",
       "          [0.39607843],\n",
       "          [0.41176471],\n",
       "          [0.44705882]],\n",
       " \n",
       "         [[0.50196078],\n",
       "          [0.52156863],\n",
       "          [0.55686275],\n",
       "          ...,\n",
       "          [0.39607843],\n",
       "          [0.41176471],\n",
       "          [0.42352941]],\n",
       " \n",
       "         [[0.43921569],\n",
       "          [0.50980392],\n",
       "          [0.63921569],\n",
       "          ...,\n",
       "          [0.41960784],\n",
       "          [0.41176471],\n",
       "          [0.39607843]]],\n",
       " \n",
       " \n",
       "        [[[0.23921569],\n",
       "          [0.24705882],\n",
       "          [0.27058824],\n",
       "          ...,\n",
       "          [0.29803922],\n",
       "          [0.21960784],\n",
       "          [0.1254902 ]],\n",
       " \n",
       "         [[0.26666667],\n",
       "          [0.2745098 ],\n",
       "          [0.28627451],\n",
       "          ...,\n",
       "          [0.29411765],\n",
       "          [0.23921569],\n",
       "          [0.14117647]],\n",
       " \n",
       "         [[0.25882353],\n",
       "          [0.30980392],\n",
       "          [0.36470588],\n",
       "          ...,\n",
       "          [0.27058824],\n",
       "          [0.24705882],\n",
       "          [0.15294118]],\n",
       " \n",
       "         ...,\n",
       " \n",
       "         [[0.2627451 ],\n",
       "          [0.1254902 ],\n",
       "          [0.1372549 ],\n",
       "          ...,\n",
       "          [0.21176471],\n",
       "          [0.25098039],\n",
       "          [0.22352941]],\n",
       " \n",
       "         [[0.23921569],\n",
       "          [0.21960784],\n",
       "          [0.11764706],\n",
       "          ...,\n",
       "          [0.21960784],\n",
       "          [0.2627451 ],\n",
       "          [0.22745098]],\n",
       " \n",
       "         [[0.19215686],\n",
       "          [0.2627451 ],\n",
       "          [0.1254902 ],\n",
       "          ...,\n",
       "          [0.22745098],\n",
       "          [0.27058824],\n",
       "          [0.22745098]]]]),\n",
       " array([[[[0.07843137],\n",
       "          [0.01960784],\n",
       "          [0.01568627],\n",
       "          ...,\n",
       "          [0.27058824],\n",
       "          [0.31372549],\n",
       "          [0.29803922]],\n",
       " \n",
       "         [[0.05490196],\n",
       "          [0.03529412],\n",
       "          [0.04705882],\n",
       "          ...,\n",
       "          [0.24705882],\n",
       "          [0.34901961],\n",
       "          [0.3254902 ]],\n",
       " \n",
       "         [[0.02352941],\n",
       "          [0.03921569],\n",
       "          [0.04705882],\n",
       "          ...,\n",
       "          [0.20784314],\n",
       "          [0.25098039],\n",
       "          [0.22352941]],\n",
       " \n",
       "         ...,\n",
       " \n",
       "         [[0.27058824],\n",
       "          [0.25882353],\n",
       "          [0.22352941],\n",
       "          ...,\n",
       "          [0.05098039],\n",
       "          [0.05490196],\n",
       "          [0.08235294]],\n",
       " \n",
       "         [[0.23921569],\n",
       "          [0.19215686],\n",
       "          [0.24705882],\n",
       "          ...,\n",
       "          [0.03529412],\n",
       "          [0.0745098 ],\n",
       "          [0.09411765]],\n",
       " \n",
       "         [[0.1372549 ],\n",
       "          [0.08627451],\n",
       "          [0.23137255],\n",
       "          ...,\n",
       "          [0.0627451 ],\n",
       "          [0.11372549],\n",
       "          [0.0745098 ]]],\n",
       " \n",
       " \n",
       "        [[[0.6745098 ],\n",
       "          [0.68627451],\n",
       "          [0.70196078],\n",
       "          ...,\n",
       "          [0.83921569],\n",
       "          [0.87058824],\n",
       "          [0.90588235]],\n",
       " \n",
       "         [[0.64313725],\n",
       "          [0.65490196],\n",
       "          [0.67843137],\n",
       "          ...,\n",
       "          [0.82352941],\n",
       "          [0.84705882],\n",
       "          [0.85882353]],\n",
       " \n",
       "         [[0.60784314],\n",
       "          [0.62352941],\n",
       "          [0.65490196],\n",
       "          ...,\n",
       "          [0.82745098],\n",
       "          [0.84313725],\n",
       "          [0.83137255]],\n",
       " \n",
       "         ...,\n",
       " \n",
       "         [[0.5372549 ],\n",
       "          [0.61960784],\n",
       "          [0.60392157],\n",
       "          ...,\n",
       "          [0.38823529],\n",
       "          [0.40392157],\n",
       "          [0.38823529]],\n",
       " \n",
       "         [[0.5254902 ],\n",
       "          [0.59607843],\n",
       "          [0.58431373],\n",
       "          ...,\n",
       "          [0.3254902 ],\n",
       "          [0.34509804],\n",
       "          [0.40784314]],\n",
       " \n",
       "         [[0.58823529],\n",
       "          [0.56470588],\n",
       "          [0.55294118],\n",
       "          ...,\n",
       "          [0.23137255],\n",
       "          [0.23529412],\n",
       "          [0.34117647]]],\n",
       " \n",
       " \n",
       "        [[[0.20392157],\n",
       "          [0.20392157],\n",
       "          [0.20392157],\n",
       "          ...,\n",
       "          [0.09803922],\n",
       "          [0.09411765],\n",
       "          [0.09411765]],\n",
       " \n",
       "         [[0.20784314],\n",
       "          [0.20784314],\n",
       "          [0.20784314],\n",
       "          ...,\n",
       "          [0.10196078],\n",
       "          [0.10196078],\n",
       "          [0.09803922]],\n",
       " \n",
       "         [[0.21568627],\n",
       "          [0.21568627],\n",
       "          [0.21568627],\n",
       "          ...,\n",
       "          [0.10980392],\n",
       "          [0.10588235],\n",
       "          [0.10588235]],\n",
       " \n",
       "         ...,\n",
       " \n",
       "         [[0.10588235],\n",
       "          [0.14509804],\n",
       "          [0.16862745],\n",
       "          ...,\n",
       "          [0.05882353],\n",
       "          [0.05490196],\n",
       "          [0.04705882]],\n",
       " \n",
       "         [[0.10980392],\n",
       "          [0.09803922],\n",
       "          [0.15294118],\n",
       "          ...,\n",
       "          [0.0627451 ],\n",
       "          [0.05882353],\n",
       "          [0.05098039]],\n",
       " \n",
       "         [[0.11764706],\n",
       "          [0.07058824],\n",
       "          [0.1372549 ],\n",
       "          ...,\n",
       "          [0.06666667],\n",
       "          [0.0627451 ],\n",
       "          [0.05490196]]],\n",
       " \n",
       " \n",
       "        ...,\n",
       " \n",
       " \n",
       "        [[[0.05490196],\n",
       "          [0.03921569],\n",
       "          [0.02745098],\n",
       "          ...,\n",
       "          [0.97647059],\n",
       "          [0.88627451],\n",
       "          [0.94117647]],\n",
       " \n",
       "         [[0.03921569],\n",
       "          [0.03137255],\n",
       "          [0.03529412],\n",
       "          ...,\n",
       "          [0.96470588],\n",
       "          [0.89411765],\n",
       "          [0.9372549 ]],\n",
       " \n",
       "         [[0.02352941],\n",
       "          [0.02745098],\n",
       "          [0.04705882],\n",
       "          ...,\n",
       "          [0.90980392],\n",
       "          [0.8745098 ],\n",
       "          [0.91764706]],\n",
       " \n",
       "         ...,\n",
       " \n",
       "         [[0.25098039],\n",
       "          [0.20784314],\n",
       "          [0.18039216],\n",
       "          ...,\n",
       "          [0.82352941],\n",
       "          [0.83137255],\n",
       "          [0.83921569]],\n",
       " \n",
       "         [[0.25098039],\n",
       "          [0.23137255],\n",
       "          [0.20392157],\n",
       "          ...,\n",
       "          [0.81960784],\n",
       "          [0.83137255],\n",
       "          [0.83921569]],\n",
       " \n",
       "         [[0.24705882],\n",
       "          [0.25098039],\n",
       "          [0.22745098],\n",
       "          ...,\n",
       "          [0.81568627],\n",
       "          [0.83137255],\n",
       "          [0.84313725]]],\n",
       " \n",
       " \n",
       "        [[[0.29411765],\n",
       "          [0.29803922],\n",
       "          [0.30196078],\n",
       "          ...,\n",
       "          [0.51372549],\n",
       "          [0.5254902 ],\n",
       "          [0.51764706]],\n",
       " \n",
       "         [[0.29411765],\n",
       "          [0.29411765],\n",
       "          [0.29803922],\n",
       "          ...,\n",
       "          [0.4627451 ],\n",
       "          [0.48235294],\n",
       "          [0.48235294]],\n",
       " \n",
       "         [[0.28627451],\n",
       "          [0.29019608],\n",
       "          [0.29019608],\n",
       "          ...,\n",
       "          [0.45098039],\n",
       "          [0.53333333],\n",
       "          [0.56078431]],\n",
       " \n",
       "         ...,\n",
       " \n",
       "         [[0.57647059],\n",
       "          [0.55294118],\n",
       "          [0.54509804],\n",
       "          ...,\n",
       "          [0.69019608],\n",
       "          [0.69803922],\n",
       "          [0.71372549]],\n",
       " \n",
       "         [[0.57647059],\n",
       "          [0.54901961],\n",
       "          [0.5372549 ],\n",
       "          ...,\n",
       "          [0.70588235],\n",
       "          [0.70588235],\n",
       "          [0.71764706]],\n",
       " \n",
       "         [[0.59607843],\n",
       "          [0.56078431],\n",
       "          [0.54901961],\n",
       "          ...,\n",
       "          [0.70196078],\n",
       "          [0.66666667],\n",
       "          [0.6745098 ]]],\n",
       " \n",
       " \n",
       "        [[[0.18823529],\n",
       "          [0.19215686],\n",
       "          [0.2       ],\n",
       "          ...,\n",
       "          [0.24313725],\n",
       "          [0.23137255],\n",
       "          [0.20784314]],\n",
       " \n",
       "         [[0.20392157],\n",
       "          [0.21568627],\n",
       "          [0.23529412],\n",
       "          ...,\n",
       "          [0.22352941],\n",
       "          [0.23529412],\n",
       "          [0.23921569]],\n",
       " \n",
       "         [[0.21960784],\n",
       "          [0.23921569],\n",
       "          [0.27058824],\n",
       "          ...,\n",
       "          [0.21960784],\n",
       "          [0.27843137],\n",
       "          [0.31764706]],\n",
       " \n",
       "         ...,\n",
       " \n",
       "         [[0.64313725],\n",
       "          [0.68235294],\n",
       "          [0.7254902 ],\n",
       "          ...,\n",
       "          [0.19607843],\n",
       "          [0.20784314],\n",
       "          [0.68627451]],\n",
       " \n",
       "         [[0.58039216],\n",
       "          [0.64705882],\n",
       "          [0.72156863],\n",
       "          ...,\n",
       "          [0.23921569],\n",
       "          [0.20392157],\n",
       "          [0.40392157]],\n",
       " \n",
       "         [[0.54901961],\n",
       "          [0.63921569],\n",
       "          [0.7254902 ],\n",
       "          ...,\n",
       "          [0.14117647],\n",
       "          [0.2745098 ],\n",
       "          [0.30588235]]]]),\n",
       " array([0, 0, 0, ..., 0, 0, 1]),\n",
       " array([1, 1, 0, ..., 1, 1, 1]))"
      ]
     },
     "metadata": {},
     "execution_count": 69
    }
   ],
   "source": [
    "train_images, test_images, train_labels, test_labels"
   ]
  },
  {
   "cell_type": "code",
   "execution_count": 78,
   "metadata": {},
   "outputs": [
    {
     "output_type": "stream",
     "name": "stdout",
     "text": [
      "Epoch 1/10\n"
     ]
    },
    {
     "output_type": "error",
     "ename": "ValueError",
     "evalue": "in user code:\n\n    C:\\Users\\Mary\\AppData\\Local\\Programs\\Python\\Python37\\lib\\site-packages\\tensorflow\\python\\keras\\engine\\training.py:855 train_function  *\n        return step_function(self, iterator)\n    C:\\Users\\Mary\\AppData\\Local\\Programs\\Python\\Python37\\lib\\site-packages\\tensorflow\\python\\keras\\engine\\training.py:845 step_function  **\n        outputs = model.distribute_strategy.run(run_step, args=(data,))\n    C:\\Users\\Mary\\AppData\\Local\\Programs\\Python\\Python37\\lib\\site-packages\\tensorflow\\python\\distribute\\distribute_lib.py:1285 run\n        return self._extended.call_for_each_replica(fn, args=args, kwargs=kwargs)\n    C:\\Users\\Mary\\AppData\\Local\\Programs\\Python\\Python37\\lib\\site-packages\\tensorflow\\python\\distribute\\distribute_lib.py:2833 call_for_each_replica\n        return self._call_for_each_replica(fn, args, kwargs)\n    C:\\Users\\Mary\\AppData\\Local\\Programs\\Python\\Python37\\lib\\site-packages\\tensorflow\\python\\distribute\\distribute_lib.py:3608 _call_for_each_replica\n        return fn(*args, **kwargs)\n    C:\\Users\\Mary\\AppData\\Local\\Programs\\Python\\Python37\\lib\\site-packages\\tensorflow\\python\\keras\\engine\\training.py:838 run_step  **\n        outputs = model.train_step(data)\n    C:\\Users\\Mary\\AppData\\Local\\Programs\\Python\\Python37\\lib\\site-packages\\tensorflow\\python\\keras\\engine\\training.py:795 train_step\n        y_pred = self(x, training=True)\n    C:\\Users\\Mary\\AppData\\Local\\Programs\\Python\\Python37\\lib\\site-packages\\tensorflow\\python\\keras\\engine\\base_layer.py:1013 __call__\n        input_spec.assert_input_compatibility(self.input_spec, inputs, self.name)\n    C:\\Users\\Mary\\AppData\\Local\\Programs\\Python\\Python37\\lib\\site-packages\\tensorflow\\python\\keras\\engine\\input_spec.py:203 assert_input_compatibility\n        ' input tensors. Inputs received: ' + str(inputs))\n\n    ValueError: Layer model_2 expects 1 input(s), but it received 2 input tensors. Inputs received: [<tf.Tensor 'IteratorGetNext:0' shape=(None, 48, 48, 1) dtype=float32>, <tf.Tensor 'ExpandDims:0' shape=(None, 1) dtype=int32>]\n",
     "traceback": [
      "\u001b[1;31m---------------------------------------------------------------------------\u001b[0m",
      "\u001b[1;31mValueError\u001b[0m                                Traceback (most recent call last)",
      "\u001b[1;32m<ipython-input-78-86a4ebb015b3>\u001b[0m in \u001b[0;36m<module>\u001b[1;34m\u001b[0m\n\u001b[0;32m      3\u001b[0m                     \u001b[0mvalidation_data\u001b[0m \u001b[1;33m=\u001b[0m \u001b[1;33m(\u001b[0m\u001b[0mtest_images\u001b[0m\u001b[1;33m,\u001b[0m \u001b[0mtest_labels\u001b[0m\u001b[1;33m)\u001b[0m\u001b[1;33m,\u001b[0m\u001b[1;33m\u001b[0m\u001b[1;33m\u001b[0m\u001b[0m\n\u001b[0;32m      4\u001b[0m                     \u001b[0mepochs\u001b[0m \u001b[1;33m=\u001b[0m \u001b[1;36m10\u001b[0m\u001b[1;33m,\u001b[0m\u001b[1;33m\u001b[0m\u001b[1;33m\u001b[0m\u001b[0m\n\u001b[1;32m----> 5\u001b[1;33m                     verbose=1)\n\u001b[0m",
      "\u001b[1;32m~\\AppData\\Local\\Programs\\Python\\Python37\\lib\\site-packages\\tensorflow\\python\\keras\\engine\\training.py\u001b[0m in \u001b[0;36mfit\u001b[1;34m(self, x, y, batch_size, epochs, verbose, callbacks, validation_split, validation_data, shuffle, class_weight, sample_weight, initial_epoch, steps_per_epoch, validation_steps, validation_batch_size, validation_freq, max_queue_size, workers, use_multiprocessing)\u001b[0m\n\u001b[0;32m   1181\u001b[0m                 _r=1):\n\u001b[0;32m   1182\u001b[0m               \u001b[0mcallbacks\u001b[0m\u001b[1;33m.\u001b[0m\u001b[0mon_train_batch_begin\u001b[0m\u001b[1;33m(\u001b[0m\u001b[0mstep\u001b[0m\u001b[1;33m)\u001b[0m\u001b[1;33m\u001b[0m\u001b[1;33m\u001b[0m\u001b[0m\n\u001b[1;32m-> 1183\u001b[1;33m               \u001b[0mtmp_logs\u001b[0m \u001b[1;33m=\u001b[0m \u001b[0mself\u001b[0m\u001b[1;33m.\u001b[0m\u001b[0mtrain_function\u001b[0m\u001b[1;33m(\u001b[0m\u001b[0miterator\u001b[0m\u001b[1;33m)\u001b[0m\u001b[1;33m\u001b[0m\u001b[1;33m\u001b[0m\u001b[0m\n\u001b[0m\u001b[0;32m   1184\u001b[0m               \u001b[1;32mif\u001b[0m \u001b[0mdata_handler\u001b[0m\u001b[1;33m.\u001b[0m\u001b[0mshould_sync\u001b[0m\u001b[1;33m:\u001b[0m\u001b[1;33m\u001b[0m\u001b[1;33m\u001b[0m\u001b[0m\n\u001b[0;32m   1185\u001b[0m                 \u001b[0mcontext\u001b[0m\u001b[1;33m.\u001b[0m\u001b[0masync_wait\u001b[0m\u001b[1;33m(\u001b[0m\u001b[1;33m)\u001b[0m\u001b[1;33m\u001b[0m\u001b[1;33m\u001b[0m\u001b[0m\n",
      "\u001b[1;32m~\\AppData\\Local\\Programs\\Python\\Python37\\lib\\site-packages\\tensorflow\\python\\eager\\def_function.py\u001b[0m in \u001b[0;36m__call__\u001b[1;34m(self, *args, **kwds)\u001b[0m\n\u001b[0;32m    887\u001b[0m \u001b[1;33m\u001b[0m\u001b[0m\n\u001b[0;32m    888\u001b[0m       \u001b[1;32mwith\u001b[0m \u001b[0mOptionalXlaContext\u001b[0m\u001b[1;33m(\u001b[0m\u001b[0mself\u001b[0m\u001b[1;33m.\u001b[0m\u001b[0m_jit_compile\u001b[0m\u001b[1;33m)\u001b[0m\u001b[1;33m:\u001b[0m\u001b[1;33m\u001b[0m\u001b[1;33m\u001b[0m\u001b[0m\n\u001b[1;32m--> 889\u001b[1;33m         \u001b[0mresult\u001b[0m \u001b[1;33m=\u001b[0m \u001b[0mself\u001b[0m\u001b[1;33m.\u001b[0m\u001b[0m_call\u001b[0m\u001b[1;33m(\u001b[0m\u001b[1;33m*\u001b[0m\u001b[0margs\u001b[0m\u001b[1;33m,\u001b[0m \u001b[1;33m**\u001b[0m\u001b[0mkwds\u001b[0m\u001b[1;33m)\u001b[0m\u001b[1;33m\u001b[0m\u001b[1;33m\u001b[0m\u001b[0m\n\u001b[0m\u001b[0;32m    890\u001b[0m \u001b[1;33m\u001b[0m\u001b[0m\n\u001b[0;32m    891\u001b[0m       \u001b[0mnew_tracing_count\u001b[0m \u001b[1;33m=\u001b[0m \u001b[0mself\u001b[0m\u001b[1;33m.\u001b[0m\u001b[0mexperimental_get_tracing_count\u001b[0m\u001b[1;33m(\u001b[0m\u001b[1;33m)\u001b[0m\u001b[1;33m\u001b[0m\u001b[1;33m\u001b[0m\u001b[0m\n",
      "\u001b[1;32m~\\AppData\\Local\\Programs\\Python\\Python37\\lib\\site-packages\\tensorflow\\python\\eager\\def_function.py\u001b[0m in \u001b[0;36m_call\u001b[1;34m(self, *args, **kwds)\u001b[0m\n\u001b[0;32m    922\u001b[0m       \u001b[1;31m# In this case we have not created variables on the first call. So we can\u001b[0m\u001b[1;33m\u001b[0m\u001b[1;33m\u001b[0m\u001b[1;33m\u001b[0m\u001b[0m\n\u001b[0;32m    923\u001b[0m       \u001b[1;31m# run the first trace but we should fail if variables are created.\u001b[0m\u001b[1;33m\u001b[0m\u001b[1;33m\u001b[0m\u001b[1;33m\u001b[0m\u001b[0m\n\u001b[1;32m--> 924\u001b[1;33m       \u001b[0mresults\u001b[0m \u001b[1;33m=\u001b[0m \u001b[0mself\u001b[0m\u001b[1;33m.\u001b[0m\u001b[0m_stateful_fn\u001b[0m\u001b[1;33m(\u001b[0m\u001b[1;33m*\u001b[0m\u001b[0margs\u001b[0m\u001b[1;33m,\u001b[0m \u001b[1;33m**\u001b[0m\u001b[0mkwds\u001b[0m\u001b[1;33m)\u001b[0m\u001b[1;33m\u001b[0m\u001b[1;33m\u001b[0m\u001b[0m\n\u001b[0m\u001b[0;32m    925\u001b[0m       \u001b[1;32mif\u001b[0m \u001b[0mself\u001b[0m\u001b[1;33m.\u001b[0m\u001b[0m_created_variables\u001b[0m\u001b[1;33m:\u001b[0m\u001b[1;33m\u001b[0m\u001b[1;33m\u001b[0m\u001b[0m\n\u001b[0;32m    926\u001b[0m         raise ValueError(\"Creating variables on a non-first call to a function\"\n",
      "\u001b[1;32m~\\AppData\\Local\\Programs\\Python\\Python37\\lib\\site-packages\\tensorflow\\python\\eager\\function.py\u001b[0m in \u001b[0;36m__call__\u001b[1;34m(self, *args, **kwargs)\u001b[0m\n\u001b[0;32m   3020\u001b[0m     \u001b[1;32mwith\u001b[0m \u001b[0mself\u001b[0m\u001b[1;33m.\u001b[0m\u001b[0m_lock\u001b[0m\u001b[1;33m:\u001b[0m\u001b[1;33m\u001b[0m\u001b[1;33m\u001b[0m\u001b[0m\n\u001b[0;32m   3021\u001b[0m       (graph_function,\n\u001b[1;32m-> 3022\u001b[1;33m        filtered_flat_args) = self._maybe_define_function(args, kwargs)\n\u001b[0m\u001b[0;32m   3023\u001b[0m     return graph_function._call_flat(\n\u001b[0;32m   3024\u001b[0m         filtered_flat_args, captured_inputs=graph_function.captured_inputs)  # pylint: disable=protected-access\n",
      "\u001b[1;32m~\\AppData\\Local\\Programs\\Python\\Python37\\lib\\site-packages\\tensorflow\\python\\eager\\function.py\u001b[0m in \u001b[0;36m_maybe_define_function\u001b[1;34m(self, args, kwargs)\u001b[0m\n\u001b[0;32m   3439\u001b[0m               call_context_key in self._function_cache.missed):\n\u001b[0;32m   3440\u001b[0m             return self._define_function_with_shape_relaxation(\n\u001b[1;32m-> 3441\u001b[1;33m                 args, kwargs, flat_args, filtered_flat_args, cache_key_context)\n\u001b[0m\u001b[0;32m   3442\u001b[0m \u001b[1;33m\u001b[0m\u001b[0m\n\u001b[0;32m   3443\u001b[0m           \u001b[0mself\u001b[0m\u001b[1;33m.\u001b[0m\u001b[0m_function_cache\u001b[0m\u001b[1;33m.\u001b[0m\u001b[0mmissed\u001b[0m\u001b[1;33m.\u001b[0m\u001b[0madd\u001b[0m\u001b[1;33m(\u001b[0m\u001b[0mcall_context_key\u001b[0m\u001b[1;33m)\u001b[0m\u001b[1;33m\u001b[0m\u001b[1;33m\u001b[0m\u001b[0m\n",
      "\u001b[1;32m~\\AppData\\Local\\Programs\\Python\\Python37\\lib\\site-packages\\tensorflow\\python\\eager\\function.py\u001b[0m in \u001b[0;36m_define_function_with_shape_relaxation\u001b[1;34m(self, args, kwargs, flat_args, filtered_flat_args, cache_key_context)\u001b[0m\n\u001b[0;32m   3361\u001b[0m \u001b[1;33m\u001b[0m\u001b[0m\n\u001b[0;32m   3362\u001b[0m     graph_function = self._create_graph_function(\n\u001b[1;32m-> 3363\u001b[1;33m         args, kwargs, override_flat_arg_shapes=relaxed_arg_shapes)\n\u001b[0m\u001b[0;32m   3364\u001b[0m     \u001b[0mself\u001b[0m\u001b[1;33m.\u001b[0m\u001b[0m_function_cache\u001b[0m\u001b[1;33m.\u001b[0m\u001b[0marg_relaxed\u001b[0m\u001b[1;33m[\u001b[0m\u001b[0mrank_only_cache_key\u001b[0m\u001b[1;33m]\u001b[0m \u001b[1;33m=\u001b[0m \u001b[0mgraph_function\u001b[0m\u001b[1;33m\u001b[0m\u001b[1;33m\u001b[0m\u001b[0m\n\u001b[0;32m   3365\u001b[0m \u001b[1;33m\u001b[0m\u001b[0m\n",
      "\u001b[1;32m~\\AppData\\Local\\Programs\\Python\\Python37\\lib\\site-packages\\tensorflow\\python\\eager\\function.py\u001b[0m in \u001b[0;36m_create_graph_function\u001b[1;34m(self, args, kwargs, override_flat_arg_shapes)\u001b[0m\n\u001b[0;32m   3287\u001b[0m             \u001b[0marg_names\u001b[0m\u001b[1;33m=\u001b[0m\u001b[0marg_names\u001b[0m\u001b[1;33m,\u001b[0m\u001b[1;33m\u001b[0m\u001b[1;33m\u001b[0m\u001b[0m\n\u001b[0;32m   3288\u001b[0m             \u001b[0moverride_flat_arg_shapes\u001b[0m\u001b[1;33m=\u001b[0m\u001b[0moverride_flat_arg_shapes\u001b[0m\u001b[1;33m,\u001b[0m\u001b[1;33m\u001b[0m\u001b[1;33m\u001b[0m\u001b[0m\n\u001b[1;32m-> 3289\u001b[1;33m             capture_by_value=self._capture_by_value),\n\u001b[0m\u001b[0;32m   3290\u001b[0m         \u001b[0mself\u001b[0m\u001b[1;33m.\u001b[0m\u001b[0m_function_attributes\u001b[0m\u001b[1;33m,\u001b[0m\u001b[1;33m\u001b[0m\u001b[1;33m\u001b[0m\u001b[0m\n\u001b[0;32m   3291\u001b[0m         \u001b[0mfunction_spec\u001b[0m\u001b[1;33m=\u001b[0m\u001b[0mself\u001b[0m\u001b[1;33m.\u001b[0m\u001b[0mfunction_spec\u001b[0m\u001b[1;33m,\u001b[0m\u001b[1;33m\u001b[0m\u001b[1;33m\u001b[0m\u001b[0m\n",
      "\u001b[1;32m~\\AppData\\Local\\Programs\\Python\\Python37\\lib\\site-packages\\tensorflow\\python\\framework\\func_graph.py\u001b[0m in \u001b[0;36mfunc_graph_from_py_func\u001b[1;34m(name, python_func, args, kwargs, signature, func_graph, autograph, autograph_options, add_control_dependencies, arg_names, op_return_value, collections, capture_by_value, override_flat_arg_shapes)\u001b[0m\n\u001b[0;32m    997\u001b[0m         \u001b[0m_\u001b[0m\u001b[1;33m,\u001b[0m \u001b[0moriginal_func\u001b[0m \u001b[1;33m=\u001b[0m \u001b[0mtf_decorator\u001b[0m\u001b[1;33m.\u001b[0m\u001b[0munwrap\u001b[0m\u001b[1;33m(\u001b[0m\u001b[0mpython_func\u001b[0m\u001b[1;33m)\u001b[0m\u001b[1;33m\u001b[0m\u001b[1;33m\u001b[0m\u001b[0m\n\u001b[0;32m    998\u001b[0m \u001b[1;33m\u001b[0m\u001b[0m\n\u001b[1;32m--> 999\u001b[1;33m       \u001b[0mfunc_outputs\u001b[0m \u001b[1;33m=\u001b[0m \u001b[0mpython_func\u001b[0m\u001b[1;33m(\u001b[0m\u001b[1;33m*\u001b[0m\u001b[0mfunc_args\u001b[0m\u001b[1;33m,\u001b[0m \u001b[1;33m**\u001b[0m\u001b[0mfunc_kwargs\u001b[0m\u001b[1;33m)\u001b[0m\u001b[1;33m\u001b[0m\u001b[1;33m\u001b[0m\u001b[0m\n\u001b[0m\u001b[0;32m   1000\u001b[0m \u001b[1;33m\u001b[0m\u001b[0m\n\u001b[0;32m   1001\u001b[0m       \u001b[1;31m# invariant: `func_outputs` contains only Tensors, CompositeTensors,\u001b[0m\u001b[1;33m\u001b[0m\u001b[1;33m\u001b[0m\u001b[1;33m\u001b[0m\u001b[0m\n",
      "\u001b[1;32m~\\AppData\\Local\\Programs\\Python\\Python37\\lib\\site-packages\\tensorflow\\python\\eager\\def_function.py\u001b[0m in \u001b[0;36mwrapped_fn\u001b[1;34m(*args, **kwds)\u001b[0m\n\u001b[0;32m    670\u001b[0m         \u001b[1;31m# the function a weak reference to itself to avoid a reference cycle.\u001b[0m\u001b[1;33m\u001b[0m\u001b[1;33m\u001b[0m\u001b[1;33m\u001b[0m\u001b[0m\n\u001b[0;32m    671\u001b[0m         \u001b[1;32mwith\u001b[0m \u001b[0mOptionalXlaContext\u001b[0m\u001b[1;33m(\u001b[0m\u001b[0mcompile_with_xla\u001b[0m\u001b[1;33m)\u001b[0m\u001b[1;33m:\u001b[0m\u001b[1;33m\u001b[0m\u001b[1;33m\u001b[0m\u001b[0m\n\u001b[1;32m--> 672\u001b[1;33m           \u001b[0mout\u001b[0m \u001b[1;33m=\u001b[0m \u001b[0mweak_wrapped_fn\u001b[0m\u001b[1;33m(\u001b[0m\u001b[1;33m)\u001b[0m\u001b[1;33m.\u001b[0m\u001b[0m__wrapped__\u001b[0m\u001b[1;33m(\u001b[0m\u001b[1;33m*\u001b[0m\u001b[0margs\u001b[0m\u001b[1;33m,\u001b[0m \u001b[1;33m**\u001b[0m\u001b[0mkwds\u001b[0m\u001b[1;33m)\u001b[0m\u001b[1;33m\u001b[0m\u001b[1;33m\u001b[0m\u001b[0m\n\u001b[0m\u001b[0;32m    673\u001b[0m         \u001b[1;32mreturn\u001b[0m \u001b[0mout\u001b[0m\u001b[1;33m\u001b[0m\u001b[1;33m\u001b[0m\u001b[0m\n\u001b[0;32m    674\u001b[0m \u001b[1;33m\u001b[0m\u001b[0m\n",
      "\u001b[1;32m~\\AppData\\Local\\Programs\\Python\\Python37\\lib\\site-packages\\tensorflow\\python\\framework\\func_graph.py\u001b[0m in \u001b[0;36mwrapper\u001b[1;34m(*args, **kwargs)\u001b[0m\n\u001b[0;32m    984\u001b[0m           \u001b[1;32mexcept\u001b[0m \u001b[0mException\u001b[0m \u001b[1;32mas\u001b[0m \u001b[0me\u001b[0m\u001b[1;33m:\u001b[0m  \u001b[1;31m# pylint:disable=broad-except\u001b[0m\u001b[1;33m\u001b[0m\u001b[1;33m\u001b[0m\u001b[0m\n\u001b[0;32m    985\u001b[0m             \u001b[1;32mif\u001b[0m \u001b[0mhasattr\u001b[0m\u001b[1;33m(\u001b[0m\u001b[0me\u001b[0m\u001b[1;33m,\u001b[0m \u001b[1;34m\"ag_error_metadata\"\u001b[0m\u001b[1;33m)\u001b[0m\u001b[1;33m:\u001b[0m\u001b[1;33m\u001b[0m\u001b[1;33m\u001b[0m\u001b[0m\n\u001b[1;32m--> 986\u001b[1;33m               \u001b[1;32mraise\u001b[0m \u001b[0me\u001b[0m\u001b[1;33m.\u001b[0m\u001b[0mag_error_metadata\u001b[0m\u001b[1;33m.\u001b[0m\u001b[0mto_exception\u001b[0m\u001b[1;33m(\u001b[0m\u001b[0me\u001b[0m\u001b[1;33m)\u001b[0m\u001b[1;33m\u001b[0m\u001b[1;33m\u001b[0m\u001b[0m\n\u001b[0m\u001b[0;32m    987\u001b[0m             \u001b[1;32melse\u001b[0m\u001b[1;33m:\u001b[0m\u001b[1;33m\u001b[0m\u001b[1;33m\u001b[0m\u001b[0m\n\u001b[0;32m    988\u001b[0m               \u001b[1;32mraise\u001b[0m\u001b[1;33m\u001b[0m\u001b[1;33m\u001b[0m\u001b[0m\n",
      "\u001b[1;31mValueError\u001b[0m: in user code:\n\n    C:\\Users\\Mary\\AppData\\Local\\Programs\\Python\\Python37\\lib\\site-packages\\tensorflow\\python\\keras\\engine\\training.py:855 train_function  *\n        return step_function(self, iterator)\n    C:\\Users\\Mary\\AppData\\Local\\Programs\\Python\\Python37\\lib\\site-packages\\tensorflow\\python\\keras\\engine\\training.py:845 step_function  **\n        outputs = model.distribute_strategy.run(run_step, args=(data,))\n    C:\\Users\\Mary\\AppData\\Local\\Programs\\Python\\Python37\\lib\\site-packages\\tensorflow\\python\\distribute\\distribute_lib.py:1285 run\n        return self._extended.call_for_each_replica(fn, args=args, kwargs=kwargs)\n    C:\\Users\\Mary\\AppData\\Local\\Programs\\Python\\Python37\\lib\\site-packages\\tensorflow\\python\\distribute\\distribute_lib.py:2833 call_for_each_replica\n        return self._call_for_each_replica(fn, args, kwargs)\n    C:\\Users\\Mary\\AppData\\Local\\Programs\\Python\\Python37\\lib\\site-packages\\tensorflow\\python\\distribute\\distribute_lib.py:3608 _call_for_each_replica\n        return fn(*args, **kwargs)\n    C:\\Users\\Mary\\AppData\\Local\\Programs\\Python\\Python37\\lib\\site-packages\\tensorflow\\python\\keras\\engine\\training.py:838 run_step  **\n        outputs = model.train_step(data)\n    C:\\Users\\Mary\\AppData\\Local\\Programs\\Python\\Python37\\lib\\site-packages\\tensorflow\\python\\keras\\engine\\training.py:795 train_step\n        y_pred = self(x, training=True)\n    C:\\Users\\Mary\\AppData\\Local\\Programs\\Python\\Python37\\lib\\site-packages\\tensorflow\\python\\keras\\engine\\base_layer.py:1013 __call__\n        input_spec.assert_input_compatibility(self.input_spec, inputs, self.name)\n    C:\\Users\\Mary\\AppData\\Local\\Programs\\Python\\Python37\\lib\\site-packages\\tensorflow\\python\\keras\\engine\\input_spec.py:203 assert_input_compatibility\n        ' input tensors. Inputs received: ' + str(inputs))\n\n    ValueError: Layer model_2 expects 1 input(s), but it received 2 input tensors. Inputs received: [<tf.Tensor 'IteratorGetNext:0' shape=(None, 48, 48, 1) dtype=float32>, <tf.Tensor 'ExpandDims:0' shape=(None, 1) dtype=int32>]\n"
     ]
    }
   ],
   "source": [
    "vgghist = model_4.fit([train_images, train_labels], \n",
    "                    batch_size=32,\n",
    "                    validation_data = (test_images, test_labels),\n",
    "                    epochs = 10,\n",
    "                    verbose=1)"
   ]
  },
  {
   "cell_type": "code",
   "execution_count": null,
   "metadata": {},
   "outputs": [],
   "source": []
  }
 ]
}